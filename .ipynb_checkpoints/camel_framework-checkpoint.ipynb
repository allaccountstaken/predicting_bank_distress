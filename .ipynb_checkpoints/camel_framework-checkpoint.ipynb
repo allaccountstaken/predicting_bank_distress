{
 "cells": [
  {
   "cell_type": "code",
   "execution_count": null,
   "metadata": {},
   "outputs": [],
   "source": [
    "# Important notes on CAMELS valuation framework, consider feature eng to add lagged values as well:\n",
    "# (C)apital adequace can be measure by \n",
    "#       1) Total Equity / Total Assets (EQTA)\n",
    "#       2) Total Equity / Total Loans (EQTL)\n",
    "#       - consider also risk-weighted capital adequacy ratio\n",
    "# (A)sset quality\n",
    "#       3) Non Performing Loans / Total Assets (NPLTA)\n",
    "#       4) Non Performing Loans / Gross Loans (NPLGL)\n",
    "#       5) Loan Loss Reserves / Total Assest (LLRTA)\n",
    "#       6) Loan Loss Reserves / Gross Loans (LLRGL)\n",
    "#       - consider Net Interest Margin\n",
    "# (M)anagement quality\n",
    "#       7) Operating Costs / Net Operating Income (OCNOI)\n",
    "#       - Operating Expenses / Assets (OEXTA)\n",
    "# (E)arnings ability\n",
    "#       8) Net Income / Total Assest (ROA)\n",
    "#       9) Net Income / Total Equity (ROE)\n",
    "#      - consider Net Interest Margin\n",
    "# (L)iquidity, i.e. ability to fulfill its short-term liability\n",
    "#       10) Total Loans / Total Customer Deposits (TLTD)\n",
    "#       11) Total Customer Deposits / Total Assest (TDTA)\n",
    "#        - consider liquid assets to total assets ratio\n",
    "#        - liquid assets to deposits ratio\n",
    "# (S)ensitivity to market risk \n",
    "#       12) Trading Income / Net Operatin Income (TINOI)\n",
    "# Condider adding control variables: Assest Size, GDP growth, Inflation, Interest RAtes (3M, 6M, 12M, 36M)"
   ]
  },
  {
   "cell_type": "code",
   "execution_count": 1,
   "metadata": {},
   "outputs": [
    {
     "data": {
      "text/plain": [
       "'\\nAsset quality (A) is measured by return on assets (ROA), size of total assets, the debt-to-equity ratio, impaired assets and loan loss provisions. The cost-to-income ratio represents management quality (M), while return on equity (ROE) and the net interest margin measure earnings (E). Liquidity (L) is represented by the share of interest expenses to total liabilities, the deposits-to-funding ratio and the ratio of loans to deposits. Finally, the share of trading income proxies sensitivity to market risk (S).\\n'"
      ]
     },
     "execution_count": 1,
     "metadata": {},
     "output_type": "execute_result"
    }
   ],
   "source": [
    "\"\"\"\n",
    "Asset quality (A) is measured by return on assets (ROA), size of total assets, \n",
    "the debt-to-equity ratio, impaired assets and loan loss provisions. \n",
    "The cost-to-income ratio represents management quality (M), while return on equity (ROE) \n",
    "and the net interest margin measure earnings (E). \n",
    "Liquidity (L) is represented by the share of interest expenses to total liabilities, \n",
    "the deposits-to-funding ratio and the ratio of loans to deposits. Finally, \n",
    "the share of trading income proxies sensitivity to market risk (S).\n",
    "\"\"\""
   ]
  },
  {
   "cell_type": "code",
   "execution_count": 2,
   "metadata": {},
   "outputs": [
    {
     "data": {
      "text/plain": [
       "'\\nAmong the bank-specific variables, a high capital ratio and a high return on assets are associated \\nwith lower distress probabilities. High interest expenses and a high deposits-to-funding ratio, \\non the other hand, increase the probability of bank distress. \\n\\nOf the country-level banking-sector indicators, almost all are statistically significant. \\nAs expected, rapid growth in both financial liabilities and non-core liabilities is associated with higher\\nprobabilities of distress. The same applies to the ratio of debt securities to liabilities, \\na measure of securitisation, and the share of mortgages among loans, a proxy for property booms.\\nLikewise, high banking system leverage and a high loans-to-deposits ratio increase bank vulnerability.\\n\\nAmong the country-specific macro-financial indicators, all estimates have the expected signs. \\nHigh inflation and low real GDP growth increase bank vulnerability. Likewise, positive stock and house price gaps \\nthat proxy for an overvaluation of assets increase distress probabilities. Regarding indicators of internal \\nimbalances, the estimated coefficient for government debt is positive, whereas the estimated coefficient for private \\nsector credit flow is negative and the coefficient for the private sector credit-to-GDP gap is positive. \\nHigher levels of unemployment increase bank vulnerability. Finally, regarding external competitiveness, high\\nnet external borrowing by a country increases bank vulnerability, whereas a higher current account balance lowers \\nbank vulnerability. An increase in the real effective exchange rate and a decrease in export market share positively \\naffect bank vulnerability through a loss of competitiveness.\\n\\n\\n\\n'"
      ]
     },
     "execution_count": 2,
     "metadata": {},
     "output_type": "execute_result"
    }
   ],
   "source": [
    "\"\"\"\n",
    "Among the bank-specific variables, a high capital ratio and a high return on assets are associated \n",
    "with lower distress probabilities. High interest expenses and a high deposits-to-funding ratio, \n",
    "on the other hand, increase the probability of bank distress. \n",
    "\n",
    "Of the country-level banking-sector indicators, almost all are statistically significant. \n",
    "As expected, rapid growth in both financial liabilities and non-core liabilities is associated with higher\n",
    "probabilities of distress. The same applies to the ratio of debt securities to liabilities, \n",
    "a measure of securitisation, and the share of mortgages among loans, a proxy for property booms.\n",
    "Likewise, high banking system leverage and a high loans-to-deposits ratio increase bank vulnerability.\n",
    "\n",
    "Among the country-specific macro-financial indicators, all estimates have the expected signs. \n",
    "High inflation and low real GDP growth increase bank vulnerability. Likewise, positive stock and house price gaps \n",
    "that proxy for an overvaluation of assets increase distress probabilities. Regarding indicators of internal \n",
    "imbalances, the estimated coefficient for government debt is positive, whereas the estimated coefficient for private \n",
    "sector credit flow is negative and the coefficient for the private sector credit-to-GDP gap is positive. \n",
    "Higher levels of unemployment increase bank vulnerability. Finally, regarding external competitiveness, high\n",
    "net external borrowing by a country increases bank vulnerability, whereas a higher current account balance lowers \n",
    "bank vulnerability. An increase in the real effective exchange rate and a decrease in export market share positively \n",
    "affect bank vulnerability through a loss of competitiveness.\n",
    "\n",
    "\n",
    "\n",
    "\"\"\""
   ]
  },
  {
   "cell_type": "code",
   "execution_count": null,
   "metadata": {},
   "outputs": [],
   "source": []
  }
 ],
 "metadata": {
  "kernelspec": {
   "display_name": "Python 3",
   "language": "python",
   "name": "python3"
  },
  "language_info": {
   "codemirror_mode": {
    "name": "ipython",
    "version": 3
   },
   "file_extension": ".py",
   "mimetype": "text/x-python",
   "name": "python",
   "nbconvert_exporter": "python",
   "pygments_lexer": "ipython3",
   "version": "3.7.3"
  }
 },
 "nbformat": 4,
 "nbformat_minor": 2
}

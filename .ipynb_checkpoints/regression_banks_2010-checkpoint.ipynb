{
 "cells": [
  {
   "cell_type": "code",
   "execution_count": 58,
   "metadata": {},
   "outputs": [],
   "source": [
    "import pandas as pd\n",
    "import numpy as np\n",
    "import matplotlib.pyplot as plt\n",
    "%matplotlib inline\n",
    "from ffipy import FFIEC_Client\n",
    "from io import StringIO\n"
   ]
  },
  {
   "cell_type": "code",
   "execution_count": 287,
   "metadata": {},
   "outputs": [
    {
     "data": {
      "text/plain": [
       "6999"
      ]
     },
     "execution_count": 287,
     "metadata": {},
     "output_type": "execute_result"
    }
   ],
   "source": [
    "client = FFIEC_Client()\n",
    "# get a list of RSSD codes for filers on 3/31/2019\n",
    "filers_RSSD_12312010 = client.retrieve_filers_since_date(ds_name='Call',\n",
    "                                   reporting_pd_end='12/31/2010',\n",
    "                                   last_update_date='12/31/2010')\n",
    "# check how many filers - 5908\n",
    "len(filers_RSSD_12312010)"
   ]
  },
  {
   "cell_type": "code",
   "execution_count": 288,
   "metadata": {},
   "outputs": [
    {
     "data": {
      "text/html": [
       "<div>\n",
       "<style scoped>\n",
       "    .dataframe tbody tr th:only-of-type {\n",
       "        vertical-align: middle;\n",
       "    }\n",
       "\n",
       "    .dataframe tbody tr th {\n",
       "        vertical-align: top;\n",
       "    }\n",
       "\n",
       "    .dataframe thead th {\n",
       "        text-align: right;\n",
       "    }\n",
       "</style>\n",
       "<table border=\"1\" class=\"dataframe\">\n",
       "  <thead>\n",
       "    <tr style=\"text-align: right;\">\n",
       "      <th></th>\n",
       "      <th>Bank Name</th>\n",
       "      <th>City</th>\n",
       "      <th>ST</th>\n",
       "      <th>CERT</th>\n",
       "      <th>Acquiring Institution</th>\n",
       "      <th>Closing Date</th>\n",
       "      <th>Updated Date</th>\n",
       "      <th>Date</th>\n",
       "      <th>Year_failed</th>\n",
       "      <th>Quarter_failed</th>\n",
       "    </tr>\n",
       "  </thead>\n",
       "  <tbody>\n",
       "    <tr>\n",
       "      <th>207</th>\n",
       "      <td>Community National Bank</td>\n",
       "      <td>Lino Lakes</td>\n",
       "      <td>MN</td>\n",
       "      <td>23306</td>\n",
       "      <td>Farmers &amp; Merchants Savings Bank</td>\n",
       "      <td>17-Dec-10</td>\n",
       "      <td>10-Nov-16</td>\n",
       "      <td>2010-12-17</td>\n",
       "      <td>2010</td>\n",
       "      <td>4</td>\n",
       "    </tr>\n",
       "    <tr>\n",
       "      <th>208</th>\n",
       "      <td>First Southern Bank</td>\n",
       "      <td>Batesville</td>\n",
       "      <td>AR</td>\n",
       "      <td>58052</td>\n",
       "      <td>Southern Bank</td>\n",
       "      <td>17-Dec-10</td>\n",
       "      <td>29-Jan-19</td>\n",
       "      <td>2010-12-17</td>\n",
       "      <td>2010</td>\n",
       "      <td>4</td>\n",
       "    </tr>\n",
       "    <tr>\n",
       "      <th>209</th>\n",
       "      <td>United Americas Bank, N.A.</td>\n",
       "      <td>Atlanta</td>\n",
       "      <td>GA</td>\n",
       "      <td>35065</td>\n",
       "      <td>State Bank and Trust Company</td>\n",
       "      <td>17-Dec-10</td>\n",
       "      <td>17-Oct-15</td>\n",
       "      <td>2010-12-17</td>\n",
       "      <td>2010</td>\n",
       "      <td>4</td>\n",
       "    </tr>\n",
       "    <tr>\n",
       "      <th>210</th>\n",
       "      <td>Appalachian Community Bank, FSB</td>\n",
       "      <td>McCaysville</td>\n",
       "      <td>GA</td>\n",
       "      <td>58495</td>\n",
       "      <td>Peoples Bank of East Tennessee</td>\n",
       "      <td>17-Dec-10</td>\n",
       "      <td>29-Jan-19</td>\n",
       "      <td>2010-12-17</td>\n",
       "      <td>2010</td>\n",
       "      <td>4</td>\n",
       "    </tr>\n",
       "    <tr>\n",
       "      <th>211</th>\n",
       "      <td>Chestatee State Bank</td>\n",
       "      <td>Dawsonville</td>\n",
       "      <td>GA</td>\n",
       "      <td>34578</td>\n",
       "      <td>Bank of the Ozarks</td>\n",
       "      <td>17-Dec-10</td>\n",
       "      <td>21-Sep-15</td>\n",
       "      <td>2010-12-17</td>\n",
       "      <td>2010</td>\n",
       "      <td>4</td>\n",
       "    </tr>\n",
       "  </tbody>\n",
       "</table>\n",
       "</div>"
      ],
      "text/plain": [
       "                           Bank Name         City  ST   CERT  \\\n",
       "207          Community National Bank   Lino Lakes  MN  23306   \n",
       "208              First Southern Bank   Batesville  AR  58052   \n",
       "209       United Americas Bank, N.A.      Atlanta  GA  35065   \n",
       "210  Appalachian Community Bank, FSB  McCaysville  GA  58495   \n",
       "211             Chestatee State Bank  Dawsonville  GA  34578   \n",
       "\n",
       "                Acquiring Institution Closing Date Updated Date       Date  \\\n",
       "207  Farmers & Merchants Savings Bank    17-Dec-10    10-Nov-16 2010-12-17   \n",
       "208                     Southern Bank    17-Dec-10    29-Jan-19 2010-12-17   \n",
       "209      State Bank and Trust Company    17-Dec-10    17-Oct-15 2010-12-17   \n",
       "210    Peoples Bank of East Tennessee    17-Dec-10    29-Jan-19 2010-12-17   \n",
       "211                Bank of the Ozarks    17-Dec-10    21-Sep-15 2010-12-17   \n",
       "\n",
       "     Year_failed  Quarter_failed  \n",
       "207         2010               4  \n",
       "208         2010               4  \n",
       "209         2010               4  \n",
       "210         2010               4  \n",
       "211         2010               4  "
      ]
     },
     "execution_count": 288,
     "metadata": {},
     "output_type": "execute_result"
    }
   ],
   "source": [
    "failed_banks_df = pd.read_csv('data/failed_banks_dataset.csv')\n",
    "failed_banks_df['Date'] = pd.to_datetime(failed_banks_df['Closing Date'])\n",
    "failed_banks_df['Year_failed'] = failed_banks_df['Date'].dt.year\n",
    "failed_banks_df['Quarter_failed'] = failed_banks_df['Date'].dt.quarter\n",
    "failed_banks_2010Q4 = failed_banks_df.loc[(failed_banks_df.Year_failed == 2010) & (failed_banks_df.Quarter_failed == 4)]\n",
    "failed_banks_2010Q4.head()\n",
    "#failed_banks_2010Q4['CERT'].count()"
   ]
  },
  {
   "cell_type": "code",
   "execution_count": 385,
   "metadata": {},
   "outputs": [],
   "source": [
    "# Prepare the list of CERT to pull financial metrics in a loop\n",
    "banks_CERT_2010Q4_list = list(failed_banks_2010Q4.CERT)\n",
    "banks_CERT_2010Q4_list"
   ]
  },
  {
   "cell_type": "code",
   "execution_count": 397,
   "metadata": {},
   "outputs": [],
   "source": [
    "financial_metrics_dict = {'RIAD3210':'Total equity capital',\n",
    "                          'RCON2170':'Total assets',\n",
    "                          'RCON3360':'Total loans',\n",
    "                          'RCONC410':'New nonaccrual assets',\n",
    "                          'RCONC411': 'Sold nonaccrual assets',\n",
    "                          'RCON3123':'Allowance for loan losses',\n",
    "                          'RIAD4093':'Total noninterest expense',\n",
    "                          'RIAD4340':'Net Income attributable',\n",
    "                          'RCON2215':'Total transaction deposits',\n",
    "                          'RCON2385':'Total nontransaction deposits',\n",
    "                          'RCON3545':'Trading assets'}\n",
    "fin_columns = list(financial_metrics_dict.keys())"
   ]
  },
  {
   "cell_type": "code",
   "execution_count": 390,
   "metadata": {},
   "outputs": [],
   "source": [
    "#fin_columns"
   ]
  },
  {
   "cell_type": "code",
   "execution_count": 373,
   "metadata": {},
   "outputs": [
    {
     "name": "stdout",
     "output_type": "stream",
     "text": [
      "counter at  0  pulling CERT#  23306\n",
      "counter at  1  pulling CERT#  58052\n",
      "counter at  2  pulling CERT#  35065\n",
      "counter at  3  pulling CERT#  58495\n",
      "counter at  4  pulling CERT#  34578\n",
      "counter at  5  pulling CERT#  19040\n",
      "counter at  6  pulling CERT#  35561\n",
      "counter at  7  pulling CERT#  34673\n",
      "counter at  8  pulling CERT#  5287\n",
      "counter at  9  pulling CERT#  35078\n",
      "counter at  10  pulling CERT#  20340\n",
      "counter at  11  pulling CERT#  35463\n",
      "counter at  12  pulling CERT#  14580\n",
      "counter at  13  pulling CERT#  57831\n",
      "counter at  14  pulling CERT#  57885\n",
      "counter at  15  pulling CERT#  34411\n",
      "counter at  16  pulling CERT#  58087\n",
      "counter at  17  pulling CERT#  31263\n",
      "counter at  18  pulling CERT#  32582\n",
      "counter at  19  pulling CERT#  22173\n",
      "counter at  20  pulling CERT#  16089\n",
      "counter at  21  pulling CERT#  2119\n",
      "counter at  22  pulling CERT#  33904\n",
      "counter at  23  pulling CERT#  32251\n",
      "counter at  24  pulling CERT#  27573\n",
      "counter at  25  pulling CERT#  34016\n",
      "counter at  26  pulling CERT#  58205\n",
      "counter at  27  pulling CERT#  30898\n",
      "counter at  28  pulling CERT#  35250\n",
      "counter at  29  pulling CERT#  21777\n"
     ]
    }
   ],
   "source": [
    "# Pull 30 reports, drop all values but 11 selected metrics -- returns only 27\n",
    "all_data_df = pd.DataFrame()\n",
    "fin_data_dic = {}\n",
    "for i in range(len(banks_CERT_2010Q4_list)):\n",
    "\n",
    "    ds_name = 'Call'    # Pull Call report data\n",
    "    end_date = '9/30/2010'  # Pull data in reporting pd ending 3/31/17\n",
    "    fiID_type = 'FDICCertNumber'  # Type of financial inst identifier (ID_RSSD, CERT )\n",
    "    fiID = banks_CERT_2010Q4_list[i]   # Indentifier for Wyomin Bank and Trust\n",
    "    print(\"counter at \", i, \" pulling CERT# \", fiID)\n",
    "    fmt = 'SDF'  # Pull report as PDF\n",
    "    # <facsimileFormat>PDF or XBRL or SDF</facsimileFormat>\n",
    "    #outfile = 'test8.PDF'  # Output file path\n",
    "    return_result = True  # If True, method returns the data\n",
    "    try:\n",
    "        f = client.retrieve_facsimile(ds_name=ds_name, reporting_pd_end=end_date,\n",
    "                                      fiID_type=fiID_type, fiID=fiID,\n",
    "                                      facsimile_fmt=fmt, outfile=False,\n",
    "                                      return_result=True)\n",
    "        report = StringIO(str(f, 'utf-8'))\n",
    "        report_df = pd.read_csv(report, sep=';')\n",
    "        report_df.columns = ['Call Date', 'Bank RSSD Identifier', 'ValueID', 'Value', 'Last Update',\n",
    "       'Short Definition', 'Call Schedule', 'Line Number']\n",
    "        values = list(report_df[report_df.ValueID.isin(fin_columns)].Value)\n",
    "        fin_data_dic[fiID] = values\n",
    "        all_data_df = all_data_df.append(report_df, ignore_index=True)\n",
    "    except:\n",
    "        next "
   ]
  },
  {
   "cell_type": "code",
   "execution_count": 387,
   "metadata": {},
   "outputs": [
    {
     "data": {
      "text/plain": [
       "dict_keys([23306, 58052, 35065, 34578, 19040, 35561, 34673, 5287, 35078, 20340, 35463, 14580, 57831, 57885, 34411, 58087, 31263, 22173, 16089, 2119, 33904, 32251, 27573, 34016, 58205, 35250, 21777])"
      ]
     },
     "execution_count": 387,
     "metadata": {},
     "output_type": "execute_result"
    }
   ],
   "source": [
    "fin_data_dic.keys()"
   ]
  },
  {
   "cell_type": "code",
   "execution_count": 410,
   "metadata": {},
   "outputs": [],
   "source": [
    "banks_failed_2010Q4_df = pd.DataFrame.from_dict(fin_data_dic, orient='index')\n",
    "banks_failed_2010Q4_df.columns = fin_columns\n",
    "banks_failed_2010Q4_df['Target'] = 1\n",
    "banks_failed_2010Q4_df['AsOfDate'] = '9/30/2010'\n",
    "banks_failed_2010Q4_df.to_csv('data/banks_failed_2010Q4')\n",
    "\n",
    "\n"
   ]
  },
  {
   "cell_type": "code",
   "execution_count": 464,
   "metadata": {},
   "outputs": [
    {
     "data": {
      "text/html": [
       "<div>\n",
       "<style scoped>\n",
       "    .dataframe tbody tr th:only-of-type {\n",
       "        vertical-align: middle;\n",
       "    }\n",
       "\n",
       "    .dataframe tbody tr th {\n",
       "        vertical-align: top;\n",
       "    }\n",
       "\n",
       "    .dataframe thead th {\n",
       "        text-align: right;\n",
       "    }\n",
       "</style>\n",
       "<table border=\"1\" class=\"dataframe\">\n",
       "  <thead>\n",
       "    <tr style=\"text-align: right;\">\n",
       "      <th></th>\n",
       "      <th>RIAD3210</th>\n",
       "      <th>RCON2170</th>\n",
       "      <th>RCON3360</th>\n",
       "      <th>RCONC410</th>\n",
       "      <th>RCONC411</th>\n",
       "      <th>RCON3123</th>\n",
       "      <th>RIAD4093</th>\n",
       "      <th>RIAD4340</th>\n",
       "      <th>RCON2215</th>\n",
       "      <th>RCON2385</th>\n",
       "      <th>RCON3545</th>\n",
       "      <th>Target</th>\n",
       "      <th>AsOfDate</th>\n",
       "    </tr>\n",
       "  </thead>\n",
       "  <tbody>\n",
       "    <tr>\n",
       "      <th>23306</th>\n",
       "      <td>31569</td>\n",
       "      <td>5633</td>\n",
       "      <td>23211</td>\n",
       "      <td>760</td>\n",
       "      <td>16517</td>\n",
       "      <td>0</td>\n",
       "      <td>0</td>\n",
       "      <td>0</td>\n",
       "      <td>2653</td>\n",
       "      <td>2186</td>\n",
       "      <td>-1859</td>\n",
       "      <td>1</td>\n",
       "      <td>9/30/2010</td>\n",
       "    </tr>\n",
       "    <tr>\n",
       "      <th>58052</th>\n",
       "      <td>191764</td>\n",
       "      <td>17047</td>\n",
       "      <td>138756</td>\n",
       "      <td>1584</td>\n",
       "      <td>124817</td>\n",
       "      <td>0</td>\n",
       "      <td>0</td>\n",
       "      <td>0</td>\n",
       "      <td>19250</td>\n",
       "      <td>3427</td>\n",
       "      <td>510</td>\n",
       "      <td>1</td>\n",
       "      <td>9/30/2010</td>\n",
       "    </tr>\n",
       "    <tr>\n",
       "      <th>35065</th>\n",
       "      <td>242339</td>\n",
       "      <td>13011</td>\n",
       "      <td>180793</td>\n",
       "      <td>14570</td>\n",
       "      <td>188047</td>\n",
       "      <td>0</td>\n",
       "      <td>2924</td>\n",
       "      <td>0</td>\n",
       "      <td>-1833</td>\n",
       "      <td>5865</td>\n",
       "      <td>-16068</td>\n",
       "      <td>1</td>\n",
       "      <td>9/30/2010</td>\n",
       "    </tr>\n",
       "    <tr>\n",
       "      <th>34578</th>\n",
       "      <td>244376</td>\n",
       "      <td>29439</td>\n",
       "      <td>211037</td>\n",
       "      <td>3259</td>\n",
       "      <td>180194</td>\n",
       "      <td>0</td>\n",
       "      <td>3133</td>\n",
       "      <td>585</td>\n",
       "      <td>2124</td>\n",
       "      <td>7248</td>\n",
       "      <td>-11104</td>\n",
       "      <td>1</td>\n",
       "      <td>9/30/2010</td>\n",
       "    </tr>\n",
       "    <tr>\n",
       "      <th>19040</th>\n",
       "      <td>73295</td>\n",
       "      <td>299323</td>\n",
       "      <td>328903</td>\n",
       "      <td>NaN</td>\n",
       "      <td>-775</td>\n",
       "      <td>17782</td>\n",
       "      <td>-26732</td>\n",
       "      <td>None</td>\n",
       "      <td>None</td>\n",
       "      <td>None</td>\n",
       "      <td>None</td>\n",
       "      <td>1</td>\n",
       "      <td>9/30/2010</td>\n",
       "    </tr>\n",
       "    <tr>\n",
       "      <th>35561</th>\n",
       "      <td>112643</td>\n",
       "      <td>7611</td>\n",
       "      <td>96894</td>\n",
       "      <td>2242</td>\n",
       "      <td>78083</td>\n",
       "      <td>0</td>\n",
       "      <td>0</td>\n",
       "      <td>0</td>\n",
       "      <td>2272</td>\n",
       "      <td>3544</td>\n",
       "      <td>-1364</td>\n",
       "      <td>1</td>\n",
       "      <td>9/30/2010</td>\n",
       "    </tr>\n",
       "    <tr>\n",
       "      <th>34673</th>\n",
       "      <td>252744</td>\n",
       "      <td>20450</td>\n",
       "      <td>193100</td>\n",
       "      <td>8640</td>\n",
       "      <td>233102</td>\n",
       "      <td>0</td>\n",
       "      <td>6182</td>\n",
       "      <td>0</td>\n",
       "      <td>2571</td>\n",
       "      <td>8568</td>\n",
       "      <td>-10207</td>\n",
       "      <td>1</td>\n",
       "      <td>9/30/2010</td>\n",
       "    </tr>\n",
       "    <tr>\n",
       "      <th>5287</th>\n",
       "      <td>750724</td>\n",
       "      <td>36539</td>\n",
       "      <td>628213</td>\n",
       "      <td>37225</td>\n",
       "      <td>572553</td>\n",
       "      <td>0</td>\n",
       "      <td>20081</td>\n",
       "      <td>0</td>\n",
       "      <td>8463</td>\n",
       "      <td>19338</td>\n",
       "      <td>-27757</td>\n",
       "      <td>1</td>\n",
       "      <td>9/30/2010</td>\n",
       "    </tr>\n",
       "    <tr>\n",
       "      <th>35078</th>\n",
       "      <td>106595</td>\n",
       "      <td>9706</td>\n",
       "      <td>82290</td>\n",
       "      <td>1289</td>\n",
       "      <td>86882</td>\n",
       "      <td>0</td>\n",
       "      <td>0</td>\n",
       "      <td>0</td>\n",
       "      <td>1474</td>\n",
       "      <td>4679</td>\n",
       "      <td>-4667</td>\n",
       "      <td>1</td>\n",
       "      <td>9/30/2010</td>\n",
       "    </tr>\n",
       "    <tr>\n",
       "      <th>20340</th>\n",
       "      <td>112144</td>\n",
       "      <td>37086</td>\n",
       "      <td>75107</td>\n",
       "      <td>3748</td>\n",
       "      <td>74954</td>\n",
       "      <td>0</td>\n",
       "      <td>2109</td>\n",
       "      <td>0</td>\n",
       "      <td>-324</td>\n",
       "      <td>4279</td>\n",
       "      <td>-4286</td>\n",
       "      <td>1</td>\n",
       "      <td>9/30/2010</td>\n",
       "    </tr>\n",
       "    <tr>\n",
       "      <th>35463</th>\n",
       "      <td>203955</td>\n",
       "      <td>16416</td>\n",
       "      <td>173766</td>\n",
       "      <td>8796</td>\n",
       "      <td>150363</td>\n",
       "      <td>0</td>\n",
       "      <td>7931</td>\n",
       "      <td>0</td>\n",
       "      <td>-2354</td>\n",
       "      <td>6618</td>\n",
       "      <td>-17831</td>\n",
       "      <td>1</td>\n",
       "      <td>9/30/2010</td>\n",
       "    </tr>\n",
       "    <tr>\n",
       "      <th>14580</th>\n",
       "      <td>654714</td>\n",
       "      <td>22062</td>\n",
       "      <td>565564</td>\n",
       "      <td>12604</td>\n",
       "      <td>411257</td>\n",
       "      <td>0</td>\n",
       "      <td>0</td>\n",
       "      <td>842</td>\n",
       "      <td>9020</td>\n",
       "      <td>16179</td>\n",
       "      <td>-22846</td>\n",
       "      <td>1</td>\n",
       "      <td>9/30/2010</td>\n",
       "    </tr>\n",
       "    <tr>\n",
       "      <th>57831</th>\n",
       "      <td>143729</td>\n",
       "      <td>19571</td>\n",
       "      <td>122002</td>\n",
       "      <td>7416</td>\n",
       "      <td>100823</td>\n",
       "      <td>0</td>\n",
       "      <td>6853</td>\n",
       "      <td>0</td>\n",
       "      <td>1758</td>\n",
       "      <td>2755</td>\n",
       "      <td>-11036</td>\n",
       "      <td>1</td>\n",
       "      <td>9/30/2010</td>\n",
       "    </tr>\n",
       "    <tr>\n",
       "      <th>57885</th>\n",
       "      <td>48000</td>\n",
       "      <td>9297</td>\n",
       "      <td>37715</td>\n",
       "      <td>622</td>\n",
       "      <td>35951</td>\n",
       "      <td>0</td>\n",
       "      <td>0</td>\n",
       "      <td>0</td>\n",
       "      <td>611</td>\n",
       "      <td>2551</td>\n",
       "      <td>-1952</td>\n",
       "      <td>1</td>\n",
       "      <td>9/30/2010</td>\n",
       "    </tr>\n",
       "    <tr>\n",
       "      <th>34411</th>\n",
       "      <td>221082</td>\n",
       "      <td>42125</td>\n",
       "      <td>151348</td>\n",
       "      <td>8577</td>\n",
       "      <td>173680</td>\n",
       "      <td>0</td>\n",
       "      <td>1463</td>\n",
       "      <td>0</td>\n",
       "      <td>4532</td>\n",
       "      <td>6669</td>\n",
       "      <td>-8260</td>\n",
       "      <td>1</td>\n",
       "      <td>9/30/2010</td>\n",
       "    </tr>\n",
       "    <tr>\n",
       "      <th>58087</th>\n",
       "      <td>98635</td>\n",
       "      <td>27115</td>\n",
       "      <td>74012</td>\n",
       "      <td>3912</td>\n",
       "      <td>82924</td>\n",
       "      <td>0</td>\n",
       "      <td>5421</td>\n",
       "      <td>0</td>\n",
       "      <td>-3483</td>\n",
       "      <td>4974</td>\n",
       "      <td>-12739</td>\n",
       "      <td>1</td>\n",
       "      <td>9/30/2010</td>\n",
       "    </tr>\n",
       "    <tr>\n",
       "      <th>31263</th>\n",
       "      <td>538258</td>\n",
       "      <td>28004</td>\n",
       "      <td>472052</td>\n",
       "      <td>14792</td>\n",
       "      <td>427925</td>\n",
       "      <td>0</td>\n",
       "      <td>27660</td>\n",
       "      <td>0</td>\n",
       "      <td>6741</td>\n",
       "      <td>15502</td>\n",
       "      <td>-16779</td>\n",
       "      <td>1</td>\n",
       "      <td>9/30/2010</td>\n",
       "    </tr>\n",
       "    <tr>\n",
       "      <th>22173</th>\n",
       "      <td>1583611</td>\n",
       "      <td>48202</td>\n",
       "      <td>1440583</td>\n",
       "      <td>34385</td>\n",
       "      <td>1023750</td>\n",
       "      <td>0</td>\n",
       "      <td>71645</td>\n",
       "      <td>0</td>\n",
       "      <td>3788</td>\n",
       "      <td>31718</td>\n",
       "      <td>-69281</td>\n",
       "      <td>1</td>\n",
       "      <td>9/30/2010</td>\n",
       "    </tr>\n",
       "    <tr>\n",
       "      <th>16089</th>\n",
       "      <td>143451</td>\n",
       "      <td>33116</td>\n",
       "      <td>102359</td>\n",
       "      <td>2409</td>\n",
       "      <td>112780</td>\n",
       "      <td>0</td>\n",
       "      <td>934</td>\n",
       "      <td>0</td>\n",
       "      <td>3742</td>\n",
       "      <td>5152</td>\n",
       "      <td>-1938</td>\n",
       "      <td>1</td>\n",
       "      <td>9/30/2010</td>\n",
       "    </tr>\n",
       "    <tr>\n",
       "      <th>2119</th>\n",
       "      <td>126622</td>\n",
       "      <td>18550</td>\n",
       "      <td>104330</td>\n",
       "      <td>1334</td>\n",
       "      <td>98809</td>\n",
       "      <td>0</td>\n",
       "      <td>15499</td>\n",
       "      <td>0</td>\n",
       "      <td>2683</td>\n",
       "      <td>3411</td>\n",
       "      <td>-7095</td>\n",
       "      <td>1</td>\n",
       "      <td>9/30/2010</td>\n",
       "    </tr>\n",
       "    <tr>\n",
       "      <th>33904</th>\n",
       "      <td>29259</td>\n",
       "      <td>15224</td>\n",
       "      <td>11643</td>\n",
       "      <td>654</td>\n",
       "      <td>15000</td>\n",
       "      <td>0</td>\n",
       "      <td>0</td>\n",
       "      <td>0</td>\n",
       "      <td>310</td>\n",
       "      <td>1097</td>\n",
       "      <td>-1658</td>\n",
       "      <td>1</td>\n",
       "      <td>9/30/2010</td>\n",
       "    </tr>\n",
       "    <tr>\n",
       "      <th>32251</th>\n",
       "      <td>94823</td>\n",
       "      <td>5583</td>\n",
       "      <td>81278</td>\n",
       "      <td>1780</td>\n",
       "      <td>84674</td>\n",
       "      <td>0</td>\n",
       "      <td>1347</td>\n",
       "      <td>0</td>\n",
       "      <td>473</td>\n",
       "      <td>3276</td>\n",
       "      <td>-3076</td>\n",
       "      <td>1</td>\n",
       "      <td>9/30/2010</td>\n",
       "    </tr>\n",
       "    <tr>\n",
       "      <th>27573</th>\n",
       "      <td>73922</td>\n",
       "      <td>8600</td>\n",
       "      <td>63598</td>\n",
       "      <td>2185</td>\n",
       "      <td>56001</td>\n",
       "      <td>0</td>\n",
       "      <td>1976</td>\n",
       "      <td>0</td>\n",
       "      <td>-1303</td>\n",
       "      <td>2759</td>\n",
       "      <td>-6138</td>\n",
       "      <td>1</td>\n",
       "      <td>9/30/2010</td>\n",
       "    </tr>\n",
       "    <tr>\n",
       "      <th>34016</th>\n",
       "      <td>989382</td>\n",
       "      <td>59159</td>\n",
       "      <td>810208</td>\n",
       "      <td>58180</td>\n",
       "      <td>707503</td>\n",
       "      <td>0</td>\n",
       "      <td>51189</td>\n",
       "      <td>0</td>\n",
       "      <td>10599</td>\n",
       "      <td>23510</td>\n",
       "      <td>-33484</td>\n",
       "      <td>1</td>\n",
       "      <td>9/30/2010</td>\n",
       "    </tr>\n",
       "    <tr>\n",
       "      <th>58205</th>\n",
       "      <td>87782</td>\n",
       "      <td>6779</td>\n",
       "      <td>63352</td>\n",
       "      <td>3165</td>\n",
       "      <td>66287</td>\n",
       "      <td>0</td>\n",
       "      <td>1105</td>\n",
       "      <td>0</td>\n",
       "      <td>25</td>\n",
       "      <td>3153</td>\n",
       "      <td>-3459</td>\n",
       "      <td>1</td>\n",
       "      <td>9/30/2010</td>\n",
       "    </tr>\n",
       "    <tr>\n",
       "      <th>35250</th>\n",
       "      <td>92980</td>\n",
       "      <td>19963</td>\n",
       "      <td>70681</td>\n",
       "      <td>4170</td>\n",
       "      <td>70048</td>\n",
       "      <td>0</td>\n",
       "      <td>0</td>\n",
       "      <td>0</td>\n",
       "      <td>1131</td>\n",
       "      <td>4009</td>\n",
       "      <td>-4106</td>\n",
       "      <td>1</td>\n",
       "      <td>9/30/2010</td>\n",
       "    </tr>\n",
       "    <tr>\n",
       "      <th>21777</th>\n",
       "      <td>402205</td>\n",
       "      <td>21273</td>\n",
       "      <td>345955</td>\n",
       "      <td>20022</td>\n",
       "      <td>297286</td>\n",
       "      <td>0</td>\n",
       "      <td>10811</td>\n",
       "      <td>360</td>\n",
       "      <td>12540</td>\n",
       "      <td>14450</td>\n",
       "      <td>-16059</td>\n",
       "      <td>1</td>\n",
       "      <td>9/30/2010</td>\n",
       "    </tr>\n",
       "  </tbody>\n",
       "</table>\n",
       "</div>"
      ],
      "text/plain": [
       "      RIAD3210 RCON2170 RCON3360 RCONC410 RCONC411 RCON3123 RIAD4093 RIAD4340  \\\n",
       "23306    31569     5633    23211      760    16517        0        0        0   \n",
       "58052   191764    17047   138756     1584   124817        0        0        0   \n",
       "35065   242339    13011   180793    14570   188047        0     2924        0   \n",
       "34578   244376    29439   211037     3259   180194        0     3133      585   \n",
       "19040    73295   299323   328903      NaN     -775    17782   -26732     None   \n",
       "35561   112643     7611    96894     2242    78083        0        0        0   \n",
       "34673   252744    20450   193100     8640   233102        0     6182        0   \n",
       "5287    750724    36539   628213    37225   572553        0    20081        0   \n",
       "35078   106595     9706    82290     1289    86882        0        0        0   \n",
       "20340   112144    37086    75107     3748    74954        0     2109        0   \n",
       "35463   203955    16416   173766     8796   150363        0     7931        0   \n",
       "14580   654714    22062   565564    12604   411257        0        0      842   \n",
       "57831   143729    19571   122002     7416   100823        0     6853        0   \n",
       "57885    48000     9297    37715      622    35951        0        0        0   \n",
       "34411   221082    42125   151348     8577   173680        0     1463        0   \n",
       "58087    98635    27115    74012     3912    82924        0     5421        0   \n",
       "31263   538258    28004   472052    14792   427925        0    27660        0   \n",
       "22173  1583611    48202  1440583    34385  1023750        0    71645        0   \n",
       "16089   143451    33116   102359     2409   112780        0      934        0   \n",
       "2119    126622    18550   104330     1334    98809        0    15499        0   \n",
       "33904    29259    15224    11643      654    15000        0        0        0   \n",
       "32251    94823     5583    81278     1780    84674        0     1347        0   \n",
       "27573    73922     8600    63598     2185    56001        0     1976        0   \n",
       "34016   989382    59159   810208    58180   707503        0    51189        0   \n",
       "58205    87782     6779    63352     3165    66287        0     1105        0   \n",
       "35250    92980    19963    70681     4170    70048        0        0        0   \n",
       "21777   402205    21273   345955    20022   297286        0    10811      360   \n",
       "\n",
       "      RCON2215 RCON2385 RCON3545  Target   AsOfDate  \n",
       "23306     2653     2186    -1859       1  9/30/2010  \n",
       "58052    19250     3427      510       1  9/30/2010  \n",
       "35065    -1833     5865   -16068       1  9/30/2010  \n",
       "34578     2124     7248   -11104       1  9/30/2010  \n",
       "19040     None     None     None       1  9/30/2010  \n",
       "35561     2272     3544    -1364       1  9/30/2010  \n",
       "34673     2571     8568   -10207       1  9/30/2010  \n",
       "5287      8463    19338   -27757       1  9/30/2010  \n",
       "35078     1474     4679    -4667       1  9/30/2010  \n",
       "20340     -324     4279    -4286       1  9/30/2010  \n",
       "35463    -2354     6618   -17831       1  9/30/2010  \n",
       "14580     9020    16179   -22846       1  9/30/2010  \n",
       "57831     1758     2755   -11036       1  9/30/2010  \n",
       "57885      611     2551    -1952       1  9/30/2010  \n",
       "34411     4532     6669    -8260       1  9/30/2010  \n",
       "58087    -3483     4974   -12739       1  9/30/2010  \n",
       "31263     6741    15502   -16779       1  9/30/2010  \n",
       "22173     3788    31718   -69281       1  9/30/2010  \n",
       "16089     3742     5152    -1938       1  9/30/2010  \n",
       "2119      2683     3411    -7095       1  9/30/2010  \n",
       "33904      310     1097    -1658       1  9/30/2010  \n",
       "32251      473     3276    -3076       1  9/30/2010  \n",
       "27573    -1303     2759    -6138       1  9/30/2010  \n",
       "34016    10599    23510   -33484       1  9/30/2010  \n",
       "58205       25     3153    -3459       1  9/30/2010  \n",
       "35250     1131     4009    -4106       1  9/30/2010  \n",
       "21777    12540    14450   -16059       1  9/30/2010  "
      ]
     },
     "execution_count": 464,
     "metadata": {},
     "output_type": "execute_result"
    }
   ],
   "source": [
    "#all_data_df.to_csv('data/failed_banks_reports2010Q4')\n",
    "banks_failed_2010Q4_df\n"
   ]
  },
  {
   "cell_type": "code",
   "execution_count": 181,
   "metadata": {},
   "outputs": [],
   "source": [
    "report_df.columns = ['Call Date', 'Bank RSSD Identifier', 'ValueID', 'Value', 'Last Update',\n",
    "       'Short Definition', 'Call Schedule', 'Line Number']"
   ]
  },
  {
   "cell_type": "code",
   "execution_count": 422,
   "metadata": {},
   "outputs": [
    {
     "data": {
      "text/plain": [
       "list"
      ]
     },
     "execution_count": 422,
     "metadata": {},
     "output_type": "execute_result"
    }
   ],
   "source": [
    "client = FFIEC_Client()\n",
    "# get a list of RSSD codes for filers on 9/30/2010\n",
    "filers_RSSD_09302010 = client.retrieve_filers_since_date(ds_name='Call',\n",
    "                                   reporting_pd_end='9/30/2010',\n",
    "                                   last_update_date='9/30/2010')\n",
    "# check how many filers - 5908\n",
    "type(filers_RSSD_09302010)"
   ]
  },
  {
   "cell_type": "code",
   "execution_count": 432,
   "metadata": {},
   "outputs": [
    {
     "data": {
      "text/plain": [
       "1001451"
      ]
     },
     "execution_count": 432,
     "metadata": {},
     "output_type": "execute_result"
    }
   ],
   "source": [
    "filers_RSSD_09302010[3]\n"
   ]
  },
  {
   "cell_type": "code",
   "execution_count": 447,
   "metadata": {},
   "outputs": [
    {
     "data": {
      "text/plain": [
       "7094"
      ]
     },
     "execution_count": 447,
     "metadata": {},
     "output_type": "execute_result"
    }
   ],
   "source": [
    "len(filers_RSSD_09302010)"
   ]
  },
  {
   "cell_type": "code",
   "execution_count": 448,
   "metadata": {},
   "outputs": [],
   "source": [
    "# Pull 7094 reports that did not fail, drop all values but 11 selected metrics -- returns only 27\n",
    "all_banks_data_df = pd.DataFrame()\n",
    "fin_banks_data_dic = {}\n",
    "for i in range(len(filers_RSSD_09302010)):\n",
    "\n",
    "    ds_name = 'Call'    # Pull Call report data\n",
    "    end_date = '9/30/2010'  # Pull data in reporting pd ending 3/31/17\n",
    "    fiID_type = 'ID_RSSD'  # Type of financial inst identifier (ID_RSSD, CERT )\n",
    "    fiID = filers_RSSD_09302010[i]   # Indentifier for Wyomin Bank and Trust\n",
    "    #print(\"counter at \", i, \" pulling RSSD# \", fiID)\n",
    "    fmt = 'SDF'  # Pull report as PDF\n",
    "    # <facsimileFormat>PDF or XBRL or SDF</facsimileFormat>\n",
    "    #outfile = 'test8.PDF'  # Output file path\n",
    "    return_result = True  # If True, method returns the data\n",
    "    try:\n",
    "        f = client.retrieve_facsimile(ds_name=ds_name, reporting_pd_end=end_date,\n",
    "                                      fiID_type=fiID_type, fiID=fiID,\n",
    "                                      facsimile_fmt=fmt, outfile=False,\n",
    "                                      return_result=True)\n",
    "        report = StringIO(str(f, 'utf-8'))\n",
    "        report_df = pd.read_csv(report, sep=';')\n",
    "        report_df.columns = ['Call Date', 'Bank RSSD Identifier', 'ValueID', 'Value', 'Last Update',\n",
    "       'Short Definition', 'Call Schedule', 'Line Number']\n",
    "        values = list(report_df[report_df.ValueID.isin(fin_columns)].Value)\n",
    "        fin_banks_data_dic[fiID] = values\n",
    "       \n",
    "        #all_banks_data_df = all_data_df.append(report_df, ignore_index=True)\n",
    "    except:\n",
    "        next "
   ]
  },
  {
   "cell_type": "code",
   "execution_count": 450,
   "metadata": {},
   "outputs": [
    {
     "data": {
      "text/plain": [
       "7094"
      ]
     },
     "execution_count": 450,
     "metadata": {},
     "output_type": "execute_result"
    }
   ],
   "source": [
    "len(fin_banks_data_dic)"
   ]
  },
  {
   "cell_type": "code",
   "execution_count": 453,
   "metadata": {},
   "outputs": [
    {
     "data": {
      "text/plain": [
       "27"
      ]
     },
     "execution_count": 453,
     "metadata": {},
     "output_type": "execute_result"
    }
   ],
   "source": [
    "len(fin_data_dic)"
   ]
  },
  {
   "cell_type": "code",
   "execution_count": 454,
   "metadata": {},
   "outputs": [
    {
     "name": "stdout",
     "output_type": "stream",
     "text": [
      "checking  0\n",
      "Key 'testing' not found\n",
      "checking  1\n",
      "Key 'testing' not found\n",
      "checking  2\n",
      "Key 'testing' not found\n",
      "checking  3\n",
      "Key 'testing' not found\n",
      "checking  4\n",
      "Key 'testing' not found\n",
      "checking  5\n",
      "Key 'testing' not found\n",
      "checking  6\n",
      "Key 'testing' not found\n",
      "checking  7\n",
      "Key 'testing' not found\n",
      "checking  8\n",
      "Key 'testing' not found\n",
      "checking  9\n",
      "Key 'testing' not found\n",
      "checking  10\n",
      "Key 'testing' not found\n",
      "checking  11\n",
      "Key 'testing' not found\n",
      "checking  12\n",
      "Key 'testing' not found\n",
      "checking  13\n",
      "Key 'testing' not found\n",
      "checking  14\n",
      "Key 'testing' not found\n",
      "checking  15\n",
      "Key 'testing' not found\n",
      "checking  16\n",
      "Key 'testing' not found\n",
      "checking  17\n",
      "Key 'testing' not found\n",
      "checking  18\n",
      "Key 'testing' not found\n",
      "checking  19\n",
      "Key 'testing' not found\n",
      "checking  20\n",
      "Key 'testing' not found\n",
      "checking  21\n",
      "Key 'testing' not found\n",
      "checking  22\n",
      "Key 'testing' not found\n",
      "checking  23\n",
      "Key 'testing' not found\n",
      "checking  24\n",
      "Key 'testing' not found\n",
      "checking  25\n",
      "Key 'testing' not found\n",
      "checking  26\n",
      "Key 'testing' not found\n"
     ]
    }
   ],
   "source": [
    "#fin_banks_data_dic.keys()\n",
    "\n",
    "for i in range(len(fin_data_dic)):\n",
    "    print('checking ', i)\n",
    "    try: \n",
    "        del fin_banks_data_dic[i]\n",
    "    except KeyError:\n",
    "        print(\"Key 'testing' not found\")\n",
    "\n",
    "# If key is not present in dictionary, then del can throw KeyError\n",
    "# try:\n",
    "#     del wordFreqDic[\"testing\"]\n",
    "# except KeyError:\n",
    "#     print(\"Key 'testing' not found\")"
   ]
  },
  {
   "cell_type": "code",
   "execution_count": 451,
   "metadata": {},
   "outputs": [
    {
     "data": {
      "text/plain": [
       "7094"
      ]
     },
     "execution_count": 451,
     "metadata": {},
     "output_type": "execute_result"
    }
   ],
   "source": [
    "len(fin_banks_data_dic)"
   ]
  },
  {
   "cell_type": "code",
   "execution_count": 484,
   "metadata": {},
   "outputs": [],
   "source": [
    "banks_healthy_2010Q4_df = pd.DataFrame.from_dict(fin_banks_data_dic, orient='index')\n",
    "banks_healthy_2010Q4_df.columns = fin_columns\n",
    "banks_healthy_2010Q4_df['Target'] = 0\n",
    "banks_healthy_2010Q4_df['AsOfDate'] = '9/30/2010'\n",
    "banks_healthy_2010Q4_df.tail()\n",
    "#banks_healthy_2010Q4_df.to_csv('data/banks_healthy_2010Q4')"
   ]
  },
  {
   "cell_type": "code",
   "execution_count": 2,
   "metadata": {},
   "outputs": [
    {
     "ename": "NameError",
     "evalue": "name 'all_banks_2010Q4_df' is not defined",
     "output_type": "error",
     "traceback": [
      "\u001b[0;31m---------------------------------------------------------------------------\u001b[0m",
      "\u001b[0;31mNameError\u001b[0m                                 Traceback (most recent call last)",
      "\u001b[0;32m<ipython-input-2-26934f7034c7>\u001b[0m in \u001b[0;36m<module>\u001b[0;34m\u001b[0m\n\u001b[1;32m      5\u001b[0m \u001b[0;31m#all_banks_2010Q4_df.to_csv('data/all_banks_2010Q4.csv')\u001b[0m\u001b[0;34m\u001b[0m\u001b[0;34m\u001b[0m\u001b[0;34m\u001b[0m\u001b[0m\n\u001b[1;32m      6\u001b[0m \u001b[0;31m#all_banks_2010Q4_df = pd.read_clipboard('data/all_banks_2014Q4.csv')\u001b[0m\u001b[0;34m\u001b[0m\u001b[0;34m\u001b[0m\u001b[0;34m\u001b[0m\u001b[0m\n\u001b[0;32m----> 7\u001b[0;31m \u001b[0mall_banks_2010Q4_df\u001b[0m\u001b[0;34m\u001b[0m\u001b[0;34m\u001b[0m\u001b[0m\n\u001b[0m",
      "\u001b[0;31mNameError\u001b[0m: name 'all_banks_2010Q4_df' is not defined"
     ]
    }
   ],
   "source": [
    "#merge with  failed banks\n",
    "\n",
    "all_banks_2010Q4_df = banks_healthy_2010Q4_df.append(banks_failed_2010Q4_df, ignore_index=True)\n",
    "all_banks_2010Q4_df.head()\n",
    "# all_banks_2010Q4_df.to_csv('data/all_banks_2010Q4.csv')\n"
   ]
  },
  {
   "cell_type": "code",
   "execution_count": 126,
   "metadata": {},
   "outputs": [
    {
     "data": {
      "text/html": [
       "<div>\n",
       "<style scoped>\n",
       "    .dataframe tbody tr th:only-of-type {\n",
       "        vertical-align: middle;\n",
       "    }\n",
       "\n",
       "    .dataframe tbody tr th {\n",
       "        vertical-align: top;\n",
       "    }\n",
       "\n",
       "    .dataframe thead th {\n",
       "        text-align: right;\n",
       "    }\n",
       "</style>\n",
       "<table border=\"1\" class=\"dataframe\">\n",
       "  <thead>\n",
       "    <tr style=\"text-align: right;\">\n",
       "      <th></th>\n",
       "      <th>RIAD3210</th>\n",
       "      <th>RCON2170</th>\n",
       "      <th>RCON3360</th>\n",
       "      <th>RCONC410</th>\n",
       "      <th>RCONC411</th>\n",
       "      <th>RCON3123</th>\n",
       "      <th>RIAD4093</th>\n",
       "      <th>RIAD4340</th>\n",
       "      <th>RCON2215</th>\n",
       "      <th>RCON2385</th>\n",
       "      <th>RCON3545</th>\n",
       "      <th>Target</th>\n",
       "      <th>AsOfDate</th>\n",
       "    </tr>\n",
       "  </thead>\n",
       "  <tbody>\n",
       "    <tr>\n",
       "      <th>0</th>\n",
       "      <td>21653</td>\n",
       "      <td>4651</td>\n",
       "      <td>14104</td>\n",
       "      <td>186.0</td>\n",
       "      <td>12287</td>\n",
       "      <td>0</td>\n",
       "      <td>0</td>\n",
       "      <td>0.0</td>\n",
       "      <td>2405.0</td>\n",
       "      <td>423.0</td>\n",
       "      <td>177.0</td>\n",
       "      <td>0</td>\n",
       "      <td>9/30/2010</td>\n",
       "    </tr>\n",
       "    <tr>\n",
       "      <th>1</th>\n",
       "      <td>54633</td>\n",
       "      <td>14683</td>\n",
       "      <td>32036</td>\n",
       "      <td>20.0</td>\n",
       "      <td>21577</td>\n",
       "      <td>0</td>\n",
       "      <td>0</td>\n",
       "      <td>0.0</td>\n",
       "      <td>7822.0</td>\n",
       "      <td>635.0</td>\n",
       "      <td>1134.0</td>\n",
       "      <td>0</td>\n",
       "      <td>9/30/2010</td>\n",
       "    </tr>\n",
       "    <tr>\n",
       "      <th>2</th>\n",
       "      <td>17735</td>\n",
       "      <td>5350</td>\n",
       "      <td>9925</td>\n",
       "      <td>171.0</td>\n",
       "      <td>11137</td>\n",
       "      <td>0</td>\n",
       "      <td>0</td>\n",
       "      <td>0.0</td>\n",
       "      <td>2419.0</td>\n",
       "      <td>404.0</td>\n",
       "      <td>210.0</td>\n",
       "      <td>0</td>\n",
       "      <td>9/30/2010</td>\n",
       "    </tr>\n",
       "    <tr>\n",
       "      <th>3</th>\n",
       "      <td>34053</td>\n",
       "      <td>13633</td>\n",
       "      <td>17102</td>\n",
       "      <td>273.0</td>\n",
       "      <td>14809</td>\n",
       "      <td>0</td>\n",
       "      <td>0</td>\n",
       "      <td>0.0</td>\n",
       "      <td>3198.0</td>\n",
       "      <td>655.0</td>\n",
       "      <td>296.0</td>\n",
       "      <td>0</td>\n",
       "      <td>9/30/2010</td>\n",
       "    </tr>\n",
       "    <tr>\n",
       "      <th>4</th>\n",
       "      <td>92889</td>\n",
       "      <td>16135</td>\n",
       "      <td>61795</td>\n",
       "      <td>1195.0</td>\n",
       "      <td>63063</td>\n",
       "      <td>0</td>\n",
       "      <td>19</td>\n",
       "      <td>0.0</td>\n",
       "      <td>10273.0</td>\n",
       "      <td>1449.0</td>\n",
       "      <td>1287.0</td>\n",
       "      <td>0</td>\n",
       "      <td>9/30/2010</td>\n",
       "    </tr>\n",
       "  </tbody>\n",
       "</table>\n",
       "</div>"
      ],
      "text/plain": [
       "   RIAD3210  RCON2170  RCON3360  RCONC410  RCONC411  RCON3123  RIAD4093  \\\n",
       "0     21653      4651     14104     186.0     12287         0         0   \n",
       "1     54633     14683     32036      20.0     21577         0         0   \n",
       "2     17735      5350      9925     171.0     11137         0         0   \n",
       "3     34053     13633     17102     273.0     14809         0         0   \n",
       "4     92889     16135     61795    1195.0     63063         0        19   \n",
       "\n",
       "   RIAD4340  RCON2215  RCON2385  RCON3545  Target   AsOfDate  \n",
       "0       0.0    2405.0     423.0     177.0       0  9/30/2010  \n",
       "1       0.0    7822.0     635.0    1134.0       0  9/30/2010  \n",
       "2       0.0    2419.0     404.0     210.0       0  9/30/2010  \n",
       "3       0.0    3198.0     655.0     296.0       0  9/30/2010  \n",
       "4       0.0   10273.0    1449.0    1287.0       0  9/30/2010  "
      ]
     },
     "execution_count": 126,
     "metadata": {},
     "output_type": "execute_result"
    }
   ],
   "source": [
    "all_banks_2010Q4_df = pd.read_csv('data/all_banks_2010Q4.csv', index_col=0)\n",
    "all_banks_2010Q4_df.head()"
   ]
  },
  {
   "cell_type": "code",
   "execution_count": 162,
   "metadata": {},
   "outputs": [
    {
     "data": {
      "text/plain": [
       "[126622,\n",
       " 18550,\n",
       " 104330,\n",
       " 1334.0,\n",
       " 98809,\n",
       " 0,\n",
       " 15499,\n",
       " 0.0,\n",
       " 2683.0,\n",
       " 3411.0,\n",
       " -7095.0,\n",
       " 1,\n",
       " '9/30/2010']"
      ]
     },
     "execution_count": 162,
     "metadata": {},
     "output_type": "execute_result"
    }
   ],
   "source": [
    "all_banks_2010Q4_df.tail()\n",
    "list(all_banks_2010Q4_df.iloc[7000,:])\n",
    "#all_banks_2010Q4_df.describe()"
   ]
  },
  {
   "cell_type": "code",
   "execution_count": 127,
   "metadata": {},
   "outputs": [],
   "source": [
    "from sklearn.preprocessing import StandardScaler\n",
    "from sklearn.model_selection import train_test_split\n",
    "from sklearn.linear_model import LinearRegression, Ridge, Lasso, ElasticNet\n",
    "from sklearn.linear_model import LogisticRegression"
   ]
  },
  {
   "cell_type": "code",
   "execution_count": 128,
   "metadata": {},
   "outputs": [],
   "source": [
    "all_banks_2010Q4_df.dropna(inplace=True)"
   ]
  },
  {
   "cell_type": "code",
   "execution_count": 129,
   "metadata": {},
   "outputs": [
    {
     "data": {
      "text/html": [
       "<div>\n",
       "<style scoped>\n",
       "    .dataframe tbody tr th:only-of-type {\n",
       "        vertical-align: middle;\n",
       "    }\n",
       "\n",
       "    .dataframe tbody tr th {\n",
       "        vertical-align: top;\n",
       "    }\n",
       "\n",
       "    .dataframe thead th {\n",
       "        text-align: right;\n",
       "    }\n",
       "</style>\n",
       "<table border=\"1\" class=\"dataframe\">\n",
       "  <thead>\n",
       "    <tr style=\"text-align: right;\">\n",
       "      <th></th>\n",
       "      <th>RIAD3210</th>\n",
       "      <th>RCON2170</th>\n",
       "      <th>RCON3360</th>\n",
       "      <th>RCONC410</th>\n",
       "      <th>RCONC411</th>\n",
       "      <th>RCON3123</th>\n",
       "      <th>RIAD4093</th>\n",
       "      <th>RIAD4340</th>\n",
       "      <th>RCON2215</th>\n",
       "      <th>RCON2385</th>\n",
       "      <th>RCON3545</th>\n",
       "      <th>AsOfDate</th>\n",
       "    </tr>\n",
       "    <tr>\n",
       "      <th>Target</th>\n",
       "      <th></th>\n",
       "      <th></th>\n",
       "      <th></th>\n",
       "      <th></th>\n",
       "      <th></th>\n",
       "      <th></th>\n",
       "      <th></th>\n",
       "      <th></th>\n",
       "      <th></th>\n",
       "      <th></th>\n",
       "      <th></th>\n",
       "      <th></th>\n",
       "    </tr>\n",
       "  </thead>\n",
       "  <tbody>\n",
       "    <tr>\n",
       "      <th>0</th>\n",
       "      <td>6982</td>\n",
       "      <td>6982</td>\n",
       "      <td>6982</td>\n",
       "      <td>6982</td>\n",
       "      <td>6982</td>\n",
       "      <td>6982</td>\n",
       "      <td>6982</td>\n",
       "      <td>6982</td>\n",
       "      <td>6982</td>\n",
       "      <td>6982</td>\n",
       "      <td>6982</td>\n",
       "      <td>6982</td>\n",
       "    </tr>\n",
       "    <tr>\n",
       "      <th>1</th>\n",
       "      <td>26</td>\n",
       "      <td>26</td>\n",
       "      <td>26</td>\n",
       "      <td>26</td>\n",
       "      <td>26</td>\n",
       "      <td>26</td>\n",
       "      <td>26</td>\n",
       "      <td>26</td>\n",
       "      <td>26</td>\n",
       "      <td>26</td>\n",
       "      <td>26</td>\n",
       "      <td>26</td>\n",
       "    </tr>\n",
       "  </tbody>\n",
       "</table>\n",
       "</div>"
      ],
      "text/plain": [
       "        RIAD3210  RCON2170  RCON3360  RCONC410  RCONC411  RCON3123  RIAD4093  \\\n",
       "Target                                                                         \n",
       "0           6982      6982      6982      6982      6982      6982      6982   \n",
       "1             26        26        26        26        26        26        26   \n",
       "\n",
       "        RIAD4340  RCON2215  RCON2385  RCON3545  AsOfDate  \n",
       "Target                                                    \n",
       "0           6982      6982      6982      6982      6982  \n",
       "1             26        26        26        26        26  "
      ]
     },
     "execution_count": 129,
     "metadata": {},
     "output_type": "execute_result"
    }
   ],
   "source": [
    "all_banks_2010Q4_df.groupby(['Target']).count()"
   ]
  },
  {
   "cell_type": "code",
   "execution_count": 130,
   "metadata": {},
   "outputs": [],
   "source": [
    "y = all_banks_2010Q4_df['Target']\n",
    "X = all_banks_2010Q4_df.drop(['Target', 'AsOfDate'], axis=1)"
   ]
  },
  {
   "cell_type": "code",
   "execution_count": 131,
   "metadata": {},
   "outputs": [],
   "source": [
    "#X.tail()"
   ]
  },
  {
   "cell_type": "code",
   "execution_count": 132,
   "metadata": {},
   "outputs": [],
   "source": [
    "X_train, X_test, y_train, y_test = train_test_split(X, y, test_size=0.2, random_state=1, stratify=y)\n",
    "#list(X.iloc[1, :]\n"
   ]
  },
  {
   "cell_type": "code",
   "execution_count": 133,
   "metadata": {},
   "outputs": [],
   "source": [
    "scaler = StandardScaler()\n",
    "scaler.fit(X_train)\n",
    "X_train_std = scaler.transform(X_train)\n",
    "X_test_std = scaler.transform(X_test)\n",
    "\n",
    "\n",
    "# sc = StandardScaler()\n",
    "# sc.fit(X_train)\n",
    "# X_train_std = sc.transform(X_train)\n",
    "# X_test_std = sc.transform(X_test)"
   ]
  },
  {
   "cell_type": "code",
   "execution_count": 134,
   "metadata": {},
   "outputs": [
    {
     "name": "stderr",
     "output_type": "stream",
     "text": [
      "/anaconda3/lib/python3.7/site-packages/sklearn/linear_model/logistic.py:432: FutureWarning: Default solver will be changed to 'lbfgs' in 0.22. Specify a solver to silence this warning.\n",
      "  FutureWarning)\n"
     ]
    },
    {
     "data": {
      "text/plain": [
       "LogisticRegression(C=1000.0, class_weight=None, dual=False, fit_intercept=True,\n",
       "                   intercept_scaling=1, l1_ratio=None, max_iter=100,\n",
       "                   multi_class='warn', n_jobs=None, penalty='l2',\n",
       "                   random_state=1, solver='warn', tol=0.0001, verbose=0,\n",
       "                   warm_start=False)"
      ]
     },
     "execution_count": 134,
     "metadata": {},
     "output_type": "execute_result"
    }
   ],
   "source": [
    "log_reg = LogisticRegression(C=1000.0, random_state=1)\n",
    "log_reg.fit(X_train_std,y_train)"
   ]
  },
  {
   "cell_type": "code",
   "execution_count": 135,
   "metadata": {},
   "outputs": [
    {
     "data": {
      "text/plain": [
       "0.9960756332500892"
      ]
     },
     "execution_count": 135,
     "metadata": {},
     "output_type": "execute_result"
    }
   ],
   "source": [
    "log_reg.score(X_train_std, y_train)"
   ]
  },
  {
   "cell_type": "code",
   "execution_count": 136,
   "metadata": {},
   "outputs": [
    {
     "data": {
      "text/plain": [
       "0.9957203994293866"
      ]
     },
     "execution_count": 136,
     "metadata": {},
     "output_type": "execute_result"
    }
   ],
   "source": [
    "log_reg.score(X_test_std, y_test)"
   ]
  },
  {
   "cell_type": "code",
   "execution_count": 137,
   "metadata": {},
   "outputs": [
    {
     "data": {
      "text/plain": [
       "1101"
      ]
     },
     "execution_count": 137,
     "metadata": {},
     "output_type": "execute_result"
    }
   ],
   "source": [
    "predic = list(log_reg.predict(X_test))\n",
    "predic.index(1)"
   ]
  },
  {
   "cell_type": "code",
   "execution_count": 138,
   "metadata": {},
   "outputs": [
    {
     "data": {
      "text/plain": [
       "array([[   4.160405  ,    0.67459646,   -6.35699842,    1.13093183,\n",
       "          26.43318982,   -2.25403683,   -0.60512442,    1.51141466,\n",
       "        -122.30778825,    2.98107016,   -0.25897582]])"
      ]
     },
     "execution_count": 138,
     "metadata": {},
     "output_type": "execute_result"
    }
   ],
   "source": [
    "log_reg.coef_"
   ]
  },
  {
   "cell_type": "code",
   "execution_count": 164,
   "metadata": {},
   "outputs": [
    {
     "data": {
      "text/plain": [
       "array([[1., 0.]])"
      ]
     },
     "execution_count": 164,
     "metadata": {},
     "output_type": "execute_result"
    }
   ],
   "source": [
    "# tetsing on a healthy bank from the sample\n",
    "log_reg.predict_proba([[54633,\n",
    " 14683,\n",
    " 32036,\n",
    " 20.0,\n",
    " 21577,\n",
    " 0,\n",
    " 0,\n",
    " 0.0,\n",
    " 7822.0,\n",
    " 635.0,\n",
    " 1134.0]])"
   ]
  },
  {
   "cell_type": "code",
   "execution_count": 165,
   "metadata": {},
   "outputs": [
    {
     "data": {
      "text/plain": [
       "array([[0., 1.]])"
      ]
     },
     "execution_count": 165,
     "metadata": {},
     "output_type": "execute_result"
    }
   ],
   "source": [
    "# testing on a failed bank from sample\n",
    "log_reg.predict_proba([[126622,\n",
    " 18550,\n",
    " 104330,\n",
    " 1334.0,\n",
    " 98809,\n",
    " 0,\n",
    " 15499,\n",
    " 0.0,\n",
    " 2683.0,\n",
    " 3411.0,\n",
    " -7095.0,]])"
   ]
  },
  {
   "cell_type": "code",
   "execution_count": 183,
   "metadata": {},
   "outputs": [
    {
     "name": "stderr",
     "output_type": "stream",
     "text": [
      "/anaconda3/lib/python3.7/site-packages/sklearn/linear_model/logistic.py:947: ConvergenceWarning: lbfgs failed to converge. Increase the number of iterations.\n",
      "  \"of iterations.\", ConvergenceWarning)\n",
      "/anaconda3/lib/python3.7/site-packages/sklearn/linear_model/logistic.py:947: ConvergenceWarning: lbfgs failed to converge. Increase the number of iterations.\n",
      "  \"of iterations.\", ConvergenceWarning)\n",
      "/anaconda3/lib/python3.7/site-packages/sklearn/linear_model/logistic.py:947: ConvergenceWarning: lbfgs failed to converge. Increase the number of iterations.\n",
      "  \"of iterations.\", ConvergenceWarning)\n"
     ]
    },
    {
     "data": {
      "image/png": "[encoded data removed]",
      "text/plain": [
       "<Figure size 432x288 with 1 Axes>"
      ]
     },
     "metadata": {
      "needs_background": "light"
     },
     "output_type": "display_data"
    }
   ],
   "source": [
    "weights, params = [], []\n",
    "for c in np.arange(0.01, 10): \n",
    "    lr = LogisticRegression(C=2**c, random_state=0, solver='lbfgs')\n",
    "    lr.fit(X_train_std, y_train)\n",
    "    weights.append(lr.coef_[0])\n",
    "    params.append(10**c)\n",
    "\n",
    "weights = np.array(weights)\n",
    "\n",
    "# Decision region drawing\n",
    "import matplotlib.pyplot as plt\n",
    "\n",
    "plt.plot(params, weights[:, 0], color='blue', marker='x', label='first')\n",
    "plt.plot(params, weights[:, 1], color='green',  marker='o', label='second')\n",
    "plt.plot(params, weights[:, 2], color='r',  marker='>', label='third')\n",
    "plt.ylabel('weight coefficient')\n",
    "plt.xlabel('C')\n",
    "plt.legend(loc='right')\n",
    "plt.xscale('log')\n",
    "plt.show()"
   ]
  },
  {
   "cell_type": "code",
   "execution_count": null,
   "metadata": {},
   "outputs": [],
   "source": []
  },
  {
   "cell_type": "code",
   "execution_count": null,
   "metadata": {},
   "outputs": [],
   "source": []
  },
  {
   "cell_type": "code",
   "execution_count": null,
   "metadata": {},
   "outputs": [],
   "source": []
  },
  {
   "cell_type": "code",
   "execution_count": null,
   "metadata": {},
   "outputs": [],
   "source": []
  },
  {
   "cell_type": "code",
   "execution_count": null,
   "metadata": {},
   "outputs": [],
   "source": []
  },
  {
   "cell_type": "code",
   "execution_count": null,
   "metadata": {},
   "outputs": [],
   "source": []
  },
  {
   "cell_type": "code",
   "execution_count": 141,
   "metadata": {},
   "outputs": [
    {
     "data": {
      "text/plain": [
       "LogisticRegression(C=10, class_weight=None, dual=False, fit_intercept=True,\n",
       "                   intercept_scaling=1, l1_ratio=None, max_iter=100,\n",
       "                   multi_class='multinomial', n_jobs=None, penalty='l2',\n",
       "                   random_state=None, solver='lbfgs', tol=0.0001, verbose=0,\n",
       "                   warm_start=False)"
      ]
     },
     "execution_count": 141,
     "metadata": {},
     "output_type": "execute_result"
    }
   ],
   "source": [
    "softmax_reg = LogisticRegression(multi_class='multinomial', solver='lbfgs', C=10)\n",
    "softmax_reg.fit(X_train_std, y_train)"
   ]
  },
  {
   "cell_type": "code",
   "execution_count": 142,
   "metadata": {},
   "outputs": [
    {
     "data": {
      "text/plain": [
       "0.9957203994293866"
      ]
     },
     "execution_count": 142,
     "metadata": {},
     "output_type": "execute_result"
    }
   ],
   "source": [
    "softmax_reg.score(X_test_std, y_test)"
   ]
  },
  {
   "cell_type": "code",
   "execution_count": 143,
   "metadata": {},
   "outputs": [
    {
     "data": {
      "text/plain": [
       "array([[-1.32916632, -1.67116816, -0.68557074, -0.25403833, -0.19955891,\n",
       "        -0.14567773,  0.26596365, -0.12875243, -5.17203616, -0.16548136,\n",
       "        -1.32227245]])"
      ]
     },
     "execution_count": 143,
     "metadata": {},
     "output_type": "execute_result"
    }
   ],
   "source": [
    "softmax_reg.coef_"
   ]
  },
  {
   "cell_type": "code",
   "execution_count": 144,
   "metadata": {},
   "outputs": [],
   "source": [
    "from sklearn.pipeline import Pipeline\n",
    "from sklearn.preprocessing import StandardScaler\n",
    "from sklearn.svm import LinearSVC"
   ]
  },
  {
   "cell_type": "code",
   "execution_count": 147,
   "metadata": {},
   "outputs": [
    {
     "name": "stderr",
     "output_type": "stream",
     "text": [
      "/anaconda3/lib/python3.7/site-packages/sklearn/svm/base.py:929: ConvergenceWarning: Liblinear failed to converge, increase the number of iterations.\n",
      "  \"the number of iterations.\", ConvergenceWarning)\n"
     ]
    },
    {
     "data": {
      "text/plain": [
       "0.9964336661911555"
      ]
     },
     "execution_count": 147,
     "metadata": {},
     "output_type": "execute_result"
    }
   ],
   "source": [
    "svm_clf = LinearSVC(C=1, loss='hinge')\n",
    "svm_clf.fit(X_train_std, y_train)\n",
    "svm_clf.score(X_test_std, y_test)"
   ]
  },
  {
   "cell_type": "code",
   "execution_count": 145,
   "metadata": {},
   "outputs": [
    {
     "name": "stderr",
     "output_type": "stream",
     "text": [
      "/anaconda3/lib/python3.7/site-packages/sklearn/svm/base.py:929: ConvergenceWarning: Liblinear failed to converge, increase the number of iterations.\n",
      "  \"the number of iterations.\", ConvergenceWarning)\n"
     ]
    },
    {
     "data": {
      "text/plain": [
       "Pipeline(memory=None,\n",
       "         steps=[('scaler',\n",
       "                 StandardScaler(copy=True, with_mean=True, with_std=True)),\n",
       "                ('linear_svc',\n",
       "                 LinearSVC(C=1, class_weight=None, dual=True,\n",
       "                           fit_intercept=True, intercept_scaling=1,\n",
       "                           loss='hinge', max_iter=1000, multi_class='ovr',\n",
       "                           penalty='l2', random_state=None, tol=0.0001,\n",
       "                           verbose=0))],\n",
       "         verbose=False)"
      ]
     },
     "execution_count": 145,
     "metadata": {},
     "output_type": "execute_result"
    }
   ],
   "source": [
    "svm_clf = Pipeline([\n",
    "    ('scaler', StandardScaler()),\n",
    "    ('linear_svc', LinearSVC(C=1, loss='hinge')),\n",
    "])\n",
    "\n",
    "svm_clf.fit(X_train, y_train)"
   ]
  },
  {
   "cell_type": "code",
   "execution_count": 146,
   "metadata": {},
   "outputs": [
    {
     "data": {
      "text/plain": [
       "0.9964336661911555"
      ]
     },
     "execution_count": 146,
     "metadata": {},
     "output_type": "execute_result"
    }
   ],
   "source": [
    "svm_clf.score(X_test, y_test)"
   ]
  },
  {
   "cell_type": "code",
   "execution_count": 539,
   "metadata": {},
   "outputs": [],
   "source": [
    "lm_reg = LinearRegression()\n",
    "lm_lasso = Lasso()\n",
    "lm_ridge = Ridge()\n",
    "lm_elastic = ElasticNet()"
   ]
  },
  {
   "cell_type": "raw",
   "metadata": {},
   "source": [
    "lm_reg"
   ]
  },
  {
   "cell_type": "code",
   "execution_count": 540,
   "metadata": {},
   "outputs": [
    {
     "data": {
      "text/plain": [
       "Lasso(alpha=1.0, copy_X=True, fit_intercept=True, max_iter=1000,\n",
       "      normalize=False, positive=False, precompute=False, random_state=None,\n",
       "      selection='cyclic', tol=0.0001, warm_start=False)"
      ]
     },
     "execution_count": 540,
     "metadata": {},
     "output_type": "execute_result"
    }
   ],
   "source": [
    "lm_lasso"
   ]
  },
  {
   "cell_type": "code",
   "execution_count": 541,
   "metadata": {},
   "outputs": [
    {
     "data": {
      "text/plain": [
       "Ridge(alpha=1.0, copy_X=True, fit_intercept=True, max_iter=None,\n",
       "      normalize=False, random_state=None, solver='auto', tol=0.001)"
      ]
     },
     "execution_count": 541,
     "metadata": {},
     "output_type": "execute_result"
    }
   ],
   "source": [
    "lm_ridge"
   ]
  },
  {
   "cell_type": "code",
   "execution_count": 542,
   "metadata": {},
   "outputs": [
    {
     "data": {
      "text/plain": [
       "ElasticNet(alpha=1.0, copy_X=True, fit_intercept=True, l1_ratio=0.5,\n",
       "           max_iter=1000, normalize=False, positive=False, precompute=False,\n",
       "           random_state=None, selection='cyclic', tol=0.0001, warm_start=False)"
      ]
     },
     "execution_count": 542,
     "metadata": {},
     "output_type": "execute_result"
    }
   ],
   "source": [
    "lm_elastic"
   ]
  },
  {
   "cell_type": "code",
   "execution_count": 556,
   "metadata": {},
   "outputs": [],
   "source": [
    "X_train, X_test, y_train, y_test = train_test_split(X, y, test_size=0.2, random_state=1, stratify=y)"
   ]
  },
  {
   "cell_type": "code",
   "execution_count": 557,
   "metadata": {},
   "outputs": [
    {
     "data": {
      "text/plain": [
       "ElasticNet(alpha=1.0, copy_X=True, fit_intercept=True, l1_ratio=0.5,\n",
       "           max_iter=1000, normalize=False, positive=False, precompute=False,\n",
       "           random_state=None, selection='cyclic', tol=0.0001, warm_start=False)"
      ]
     },
     "execution_count": 557,
     "metadata": {},
     "output_type": "execute_result"
    }
   ],
   "source": [
    "lm_reg.fit(X_train, y_train)\n",
    "lm_ridge.fit(X_train, y_train)\n",
    "lm_lasso.fit(X_train, y_train)\n",
    "lm_elastic.fit(X_train, y_train)"
   ]
  },
  {
   "cell_type": "code",
   "execution_count": 558,
   "metadata": {},
   "outputs": [
    {
     "data": {
      "image/png": "[encoded data removed]",
      "text/plain": [
       "<Figure size 1080x720 with 1 Axes>"
      ]
     },
     "metadata": {
      "needs_background": "light"
     },
     "output_type": "display_data"
    }
   ],
   "source": [
    "plt.figure(figsize=(15,10))\n",
    "ft_importances_lm_reg = pd.Series(lm_reg.coef_, index = X.columns)\n",
    "ft_importances_lm_reg.plot(kind='barh')\n",
    "plt.show()"
   ]
  },
  {
   "cell_type": "code",
   "execution_count": 559,
   "metadata": {},
   "outputs": [
    {
     "data": {
      "image/png": "[encoded data removed]",
      "text/plain": [
       "<Figure size 1080x720 with 1 Axes>"
      ]
     },
     "metadata": {
      "needs_background": "light"
     },
     "output_type": "display_data"
    }
   ],
   "source": [
    "plt.figure(figsize=(15,10))\n",
    "ft_importances_lm_ridge = pd.Series(lm_ridge.coef_, index = X.columns)\n",
    "ft_importances_lm_ridge.plot(kind='barh')\n",
    "plt.show()"
   ]
  },
  {
   "cell_type": "code",
   "execution_count": 560,
   "metadata": {},
   "outputs": [
    {
     "data": {
      "image/png": "[encoded data removed]",
      "text/plain": [
       "<Figure size 1080x720 with 1 Axes>"
      ]
     },
     "metadata": {
      "needs_background": "light"
     },
     "output_type": "display_data"
    }
   ],
   "source": [
    "plt.figure(figsize=(15,10))\n",
    "ft_importances_lm_lasso = pd.Series(lm_lasso.coef_, index = X.columns)\n",
    "ft_importances_lm_lasso.plot(kind='barh')\n",
    "plt.show()"
   ]
  },
  {
   "cell_type": "code",
   "execution_count": 561,
   "metadata": {},
   "outputs": [
    {
     "data": {
      "image/png": "[encoded data removed]",
      "text/plain": [
       "<Figure size 1080x720 with 1 Axes>"
      ]
     },
     "metadata": {
      "needs_background": "light"
     },
     "output_type": "display_data"
    }
   ],
   "source": [
    "plt.figure(figsize=(15,10))\n",
    "ft_importances_lm_elastic = pd.Series(lm_elastic.coef_, index = X.columns)\n",
    "ft_importances_lm_elastic.plot(kind='barh')\n",
    "plt.show()"
   ]
  },
  {
   "cell_type": "code",
   "execution_count": 537,
   "metadata": {},
   "outputs": [
    {
     "name": "stdout",
     "output_type": "stream",
     "text": [
      "Simple regression MSE\n"
     ]
    },
    {
     "data": {
      "text/plain": [
       "-3.07"
      ]
     },
     "execution_count": 537,
     "metadata": {},
     "output_type": "execute_result"
    }
   ],
   "source": [
    "print('Simple regression MSE')\n",
    "np.round(lm_reg.score(X_test, y_test)*100, 2)\n",
    "# course: https://medium.com/@jayeshbahire/lasso-ridge-and-elastic-net-regularization-4807897cb722"
   ]
  },
  {
   "cell_type": "code",
   "execution_count": null,
   "metadata": {},
   "outputs": [],
   "source": []
  },
  {
   "cell_type": "code",
   "execution_count": 11,
   "metadata": {},
   "outputs": [],
   "source": [
    "#EQTA = RIAD3210 / RCON2170 # 1) Total Equity / Total Assets (EQTA) = 0.08 for ID=367851\n",
    "\n",
    "#RCON3360 = report_df.loc[report_df.ValueID == 'RCON3360'] #Total loans of 16517  for ID=367851\n",
    "#EQTL = RCONG105 / RCON3360 # Total Equity / Total Loans (EQTL)\n",
    "\n",
    "#NPLTA = Non Performing Loans / Total Assets (NPLTA)\n",
    "#RCONC410  #Additions to nonaccrual assets during the previous six months\n",
    "#RCONC411 # Nonaccrual assets sold during the previous six months\n",
    "\n",
    "#LLRTA = Loan Loss Reserves / Total Assest\n",
    "# RCON3123     # Allowance for loan and lease losses\n",
    "\n",
    "#LLRGL = Loan Loss Reserves / Gross Loans (LLRGL)\n",
    "\n",
    "\n",
    "# (M)anagement quality\n",
    "#       7) Operating Expenses / Assets (OEXTA)\n",
    "# RIAD4093 # Total noninterest expense (sum of items 7.a through 7.d).\n",
    "\n",
    "\n",
    "\n",
    "\n",
    "#       - Operating Costs / Net Operating Income (OCNOI)\n",
    "#\n",
    "#\n",
    "# (E)arnings ability\n",
    "#       8) Net Income / Total Assest (ROA)\n",
    "# RIAD4340    # Net Income (Net income (loss) attributable to bank (item 12 minus item 13).)\n",
    "#       9) Net Income / Total Equity (ROE)\n",
    "# \n",
    "#\n",
    "#\n",
    "#(L)iquidity, i.e. ability to fulfill its short-term liability\n",
    "#       10) Total Loans / Total Customer Deposits (TLTD)\n",
    "#  RCON2215  # Total transaction accounts deposits \n",
    "#  RCON2385  # Total non-transaction accounts \n",
    "#\n",
    "#\n",
    "#       11) Total Customer Deposits / Total Assest (TDTA)\n",
    "#\n",
    "#\n",
    "#\n",
    "# (S)ensitivity to market risk \n",
    "#  RCON3545 # Trading Assets /Total assest\n",
    "#\n",
    "#\n",
    "#  Schedule RC-B: Securities \n",
    "#  RCON1754 # (Column A) Held-to-maturity Amortized Cost\n",
    "#  RCON1771 # (Column B) Held-to-maturity Fair Value\n",
    "#  RCON1772 # (Column C) Available-for-sale Amortized Cost\n",
    "#  RCON1773 # (Column D) Available-for-sale Fair Value\n"
   ]
  },
  {
   "cell_type": "code",
   "execution_count": null,
   "metadata": {},
   "outputs": [],
   "source": []
  }
 ],
 "metadata": {
  "kernelspec": {
   "display_name": "Python 3",
   "language": "python",
   "name": "python3"
  },
  "language_info": {
   "codemirror_mode": {
    "name": "ipython",
    "version": 3
   },
   "file_extension": ".py",
   "mimetype": "text/x-python",
   "name": "python",
   "nbconvert_exporter": "python",
   "pygments_lexer": "ipython3",
   "version": "3.7.3"
  }
 },
 "nbformat": 4,
 "nbformat_minor": 2
}

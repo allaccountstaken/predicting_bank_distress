{
 "cells": [
  {
   "cell_type": "code",
   "execution_count": 2,
   "metadata": {},
   "outputs": [],
   "source": [
    "import pandas as pd\n",
    "import numpy as np\n",
    "import matplotlib.pyplot as plt\n",
    "%matplotlib inline\n",
    "from ffipy import FFIEC_Client\n",
    "from io import StringIO\n"
   ]
  },
  {
   "cell_type": "code",
   "execution_count": 7,
   "metadata": {},
   "outputs": [
    {
     "data": {
      "text/plain": [
       "6999"
      ]
     },
     "execution_count": 7,
     "metadata": {},
     "output_type": "execute_result"
    }
   ],
   "source": [
    "client = FFIEC_Client()\n",
    "# get a list of RSSD codes for filers on 3/31/2019\n",
    "filers_RSSD_12312010 = client.retrieve_filers_since_date(ds_name='Call',\n",
    "                                   reporting_pd_end='12/31/2010',\n",
    "                                   last_update_date='12/31/2010')\n",
    "# check how many filers - 5908\n",
    "len(filers_RSSD_12312010)"
   ]
  },
  {
   "cell_type": "code",
   "execution_count": 17,
   "metadata": {},
   "outputs": [
    {
     "data": {
      "text/html": [
       "<div>\n",
       "<style scoped>\n",
       "    .dataframe tbody tr th:only-of-type {\n",
       "        vertical-align: middle;\n",
       "    }\n",
       "\n",
       "    .dataframe tbody tr th {\n",
       "        vertical-align: top;\n",
       "    }\n",
       "\n",
       "    .dataframe thead th {\n",
       "        text-align: right;\n",
       "    }\n",
       "</style>\n",
       "<table border=\"1\" class=\"dataframe\">\n",
       "  <thead>\n",
       "    <tr style=\"text-align: right;\">\n",
       "      <th></th>\n",
       "      <th>Bank Name</th>\n",
       "      <th>City</th>\n",
       "      <th>ST</th>\n",
       "      <th>CERT</th>\n",
       "      <th>Acquiring Institution</th>\n",
       "      <th>Closing Date</th>\n",
       "      <th>Updated Date</th>\n",
       "      <th>Date</th>\n",
       "      <th>Year_failed</th>\n",
       "      <th>Quarter_failed</th>\n",
       "    </tr>\n",
       "  </thead>\n",
       "  <tbody>\n",
       "    <tr>\n",
       "      <th>207</th>\n",
       "      <td>Community National Bank</td>\n",
       "      <td>Lino Lakes</td>\n",
       "      <td>MN</td>\n",
       "      <td>23306</td>\n",
       "      <td>Farmers &amp; Merchants Savings Bank</td>\n",
       "      <td>17-Dec-10</td>\n",
       "      <td>10-Nov-16</td>\n",
       "      <td>2010-12-17</td>\n",
       "      <td>2010</td>\n",
       "      <td>4</td>\n",
       "    </tr>\n",
       "    <tr>\n",
       "      <th>208</th>\n",
       "      <td>First Southern Bank</td>\n",
       "      <td>Batesville</td>\n",
       "      <td>AR</td>\n",
       "      <td>58052</td>\n",
       "      <td>Southern Bank</td>\n",
       "      <td>17-Dec-10</td>\n",
       "      <td>29-Jan-19</td>\n",
       "      <td>2010-12-17</td>\n",
       "      <td>2010</td>\n",
       "      <td>4</td>\n",
       "    </tr>\n",
       "    <tr>\n",
       "      <th>209</th>\n",
       "      <td>United Americas Bank, N.A.</td>\n",
       "      <td>Atlanta</td>\n",
       "      <td>GA</td>\n",
       "      <td>35065</td>\n",
       "      <td>State Bank and Trust Company</td>\n",
       "      <td>17-Dec-10</td>\n",
       "      <td>17-Oct-15</td>\n",
       "      <td>2010-12-17</td>\n",
       "      <td>2010</td>\n",
       "      <td>4</td>\n",
       "    </tr>\n",
       "    <tr>\n",
       "      <th>210</th>\n",
       "      <td>Appalachian Community Bank, FSB</td>\n",
       "      <td>McCaysville</td>\n",
       "      <td>GA</td>\n",
       "      <td>58495</td>\n",
       "      <td>Peoples Bank of East Tennessee</td>\n",
       "      <td>17-Dec-10</td>\n",
       "      <td>29-Jan-19</td>\n",
       "      <td>2010-12-17</td>\n",
       "      <td>2010</td>\n",
       "      <td>4</td>\n",
       "    </tr>\n",
       "    <tr>\n",
       "      <th>211</th>\n",
       "      <td>Chestatee State Bank</td>\n",
       "      <td>Dawsonville</td>\n",
       "      <td>GA</td>\n",
       "      <td>34578</td>\n",
       "      <td>Bank of the Ozarks</td>\n",
       "      <td>17-Dec-10</td>\n",
       "      <td>21-Sep-15</td>\n",
       "      <td>2010-12-17</td>\n",
       "      <td>2010</td>\n",
       "      <td>4</td>\n",
       "    </tr>\n",
       "  </tbody>\n",
       "</table>\n",
       "</div>"
      ],
      "text/plain": [
       "                           Bank Name         City  ST   CERT  \\\n",
       "207          Community National Bank   Lino Lakes  MN  23306   \n",
       "208              First Southern Bank   Batesville  AR  58052   \n",
       "209       United Americas Bank, N.A.      Atlanta  GA  35065   \n",
       "210  Appalachian Community Bank, FSB  McCaysville  GA  58495   \n",
       "211             Chestatee State Bank  Dawsonville  GA  34578   \n",
       "\n",
       "                Acquiring Institution Closing Date Updated Date       Date  \\\n",
       "207  Farmers & Merchants Savings Bank    17-Dec-10    10-Nov-16 2010-12-17   \n",
       "208                     Southern Bank    17-Dec-10    29-Jan-19 2010-12-17   \n",
       "209      State Bank and Trust Company    17-Dec-10    17-Oct-15 2010-12-17   \n",
       "210    Peoples Bank of East Tennessee    17-Dec-10    29-Jan-19 2010-12-17   \n",
       "211                Bank of the Ozarks    17-Dec-10    21-Sep-15 2010-12-17   \n",
       "\n",
       "     Year_failed  Quarter_failed  \n",
       "207         2010               4  \n",
       "208         2010               4  \n",
       "209         2010               4  \n",
       "210         2010               4  \n",
       "211         2010               4  "
      ]
     },
     "execution_count": 17,
     "metadata": {},
     "output_type": "execute_result"
    }
   ],
   "source": [
    "failed_banks_df = pd.read_csv('data/failed_banks_dataset.csv')\n",
    "failed_banks_df['Date'] = pd.to_datetime(failed_banks_df['Closing Date'])\n",
    "failed_banks_df['Year_failed'] = failed_banks_df['Date'].dt.year\n",
    "failed_banks_df['Quarter_failed'] = failed_banks_df['Date'].dt.quarter\n",
    "failed_banks_2010Q4 = failed_banks_df.loc[(failed_banks_df.Year_failed == 2010) & (failed_banks_df.Quarter_failed == 4)]\n",
    "failed_banks_2010Q4.head()\n",
    "#failed_banks_2010Q4['CERT'].count()"
   ]
  },
  {
   "cell_type": "code",
   "execution_count": 44,
   "metadata": {},
   "outputs": [
    {
     "data": {
      "text/plain": [
       "<_io.StringIO at 0x1240efe58>"
      ]
     },
     "execution_count": 44,
     "metadata": {},
     "output_type": "execute_result"
    }
   ],
   "source": [
    "# Testing Call report for 1 filer\n",
    "ds_name = 'Call'    # Pull Call report data\n",
    "end_date = '9/30/2010'  # Pull data in reporting pd ending 3/31/17\n",
    "fiID_type = 'FDICCertNumber'  # Type of financial inst identifier (ID_RSSD or FDICCertNumber)\n",
    "fiID = 23306    # Indentifier for Wyomin Bank and Trust\n",
    "fmt = 'SDF'  # Pull report as PDF\n",
    "# <facsimileFormat>PDF or XBRL or SDF</facsimileFormat>\n",
    "outfile = None  # Output file path\n",
    "return_result = True  # If True, method returns the data\n",
    "results_bytes2 = client.retrieve_facsimile(ds_name=ds_name, reporting_pd_end=end_date,\n",
    "                              fiID_type=fiID_type, fiID=fiID,\n",
    "                              facsimile_fmt=fmt, outfile=None,\n",
    "                              return_result=True)\n",
    "report = StringIO(str(results_bytes2, 'utf-8'))\n",
    "report_df = pd.read_csv(report, sep=';')\n",
    "\n"
   ]
  },
  {
   "cell_type": "code",
   "execution_count": 45,
   "metadata": {},
   "outputs": [
    {
     "data": {
      "text/html": [
       "<div>\n",
       "<style scoped>\n",
       "    .dataframe tbody tr th:only-of-type {\n",
       "        vertical-align: middle;\n",
       "    }\n",
       "\n",
       "    .dataframe tbody tr th {\n",
       "        vertical-align: top;\n",
       "    }\n",
       "\n",
       "    .dataframe thead th {\n",
       "        text-align: right;\n",
       "    }\n",
       "</style>\n",
       "<table border=\"1\" class=\"dataframe\">\n",
       "  <thead>\n",
       "    <tr style=\"text-align: right;\">\n",
       "      <th></th>\n",
       "      <th>Call Date</th>\n",
       "      <th>Bank RSSD Identifier</th>\n",
       "      <th>ValueID</th>\n",
       "      <th>Value</th>\n",
       "      <th>Last Update</th>\n",
       "      <th>Short Definition</th>\n",
       "      <th>Call Schedule</th>\n",
       "      <th>Line Number</th>\n",
       "    </tr>\n",
       "  </thead>\n",
       "  <tbody>\n",
       "    <tr>\n",
       "      <th>0</th>\n",
       "      <td>20100930</td>\n",
       "      <td>367851</td>\n",
       "      <td>RCON0010</td>\n",
       "      <td>6646</td>\n",
       "      <td>20101019</td>\n",
       "      <td>Cash and balances dues from depository institu...</td>\n",
       "      <td>RCR</td>\n",
       "      <td>34</td>\n",
       "    </tr>\n",
       "    <tr>\n",
       "      <th>1</th>\n",
       "      <td>20100930</td>\n",
       "      <td>367851</td>\n",
       "      <td>RCON0020</td>\n",
       "      <td>NaN</td>\n",
       "      <td>20101019</td>\n",
       "      <td>Cash items in process of collection and unpost...</td>\n",
       "      <td>RCA</td>\n",
       "      <td>1a</td>\n",
       "    </tr>\n",
       "    <tr>\n",
       "      <th>2</th>\n",
       "      <td>20100930</td>\n",
       "      <td>367851</td>\n",
       "      <td>RCON0071</td>\n",
       "      <td>6074</td>\n",
       "      <td>20101019</td>\n",
       "      <td>Interest-bearing balances</td>\n",
       "      <td>RC</td>\n",
       "      <td>1b</td>\n",
       "    </tr>\n",
       "    <tr>\n",
       "      <th>3</th>\n",
       "      <td>20100930</td>\n",
       "      <td>367851</td>\n",
       "      <td>RCON0073</td>\n",
       "      <td>NaN</td>\n",
       "      <td>20101019</td>\n",
       "      <td>Foreign branches of other U.S. banks</td>\n",
       "      <td>RCA</td>\n",
       "      <td>3a</td>\n",
       "    </tr>\n",
       "    <tr>\n",
       "      <th>4</th>\n",
       "      <td>20100930</td>\n",
       "      <td>367851</td>\n",
       "      <td>RCON0074</td>\n",
       "      <td>NaN</td>\n",
       "      <td>20101019</td>\n",
       "      <td>Other banks in foreign countries and foreign c...</td>\n",
       "      <td>RCA</td>\n",
       "      <td>3b</td>\n",
       "    </tr>\n",
       "  </tbody>\n",
       "</table>\n",
       "</div>"
      ],
      "text/plain": [
       "   Call Date  Bank RSSD Identifier   ValueID Value  Last Update  \\\n",
       "0   20100930                367851  RCON0010  6646     20101019   \n",
       "1   20100930                367851  RCON0020   NaN     20101019   \n",
       "2   20100930                367851  RCON0071  6074     20101019   \n",
       "3   20100930                367851  RCON0073   NaN     20101019   \n",
       "4   20100930                367851  RCON0074   NaN     20101019   \n",
       "\n",
       "                                    Short Definition Call Schedule Line Number  \n",
       "0  Cash and balances dues from depository institu...           RCR          34  \n",
       "1  Cash items in process of collection and unpost...           RCA          1a  \n",
       "2                          Interest-bearing balances            RC          1b  \n",
       "3               Foreign branches of other U.S. banks           RCA          3a  \n",
       "4  Other banks in foreign countries and foreign c...           RCA          3b  "
      ]
     },
     "execution_count": 45,
     "metadata": {},
     "output_type": "execute_result"
    }
   ],
   "source": [
    "report_df.columns = ['Call Date', 'Bank RSSD Identifier', 'ValueID', 'Value', 'Last Update',\n",
    "       'Short Definition', 'Call Schedule', 'Line Number']\n",
    "\n",
    "report_df.head()"
   ]
  },
  {
   "cell_type": "code",
   "execution_count": 48,
   "metadata": {},
   "outputs": [
    {
     "data": {
      "text/plain": [
       "pandas.core.series.Series"
      ]
     },
     "execution_count": 48,
     "metadata": {},
     "output_type": "execute_result"
    }
   ],
   "source": [
    "RIAD3210 = report_df.loc[report_df.ValueID == 'RIAD3210']['Value'] # Total equity is 2653 for ID=367851\n",
    "\n",
    "type(RIAD3210)"
   ]
  },
  {
   "cell_type": "code",
   "execution_count": 35,
   "metadata": {},
   "outputs": [],
   "source": [
    "RCONG105 = report_df.loc[report_df.ValueID == 'RCONG105'] # Total equity is 2653 for ID=367851, SAME AS ABOVE!!!"
   ]
  },
  {
   "cell_type": "code",
   "execution_count": 40,
   "metadata": {},
   "outputs": [],
   "source": [
    "RCON2170 = report_df.loc[report_df.ValueID == 'RCON2170']['Value'] # Total assets is  31569 for ID=367851"
   ]
  },
  {
   "cell_type": "code",
   "execution_count": 41,
   "metadata": {},
   "outputs": [],
   "source": [
    "EQTA = RIAD3210 / RCON2170 # 1) Total Equity / Total Assets (EQTA) = 0.08 for ID=367851"
   ]
  },
  {
   "cell_type": "code",
   "execution_count": 42,
   "metadata": {},
   "outputs": [
    {
     "data": {
      "text/plain": [
       "83      NaN\n",
       "1362    NaN\n",
       "Name: Value, dtype: object"
      ]
     },
     "execution_count": 42,
     "metadata": {},
     "output_type": "execute_result"
    }
   ],
   "source": [
    "EQTA"
   ]
  },
  {
   "cell_type": "code",
   "execution_count": 52,
   "metadata": {},
   "outputs": [],
   "source": [
    "#RCON3360 = report_df.loc[report_df.ValueID == 'RCON3360'] #Total loans of 16517  for ID=367851\n",
    "#EQTL = RCONG105 / RCON3360 # Total Equity / Total Loans (EQTL)"
   ]
  },
  {
   "cell_type": "code",
   "execution_count": null,
   "metadata": {},
   "outputs": [],
   "source": [
    "#NPLTA = Non Performing Loans / Total Assets (NPLTA)\n",
    "#RCONC410  #Additions to nonaccrual assets during the previous six months\n",
    "#RCONC411 # Nonaccrual assets sold during the previous six months\n",
    "\n",
    "#LLRTA = Loan Loss Reserves / Total Assest\n",
    "# RCON3123     # Allowance for loan and lease losses7\n",
    "\n",
    "#LLRGL = Loan Loss Reserves / Gross Loans (LLRGL)\n",
    "\n",
    "\n",
    "\n",
    "\n",
    "# TO be cont:  \n",
    "\n",
    "\n",
    "\n",
    "# (M)anagement quality\n",
    "#       7) Operating Costs / Net Operating Income (OCNOI)\n",
    "\n",
    "# RIAD4093 # Total noninterest expense (sum of items 7.a through 7.d).\n",
    "\n",
    "\n",
    "\n",
    "\n",
    "#       - Operating Expenses / Assets (OEXTA)\n",
    "# (E)arnings ability\n",
    "#       8) Net Income / Total Assest (ROA)\n",
    "#       9) Net Income / Total Equity (ROE)\n",
    "#      - consider Net Interest Margin\n",
    "# (L)iquidity, i.e. ability to fulfill its short-term liability\n",
    "#       10) Total Loans / Total Customer Deposits (TLTD)\n",
    "#       11) Total Customer Deposits / Total Assest (TDTA)\n",
    "#        - consider liquid assets to total assets ratio\n",
    "#        - liquid assets to deposits ratio\n",
    "# (S)ensitivity to market risk \n",
    "#  RIAD3196 #  Realized gains (losses) on available-for-sale securities\n",
    "#  RIAD4300 # Income (loss) before discontinued operations (item 8.c minus item 9)."
   ]
  }
 ],
 "metadata": {
  "kernelspec": {
   "display_name": "Python 3",
   "language": "python",
   "name": "python3"
  },
  "language_info": {
   "codemirror_mode": {
    "name": "ipython",
    "version": 3
   },
   "file_extension": ".py",
   "mimetype": "text/x-python",
   "name": "python",
   "nbconvert_exporter": "python",
   "pygments_lexer": "ipython3",
   "version": "3.7.3"
  }
 },
 "nbformat": 4,
 "nbformat_minor": 2
}

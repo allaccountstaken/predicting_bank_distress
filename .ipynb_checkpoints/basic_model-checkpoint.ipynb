{
 "cells": [
  {
   "cell_type": "code",
   "execution_count": 148,
   "metadata": {},
   "outputs": [],
   "source": [
    "import pandas as pd\n",
    "import numpy as np\n",
    "import datetime as dt\n",
    "from pylab import mpl, plt\n",
    "import matplotlib.pyplot as plt\n",
    "\n",
    "mpl.rcParams['font.family'] = 'arial'\n",
    "np.random.seed(123)\n",
    "np.set_printoptions(suppress=True, precision=4)\n",
    "%matplotlib inline\n",
    "\n",
    "\n",
    "import seaborn as sns\n",
    "#sns.set_style(\"whitegrid\")\n",
    "plt.style.use('ggplot')\n",
    "\n",
    "import custom_functions as cf\n",
    "from xgboost import XGBClassifier\n",
    "\n",
    "from yellowbrick.classifier import ROCAUC\n",
    "from yellowbrick.classifier import ConfusionMatrix\n",
    "\n",
    "from sklearn.preprocessing import StandardScaler\n",
    "from sklearn.decomposition import PCA\n",
    "\n",
    "from sklearn.model_selection import cross_val_predict\n",
    "from sklearn.metrics import confusion_matrix\n",
    "\n",
    "from sklearn.metrics import precision_score, recall_score, f1_score, accuracy_score, precision_recall_curve, roc_curve\n",
    "\n",
    "from sklearn.model_selection import cross_val_score\n",
    "\n",
    "from sklearn.model_selection import train_test_split  \n",
    "from sklearn.linear_model import LogisticRegression, SGDClassifier\n",
    "from sklearn.naive_bayes import GaussianNB\n",
    "from sklearn.svm import SVC\n",
    "from sklearn.neural_network import MLPClassifier\n",
    "from sklearn.ensemble import GradientBoostingClassifier, RandomForestClassifier, AdaBoostClassifier\n",
    "from sklearn.tree import DecisionTreeClassifier, ExtraTreeClassifier\n",
    "\n",
    "\n",
    "from imblearn.over_sampling import SMOTE\n",
    "from collections import Counter"
   ]
  },
  {
   "cell_type": "markdown",
   "metadata": {},
   "source": [
    "## Testing timeline chart"
   ]
  },
  {
   "cell_type": "code",
   "execution_count": null,
   "metadata": {},
   "outputs": [],
   "source": []
  },
  {
   "cell_type": "code",
   "execution_count": 171,
   "metadata": {},
   "outputs": [],
   "source": [
    "failed_banks = pd.read_csv('data/failed_banks_dataset.csv')\n",
    "failed_banks['Date'] = pd.to_datetime(failed_banks['Closing Date'])\n",
    "failed_banks['Year_failed'] = failed_banks['Date'].dt.year\n",
    "failed_banks['Quarter_failed'] = failed_banks['Date'].dt.quarter\n",
    "#len(failed_banks.loc[(failed_banks.Year_failed == 2013) & (failed_banks.Quarter_failed == 1)])"
   ]
  },
  {
   "cell_type": "code",
   "execution_count": 172,
   "metadata": {},
   "outputs": [
    {
     "data": {
      "image/png": "[encoded data removed]",
      "text/plain": [
       "<Figure size 720x720 with 1 Axes>"
      ]
     },
     "metadata": {},
     "output_type": "display_data"
    }
   ],
   "source": [
    "ax = failed_banks.groupby(failed_banks.Date.dt.year)['Bank Name'].count().plot(\n",
    "    kind='bar', title =\"Number of failed banks by year\", figsize=(10, 10), legend=False, fontsize=12)\n",
    "ax.grid()\n",
    "ax.set_xlabel(\"Number of failed banks\", fontsize=12)\n",
    "ax.set_ylabel(\"Year\", fontsize=12)\n",
    "plt.show()"
   ]
  },
  {
   "cell_type": "code",
   "execution_count": null,
   "metadata": {},
   "outputs": [],
   "source": []
  },
  {
   "cell_type": "code",
   "execution_count": 173,
   "metadata": {},
   "outputs": [
    {
     "ename": "KeyError",
     "evalue": "'Year'",
     "output_type": "error",
     "traceback": [
      "\u001b[0;31m---------------------------------------------------------------------------\u001b[0m",
      "\u001b[0;31mKeyError\u001b[0m                                  Traceback (most recent call last)",
      "\u001b[0;32m<ipython-input-173-711d1fc61137>\u001b[0m in \u001b[0;36m<module>\u001b[0;34m\u001b[0m\n\u001b[1;32m      1\u001b[0m \u001b[0mbank_universe\u001b[0m \u001b[0;34m=\u001b[0m\u001b[0mpd\u001b[0m\u001b[0;34m.\u001b[0m\u001b[0mread_csv\u001b[0m\u001b[0;34m(\u001b[0m\u001b[0;34m'data/bank_universe.csv'\u001b[0m\u001b[0;34m,\u001b[0m \u001b[0mindex_col\u001b[0m \u001b[0;34m=\u001b[0m \u001b[0;36m0\u001b[0m\u001b[0;34m)\u001b[0m\u001b[0;34m\u001b[0m\u001b[0;34m\u001b[0m\u001b[0m\n\u001b[0;32m----> 2\u001b[0;31m ax1 = bank_universe.groupby('Year')['Number of banks'].mean().plot(kind='barh',\n\u001b[0m\u001b[1;32m      3\u001b[0m                         title =\"Number of banks by year\", figsize=(10, 10), legend=False, fontsize=12)\n\u001b[1;32m      4\u001b[0m ax2 = failed_banks.groupby(failed_banks.Date.dt.year)['Bank Name'].count().plot(\n\u001b[1;32m      5\u001b[0m     kind='barh', title =\"Number of failed and healthy banks by year\", figsize=(22, 10), legend=False, color='red', fontsize=12)\n",
      "\u001b[0;32m/anaconda3/lib/python3.7/site-packages/pandas/core/generic.py\u001b[0m in \u001b[0;36mgroupby\u001b[0;34m(self, by, axis, level, as_index, sort, group_keys, squeeze, observed, **kwargs)\u001b[0m\n\u001b[1;32m   7630\u001b[0m         return groupby(self, by=by, axis=axis, level=level, as_index=as_index,\n\u001b[1;32m   7631\u001b[0m                        \u001b[0msort\u001b[0m\u001b[0;34m=\u001b[0m\u001b[0msort\u001b[0m\u001b[0;34m,\u001b[0m \u001b[0mgroup_keys\u001b[0m\u001b[0;34m=\u001b[0m\u001b[0mgroup_keys\u001b[0m\u001b[0;34m,\u001b[0m \u001b[0msqueeze\u001b[0m\u001b[0;34m=\u001b[0m\u001b[0msqueeze\u001b[0m\u001b[0;34m,\u001b[0m\u001b[0;34m\u001b[0m\u001b[0;34m\u001b[0m\u001b[0m\n\u001b[0;32m-> 7632\u001b[0;31m                        observed=observed, **kwargs)\n\u001b[0m\u001b[1;32m   7633\u001b[0m \u001b[0;34m\u001b[0m\u001b[0m\n\u001b[1;32m   7634\u001b[0m     def asfreq(self, freq, method=None, how=None, normalize=False,\n",
      "\u001b[0;32m/anaconda3/lib/python3.7/site-packages/pandas/core/groupby/groupby.py\u001b[0m in \u001b[0;36mgroupby\u001b[0;34m(obj, by, **kwds)\u001b[0m\n\u001b[1;32m   2108\u001b[0m         \u001b[0;32mraise\u001b[0m \u001b[0mTypeError\u001b[0m\u001b[0;34m(\u001b[0m\u001b[0;34m'invalid type: {}'\u001b[0m\u001b[0;34m.\u001b[0m\u001b[0mformat\u001b[0m\u001b[0;34m(\u001b[0m\u001b[0mobj\u001b[0m\u001b[0;34m)\u001b[0m\u001b[0;34m)\u001b[0m\u001b[0;34m\u001b[0m\u001b[0;34m\u001b[0m\u001b[0m\n\u001b[1;32m   2109\u001b[0m \u001b[0;34m\u001b[0m\u001b[0m\n\u001b[0;32m-> 2110\u001b[0;31m     \u001b[0;32mreturn\u001b[0m \u001b[0mklass\u001b[0m\u001b[0;34m(\u001b[0m\u001b[0mobj\u001b[0m\u001b[0;34m,\u001b[0m \u001b[0mby\u001b[0m\u001b[0;34m,\u001b[0m \u001b[0;34m**\u001b[0m\u001b[0mkwds\u001b[0m\u001b[0;34m)\u001b[0m\u001b[0;34m\u001b[0m\u001b[0;34m\u001b[0m\u001b[0m\n\u001b[0m",
      "\u001b[0;32m/anaconda3/lib/python3.7/site-packages/pandas/core/groupby/groupby.py\u001b[0m in \u001b[0;36m__init__\u001b[0;34m(self, obj, keys, axis, level, grouper, exclusions, selection, as_index, sort, group_keys, squeeze, observed, **kwargs)\u001b[0m\n\u001b[1;32m    358\u001b[0m                                                     \u001b[0msort\u001b[0m\u001b[0;34m=\u001b[0m\u001b[0msort\u001b[0m\u001b[0;34m,\u001b[0m\u001b[0;34m\u001b[0m\u001b[0;34m\u001b[0m\u001b[0m\n\u001b[1;32m    359\u001b[0m                                                     \u001b[0mobserved\u001b[0m\u001b[0;34m=\u001b[0m\u001b[0mobserved\u001b[0m\u001b[0;34m,\u001b[0m\u001b[0;34m\u001b[0m\u001b[0;34m\u001b[0m\u001b[0m\n\u001b[0;32m--> 360\u001b[0;31m                                                     mutated=self.mutated)\n\u001b[0m\u001b[1;32m    361\u001b[0m \u001b[0;34m\u001b[0m\u001b[0m\n\u001b[1;32m    362\u001b[0m         \u001b[0mself\u001b[0m\u001b[0;34m.\u001b[0m\u001b[0mobj\u001b[0m \u001b[0;34m=\u001b[0m \u001b[0mobj\u001b[0m\u001b[0;34m\u001b[0m\u001b[0;34m\u001b[0m\u001b[0m\n",
      "\u001b[0;32m/anaconda3/lib/python3.7/site-packages/pandas/core/groupby/grouper.py\u001b[0m in \u001b[0;36m_get_grouper\u001b[0;34m(obj, key, axis, level, sort, observed, mutated, validate)\u001b[0m\n\u001b[1;32m    576\u001b[0m                 \u001b[0min_axis\u001b[0m\u001b[0;34m,\u001b[0m \u001b[0mname\u001b[0m\u001b[0;34m,\u001b[0m \u001b[0mlevel\u001b[0m\u001b[0;34m,\u001b[0m \u001b[0mgpr\u001b[0m \u001b[0;34m=\u001b[0m \u001b[0;32mFalse\u001b[0m\u001b[0;34m,\u001b[0m \u001b[0;32mNone\u001b[0m\u001b[0;34m,\u001b[0m \u001b[0mgpr\u001b[0m\u001b[0;34m,\u001b[0m \u001b[0;32mNone\u001b[0m\u001b[0;34m\u001b[0m\u001b[0;34m\u001b[0m\u001b[0m\n\u001b[1;32m    577\u001b[0m             \u001b[0;32melse\u001b[0m\u001b[0;34m:\u001b[0m\u001b[0;34m\u001b[0m\u001b[0;34m\u001b[0m\u001b[0m\n\u001b[0;32m--> 578\u001b[0;31m                 \u001b[0;32mraise\u001b[0m \u001b[0mKeyError\u001b[0m\u001b[0;34m(\u001b[0m\u001b[0mgpr\u001b[0m\u001b[0;34m)\u001b[0m\u001b[0;34m\u001b[0m\u001b[0;34m\u001b[0m\u001b[0m\n\u001b[0m\u001b[1;32m    579\u001b[0m         \u001b[0;32melif\u001b[0m \u001b[0misinstance\u001b[0m\u001b[0;34m(\u001b[0m\u001b[0mgpr\u001b[0m\u001b[0;34m,\u001b[0m \u001b[0mGrouper\u001b[0m\u001b[0;34m)\u001b[0m \u001b[0;32mand\u001b[0m \u001b[0mgpr\u001b[0m\u001b[0;34m.\u001b[0m\u001b[0mkey\u001b[0m \u001b[0;32mis\u001b[0m \u001b[0;32mnot\u001b[0m \u001b[0;32mNone\u001b[0m\u001b[0;34m:\u001b[0m\u001b[0;34m\u001b[0m\u001b[0;34m\u001b[0m\u001b[0m\n\u001b[1;32m    580\u001b[0m             \u001b[0;31m# Add key to exclusions\u001b[0m\u001b[0;34m\u001b[0m\u001b[0;34m\u001b[0m\u001b[0;34m\u001b[0m\u001b[0m\n",
      "\u001b[0;31mKeyError\u001b[0m: 'Year'"
     ]
    }
   ],
   "source": [
    "bank_universe =pd.read_csv('data/bank_universe.csv', index_col = 0)\n",
    "ax1 = bank_universe.groupby('Year')['Number of banks'].mean().plot(kind='barh',\n",
    "                        title =\"Number of banks by year\", figsize=(10, 10), legend=False, fontsize=12)\n",
    "ax2 = failed_banks.groupby(failed_banks.Date.dt.year)['Bank Name'].count().plot(\n",
    "    kind='barh', title =\"Number of failed and healthy banks by year\", figsize=(22, 10), legend=False, color='red', fontsize=12)\n",
    "\n",
    "ax.grid()\n",
    "ax.set_xlabel(\"Number of banks\", fontsize=12)\n",
    "ax.set_ylabel(\"Year\", fontsize=12)\n",
    "plt.show()"
   ]
  },
  {
   "cell_type": "code",
   "execution_count": 149,
   "metadata": {},
   "outputs": [],
   "source": [
    "banks_data = {'2009Q4': {'Actual failed': 41, 'Predicted failed': 0},\n",
    "              '2010Q1': {'Actual failed': 45, 'Predicted failed': 0},\n",
    "              '2010Q2': {'Actual failed': 41, 'Predicted failed': 0},\n",
    "              '2010Q3': {'Actual failed': 30, 'Predicted failed': 0},\n",
    "              '2010Q4': {'Actual failed': 26, 'Predicted failed': 24},\n",
    "              '2011Q1': {'Actual failed': 22, 'Predicted failed': 22},\n",
    "              '2011Q2': {'Actual failed': 26, 'Predicted failed': 26},\n",
    "              '2011Q3': {'Actual failed': 18, 'Predicted failed': 18},\n",
    "              '2011Q4': {'Actual failed': 16, 'Predicted failed': 16},\n",
    "              '2012Q1': {'Actual failed': 15, 'Predicted failed': 15},\n",
    "              '2012Q2': {'Actual failed': 12, 'Predicted failed': 12},\n",
    "              '2012Q3': {'Actual failed': 8, 'Predicted failed': 8},\n",
    "              '2012Q4': {'Actual failed': 4, 'Predicted failed': 4}\n",
    "             }"
   ]
  },
  {
   "cell_type": "code",
   "execution_count": 157,
   "metadata": {},
   "outputs": [],
   "source": [
    "df = pd.DataFrame.from_dict(banks_data, orient='index')\n",
    "#df['Assets lost'] = [100, 120, 200, 400, 1000, 5000, 10000, 12000]"
   ]
  },
  {
   "cell_type": "code",
   "execution_count": 151,
   "metadata": {},
   "outputs": [
    {
     "data": {
      "image/png": "[encoded data removed]",
      "text/plain": [
       "<Figure size 1440x576 with 2 Axes>"
      ]
     },
     "metadata": {},
     "output_type": "display_data"
    }
   ],
   "source": [
    "sns.set(font_scale=1)\n",
    "sns.set_context(\"paper\")\n",
    "fig, ax1 = plt.subplots(sharex=True, figsize=(20, 8))\n",
    "ax2 = ax1.twinx()\n",
    "df[['Actual failed', 'Predicted failed']].plot(ax=ax1, kind='bar', width=0.9).legend(loc='upper left')\n",
    "#df['Assets lost'].plot(ax=ax2, kind='line', linewidth=5, style='r', marker='d').legend(loc='upper right')\n",
    "ax1.yaxis.tick_right()\n",
    "ax2.yaxis.tick_left()\n",
    "plt.axvline(x=3.3, ymin=0, ymax = 0.99, linewidth=2, color='k', linestyle='--')\n",
    "ax1.text(x= 1.7, y=45, s='In-sample modeling', fontsize=14, verticalalignment='top')\n",
    "ax1.text(x= 3.4, y=45, s='Out-of-sample forecasting', fontsize=14, verticalalignment='top')\n",
    "ax2.grid(False)\n",
    "plt.title('Logistic regression performed best when presented with out-of-sample data', fontsize=16)\n",
    "plt.show()\n"
   ]
  },
  {
   "cell_type": "markdown",
   "metadata": {},
   "source": [
    "## Load and inspect data set from 2010-Q3"
   ]
  },
  {
   "cell_type": "code",
   "execution_count": 2,
   "metadata": {},
   "outputs": [
    {
     "data": {
      "text/plain": [
       "7020"
      ]
     },
     "execution_count": 2,
     "metadata": {},
     "output_type": "execute_result"
    }
   ],
   "source": [
    "camel_insample = pd.read_csv('data/camel_data_after2010Q3.csv', index_col = 0)\n",
    "len(camel_insample.index)"
   ]
  },
  {
   "cell_type": "code",
   "execution_count": 3,
   "metadata": {},
   "outputs": [
    {
     "data": {
      "text/plain": [
       "7014"
      ]
     },
     "execution_count": 3,
     "metadata": {},
     "output_type": "execute_result"
    }
   ],
   "source": [
    "camel_model_set = camel_insample.dropna()\n",
    "len(camel_model_set)"
   ]
  },
  {
   "cell_type": "code",
   "execution_count": 4,
   "metadata": {},
   "outputs": [
    {
     "data": {
      "text/plain": [
       "137"
      ]
     },
     "execution_count": 4,
     "metadata": {},
     "output_type": "execute_result"
    }
   ],
   "source": [
    "len(camel_model_set.loc[camel_model_set.Target == 1])"
   ]
  },
  {
   "cell_type": "code",
   "execution_count": 5,
   "metadata": {},
   "outputs": [],
   "source": [
    "X = camel_model_set.drop(columns=['AsOfDate', 'Target'])\n",
    "# Standardizing the features for PCS\n",
    "X_pca_std = StandardScaler().fit_transform(X)"
   ]
  },
  {
   "cell_type": "code",
   "execution_count": 65,
   "metadata": {},
   "outputs": [
    {
     "data": {
      "image/png": "[encoded data removed]",
      "text/plain": [
       "<Figure size 720x576 with 1 Axes>"
      ]
     },
     "metadata": {
      "needs_background": "light"
     },
     "output_type": "display_data"
    }
   ],
   "source": [
    "# Run PCA and plot variance explained by CAMELS dimensions (feautures)\n",
    "pca = PCA().fit(X_pca_std)\n",
    "plt.figure(figsize=(10,8))\n",
    "plt.plot(np.cumsum(pca.explained_variance_ratio_), alpha=0.7, color='r')\n",
    "plt.xlabel('Number of principal components')\n",
    "plt.ylabel('Cumulative explained variance');"
   ]
  },
  {
   "cell_type": "code",
   "execution_count": 163,
   "metadata": {},
   "outputs": [],
   "source": [
    "# TODO: redo to show all on one plot\n",
    "# for col in camel_model_set.drop(columns=['AsOfDate', 'Target']).columns:\n",
    "#     camel_model_set[col].hist(by=camel_model_set['Target'],  bins=20, figsize=(8,16), alpha=0.7, color='r')\n",
    "#     plt.suptitle(col)\n",
    "# plt.show()"
   ]
  },
  {
   "cell_type": "markdown",
   "metadata": {},
   "source": [
    "## Over-sampling with SMOTE"
   ]
  },
  {
   "cell_type": "code",
   "execution_count": 40,
   "metadata": {},
   "outputs": [],
   "source": [
    "y = camel_model_set['Target']\n",
    "X = camel_model_set.drop(['Target', 'AsOfDate'], axis=1)"
   ]
  },
  {
   "cell_type": "code",
   "execution_count": 41,
   "metadata": {},
   "outputs": [],
   "source": [
    "X_train, X_test, y_train, y_test = train_test_split(X, y, test_size=0.2, random_state=1, stratify=y)"
   ]
  },
  {
   "cell_type": "code",
   "execution_count": 42,
   "metadata": {},
   "outputs": [],
   "source": [
    "scaler = StandardScaler()\n",
    "scaler.fit(X_train)\n",
    "X_train_std = scaler.transform(X_train)\n",
    "X_test_std = scaler.transform(X_test)"
   ]
  },
  {
   "cell_type": "code",
   "execution_count": 43,
   "metadata": {},
   "outputs": [
    {
     "name": "stdout",
     "output_type": "stream",
     "text": [
      "Original dataset shape Counter({0: 5501, 1: 110})\n",
      "Resampled dataset shape Counter({0: 5501, 1: 5501})\n"
     ]
    }
   ],
   "source": [
    "print('Original dataset shape %s' % Counter(y_train))\n",
    "#Original dataset shape Counter({1: 900, 0: 100})\n",
    "sm = SMOTE(random_state=42)\n",
    "X_train_std_res, y_train_res = sm.fit_resample(X_train_std, y_train)\n",
    "print('Resampled dataset shape %s' % Counter(y_train_res))\n",
    "# Resampled dataset shape Counter({0: 900, 1: 900})"
   ]
  },
  {
   "cell_type": "markdown",
   "metadata": {},
   "source": [
    "## Investigating importance of CAMELS features with Decision Trees"
   ]
  },
  {
   "cell_type": "code",
   "execution_count": 148,
   "metadata": {},
   "outputs": [],
   "source": [
    "# TODO: introduction to CAMELS risk dimensions    "
   ]
  },
  {
   "cell_type": "code",
   "execution_count": 158,
   "metadata": {},
   "outputs": [
    {
     "data": {
      "image/png": "[encoded data removed]",
      "text/plain": [
       "<Figure size 1440x720 with 1 Axes>"
      ]
     },
     "metadata": {
      "needs_background": "light"
     },
     "output_type": "display_data"
    }
   ],
   "source": [
    "classifiers = {'decision_tree' : DecisionTreeClassifier(),\n",
    "         'extra_tree' : ExtraTreeClassifier(),\n",
    "         'random_forest' : RandomForestClassifier(n_estimators=100),\n",
    "         'ada_boost' : AdaBoostClassifier(),\n",
    "         'xgb_classifier' : XGBClassifier()}\n",
    "\n",
    "features_from_classifiers = []\n",
    "for classifier in classifiers:\n",
    "    features_from_classifiers.append(classifiers[classifier].fit(X_train_std_res, y_train_res).feature_importances_)\n",
    "\n",
    "# TODO: add human readble CAMELS risk dimensions nammes'\n",
    "\n",
    "features_df = pd.DataFrame(features_from_classifiers, classifiers, \n",
    "                           columns=camel_model_set.drop(columns=['AsOfDate', 'Target']).columns)\n",
    "features_df.T.plot(kind='barh', figsize=(20, 10), fontsize=14)\n",
    "plt.legend(fontsize=16)\n",
    "plt.show()"
   ]
  },
  {
   "cell_type": "markdown",
   "metadata": {},
   "source": [
    "## Traing various models "
   ]
  },
  {
   "cell_type": "code",
   "execution_count": null,
   "metadata": {},
   "outputs": [],
   "source": []
  },
  {
   "cell_type": "code",
   "execution_count": 125,
   "metadata": {},
   "outputs": [
    {
     "name": "stderr",
     "output_type": "stream",
     "text": [
      "/anaconda3/lib/python3.7/site-packages/sklearn/linear_model/logistic.py:432: FutureWarning: Default solver will be changed to 'lbfgs' in 0.22. Specify a solver to silence this warning.\n",
      "  FutureWarning)\n"
     ]
    },
    {
     "data": {
      "text/plain": [
       "LogisticRegression(C=1.0, class_weight=None, dual=False, fit_intercept=True,\n",
       "                   intercept_scaling=1, l1_ratio=None, max_iter=100,\n",
       "                   multi_class='warn', n_jobs=None, penalty='l2',\n",
       "                   random_state=None, solver='warn', tol=0.0001, verbose=0,\n",
       "                   warm_start=False)"
      ]
     },
     "execution_count": 125,
     "metadata": {},
     "output_type": "execute_result"
    }
   ],
   "source": [
    "log = LogisticRegression()\n",
    "log.fit(X_train_std_res, y_train_res)"
   ]
  },
  {
   "cell_type": "code",
   "execution_count": 132,
   "metadata": {},
   "outputs": [],
   "source": [
    "data = pd.read_csv('data/camel_data_after2012Q2_OOS.csv', index_col = 0)\n",
    "data_set = data.dropna()\n",
    "y_oos_JT = data_set['Target']\n",
    "X_oos_JT = data_set.drop(columns=['Target', 'AsOfDate'], axis=1)\n",
    "scaler=StandardScaler()\n",
    "scaler.fit(X_oos_JT)\n",
    "X_oos_JT_std = scaler.transform(X_oos_JT)"
   ]
  },
  {
   "cell_type": "code",
   "execution_count": 134,
   "metadata": {},
   "outputs": [
    {
     "name": "stdout",
     "output_type": "stream",
     "text": [
      "Confusion Matrix :\n",
      "[[6895  202]\n",
      " [   0   12]]\n",
      "Accuracy Score : 0.9715853143902096\n",
      "Report : \n",
      "              precision    recall  f1-score   support\n",
      "\n",
      "           0       1.00      0.97      0.99      7097\n",
      "           1       0.06      1.00      0.11        12\n",
      "\n",
      "    accuracy                           0.97      7109\n",
      "   macro avg       0.53      0.99      0.55      7109\n",
      "weighted avg       1.00      0.97      0.98      7109\n",
      "\n"
     ]
    }
   ],
   "source": [
    "y_pred = log.predict(X_oos_JT_std)\n",
    "cf.report_classification_results(y_oos_JT, y_pred)"
   ]
  },
  {
   "cell_type": "code",
   "execution_count": 191,
   "metadata": {},
   "outputs": [
    {
     "name": "stderr",
     "output_type": "stream",
     "text": [
      "/anaconda3/lib/python3.7/site-packages/sklearn/linear_model/logistic.py:432: FutureWarning: Default solver will be changed to 'lbfgs' in 0.22. Specify a solver to silence this warning.\n",
      "  FutureWarning)\n",
      "/anaconda3/lib/python3.7/site-packages/sklearn/linear_model/logistic.py:432: FutureWarning: Default solver will be changed to 'lbfgs' in 0.22. Specify a solver to silence this warning.\n",
      "  FutureWarning)\n",
      "/anaconda3/lib/python3.7/site-packages/sklearn/linear_model/logistic.py:432: FutureWarning: Default solver will be changed to 'lbfgs' in 0.22. Specify a solver to silence this warning.\n",
      "  FutureWarning)\n"
     ]
    }
   ],
   "source": [
    "log_y_scores = cross_val_predict(log, X_test_std, y_test, cv=3, method='decision_function')\n",
    "precisions, recalls, thresholds = precision_recall_curve(y_test, log_y_scores)"
   ]
  },
  {
   "cell_type": "code",
   "execution_count": 189,
   "metadata": {},
   "outputs": [
    {
     "data": {
      "image/png": "[encoded data removed]",
      "text/plain": [
       "<Figure size 432x288 with 1 Axes>"
      ]
     },
     "metadata": {},
     "output_type": "display_data"
    }
   ],
   "source": [
    "#Represent Precision and Recall graphically\n",
    "def plot_precision_recall(precisions, recalls, thresholds):\n",
    "    plt.plot(thresholds, precisions[: -1], 'b--', label='Precision')\n",
    "    plt.plot(thresholds, recalls[: -1], 'g-', label='Recall')\n",
    "    plt.xlabel('Threshold')\n",
    "    plt.legend(loc='center left')\n",
    "    plt.ylim([0,1])\n",
    "\n",
    "plot_precision_recall(precisions, recalls, thresholds)\n",
    "plt.show()"
   ]
  },
  {
   "cell_type": "code",
   "execution_count": 185,
   "metadata": {},
   "outputs": [],
   "source": [
    "fpr, tpr, thresholds = roc_curve(y_oos_JT, log_y_scores)"
   ]
  },
  {
   "cell_type": "code",
   "execution_count": 186,
   "metadata": {},
   "outputs": [
    {
     "data": {
      "image/png": "[encoded data removed]",
      "text/plain": [
       "<Figure size 432x288 with 1 Axes>"
      ]
     },
     "metadata": {},
     "output_type": "display_data"
    }
   ],
   "source": [
    "def plot_roc_curve(fpr, tpr, label=None):\n",
    "    plt.plot(fpr, tpr, linewidth=2, label=label)\n",
    "    plt.plot([0,1], [0,1], 'k--')\n",
    "    plt.axis([0,1,0,1])\n",
    "    plt.xlabel('False Positive Rate')\n",
    "    plt.ylabel('True Negatove Rate')\n",
    "plot_roc_curve(fpr, tpr)\n",
    "plt.show()"
   ]
  },
  {
   "cell_type": "code",
   "execution_count": null,
   "metadata": {},
   "outputs": [],
   "source": []
  },
  {
   "cell_type": "code",
   "execution_count": null,
   "metadata": {},
   "outputs": [],
   "source": []
  },
  {
   "cell_type": "code",
   "execution_count": null,
   "metadata": {},
   "outputs": [],
   "source": []
  },
  {
   "cell_type": "code",
   "execution_count": null,
   "metadata": {},
   "outputs": [],
   "source": []
  },
  {
   "cell_type": "code",
   "execution_count": null,
   "metadata": {},
   "outputs": [],
   "source": []
  },
  {
   "cell_type": "code",
   "execution_count": null,
   "metadata": {},
   "outputs": [],
   "source": []
  },
  {
   "cell_type": "code",
   "execution_count": null,
   "metadata": {},
   "outputs": [],
   "source": []
  },
  {
   "cell_type": "code",
   "execution_count": 10,
   "metadata": {},
   "outputs": [],
   "source": [
    "models = {\n",
    "    'logistic_reg' : LogisticRegression(C=1, solver='lbfgs'),\n",
    "    'stochastic_gd' : SGDClassifier(),\n",
    "    'gauss_nb' : GaussianNB(),\n",
    "    'svm' : SVC(C=1, gamma='auto'),\n",
    "    'decision_tree' : DecisionTreeClassifier(),\n",
    "    'extra_tree' : ExtraTreeClassifier(),\n",
    "    'random_forest' : RandomForestClassifier(n_estimators=100),\n",
    "    'ada_boost' : AdaBoostClassifier(),\n",
    "    'xgb_classifier' : XGBClassifier(),\n",
    "    'dnn_classifier' : MLPClassifier(solver='lbfgs', activation='relu', alpha=1e-5 ,hidden_layer_sizes=2*[75])\n",
    "}\n",
    "\n",
    "recall_scores_is = {}\n",
    "for model in models:\n",
    "    y_predicted = models[model].fit(X_train_std_res, y_train_res).predict(X_test_std)\n",
    "    recall_scores_is['In-sample recall of '+model] = recall_score(y_test, y_predicted).round(2)"
   ]
  },
  {
   "cell_type": "code",
   "execution_count": null,
   "metadata": {},
   "outputs": [],
   "source": []
  },
  {
   "cell_type": "code",
   "execution_count": 11,
   "metadata": {},
   "outputs": [
    {
     "data": {
      "text/plain": [
       "{'In-sample recall of logistic_reg': 0.93,\n",
       " 'In-sample recall of stochastic_gd': 0.96,\n",
       " 'In-sample recall of gauss_nb': 1.0,\n",
       " 'In-sample recall of svm': 0.85,\n",
       " 'In-sample recall of decision_tree': 0.63,\n",
       " 'In-sample recall of extra_tree': 0.63,\n",
       " 'In-sample recall of random_forest': 0.74,\n",
       " 'In-sample recall of ada_boost': 0.89,\n",
       " 'In-sample recall of xgb_classifier': 0.89,\n",
       " 'In-sample recall of dnn_classifier': 0.81}"
      ]
     },
     "execution_count": 11,
     "metadata": {},
     "output_type": "execute_result"
    }
   ],
   "source": [
    "recall_scores_is"
   ]
  },
  {
   "cell_type": "code",
   "execution_count": null,
   "metadata": {},
   "outputs": [],
   "source": []
  },
  {
   "cell_type": "code",
   "execution_count": null,
   "metadata": {},
   "outputs": [],
   "source": []
  },
  {
   "cell_type": "markdown",
   "metadata": {},
   "source": [
    "## Validation on out-of-sample data 2010Q4 - 2012Q2"
   ]
  },
  {
   "cell_type": "code",
   "execution_count": 169,
   "metadata": {},
   "outputs": [],
   "source": [
    "# checking the models out of sample for 2010 Q4"
   ]
  },
  {
   "cell_type": "code",
   "execution_count": 44,
   "metadata": {},
   "outputs": [],
   "source": [
    "camel_outofsample = pd.read_csv('data/camel_data_after2010Q4_OOS.csv', index_col = 0)\n",
    "camel_validation_set = camel_outofsample.dropna()"
   ]
  },
  {
   "cell_type": "code",
   "execution_count": 45,
   "metadata": {},
   "outputs": [],
   "source": [
    "y_oos_2010Q4 = camel_validation_set['Target']\n",
    "X_oos_2010Q4 = camel_validation_set.drop(columns=['Target', 'AsOfDate'], axis=1)\n",
    "scaler = StandardScaler()\n",
    "scaler.fit(X_oos_2010Q4)\n",
    "X_oos_std_2010Q4 = scaler.transform(X_oos_2010Q4)"
   ]
  },
  {
   "cell_type": "code",
   "execution_count": 46,
   "metadata": {},
   "outputs": [],
   "source": [
    "recall_scores_oos = {}\n",
    "for model in models:\n",
    "    y_predicted = models[model].fit(X_train_std_res, y_train_res).predict(X_oos_std_2010Q4)\n",
    "    recall_scores_oos['Out-of-sample 2010Q4 recall of '+model] = recall_score(y_oos_2010Q4, y_predicted).round(2)"
   ]
  },
  {
   "cell_type": "code",
   "execution_count": 47,
   "metadata": {},
   "outputs": [
    {
     "data": {
      "text/plain": [
       "{'Out-of-sample 2010Q4 recall of logistic_reg': 0.92,\n",
       " 'Out-of-sample 2010Q4 recall of stochastic_gd': 0.92,\n",
       " 'Out-of-sample 2010Q4 recall of gauss_nb': 0.33,\n",
       " 'Out-of-sample 2010Q4 recall of svm': 0.75,\n",
       " 'Out-of-sample 2010Q4 recall of decision_tree': 0.42,\n",
       " 'Out-of-sample 2010Q4 recall of extra_tree': 0.5,\n",
       " 'Out-of-sample 2010Q4 recall of random_forest': 0.33,\n",
       " 'Out-of-sample 2010Q4 recall of ada_boost': 0.0,\n",
       " 'Out-of-sample 2010Q4 recall of xgb_classifier': 0.79,\n",
       " 'Out-of-sample 2010Q4 recall of dnn_classifier': 0.71}"
      ]
     },
     "execution_count": 47,
     "metadata": {},
     "output_type": "execute_result"
    }
   ],
   "source": [
    "recall_scores_oos"
   ]
  },
  {
   "cell_type": "code",
   "execution_count": 48,
   "metadata": {},
   "outputs": [],
   "source": [
    "# checking the models out of sample for 2011 Q1"
   ]
  },
  {
   "cell_type": "code",
   "execution_count": 83,
   "metadata": {},
   "outputs": [],
   "source": [
    "camel_outofsample = pd.read_csv('data/camel_data_after2011Q1_OOS.csv', index_col = 0)\n",
    "camel_validation_set = camel_outofsample.dropna()"
   ]
  },
  {
   "cell_type": "code",
   "execution_count": 84,
   "metadata": {},
   "outputs": [],
   "source": [
    "y_oos_2011Q1 = camel_validation_set['Target']\n",
    "X_oos_2011Q1 = camel_validation_set.drop(columns=['Target', 'AsOfDate'], axis=1)\n",
    "scaler = StandardScaler()\n",
    "scaler.fit(X_oos_2011Q1)\n",
    "X_oos_std_2011Q1 = scaler.transform(X_oos_2011Q1)"
   ]
  },
  {
   "cell_type": "code",
   "execution_count": 85,
   "metadata": {},
   "outputs": [],
   "source": [
    "recall_scores_oos = {}\n",
    "for model in models:\n",
    "    y_predicted = models[model].fit(X_train_std_res, y_train_res).predict(X_oos_std_2011Q1)\n",
    "    recall_scores_oos['Out-of-sample 2011Q1 recall of '+model] = recall_score(y_oos_2011Q1, y_predicted).round(2)"
   ]
  },
  {
   "cell_type": "code",
   "execution_count": 86,
   "metadata": {},
   "outputs": [
    {
     "data": {
      "text/plain": [
       "{'Out-of-sample 2011Q1 recall of logistic_reg': 1.0,\n",
       " 'Out-of-sample 2011Q1 recall of stochastic_gd': 0.84,\n",
       " 'Out-of-sample 2011Q1 recall of gauss_nb': 0.16,\n",
       " 'Out-of-sample 2011Q1 recall of svm': 0.74,\n",
       " 'Out-of-sample 2011Q1 recall of decision_tree': 0.11,\n",
       " 'Out-of-sample 2011Q1 recall of extra_tree': 0.68,\n",
       " 'Out-of-sample 2011Q1 recall of random_forest': 0.74,\n",
       " 'Out-of-sample 2011Q1 recall of ada_boost': 1.0,\n",
       " 'Out-of-sample 2011Q1 recall of xgb_classifier': 1.0,\n",
       " 'Out-of-sample 2011Q1 recall of dnn_classifier': 0.37}"
      ]
     },
     "execution_count": 86,
     "metadata": {},
     "output_type": "execute_result"
    }
   ],
   "source": [
    "recall_scores_oos"
   ]
  },
  {
   "cell_type": "code",
   "execution_count": 53,
   "metadata": {},
   "outputs": [],
   "source": [
    "# checking the models out of sample for 2011 Q2"
   ]
  },
  {
   "cell_type": "code",
   "execution_count": 54,
   "metadata": {},
   "outputs": [],
   "source": [
    "camel_outofsample = pd.read_csv('data/camel_data_after2011Q2_OOS.csv', index_col = 0)\n",
    "camel_outofsample.replace(np.inf, 'NaN', inplace=True)\n",
    "camel_validation_set = camel_outofsample.dropna()"
   ]
  },
  {
   "cell_type": "code",
   "execution_count": 55,
   "metadata": {},
   "outputs": [
    {
     "data": {
      "text/plain": [
       "6689"
      ]
     },
     "execution_count": 55,
     "metadata": {},
     "output_type": "execute_result"
    }
   ],
   "source": [
    "len(camel_validation_set)"
   ]
  },
  {
   "cell_type": "code",
   "execution_count": 80,
   "metadata": {},
   "outputs": [],
   "source": [
    "y_oos_2011Q2 = camel_validation_set['Target']\n",
    "X_oos_2011Q2 = np.array(camel_validation_set.drop(columns=['Target', 'AsOfDate'], axis=1))\n",
    "scaler = StandardScaler()\n",
    "scaler.fit(X_oos_2011Q2)\n",
    "X_oos_std_2011Q2 = scaler.transform(X_oos_2011Q2)"
   ]
  },
  {
   "cell_type": "code",
   "execution_count": 81,
   "metadata": {},
   "outputs": [],
   "source": [
    "recall_scores_oos = {}\n",
    "for model in models:\n",
    "    y_predicted = models[model].fit(X_train_std_res, y_train_res).predict(X_oos_std_2011Q2)\n",
    "    recall_scores_oos['Out-of-sample 2011Q2 recall of '+model] = recall_score(y_oos_2011Q2, y_predicted).round(2)"
   ]
  },
  {
   "cell_type": "code",
   "execution_count": 82,
   "metadata": {},
   "outputs": [
    {
     "data": {
      "text/plain": [
       "{'Out-of-sample 2011Q2 recall of logistic_reg': 1.0,\n",
       " 'Out-of-sample 2011Q2 recall of stochastic_gd': 1.0,\n",
       " 'Out-of-sample 2011Q2 recall of gauss_nb': 0.08,\n",
       " 'Out-of-sample 2011Q2 recall of svm': 0.92,\n",
       " 'Out-of-sample 2011Q2 recall of decision_tree': 0.33,\n",
       " 'Out-of-sample 2011Q2 recall of extra_tree': 0.42,\n",
       " 'Out-of-sample 2011Q2 recall of random_forest': 0.0,\n",
       " 'Out-of-sample 2011Q2 recall of ada_boost': 0.0,\n",
       " 'Out-of-sample 2011Q2 recall of xgb_classifier': 0.92,\n",
       " 'Out-of-sample 2011Q2 recall of dnn_classifier': 0.58}"
      ]
     },
     "execution_count": 82,
     "metadata": {},
     "output_type": "execute_result"
    }
   ],
   "source": [
    "recall_scores_oos"
   ]
  },
  {
   "cell_type": "code",
   "execution_count": null,
   "metadata": {},
   "outputs": [],
   "source": []
  },
  {
   "cell_type": "code",
   "execution_count": null,
   "metadata": {},
   "outputs": [],
   "source": [
    "#Validation on 2011 Q3 data"
   ]
  },
  {
   "cell_type": "code",
   "execution_count": 58,
   "metadata": {},
   "outputs": [],
   "source": [
    "camel_outofsample = pd.read_csv('data/camel_data_after2011Q3_OOS.csv', index_col = 0)\n",
    "camel_validation_set = camel_outofsample.dropna()"
   ]
  },
  {
   "cell_type": "code",
   "execution_count": 59,
   "metadata": {},
   "outputs": [],
   "source": [
    "y_oos_2011Q3 = camel_validation_set['Target']\n",
    "X_oos_2011Q3 = camel_validation_set.drop(columns=['Target', 'AsOfDate'], axis=1)\n",
    "scaler = StandardScaler()\n",
    "scaler.fit(X_oos_2011Q3)\n",
    "X_oos_std_2011Q3 = scaler.transform(X_oos_2011Q3)"
   ]
  },
  {
   "cell_type": "code",
   "execution_count": 60,
   "metadata": {},
   "outputs": [],
   "source": [
    "recall_scores_oos = {}\n",
    "for model in models:\n",
    "    y_predicted = models[model].fit(X_train_std_res, y_train_res).predict(X_oos_std_2011Q3)\n",
    "    recall_scores_oos['Out-of-sample recall of '+model] = recall_score(y_oos_2011Q3, y_predicted).round(2)"
   ]
  },
  {
   "cell_type": "code",
   "execution_count": 61,
   "metadata": {},
   "outputs": [
    {
     "data": {
      "text/plain": [
       "{'Out-of-sample recall of logistic_reg': 1.0,\n",
       " 'Out-of-sample recall of stochastic_gd': 1.0,\n",
       " 'Out-of-sample recall of gauss_nb': 0.11,\n",
       " 'Out-of-sample recall of svm': 0.83,\n",
       " 'Out-of-sample recall of decision_tree': 0.61,\n",
       " 'Out-of-sample recall of extra_tree': 0.0,\n",
       " 'Out-of-sample recall of random_forest': 0.89,\n",
       " 'Out-of-sample recall of ada_boost': 0.89,\n",
       " 'Out-of-sample recall of xgb_classifier': 1.0,\n",
       " 'Out-of-sample recall of dnn_classifier': 0.67}"
      ]
     },
     "execution_count": 61,
     "metadata": {},
     "output_type": "execute_result"
    }
   ],
   "source": [
    "recall_scores_oos"
   ]
  },
  {
   "cell_type": "code",
   "execution_count": null,
   "metadata": {},
   "outputs": [],
   "source": []
  },
  {
   "cell_type": "code",
   "execution_count": null,
   "metadata": {},
   "outputs": [],
   "source": [
    "# Validation on 2011 Q4"
   ]
  },
  {
   "cell_type": "code",
   "execution_count": null,
   "metadata": {},
   "outputs": [],
   "source": [
    "camel_outofsample = pd.read_csv('data/camel_data_after2011Q4_OOS.csv', index_col = 0)\n",
    "camel_validation_set = camel_outofsample.dropna()"
   ]
  },
  {
   "cell_type": "code",
   "execution_count": 62,
   "metadata": {},
   "outputs": [],
   "source": [
    "y_oos_2011Q4 = camel_validation_set['Target']\n",
    "X_oos_2011Q4 = camel_validation_set.drop(columns=['Target', 'AsOfDate'], axis=1)\n",
    "scaler = StandardScaler()\n",
    "scaler.fit(X_oos_2011Q4)\n",
    "X_oos_std_2011Q4 = scaler.transform(X_oos_2011Q4)"
   ]
  },
  {
   "cell_type": "code",
   "execution_count": 63,
   "metadata": {},
   "outputs": [],
   "source": [
    "recall_scores_oos = {}\n",
    "for model in models:\n",
    "    y_predicted = models[model].fit(X_train_std_res, y_train_res).predict(X_oos_std_2011Q4)\n",
    "    recall_scores_oos['Out-of-sample recall of '+model] = recall_score(y_oos_2011Q4, y_predicted).round(2)"
   ]
  },
  {
   "cell_type": "code",
   "execution_count": 64,
   "metadata": {},
   "outputs": [
    {
     "data": {
      "text/plain": [
       "{'Out-of-sample recall of logistic_reg': 1.0,\n",
       " 'Out-of-sample recall of stochastic_gd': 0.89,\n",
       " 'Out-of-sample recall of gauss_nb': 0.11,\n",
       " 'Out-of-sample recall of svm': 0.83,\n",
       " 'Out-of-sample recall of decision_tree': 0.39,\n",
       " 'Out-of-sample recall of extra_tree': 0.89,\n",
       " 'Out-of-sample recall of random_forest': 0.89,\n",
       " 'Out-of-sample recall of ada_boost': 0.89,\n",
       " 'Out-of-sample recall of xgb_classifier': 1.0,\n",
       " 'Out-of-sample recall of dnn_classifier': 0.67}"
      ]
     },
     "execution_count": 64,
     "metadata": {},
     "output_type": "execute_result"
    }
   ],
   "source": [
    "recall_scores_oos"
   ]
  },
  {
   "cell_type": "code",
   "execution_count": null,
   "metadata": {},
   "outputs": [],
   "source": []
  },
  {
   "cell_type": "code",
   "execution_count": null,
   "metadata": {},
   "outputs": [],
   "source": [
    "# Validation on 2012 Q1"
   ]
  },
  {
   "cell_type": "code",
   "execution_count": 68,
   "metadata": {},
   "outputs": [],
   "source": [
    "camel_outofsample = pd.read_csv('data/camel_data_after2012Q1_OOS.csv', index_col = 0)\n",
    "camel_validation_set = camel_outofsample.dropna()"
   ]
  },
  {
   "cell_type": "code",
   "execution_count": 73,
   "metadata": {},
   "outputs": [],
   "source": [
    "y_oos_2012Q1 = camel_validation_set['Target']\n",
    "X_oos_2012Q1 = camel_validation_set.drop(columns=['Target', 'AsOfDate'], axis=1)\n",
    "scaler = StandardScaler()\n",
    "scaler.fit(X_oos_2012Q1)\n",
    "X_oos_std_2012Q1 = scaler.transform(X_oos_2012Q1)"
   ]
  },
  {
   "cell_type": "code",
   "execution_count": 74,
   "metadata": {},
   "outputs": [],
   "source": [
    "recall_scores_oos = {}\n",
    "for model in models:\n",
    "    y_predicted = models[model].fit(X_train_std_res, y_train_res).predict(X_oos_std_2012Q1)\n",
    "    recall_scores_oos['Out-of-sample recall of '+model] = recall_score(y_oos_2012Q1, y_predicted).round(2)"
   ]
  },
  {
   "cell_type": "code",
   "execution_count": 75,
   "metadata": {},
   "outputs": [
    {
     "data": {
      "text/plain": [
       "{'Out-of-sample recall of logistic_reg': 1.0,\n",
       " 'Out-of-sample recall of stochastic_gd': 0.93,\n",
       " 'Out-of-sample recall of gauss_nb': 0.0,\n",
       " 'Out-of-sample recall of svm': 1.0,\n",
       " 'Out-of-sample recall of decision_tree': 0.53,\n",
       " 'Out-of-sample recall of extra_tree': 0.93,\n",
       " 'Out-of-sample recall of random_forest': 0.93,\n",
       " 'Out-of-sample recall of ada_boost': 0.93,\n",
       " 'Out-of-sample recall of xgb_classifier': 1.0,\n",
       " 'Out-of-sample recall of dnn_classifier': 0.6}"
      ]
     },
     "execution_count": 75,
     "metadata": {},
     "output_type": "execute_result"
    }
   ],
   "source": [
    "recall_scores_oos"
   ]
  },
  {
   "cell_type": "code",
   "execution_count": null,
   "metadata": {},
   "outputs": [],
   "source": [
    "# Validation on 2012 Q2"
   ]
  },
  {
   "cell_type": "code",
   "execution_count": 76,
   "metadata": {},
   "outputs": [],
   "source": [
    "camel_outofsample = pd.read_csv('data/camel_data_after2012Q2_OOS.csv', index_col = 0)\n",
    "camel_validation_set = camel_outofsample.dropna()"
   ]
  },
  {
   "cell_type": "code",
   "execution_count": 77,
   "metadata": {},
   "outputs": [],
   "source": [
    "y_oos_2012Q2 = camel_validation_set['Target']\n",
    "X_oos_2012Q2 = camel_validation_set.drop(columns=['Target', 'AsOfDate'], axis=1)\n",
    "scaler = StandardScaler()\n",
    "scaler.fit(X_oos_2012Q2)\n",
    "X_oos_std_2012Q2 = scaler.transform(X_oos_2012Q2)"
   ]
  },
  {
   "cell_type": "code",
   "execution_count": 78,
   "metadata": {},
   "outputs": [],
   "source": [
    "recall_scores_oos = {}\n",
    "for model in models:\n",
    "    y_predicted = models[model].fit(X_train_std_res, y_train_res).predict(X_oos_std_2012Q2)\n",
    "    recall_scores_oos['Out-of-sample recall of '+model] = recall_score(y_oos_2012Q2, y_predicted).round(2)"
   ]
  },
  {
   "cell_type": "code",
   "execution_count": 79,
   "metadata": {},
   "outputs": [
    {
     "data": {
      "text/plain": [
       "{'Out-of-sample recall of logistic_reg': 1.0,\n",
       " 'Out-of-sample recall of stochastic_gd': 1.0,\n",
       " 'Out-of-sample recall of gauss_nb': 0.08,\n",
       " 'Out-of-sample recall of svm': 0.92,\n",
       " 'Out-of-sample recall of decision_tree': 0.08,\n",
       " 'Out-of-sample recall of extra_tree': 0.5,\n",
       " 'Out-of-sample recall of random_forest': 0.08,\n",
       " 'Out-of-sample recall of ada_boost': 0.0,\n",
       " 'Out-of-sample recall of xgb_classifier': 0.92,\n",
       " 'Out-of-sample recall of dnn_classifier': 0.67}"
      ]
     },
     "execution_count": 79,
     "metadata": {},
     "output_type": "execute_result"
    }
   ],
   "source": [
    "recall_scores_oos"
   ]
  },
  {
   "cell_type": "code",
   "execution_count": null,
   "metadata": {},
   "outputs": [],
   "source": [
    "# Validation on 2012 Q3"
   ]
  },
  {
   "cell_type": "code",
   "execution_count": 88,
   "metadata": {},
   "outputs": [],
   "source": [
    "camel_outofsample = pd.read_csv('data/camel_data_after2012Q3_OOS.csv', index_col = 0)\n",
    "camel_validation_set = camel_outofsample.dropna()"
   ]
  },
  {
   "cell_type": "code",
   "execution_count": 89,
   "metadata": {},
   "outputs": [],
   "source": [
    "y_oos_2012Q3 = camel_validation_set['Target']\n",
    "X_oos_2012Q3 = camel_validation_set.drop(columns=['Target', 'AsOfDate'], axis=1)\n",
    "scaler = StandardScaler()\n",
    "scaler.fit(X_oos_2012Q3)\n",
    "X_oos_std_2012Q3 = scaler.transform(X_oos_2012Q3)"
   ]
  },
  {
   "cell_type": "code",
   "execution_count": 90,
   "metadata": {},
   "outputs": [],
   "source": [
    "recall_scores_oos = {}\n",
    "for model in models:\n",
    "    y_predicted = models[model].fit(X_train_std_res, y_train_res).predict(X_oos_std_2012Q3)\n",
    "    recall_scores_oos['Out-of-sample recall of '+model] = recall_score(y_oos_2012Q3, y_predicted).round(2)"
   ]
  },
  {
   "cell_type": "code",
   "execution_count": 91,
   "metadata": {},
   "outputs": [
    {
     "data": {
      "text/plain": [
       "{'Out-of-sample recall of logistic_reg': 1.0,\n",
       " 'Out-of-sample recall of stochastic_gd': 1.0,\n",
       " 'Out-of-sample recall of gauss_nb': 0.0,\n",
       " 'Out-of-sample recall of svm': 0.88,\n",
       " 'Out-of-sample recall of decision_tree': 0.38,\n",
       " 'Out-of-sample recall of extra_tree': 0.88,\n",
       " 'Out-of-sample recall of random_forest': 0.88,\n",
       " 'Out-of-sample recall of ada_boost': 1.0,\n",
       " 'Out-of-sample recall of xgb_classifier': 1.0,\n",
       " 'Out-of-sample recall of dnn_classifier': 1.0}"
      ]
     },
     "execution_count": 91,
     "metadata": {},
     "output_type": "execute_result"
    }
   ],
   "source": [
    "recall_scores_oos"
   ]
  },
  {
   "cell_type": "code",
   "execution_count": null,
   "metadata": {},
   "outputs": [],
   "source": [
    "# Validation on 2012 Q4"
   ]
  },
  {
   "cell_type": "code",
   "execution_count": 95,
   "metadata": {},
   "outputs": [],
   "source": [
    "camel_outofsample = pd.read_csv('data/camel_data_after2012Q4_OOS.csv', index_col = 0)\n",
    "camel_validation_set = camel_outofsample.dropna()"
   ]
  },
  {
   "cell_type": "code",
   "execution_count": 96,
   "metadata": {},
   "outputs": [],
   "source": [
    "y_oos_2012Q4 = camel_validation_set['Target']\n",
    "X_oos_2012Q4 = camel_validation_set.drop(columns=['Target', 'AsOfDate'], axis=1)\n",
    "scaler = StandardScaler()\n",
    "scaler.fit(X_oos_2012Q4)\n",
    "X_oos_std_2012Q4 = scaler.transform(X_oos_2012Q4)"
   ]
  },
  {
   "cell_type": "code",
   "execution_count": 97,
   "metadata": {},
   "outputs": [],
   "source": [
    "recall_scores_oos = {}\n",
    "for model in models:\n",
    "    y_predicted = models[model].fit(X_train_std_res, y_train_res).predict(X_oos_std_2012Q4)\n",
    "    recall_scores_oos['Out-of-sample recall of '+model] = recall_score(y_oos_2012Q4, y_predicted).round(2)"
   ]
  },
  {
   "cell_type": "code",
   "execution_count": 98,
   "metadata": {},
   "outputs": [
    {
     "data": {
      "text/plain": [
       "{'Out-of-sample recall of logistic_reg': 1.0,\n",
       " 'Out-of-sample recall of stochastic_gd': 1.0,\n",
       " 'Out-of-sample recall of gauss_nb': 0.0,\n",
       " 'Out-of-sample recall of svm': 0.75,\n",
       " 'Out-of-sample recall of decision_tree': 0.0,\n",
       " 'Out-of-sample recall of extra_tree': 1.0,\n",
       " 'Out-of-sample recall of random_forest': 0.75,\n",
       " 'Out-of-sample recall of ada_boost': 0.75,\n",
       " 'Out-of-sample recall of xgb_classifier': 1.0,\n",
       " 'Out-of-sample recall of dnn_classifier': 0.0}"
      ]
     },
     "execution_count": 98,
     "metadata": {},
     "output_type": "execute_result"
    }
   ],
   "source": [
    "recall_scores_oos"
   ]
  },
  {
   "cell_type": "code",
   "execution_count": null,
   "metadata": {},
   "outputs": [],
   "source": []
  },
  {
   "cell_type": "code",
   "execution_count": null,
   "metadata": {},
   "outputs": [],
   "source": []
  },
  {
   "cell_type": "code",
   "execution_count": null,
   "metadata": {},
   "outputs": [],
   "source": [
    "# Deep out of sample validation on 2019 Q2"
   ]
  },
  {
   "cell_type": "code",
   "execution_count": 290,
   "metadata": {},
   "outputs": [
    {
     "data": {
      "text/plain": [
       "5198"
      ]
     },
     "execution_count": 290,
     "metadata": {},
     "output_type": "execute_result"
    }
   ],
   "source": [
    "camel_outofsample_2019 = pd.read_csv('data/camel_data_after2019Q2_OOS.csv', index_col = 0)\n",
    "len(camel_outofsample_2019)"
   ]
  },
  {
   "cell_type": "code",
   "execution_count": 292,
   "metadata": {},
   "outputs": [],
   "source": [
    "camel_validation_set_2019 = camel_outofsample_2019.dropna()"
   ]
  },
  {
   "cell_type": "code",
   "execution_count": 293,
   "metadata": {},
   "outputs": [
    {
     "data": {
      "text/plain": [
       "5194"
      ]
     },
     "execution_count": 293,
     "metadata": {},
     "output_type": "execute_result"
    }
   ],
   "source": [
    "len(camel_validation_set_2019)"
   ]
  },
  {
   "cell_type": "code",
   "execution_count": 297,
   "metadata": {},
   "outputs": [],
   "source": [
    "y_oos_2019 = camel_validation_set_2019['Target']\n",
    "X_oos_2019 = camel_validation_set_2019.drop(columns=['Target', 'AsOfDate'], axis=1)\n",
    "scaler = StandardScaler()\n",
    "scaler.fit(X_oos_2019)\n",
    "X_oos_std_2019 = scaler.transform(X_oos_2019)"
   ]
  },
  {
   "cell_type": "code",
   "execution_count": 298,
   "metadata": {},
   "outputs": [
    {
     "data": {
      "text/plain": [
       "Counter({1: 1, 0: 5193})"
      ]
     },
     "execution_count": 298,
     "metadata": {},
     "output_type": "execute_result"
    }
   ],
   "source": [
    "Counter(y_oos_2019)"
   ]
  },
  {
   "cell_type": "code",
   "execution_count": 299,
   "metadata": {},
   "outputs": [],
   "source": [
    "recall_scores_oos_2019 = {}\n",
    "for model in models:\n",
    "    recall_scores_oos_2019['Deep out-of-sample recall of '+model] = recall_score(y_oos_2019, models[model].fit(X_train_std_res, y_train_res).predict(X_oos_std_2019))"
   ]
  },
  {
   "cell_type": "code",
   "execution_count": 300,
   "metadata": {},
   "outputs": [
    {
     "data": {
      "text/plain": [
       "{'Deep out-of-sample recall of logistic_reg': 0.0,\n",
       " 'Deep out-of-sample recall of stochastic_gd': 0.0,\n",
       " 'Deep out-of-sample recall of gauss_nb': 0.0,\n",
       " 'Deep out-of-sample recall of svm': 0.0,\n",
       " 'Deep out-of-sample recall of decision_tree': 0.0,\n",
       " 'Deep out-of-sample recall of extra_tree': 0.0,\n",
       " 'Deep out-of-sample recall of random_forest': 0.0,\n",
       " 'Deep out-of-sample recall of ada_boost': 0.0,\n",
       " 'Deep out-of-sample recall of xgb_classifier': 0.0,\n",
       " 'Deep out-of-sample recall of dnn_classifier': 0.0}"
      ]
     },
     "execution_count": 300,
     "metadata": {},
     "output_type": "execute_result"
    }
   ],
   "source": [
    "recall_scores_oos_2019"
   ]
  },
  {
   "cell_type": "code",
   "execution_count": null,
   "metadata": {},
   "outputs": [],
   "source": []
  },
  {
   "cell_type": "code",
   "execution_count": null,
   "metadata": {},
   "outputs": [],
   "source": []
  },
  {
   "cell_type": "code",
   "execution_count": null,
   "metadata": {},
   "outputs": [],
   "source": []
  },
  {
   "cell_type": "code",
   "execution_count": null,
   "metadata": {},
   "outputs": [],
   "source": [
    "def fit_models(X, y):\n",
    "    mfit = {model: models[model].fit(X, y)\n",
    "           for model in models.keys()}\n",
    "    \n",
    "fit_models(X_train_std_res, y_train_res)\n",
    "\n",
    "def obtain_predictions(X, y):\n",
    "    predictions = {}\n",
    "    for model in models.keys():\n",
    "        predictions[str('pred_' + model)] = [models[model].predict(X)]\n",
    "        \n",
    "        return predictions\n",
    "\n",
    "pred = obtain_predictions(X_test_std, y_test)\n",
    "pred.keys()"
   ]
  },
  {
   "cell_type": "code",
   "execution_count": null,
   "metadata": {},
   "outputs": [],
   "source": []
  },
  {
   "cell_type": "code",
   "execution_count": null,
   "metadata": {},
   "outputs": [],
   "source": []
  },
  {
   "cell_type": "code",
   "execution_count": null,
   "metadata": {},
   "outputs": [],
   "source": []
  },
  {
   "cell_type": "markdown",
   "metadata": {},
   "source": [
    "## In-sample classification with Logistic Regression"
   ]
  },
  {
   "cell_type": "code",
   "execution_count": 12,
   "metadata": {},
   "outputs": [
    {
     "data": {
      "text/plain": [
       "LogisticRegression(C=1.0, class_weight=None, dual=False, fit_intercept=True,\n",
       "                   intercept_scaling=1, l1_ratio=None, max_iter=100,\n",
       "                   multi_class='warn', n_jobs=None, penalty='l2',\n",
       "                   random_state=None, solver='lbfgs', tol=0.0001, verbose=0,\n",
       "                   warm_start=False)"
      ]
     },
     "execution_count": 12,
     "metadata": {},
     "output_type": "execute_result"
    }
   ],
   "source": [
    "log_reg_res = LogisticRegression(solver='lbfgs')\n",
    "log_reg_res.fit(X_train_std_res, y_train_res)"
   ]
  },
  {
   "cell_type": "code",
   "execution_count": 13,
   "metadata": {},
   "outputs": [
    {
     "name": "stdout",
     "output_type": "stream",
     "text": [
      "Confusion Matrix :\n",
      "[[1338   38]\n",
      " [   2   25]]\n",
      "Accuracy Score : 0.9714896650035638\n",
      "Report : \n",
      "              precision    recall  f1-score   support\n",
      "\n",
      "           0       1.00      0.97      0.99      1376\n",
      "           1       0.40      0.93      0.56        27\n",
      "\n",
      "    accuracy                           0.97      1403\n",
      "   macro avg       0.70      0.95      0.77      1403\n",
      "weighted avg       0.99      0.97      0.98      1403\n",
      "\n"
     ]
    }
   ],
   "source": [
    "log_reg_res_y_test_pred = log_reg_res.predict(X_test_std)\n",
    "cf.report_classification_results(y_test, log_reg_res_y_test_pred)"
   ]
  },
  {
   "cell_type": "markdown",
   "metadata": {},
   "source": [
    "## Out-of-sample validation on 2011-Q3 data"
   ]
  },
  {
   "cell_type": "code",
   "execution_count": 14,
   "metadata": {},
   "outputs": [
    {
     "data": {
      "text/plain": [
       "18"
      ]
     },
     "execution_count": 14,
     "metadata": {},
     "output_type": "execute_result"
    }
   ],
   "source": [
    "camel_outofsample = pd.read_csv('data/camel_data_after2011Q3_OOS.csv', index_col = 0)\n",
    "camel_validation_set = camel_outofsample.dropna()\n",
    "len(camel_validation_set.loc[camel_validation_set.Target == 1])"
   ]
  },
  {
   "cell_type": "code",
   "execution_count": 15,
   "metadata": {},
   "outputs": [
    {
     "data": {
      "text/plain": [
       "Counter({0: 6583, 1: 46})"
      ]
     },
     "execution_count": 15,
     "metadata": {},
     "output_type": "execute_result"
    }
   ],
   "source": [
    "y_oos = camel_validation_set['Target']\n",
    "X_oos = camel_validation_set.drop(['Target', 'AsOfDate'], axis=1)\n",
    "log_reg_res_pred = log_reg_res.predict(X_oos)\n",
    "Counter(log_reg_res_pred)"
   ]
  },
  {
   "cell_type": "code",
   "execution_count": 16,
   "metadata": {},
   "outputs": [
    {
     "name": "stdout",
     "output_type": "stream",
     "text": [
      "Confusion Matrix :\n",
      "[[6565   46]\n",
      " [  18    0]]\n",
      "Accuracy Score : 0.9903454518026852\n",
      "Report : \n",
      "              precision    recall  f1-score   support\n",
      "\n",
      "           0       1.00      0.99      1.00      6611\n",
      "           1       0.00      0.00      0.00        18\n",
      "\n",
      "    accuracy                           0.99      6629\n",
      "   macro avg       0.50      0.50      0.50      6629\n",
      "weighted avg       0.99      0.99      0.99      6629\n",
      "\n"
     ]
    }
   ],
   "source": [
    "# To get the value of precision we divide the total number of correctly classified positive examples \n",
    "# by the total number of predicted positive examples. \n",
    "# High Precision indicates an example labeled as positive is indeed positive (small number of FP).\n",
    "\n",
    "# Recall can be defined as the ratio of the total number of correctly classified positive \n",
    "# examples divide to the total number of positive examples. \n",
    "# High Recall indicates the class is correctly recognized (small number of FN).\n",
    "\n",
    "# High recall, low precision:This means that most of the positive examples are correctly recognized (low FN) \n",
    "# but there are a lot of false positives. Low recall, high precision:This shows that we miss a lot \n",
    "# of positive examples (high FN) but those we predict as positive are indeed positive (low FP)\n",
    "\n",
    "cf.report_classification_results(y_oos, log_reg_res_pred)"
   ]
  },
  {
   "cell_type": "markdown",
   "metadata": {},
   "source": [
    " ## In-sample classification Stocastic Gradient Desent "
   ]
  },
  {
   "cell_type": "code",
   "execution_count": 21,
   "metadata": {},
   "outputs": [],
   "source": [
    "sgd_clf_res = SGDClassifier(random_state=1)\n",
    "sgd_clf_res.fit(X_train_std_res, y_train_res)\n",
    "\n",
    "sgd_clf_y_train_res_pred = cross_val_predict(sgd_clf_res, X_train_std_res, y_train_res, cv=3)"
   ]
  },
  {
   "cell_type": "code",
   "execution_count": 22,
   "metadata": {},
   "outputs": [],
   "source": [
    "sgd_clf_y_test_pred = cross_val_predict(sgd_clf_res, X_test_std, y_test, cv=3)"
   ]
  },
  {
   "cell_type": "code",
   "execution_count": 23,
   "metadata": {},
   "outputs": [
    {
     "name": "stdout",
     "output_type": "stream",
     "text": [
      "Confusion Matrix :\n",
      "[[1372    4]\n",
      " [  13   14]]\n",
      "Accuracy Score : 0.9878831076265147\n",
      "Report : \n",
      "              precision    recall  f1-score   support\n",
      "\n",
      "           0       0.99      1.00      0.99      1376\n",
      "           1       0.78      0.52      0.62        27\n",
      "\n",
      "    accuracy                           0.99      1403\n",
      "   macro avg       0.88      0.76      0.81      1403\n",
      "weighted avg       0.99      0.99      0.99      1403\n",
      "\n"
     ]
    }
   ],
   "source": [
    "cf.report_classification_results(y_test, sgd_clf_y_test_pred)"
   ]
  },
  {
   "cell_type": "code",
   "execution_count": null,
   "metadata": {},
   "outputs": [],
   "source": []
  },
  {
   "cell_type": "code",
   "execution_count": 80,
   "metadata": {},
   "outputs": [],
   "source": [
    "# def plot_precision_recall(precisions, recalls, thresholds):\n",
    "#     plt.plot(thresholds, precisions[: -1], 'b--', label='Precision')\n",
    "#     plt.plot(thresholds, recalls[: -1], 'g-', label='Recall')\n",
    "#     plt.xlabel('Threshold')\n",
    "#     plt.legend(loc='center left')\n",
    "#     plt.ylim([0,1])"
   ]
  },
  {
   "cell_type": "code",
   "execution_count": 24,
   "metadata": {},
   "outputs": [
    {
     "data": {
      "image/png": "[encoded data removed]",
      "text/plain": [
       "<Figure size 576x396 with 1 Axes>"
      ]
     },
     "metadata": {},
     "output_type": "display_data"
    }
   ],
   "source": [
    "# Training\n",
    "sgd_y_train_res_scores = cross_val_predict(sgd_clf_res, X_train_std_res, y_train_res, cv=3, method='decision_function')\n",
    "sgd_train_precisions, sgd_train_recalls, sgd_train_thresholds = precision_recall_curve(y_train_res, sgd_y_train_res_scores)\n",
    "cf.plot_precision_recall(sgd_train_precisions, sgd_train_recalls, sgd_train_thresholds)"
   ]
  },
  {
   "cell_type": "code",
   "execution_count": 25,
   "metadata": {},
   "outputs": [
    {
     "data": {
      "image/png": "[encoded data removed]",
      "text/plain": [
       "<Figure size 576x396 with 1 Axes>"
      ]
     },
     "metadata": {},
     "output_type": "display_data"
    }
   ],
   "source": [
    "# Testing\n",
    "sgd_y_test_res_scores = cross_val_predict(sgd_clf_res, X_test_std, y_test, cv=3, method='decision_function')\n",
    "sgd_test_precisions, sgd_test_recalls, sgd_test_thresholds = precision_recall_curve(y_test, sgd_y_test_res_scores)\n",
    "cf.plot_precision_recall(sgd_test_precisions, sgd_test_recalls, sgd_test_thresholds)"
   ]
  },
  {
   "cell_type": "code",
   "execution_count": 26,
   "metadata": {},
   "outputs": [
    {
     "data": {
      "image/png": "[encoded data removed]",
      "text/plain": [
       "<Figure size 576x396 with 1 Axes>"
      ]
     },
     "metadata": {},
     "output_type": "display_data"
    }
   ],
   "source": [
    "# Validation \n",
    "sgd_y_oos_res_scores = cross_val_predict(sgd_clf_res, X_oos, y_oos, cv=3, method='decision_function')\n",
    "sgd_oos_precisions, sgd_oos_recalls, sgd_oos_thresholds = precision_recall_curve(y_oos, sgd_y_oos_res_scores)\n",
    "cf.plot_precision_recall(sgd_test_precisions, sgd_test_recalls, sgd_test_thresholds)"
   ]
  },
  {
   "cell_type": "code",
   "execution_count": null,
   "metadata": {},
   "outputs": [],
   "source": []
  },
  {
   "cell_type": "code",
   "execution_count": null,
   "metadata": {},
   "outputs": [],
   "source": []
  },
  {
   "cell_type": "code",
   "execution_count": 41,
   "metadata": {},
   "outputs": [],
   "source": [
    "def plot_roc_curve(fpr, tpr, label=None):\n",
    "    \n",
    "    plt.plot(fpr, tpr, linewidth=2, label=label)\n",
    "    plt.plot([0,1], [0,1], 'k--')\n",
    "    plt.axis([0,1,0,1])\n",
    "    plt.xlabel('False Positive Rate')\n",
    "    plt.ylabel('True Negatove Rate')"
   ]
  },
  {
   "cell_type": "code",
   "execution_count": 42,
   "metadata": {},
   "outputs": [
    {
     "data": {
      "image/png": "[encoded data removed]",
      "text/plain": [
       "<Figure size 432x288 with 1 Axes>"
      ]
     },
     "metadata": {
      "needs_background": "light"
     },
     "output_type": "display_data"
    }
   ],
   "source": [
    "fpr, tpr, thresholds = roc_curve(y_train_res, sgd_y_train_res_scores)\n",
    "plot_roc_curve(fpr, tpr)"
   ]
  },
  {
   "cell_type": "code",
   "execution_count": 35,
   "metadata": {},
   "outputs": [
    {
     "ename": "RecursionError",
     "evalue": "maximum recursion depth exceeded in comparison",
     "output_type": "error",
     "traceback": [
      "\u001b[0;31m---------------------------------------------------------------------------\u001b[0m",
      "\u001b[0;31mRecursionError\u001b[0m                            Traceback (most recent call last)",
      "\u001b[0;32m<ipython-input-35-7520f44f2f39>\u001b[0m in \u001b[0;36m<module>\u001b[0;34m\u001b[0m\n\u001b[1;32m      1\u001b[0m \u001b[0;31m# Training\u001b[0m\u001b[0;34m\u001b[0m\u001b[0;34m\u001b[0m\u001b[0;34m\u001b[0m\u001b[0m\n\u001b[1;32m      2\u001b[0m \u001b[0mfpr\u001b[0m\u001b[0;34m,\u001b[0m \u001b[0mtpr\u001b[0m\u001b[0;34m,\u001b[0m \u001b[0mthresholds\u001b[0m \u001b[0;34m=\u001b[0m \u001b[0mroc_curve\u001b[0m\u001b[0;34m(\u001b[0m\u001b[0my_train_res\u001b[0m\u001b[0;34m,\u001b[0m \u001b[0msgd_y_train_res_scores\u001b[0m\u001b[0;34m)\u001b[0m\u001b[0;34m\u001b[0m\u001b[0;34m\u001b[0m\u001b[0m\n\u001b[0;32m----> 3\u001b[0;31m \u001b[0mcf\u001b[0m\u001b[0;34m.\u001b[0m\u001b[0mplot_roc_curve\u001b[0m\u001b[0;34m(\u001b[0m\u001b[0mfpr\u001b[0m\u001b[0;34m,\u001b[0m \u001b[0mtpr\u001b[0m\u001b[0;34m)\u001b[0m\u001b[0;34m\u001b[0m\u001b[0;34m\u001b[0m\u001b[0m\n\u001b[0m",
      "\u001b[0;32m~/Documents/code/fis/final project/predicting_bank_distress/custom_functions.py\u001b[0m in \u001b[0;36mplot_roc_curve\u001b[0;34m(fpr, tpr, label)\u001b[0m\n\u001b[1;32m     86\u001b[0m     \u001b[0mplt\u001b[0m\u001b[0;34m.\u001b[0m\u001b[0mxlabel\u001b[0m\u001b[0;34m(\u001b[0m\u001b[0;34m'False Positive Rate'\u001b[0m\u001b[0;34m)\u001b[0m\u001b[0;34m\u001b[0m\u001b[0;34m\u001b[0m\u001b[0m\n\u001b[1;32m     87\u001b[0m     \u001b[0mplt\u001b[0m\u001b[0;34m.\u001b[0m\u001b[0mylabel\u001b[0m\u001b[0;34m(\u001b[0m\u001b[0;34m'True Negatove Rate'\u001b[0m\u001b[0;34m)\u001b[0m\u001b[0;34m\u001b[0m\u001b[0;34m\u001b[0m\u001b[0m\n\u001b[0;32m---> 88\u001b[0;31m     \u001b[0mplot_roc_curve\u001b[0m\u001b[0;34m(\u001b[0m\u001b[0mfpr\u001b[0m\u001b[0;34m,\u001b[0m \u001b[0mtpr\u001b[0m\u001b[0;34m)\u001b[0m\u001b[0;34m\u001b[0m\u001b[0;34m\u001b[0m\u001b[0m\n\u001b[0m",
      "... last 1 frames repeated, from the frame below ...\n",
      "\u001b[0;32m~/Documents/code/fis/final project/predicting_bank_distress/custom_functions.py\u001b[0m in \u001b[0;36mplot_roc_curve\u001b[0;34m(fpr, tpr, label)\u001b[0m\n\u001b[1;32m     86\u001b[0m     \u001b[0mplt\u001b[0m\u001b[0;34m.\u001b[0m\u001b[0mxlabel\u001b[0m\u001b[0;34m(\u001b[0m\u001b[0;34m'False Positive Rate'\u001b[0m\u001b[0;34m)\u001b[0m\u001b[0;34m\u001b[0m\u001b[0;34m\u001b[0m\u001b[0m\n\u001b[1;32m     87\u001b[0m     \u001b[0mplt\u001b[0m\u001b[0;34m.\u001b[0m\u001b[0mylabel\u001b[0m\u001b[0;34m(\u001b[0m\u001b[0;34m'True Negatove Rate'\u001b[0m\u001b[0;34m)\u001b[0m\u001b[0;34m\u001b[0m\u001b[0;34m\u001b[0m\u001b[0m\n\u001b[0;32m---> 88\u001b[0;31m     \u001b[0mplot_roc_curve\u001b[0m\u001b[0;34m(\u001b[0m\u001b[0mfpr\u001b[0m\u001b[0;34m,\u001b[0m \u001b[0mtpr\u001b[0m\u001b[0;34m)\u001b[0m\u001b[0;34m\u001b[0m\u001b[0;34m\u001b[0m\u001b[0m\n\u001b[0m",
      "\u001b[0;31mRecursionError\u001b[0m: maximum recursion depth exceeded in comparison"
     ]
    },
    {
     "data": {
      "image/png": "[encoded data removed]",
      "text/plain": [
       "<Figure size 576x396 with 1 Axes>"
      ]
     },
     "metadata": {},
     "output_type": "display_data"
    }
   ],
   "source": [
    "# Training\n",
    "fpr, tpr, thresholds = roc_curve(y_train_res, sgd_y_train_res_scores)\n",
    "cf.plot_roc_curve(fpr, tpr)"
   ]
  },
  {
   "cell_type": "code",
   "execution_count": 28,
   "metadata": {},
   "outputs": [
    {
     "ename": "RecursionError",
     "evalue": "maximum recursion depth exceeded in comparison",
     "output_type": "error",
     "traceback": [
      "\u001b[0;31m---------------------------------------------------------------------------\u001b[0m",
      "\u001b[0;31mRecursionError\u001b[0m                            Traceback (most recent call last)",
      "\u001b[0;32m<ipython-input-28-1daa52ffc3c5>\u001b[0m in \u001b[0;36m<module>\u001b[0;34m\u001b[0m\n\u001b[1;32m      2\u001b[0m \u001b[0msgd_y_test_res_scores\u001b[0m \u001b[0;34m=\u001b[0m \u001b[0mcross_val_predict\u001b[0m\u001b[0;34m(\u001b[0m\u001b[0msgd_clf_res\u001b[0m\u001b[0;34m,\u001b[0m \u001b[0mX_test_std\u001b[0m\u001b[0;34m,\u001b[0m \u001b[0my_test\u001b[0m\u001b[0;34m,\u001b[0m \u001b[0mcv\u001b[0m\u001b[0;34m=\u001b[0m\u001b[0;36m3\u001b[0m\u001b[0;34m,\u001b[0m \u001b[0mmethod\u001b[0m\u001b[0;34m=\u001b[0m\u001b[0;34m'decision_function'\u001b[0m\u001b[0;34m)\u001b[0m\u001b[0;34m\u001b[0m\u001b[0;34m\u001b[0m\u001b[0m\n\u001b[1;32m      3\u001b[0m \u001b[0mfpr\u001b[0m\u001b[0;34m,\u001b[0m \u001b[0mtpr\u001b[0m\u001b[0;34m,\u001b[0m \u001b[0mthresholds\u001b[0m \u001b[0;34m=\u001b[0m \u001b[0mroc_curve\u001b[0m\u001b[0;34m(\u001b[0m\u001b[0my_test\u001b[0m\u001b[0;34m,\u001b[0m \u001b[0msgd_y_test_res_scores\u001b[0m\u001b[0;34m)\u001b[0m\u001b[0;34m\u001b[0m\u001b[0;34m\u001b[0m\u001b[0m\n\u001b[0;32m----> 4\u001b[0;31m \u001b[0mcf\u001b[0m\u001b[0;34m.\u001b[0m\u001b[0mplot_roc_curve\u001b[0m\u001b[0;34m(\u001b[0m\u001b[0mfpr\u001b[0m\u001b[0;34m,\u001b[0m \u001b[0mtpr\u001b[0m\u001b[0;34m)\u001b[0m\u001b[0;34m\u001b[0m\u001b[0;34m\u001b[0m\u001b[0m\n\u001b[0m",
      "\u001b[0;32m~/Documents/code/fis/final project/predicting_bank_distress/custom_functions.py\u001b[0m in \u001b[0;36mplot_roc_curve\u001b[0;34m(fpr, tpr, label)\u001b[0m\n\u001b[1;32m     86\u001b[0m     \u001b[0mplt\u001b[0m\u001b[0;34m.\u001b[0m\u001b[0mxlabel\u001b[0m\u001b[0;34m(\u001b[0m\u001b[0;34m'False Positive Rate'\u001b[0m\u001b[0;34m)\u001b[0m\u001b[0;34m\u001b[0m\u001b[0;34m\u001b[0m\u001b[0m\n\u001b[1;32m     87\u001b[0m     \u001b[0mplt\u001b[0m\u001b[0;34m.\u001b[0m\u001b[0mylabel\u001b[0m\u001b[0;34m(\u001b[0m\u001b[0;34m'True Negatove Rate'\u001b[0m\u001b[0;34m)\u001b[0m\u001b[0;34m\u001b[0m\u001b[0;34m\u001b[0m\u001b[0m\n\u001b[0;32m---> 88\u001b[0;31m     \u001b[0mplot_roc_curve\u001b[0m\u001b[0;34m(\u001b[0m\u001b[0mfpr\u001b[0m\u001b[0;34m,\u001b[0m \u001b[0mtpr\u001b[0m\u001b[0;34m)\u001b[0m\u001b[0;34m\u001b[0m\u001b[0;34m\u001b[0m\u001b[0m\n\u001b[0m",
      "... last 1 frames repeated, from the frame below ...\n",
      "\u001b[0;32m~/Documents/code/fis/final project/predicting_bank_distress/custom_functions.py\u001b[0m in \u001b[0;36mplot_roc_curve\u001b[0;34m(fpr, tpr, label)\u001b[0m\n\u001b[1;32m     86\u001b[0m     \u001b[0mplt\u001b[0m\u001b[0;34m.\u001b[0m\u001b[0mxlabel\u001b[0m\u001b[0;34m(\u001b[0m\u001b[0;34m'False Positive Rate'\u001b[0m\u001b[0;34m)\u001b[0m\u001b[0;34m\u001b[0m\u001b[0;34m\u001b[0m\u001b[0m\n\u001b[1;32m     87\u001b[0m     \u001b[0mplt\u001b[0m\u001b[0;34m.\u001b[0m\u001b[0mylabel\u001b[0m\u001b[0;34m(\u001b[0m\u001b[0;34m'True Negatove Rate'\u001b[0m\u001b[0;34m)\u001b[0m\u001b[0;34m\u001b[0m\u001b[0;34m\u001b[0m\u001b[0m\n\u001b[0;32m---> 88\u001b[0;31m     \u001b[0mplot_roc_curve\u001b[0m\u001b[0;34m(\u001b[0m\u001b[0mfpr\u001b[0m\u001b[0;34m,\u001b[0m \u001b[0mtpr\u001b[0m\u001b[0;34m)\u001b[0m\u001b[0;34m\u001b[0m\u001b[0;34m\u001b[0m\u001b[0m\n\u001b[0m",
      "\u001b[0;31mRecursionError\u001b[0m: maximum recursion depth exceeded in comparison"
     ]
    },
    {
     "data": {
      "image/png": "[encoded data removed]",
      "text/plain": [
       "<Figure size 576x396 with 1 Axes>"
      ]
     },
     "metadata": {},
     "output_type": "display_data"
    }
   ],
   "source": [
    "# Testing\n",
    "sgd_y_test_res_scores = cross_val_predict(sgd_clf_res, X_test_std, y_test, cv=3, method='decision_function')\n",
    "fpr, tpr, thresholds = roc_curve(y_test, sgd_y_test_res_scores)\n",
    "cf.plot_roc_curve(fpr, tpr)"
   ]
  },
  {
   "cell_type": "code",
   "execution_count": 29,
   "metadata": {},
   "outputs": [
    {
     "ename": "RecursionError",
     "evalue": "maximum recursion depth exceeded in comparison",
     "output_type": "error",
     "traceback": [
      "\u001b[0;31m---------------------------------------------------------------------------\u001b[0m",
      "\u001b[0;31mRecursionError\u001b[0m                            Traceback (most recent call last)",
      "\u001b[0;32m<ipython-input-29-d3c766f88513>\u001b[0m in \u001b[0;36m<module>\u001b[0;34m\u001b[0m\n\u001b[1;32m      2\u001b[0m \u001b[0msgd_y_oos_scores\u001b[0m \u001b[0;34m=\u001b[0m \u001b[0mcross_val_predict\u001b[0m\u001b[0;34m(\u001b[0m\u001b[0msgd_clf_res\u001b[0m\u001b[0;34m,\u001b[0m \u001b[0mX_oos\u001b[0m\u001b[0;34m,\u001b[0m \u001b[0my_oos\u001b[0m\u001b[0;34m,\u001b[0m \u001b[0mcv\u001b[0m\u001b[0;34m=\u001b[0m\u001b[0;36m3\u001b[0m\u001b[0;34m,\u001b[0m \u001b[0mmethod\u001b[0m\u001b[0;34m=\u001b[0m\u001b[0;34m'decision_function'\u001b[0m\u001b[0;34m)\u001b[0m\u001b[0;34m\u001b[0m\u001b[0;34m\u001b[0m\u001b[0m\n\u001b[1;32m      3\u001b[0m \u001b[0mfpr\u001b[0m\u001b[0;34m,\u001b[0m \u001b[0mtpr\u001b[0m\u001b[0;34m,\u001b[0m \u001b[0mthresholds\u001b[0m \u001b[0;34m=\u001b[0m \u001b[0mroc_curve\u001b[0m\u001b[0;34m(\u001b[0m\u001b[0my_oos\u001b[0m\u001b[0;34m,\u001b[0m \u001b[0msgd_y_oos_scores\u001b[0m\u001b[0;34m)\u001b[0m\u001b[0;34m\u001b[0m\u001b[0;34m\u001b[0m\u001b[0m\n\u001b[0;32m----> 4\u001b[0;31m \u001b[0mcf\u001b[0m\u001b[0;34m.\u001b[0m\u001b[0mplot_roc_curve\u001b[0m\u001b[0;34m(\u001b[0m\u001b[0mfpr\u001b[0m\u001b[0;34m,\u001b[0m \u001b[0mtpr\u001b[0m\u001b[0;34m)\u001b[0m\u001b[0;34m\u001b[0m\u001b[0;34m\u001b[0m\u001b[0m\n\u001b[0m",
      "\u001b[0;32m~/Documents/code/fis/final project/predicting_bank_distress/custom_functions.py\u001b[0m in \u001b[0;36mplot_roc_curve\u001b[0;34m(fpr, tpr, label)\u001b[0m\n\u001b[1;32m     86\u001b[0m     \u001b[0mplt\u001b[0m\u001b[0;34m.\u001b[0m\u001b[0mxlabel\u001b[0m\u001b[0;34m(\u001b[0m\u001b[0;34m'False Positive Rate'\u001b[0m\u001b[0;34m)\u001b[0m\u001b[0;34m\u001b[0m\u001b[0;34m\u001b[0m\u001b[0m\n\u001b[1;32m     87\u001b[0m     \u001b[0mplt\u001b[0m\u001b[0;34m.\u001b[0m\u001b[0mylabel\u001b[0m\u001b[0;34m(\u001b[0m\u001b[0;34m'True Negatove Rate'\u001b[0m\u001b[0;34m)\u001b[0m\u001b[0;34m\u001b[0m\u001b[0;34m\u001b[0m\u001b[0m\n\u001b[0;32m---> 88\u001b[0;31m     \u001b[0mplot_roc_curve\u001b[0m\u001b[0;34m(\u001b[0m\u001b[0mfpr\u001b[0m\u001b[0;34m,\u001b[0m \u001b[0mtpr\u001b[0m\u001b[0;34m)\u001b[0m\u001b[0;34m\u001b[0m\u001b[0;34m\u001b[0m\u001b[0m\n\u001b[0m",
      "... last 1 frames repeated, from the frame below ...\n",
      "\u001b[0;32m~/Documents/code/fis/final project/predicting_bank_distress/custom_functions.py\u001b[0m in \u001b[0;36mplot_roc_curve\u001b[0;34m(fpr, tpr, label)\u001b[0m\n\u001b[1;32m     86\u001b[0m     \u001b[0mplt\u001b[0m\u001b[0;34m.\u001b[0m\u001b[0mxlabel\u001b[0m\u001b[0;34m(\u001b[0m\u001b[0;34m'False Positive Rate'\u001b[0m\u001b[0;34m)\u001b[0m\u001b[0;34m\u001b[0m\u001b[0;34m\u001b[0m\u001b[0m\n\u001b[1;32m     87\u001b[0m     \u001b[0mplt\u001b[0m\u001b[0;34m.\u001b[0m\u001b[0mylabel\u001b[0m\u001b[0;34m(\u001b[0m\u001b[0;34m'True Negatove Rate'\u001b[0m\u001b[0;34m)\u001b[0m\u001b[0;34m\u001b[0m\u001b[0;34m\u001b[0m\u001b[0m\n\u001b[0;32m---> 88\u001b[0;31m     \u001b[0mplot_roc_curve\u001b[0m\u001b[0;34m(\u001b[0m\u001b[0mfpr\u001b[0m\u001b[0;34m,\u001b[0m \u001b[0mtpr\u001b[0m\u001b[0;34m)\u001b[0m\u001b[0;34m\u001b[0m\u001b[0;34m\u001b[0m\u001b[0m\n\u001b[0m",
      "\u001b[0;31mRecursionError\u001b[0m: maximum recursion depth exceeded in comparison"
     ]
    },
    {
     "data": {
      "image/png": "[encoded data removed]",
      "text/plain": [
       "<Figure size 576x396 with 1 Axes>"
      ]
     },
     "metadata": {},
     "output_type": "display_data"
    }
   ],
   "source": [
    "# Validation\n",
    "sgd_y_oos_scores = cross_val_predict(sgd_clf_res, X_oos, y_oos, cv=3, method='decision_function')\n",
    "fpr, tpr, thresholds = roc_curve(y_oos, sgd_y_oos_scores)\n",
    "cf.plot_roc_curve(fpr, tpr)"
   ]
  },
  {
   "cell_type": "markdown",
   "metadata": {},
   "source": [
    "## Out-of-sample validation"
   ]
  },
  {
   "cell_type": "code",
   "execution_count": 32,
   "metadata": {},
   "outputs": [
    {
     "data": {
      "text/plain": [
       "array([[5655,  956],\n",
       "       [   0,   18]])"
      ]
     },
     "execution_count": 32,
     "metadata": {},
     "output_type": "execute_result"
    }
   ],
   "source": [
    "sgd_clf_res_pred = sgd_clf_res.predict(X_oos)\n",
    "confusion_matrix(y_oos, sgd_clf_res_pred)"
   ]
  },
  {
   "cell_type": "code",
   "execution_count": 33,
   "metadata": {},
   "outputs": [
    {
     "name": "stdout",
     "output_type": "stream",
     "text": [
      "Confusion Matrix :\n",
      "[[5655  956]\n",
      " [   0   18]]\n",
      "Accuracy Score : 0.8557851863026097\n",
      "Report : \n",
      "              precision    recall  f1-score   support\n",
      "\n",
      "           0       1.00      0.86      0.92      6611\n",
      "           1       0.02      1.00      0.04        18\n",
      "\n",
      "    accuracy                           0.86      6629\n",
      "   macro avg       0.51      0.93      0.48      6629\n",
      "weighted avg       1.00      0.86      0.92      6629\n",
      "\n"
     ]
    }
   ],
   "source": [
    "cf.report_classification_results(y_oos, sgd_clf_res_pred)"
   ]
  },
  {
   "cell_type": "code",
   "execution_count": null,
   "metadata": {},
   "outputs": [],
   "source": []
  },
  {
   "cell_type": "code",
   "execution_count": null,
   "metadata": {},
   "outputs": [],
   "source": []
  },
  {
   "cell_type": "code",
   "execution_count": null,
   "metadata": {},
   "outputs": [],
   "source": []
  },
  {
   "cell_type": "code",
   "execution_count": null,
   "metadata": {},
   "outputs": [],
   "source": []
  },
  {
   "cell_type": "code",
   "execution_count": null,
   "metadata": {},
   "outputs": [],
   "source": []
  },
  {
   "cell_type": "code",
   "execution_count": null,
   "metadata": {},
   "outputs": [],
   "source": []
  },
  {
   "cell_type": "code",
   "execution_count": null,
   "metadata": {},
   "outputs": [],
   "source": []
  },
  {
   "cell_type": "code",
   "execution_count": null,
   "metadata": {},
   "outputs": [],
   "source": []
  },
  {
   "cell_type": "code",
   "execution_count": null,
   "metadata": {},
   "outputs": [],
   "source": []
  },
  {
   "cell_type": "code",
   "execution_count": null,
   "metadata": {},
   "outputs": [],
   "source": []
  },
  {
   "cell_type": "code",
   "execution_count": null,
   "metadata": {},
   "outputs": [],
   "source": []
  },
  {
   "cell_type": "code",
   "execution_count": null,
   "metadata": {},
   "outputs": [],
   "source": []
  },
  {
   "cell_type": "markdown",
   "metadata": {},
   "source": [
    "## Deep out of sample validation"
   ]
  },
  {
   "cell_type": "code",
   "execution_count": 35,
   "metadata": {},
   "outputs": [
    {
     "data": {
      "text/plain": [
       "1"
      ]
     },
     "execution_count": 35,
     "metadata": {},
     "output_type": "execute_result"
    }
   ],
   "source": [
    "# Deep out of sample validation -- > out of sample validation on 2019 Q2 data\n",
    "\n",
    "camel_outofsample2 = pd.read_csv('data/camel_data_after2019Q2_OOS.csv', index_col = 0)\n",
    "camel_validation_set2 = camel_outofsample2.dropna()\n",
    "len(camel_validation_set2.loc[camel_validation_set2.Target == 1])"
   ]
  },
  {
   "cell_type": "code",
   "execution_count": 36,
   "metadata": {},
   "outputs": [
    {
     "data": {
      "text/plain": [
       "Counter({0: 5025, 1: 169})"
      ]
     },
     "execution_count": 36,
     "metadata": {},
     "output_type": "execute_result"
    }
   ],
   "source": [
    "y_oos2 = camel_validation_set2['Target']\n",
    "X_oos2 = camel_validation_set2.drop(['Target', 'AsOfDate'], axis=1)\n",
    "sgd_clf_res_pred2 = sgd_clf_res.predict(X_oos2)\n",
    "Counter(sgd_clf_res_pred2)"
   ]
  },
  {
   "cell_type": "code",
   "execution_count": 96,
   "metadata": {},
   "outputs": [
    {
     "data": {
      "text/plain": [
       "array([[5024,  169],\n",
       "       [   1,    0]])"
      ]
     },
     "execution_count": 96,
     "metadata": {},
     "output_type": "execute_result"
    }
   ],
   "source": [
    "sgd_clf_res_pred2 = sgd_clf_res.predict(X_oos2)\n",
    "confusion_matrix(y_oos2, sgd_clf_res_pred2)"
   ]
  },
  {
   "cell_type": "code",
   "execution_count": 37,
   "metadata": {},
   "outputs": [
    {
     "name": "stdout",
     "output_type": "stream",
     "text": [
      "Confusion Matrix :\n",
      "[[5024  169]\n",
      " [   1    0]]\n",
      "Accuracy Score : 0.96726992683866\n",
      "Report : \n",
      "              precision    recall  f1-score   support\n",
      "\n",
      "           0       1.00      0.97      0.98      5193\n",
      "           1       0.00      0.00      0.00         1\n",
      "\n",
      "    accuracy                           0.97      5194\n",
      "   macro avg       0.50      0.48      0.49      5194\n",
      "weighted avg       1.00      0.97      0.98      5194\n",
      "\n"
     ]
    }
   ],
   "source": [
    "classification_results_report(y_oos2, sgd_clf_res_pred2)"
   ]
  }
 ],
 "metadata": {
  "kernelspec": {
   "display_name": "Python 3",
   "language": "python",
   "name": "python3"
  },
  "language_info": {
   "codemirror_mode": {
    "name": "ipython",
    "version": 3
   },
   "file_extension": ".py",
   "mimetype": "text/x-python",
   "name": "python",
   "nbconvert_exporter": "python",
   "pygments_lexer": "ipython3",
   "version": "3.7.3"
  }
 },
 "nbformat": 4,
 "nbformat_minor": 2
}

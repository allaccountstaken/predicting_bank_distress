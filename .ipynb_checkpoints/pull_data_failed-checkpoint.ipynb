{
 "cells": [
  {
   "cell_type": "code",
   "execution_count": 1,
   "metadata": {},
   "outputs": [],
   "source": [
    "import pandas as pd\n",
    "import numpy as np\n",
    "import matplotlib.pyplot as plt\n",
    "%matplotlib inline\n",
    "from ffipy import FFIEC_Client\n",
    "from io import StringIO"
   ]
  },
  {
   "cell_type": "code",
   "execution_count": 175,
   "metadata": {},
   "outputs": [
    {
     "data": {
      "text/plain": [
       "30"
      ]
     },
     "execution_count": 175,
     "metadata": {},
     "output_type": "execute_result"
    }
   ],
   "source": [
    "failed_banks_df = pd.read_csv('data/failed_banks_dataset.csv')\n",
    "failed_banks_df['Date'] = pd.to_datetime(failed_banks_df['Closing Date'])\n",
    "failed_banks_df['Year_failed'] = failed_banks_df['Date'].dt.year\n",
    "failed_banks_df['Quarter_failed'] = failed_banks_df['Date'].dt.quarter\n",
    "failed_banks_2010Q4 = failed_banks_df.loc[(failed_banks_df.Year_failed == 2010) & (failed_banks_df.Quarter_failed == 4)]\n",
    "failed_banks_2010Q4.head()\n",
    "failed_banks_2010Q4['CERT'].count()"
   ]
  },
  {
   "cell_type": "code",
   "execution_count": 72,
   "metadata": {},
   "outputs": [],
   "source": []
  },
  {
   "cell_type": "code",
   "execution_count": 114,
   "metadata": {},
   "outputs": [],
   "source": [
    "# Updated list of selected financials include loan types now\n",
    "selected_financials = {'RIAD3210' : 'Total equity capital', # Alt can be RCONG105\n",
    "                       'RCON2170' : 'Total assets', # Ok\n",
    "                       'RCON3360' : 'Total loans', #ok\n",
    "                       'RCON3465' : '1-4 family residential loans', \n",
    "                       'RCON3466' : 'Other real estate loans',\n",
    "                       'RCON3387' : 'Commercial and industrial loans',\n",
    "                       'RCONB561' : 'Credit cards',\n",
    "                       'RCON3123' : 'Allowance for loan losses', # OK\n",
    "                       'RIAD4093' : 'Total noninterest expense', #OK\n",
    "                       'RIAD4340' : 'Net Income attributable', # ok\n",
    "                       'RCON2215' : 'Total transaction deposits', # ok\n",
    "                       'RCON2385' : 'Total nontransaction deposits', # ok\n",
    "                       'RCON1773' : 'Available-for-sale Fair Value'\n",
    "                      } "
   ]
  },
  {
   "cell_type": "code",
   "execution_count": 174,
   "metadata": {},
   "outputs": [
    {
     "data": {
      "text/plain": [
       "13"
      ]
     },
     "execution_count": 174,
     "metadata": {},
     "output_type": "execute_result"
    }
   ],
   "source": [
    "len(selected_financials.keys())\n",
    "columns = list(selected_financials.keys())\n",
    "len(columns)"
   ]
  },
  {
   "cell_type": "code",
   "execution_count": null,
   "metadata": {},
   "outputs": [],
   "source": []
  },
  {
   "cell_type": "code",
   "execution_count": 127,
   "metadata": {},
   "outputs": [
    {
     "name": "stdout",
     "output_type": "stream",
     "text": [
      "counter at  0  pulling CERT#  23306\n",
      "counter at  1  pulling CERT#  58052\n",
      "counter at  2  pulling CERT#  35065\n",
      "counter at  3  pulling CERT#  58495\n",
      "counter at  4  pulling CERT#  34578\n",
      "counter at  5  pulling CERT#  19040\n",
      "counter at  6  pulling CERT#  35561\n",
      "counter at  7  pulling CERT#  34673\n",
      "counter at  8  pulling CERT#  5287\n",
      "counter at  9  pulling CERT#  35078\n",
      "counter at  10  pulling CERT#  20340\n",
      "counter at  11  pulling CERT#  35463\n",
      "counter at  12  pulling CERT#  14580\n",
      "counter at  13  pulling CERT#  57831\n",
      "counter at  14  pulling CERT#  57885\n",
      "counter at  15  pulling CERT#  34411\n",
      "counter at  16  pulling CERT#  58087\n",
      "counter at  17  pulling CERT#  31263\n",
      "counter at  18  pulling CERT#  32582\n",
      "counter at  19  pulling CERT#  22173\n",
      "counter at  20  pulling CERT#  16089\n",
      "counter at  21  pulling CERT#  2119\n",
      "counter at  22  pulling CERT#  33904\n",
      "counter at  23  pulling CERT#  32251\n",
      "counter at  24  pulling CERT#  27573\n",
      "counter at  25  pulling CERT#  34016\n",
      "counter at  26  pulling CERT#  58205\n",
      "counter at  27  pulling CERT#  30898\n",
      "counter at  28  pulling CERT#  35250\n",
      "counter at  29  pulling CERT#  21777\n"
     ]
    }
   ],
   "source": [
    "# Pull 30 reports, drop all values but 13 selected metrics -- returns only 27\n",
    "all_data_df = pd.DataFrame()\n",
    "fin_data_dic = {}\n",
    "for i in range(len(banks_CERT_2010Q4_list)):\n",
    "\n",
    "    ds_name = 'Call'    # Pull Call report data\n",
    "    end_date = '9/30/2010'  # Pull data in reporting pd ending 3/31/17\n",
    "    fiID_type = 'FDICCertNumber'  # Type of financial inst identifier (ID_RSSD, CERT )\n",
    "    fiID = banks_CERT_2010Q4_list[i]   # Indentifier for Wyomin Bank and Trust\n",
    "    print(\"counter at \", i, \" pulling CERT# \", fiID)\n",
    "    fmt = 'SDF'  # Pull report as PDF\n",
    "    # <facsimileFormat>PDF or XBRL or SDF</facsimileFormat>\n",
    "    #outfile = 'test8.PDF'  # Output file path\n",
    "    return_result = True  # If True, method returns the data\n",
    "    try:\n",
    "        f = client.retrieve_facsimile(ds_name=ds_name, reporting_pd_end=end_date,\n",
    "                                      fiID_type=fiID_type, fiID=fiID,\n",
    "                                      facsimile_fmt=fmt, outfile=False,\n",
    "                                      return_result=True)\n",
    "        report = StringIO(str(f, 'utf-8'))\n",
    "        report_df = pd.read_csv(report, sep=';')\n",
    "        report_df.columns = ['Call Date', 'Bank RSSD Identifier', 'ValueID', 'Value', 'Last Update',\n",
    "       'Short Definition', 'Call Schedule', 'Line Number']\n",
    "        values = list(report_df[report_df.ValueID.isin(columns)].Value)\n",
    "        fin_data_dic[fiID] = values\n",
    "        all_data_df = all_data_df.append(report_df, ignore_index=True)\n",
    "    except:\n",
    "        next "
   ]
  },
  {
   "cell_type": "code",
   "execution_count": 132,
   "metadata": {},
   "outputs": [
    {
     "data": {
      "text/plain": [
       "45691"
      ]
     },
     "execution_count": 132,
     "metadata": {},
     "output_type": "execute_result"
    }
   ],
   "source": [
    "len(all_data_df)"
   ]
  },
  {
   "cell_type": "code",
   "execution_count": 157,
   "metadata": {},
   "outputs": [],
   "source": [
    "failed_after_2010Q3 = pd.DataFrame.from_dict(fin_data_dic, orient='index')\n",
    "failed_after_2010Q3.columns = columns\n",
    "values = list(selected_financials.values())"
   ]
  },
  {
   "cell_type": "code",
   "execution_count": 158,
   "metadata": {},
   "outputs": [],
   "source": [
    "failed_after_2010Q3.columns = values"
   ]
  },
  {
   "cell_type": "code",
   "execution_count": 161,
   "metadata": {},
   "outputs": [],
   "source": [
    "#failed_after_2010Q3.to_csv('data/failed_after_2010Q3')\n"
   ]
  },
  {
   "cell_type": "code",
   "execution_count": 163,
   "metadata": {},
   "outputs": [
    {
     "data": {
      "text/plain": [
       "41"
      ]
     },
     "execution_count": 163,
     "metadata": {},
     "output_type": "execute_result"
    }
   ],
   "source": [
    "failed_banks_2010Q3 = failed_banks_df.loc[(failed_banks_df.Year_failed == 2010) & (failed_banks_df.Quarter_failed == 3)]\n",
    "banks_CERT_2010Q3_list = list(failed_banks_2010Q3.CERT)\n",
    "len(banks_CERT_2010Q3_list)"
   ]
  },
  {
   "cell_type": "code",
   "execution_count": 165,
   "metadata": {},
   "outputs": [
    {
     "name": "stdout",
     "output_type": "stream",
     "text": [
      "counter at  0  pulling CERT#  35053\n",
      "counter at  1  pulling CERT#  58308\n",
      "counter at  2  pulling CERT#  28612\n",
      "counter at  3  pulling CERT#  27808\n",
      "counter at  4  pulling CERT#  182\n",
      "counter at  5  pulling CERT#  57448\n",
      "counter at  6  pulling CERT#  58197\n",
      "counter at  7  pulling CERT#  57107\n",
      "counter at  8  pulling CERT#  35061\n",
      "counter at  9  pulling CERT#  27259\n",
      "counter at  10  pulling CERT#  32165\n",
      "counter at  11  pulling CERT#  33219\n",
      "counter at  12  pulling CERT#  27090\n",
      "counter at  13  pulling CERT#  15640\n",
      "counter at  14  pulling CERT#  31623\n",
      "counter at  15  pulling CERT#  27344\n",
      "counter at  16  pulling CERT#  25266\n",
      "counter at  17  pulling CERT#  17599\n",
      "counter at  18  pulling CERT#  34231\n",
      "counter at  19  pulling CERT#  31964\n",
      "counter at  20  pulling CERT#  22643\n",
      "counter at  21  pulling CERT#  9619\n",
      "counter at  22  pulling CERT#  57669\n",
      "counter at  23  pulling CERT#  57658\n",
      "counter at  24  pulling CERT#  23181\n",
      "counter at  25  pulling CERT#  35434\n",
      "counter at  26  pulling CERT#  34486\n",
      "counter at  27  pulling CERT#  10506\n",
      "counter at  28  pulling CERT#  17837\n",
      "counter at  29  pulling CERT#  27559\n",
      "counter at  30  pulling CERT#  32536\n",
      "counter at  31  pulling CERT#  28136\n",
      "counter at  32  pulling CERT#  28864\n",
      "counter at  33  pulling CERT#  32280\n",
      "counter at  34  pulling CERT#  25172\n",
      "counter at  35  pulling CERT#  35383\n",
      "counter at  36  pulling CERT#  32571\n",
      "counter at  37  pulling CERT#  11636\n",
      "counter at  38  pulling CERT#  58072\n",
      "counter at  39  pulling CERT#  32456\n",
      "counter at  40  pulling CERT#  35462\n"
     ]
    }
   ],
   "source": [
    "# Pull 41 reports, drop all values but 13 selected metrics\n",
    "all_data_df = pd.DataFrame()\n",
    "fin_data_dic = {}\n",
    "\n",
    "for i in range(len(banks_CERT_2010Q3_list)):\n",
    "\n",
    "    ds_name = 'Call'    # Pull Call report data\n",
    "    end_date = '6/30/2010'  # Pull data in reporting pd ending 3/31/17\n",
    "    fiID_type = 'FDICCertNumber'  # Type of financial inst identifier (ID_RSSD, CERT )\n",
    "    fiID = banks_CERT_2010Q3_list[i]   # Indentifier for Wyomin Bank and Trust\n",
    "    print(\"counter at \", i, \" pulling CERT# \", fiID)\n",
    "    fmt = 'SDF'  # Pull report as PDF\n",
    "    # <facsimileFormat>PDF or XBRL or SDF</facsimileFormat>\n",
    "    #outfile = 'test8.PDF'  # Output file path\n",
    "    return_result = True  # If True, method returns the data\n",
    "    try:\n",
    "        f = client.retrieve_facsimile(ds_name=ds_name, reporting_pd_end=end_date,\n",
    "                                      fiID_type=fiID_type, fiID=fiID,\n",
    "                                      facsimile_fmt=fmt, outfile=False,\n",
    "                                      return_result=True)\n",
    "        report = StringIO(str(f, 'utf-8'))\n",
    "        report_df = pd.read_csv(report, sep=';')\n",
    "        report_df.columns = ['Call Date', 'Bank RSSD Identifier', 'ValueID', 'Value', 'Last Update',\n",
    "       'Short Definition', 'Call Schedule', 'Line Number']\n",
    "        values = list(report_df[report_df.ValueID.isin(columns)].Value)\n",
    "        fin_data_dic[fiID] = values\n",
    "        all_data_df = all_data_df.append(report_df, ignore_index=True)\n",
    "    except:\n",
    "        next "
   ]
  },
  {
   "cell_type": "code",
   "execution_count": 166,
   "metadata": {},
   "outputs": [],
   "source": [
    "failed_after_2010Q2 = pd.DataFrame.from_dict(fin_data_dic, orient='index')\n",
    "failed_after_2010Q2.columns = columns\n",
    "values = list(selected_financials.values())\n",
    "failed_after_2010Q2.columns = values"
   ]
  },
  {
   "cell_type": "code",
   "execution_count": 180,
   "metadata": {},
   "outputs": [
    {
     "data": {
      "text/html": [
       "<div>\n",
       "<style scoped>\n",
       "    .dataframe tbody tr th:only-of-type {\n",
       "        vertical-align: middle;\n",
       "    }\n",
       "\n",
       "    .dataframe tbody tr th {\n",
       "        vertical-align: top;\n",
       "    }\n",
       "\n",
       "    .dataframe thead th {\n",
       "        text-align: right;\n",
       "    }\n",
       "</style>\n",
       "<table border=\"1\" class=\"dataframe\">\n",
       "  <thead>\n",
       "    <tr style=\"text-align: right;\">\n",
       "      <th></th>\n",
       "      <th>Total equity capital</th>\n",
       "      <th>Total assets</th>\n",
       "      <th>Total loans</th>\n",
       "      <th>1-4 family residential loans</th>\n",
       "      <th>Other real estate loans</th>\n",
       "      <th>Commercial and industrial loans</th>\n",
       "      <th>Credit cards</th>\n",
       "      <th>Allowance for loan losses</th>\n",
       "      <th>Total noninterest expense</th>\n",
       "      <th>Net Income attributable</th>\n",
       "      <th>Total transaction deposits</th>\n",
       "      <th>Total nontransaction deposits</th>\n",
       "      <th>Available-for-sale Fair Value</th>\n",
       "    </tr>\n",
       "  </thead>\n",
       "  <tbody>\n",
       "    <tr>\n",
       "      <th>25172</th>\n",
       "      <td>30356</td>\n",
       "      <td>399441</td>\n",
       "      <td>37982</td>\n",
       "      <td>337540</td>\n",
       "      <td>19236</td>\n",
       "      <td>290659</td>\n",
       "      <td>21574</td>\n",
       "      <td>36444</td>\n",
       "      <td>229409</td>\n",
       "      <td>0</td>\n",
       "      <td>-10096</td>\n",
       "      <td>6407</td>\n",
       "      <td>-27145</td>\n",
       "    </tr>\n",
       "    <tr>\n",
       "      <th>35383</th>\n",
       "      <td>41392</td>\n",
       "      <td>619374</td>\n",
       "      <td>72748</td>\n",
       "      <td>478143</td>\n",
       "      <td>20056</td>\n",
       "      <td>497131</td>\n",
       "      <td>23435</td>\n",
       "      <td>160177</td>\n",
       "      <td>308725</td>\n",
       "      <td>0</td>\n",
       "      <td>11246</td>\n",
       "      <td>9816</td>\n",
       "      <td>-8659</td>\n",
       "    </tr>\n",
       "    <tr>\n",
       "      <th>11636</th>\n",
       "      <td>125181</td>\n",
       "      <td>585445</td>\n",
       "      <td>42415</td>\n",
       "      <td>471623</td>\n",
       "      <td>18787</td>\n",
       "      <td>376308</td>\n",
       "      <td>49903</td>\n",
       "      <td>49340</td>\n",
       "      <td>257247</td>\n",
       "      <td>0</td>\n",
       "      <td>10370</td>\n",
       "      <td>15256</td>\n",
       "      <td>-6187</td>\n",
       "    </tr>\n",
       "    <tr>\n",
       "      <th>58072</th>\n",
       "      <td>18146</td>\n",
       "      <td>190678</td>\n",
       "      <td>7527</td>\n",
       "      <td>181117</td>\n",
       "      <td>4278</td>\n",
       "      <td>161590</td>\n",
       "      <td>14470</td>\n",
       "      <td>44028</td>\n",
       "      <td>101932</td>\n",
       "      <td>0</td>\n",
       "      <td>1132</td>\n",
       "      <td>6443</td>\n",
       "      <td>-4533</td>\n",
       "    </tr>\n",
       "    <tr>\n",
       "      <th>35462</th>\n",
       "      <td>14263</td>\n",
       "      <td>217743</td>\n",
       "      <td>9201</td>\n",
       "      <td>203411</td>\n",
       "      <td>8616</td>\n",
       "      <td>165825</td>\n",
       "      <td>57968</td>\n",
       "      <td>46476</td>\n",
       "      <td>58088</td>\n",
       "      <td>0</td>\n",
       "      <td>4335</td>\n",
       "      <td>4924</td>\n",
       "      <td>-3509</td>\n",
       "    </tr>\n",
       "  </tbody>\n",
       "</table>\n",
       "</div>"
      ],
      "text/plain": [
       "      Total equity capital Total assets Total loans  \\\n",
       "25172                30356       399441       37982   \n",
       "35383                41392       619374       72748   \n",
       "11636               125181       585445       42415   \n",
       "58072                18146       190678        7527   \n",
       "35462                14263       217743        9201   \n",
       "\n",
       "      1-4 family residential loans Other real estate loans  \\\n",
       "25172                       337540                   19236   \n",
       "35383                       478143                   20056   \n",
       "11636                       471623                   18787   \n",
       "58072                       181117                    4278   \n",
       "35462                       203411                    8616   \n",
       "\n",
       "      Commercial and industrial loans Credit cards Allowance for loan losses  \\\n",
       "25172                          290659        21574                     36444   \n",
       "35383                          497131        23435                    160177   \n",
       "11636                          376308        49903                     49340   \n",
       "58072                          161590        14470                     44028   \n",
       "35462                          165825        57968                     46476   \n",
       "\n",
       "      Total noninterest expense Net Income attributable  \\\n",
       "25172                    229409                       0   \n",
       "35383                    308725                       0   \n",
       "11636                    257247                       0   \n",
       "58072                    101932                       0   \n",
       "35462                     58088                       0   \n",
       "\n",
       "      Total transaction deposits Total nontransaction deposits  \\\n",
       "25172                     -10096                          6407   \n",
       "35383                      11246                          9816   \n",
       "11636                      10370                         15256   \n",
       "58072                       1132                          6443   \n",
       "35462                       4335                          4924   \n",
       "\n",
       "      Available-for-sale Fair Value  \n",
       "25172                        -27145  \n",
       "35383                         -8659  \n",
       "11636                         -6187  \n",
       "58072                         -4533  \n",
       "35462                         -3509  "
      ]
     },
     "execution_count": 180,
     "metadata": {},
     "output_type": "execute_result"
    }
   ],
   "source": [
    "#failed_after_2010Q2.tail()"
   ]
  },
  {
   "cell_type": "code",
   "execution_count": 169,
   "metadata": {},
   "outputs": [],
   "source": [
    "#failed_after_2010Q2.to_csv('data/failed_after_2010Q2')"
   ]
  },
  {
   "cell_type": "code",
   "execution_count": 176,
   "metadata": {},
   "outputs": [
    {
     "data": {
      "text/plain": [
       "45"
      ]
     },
     "execution_count": 176,
     "metadata": {},
     "output_type": "execute_result"
    }
   ],
   "source": [
    "failed_banks_2010Q2 = failed_banks_df.loc[(failed_banks_df.Year_failed == 2010) & (failed_banks_df.Quarter_failed == 2)]\n",
    "banks_CERT_2010Q2_list = list(failed_banks_2010Q2.CERT)\n",
    "len(banks_CERT_2010Q2_list)"
   ]
  },
  {
   "cell_type": "code",
   "execution_count": 183,
   "metadata": {},
   "outputs": [
    {
     "name": "stdout",
     "output_type": "stream",
     "text": [
      "counter at  0  pulling CERT#  35279\n",
      "counter at  1  pulling CERT#  34152\n",
      "counter at  2  pulling CERT#  26563\n",
      "counter at  3  pulling CERT#  57110\n",
      "counter at  4  pulling CERT#  32955\n",
      "counter at  5  pulling CERT#  29341\n",
      "counter at  6  pulling CERT#  31813\n",
      "counter at  7  pulling CERT#  15814\n",
      "counter at  8  pulling CERT#  34785\n",
      "counter at  9  pulling CERT#  57315\n",
      "counter at  10  pulling CERT#  57814\n",
      "counter at  11  pulling CERT#  35106\n",
      "counter at  12  pulling CERT#  57360\n",
      "counter at  13  pulling CERT#  57735\n",
      "counter at  14  pulling CERT#  18117\n",
      "counter at  15  pulling CERT#  34255\n",
      "counter at  16  pulling CERT#  35586\n",
      "counter at  17  pulling CERT#  35114\n",
      "counter at  18  pulling CERT#  35517\n",
      "counter at  19  pulling CERT#  57697\n",
      "counter at  20  pulling CERT#  16476\n",
      "counter at  21  pulling CERT#  14246\n",
      "counter at  22  pulling CERT#  22710\n",
      "counter at  23  pulling CERT#  17792\n",
      "counter at  24  pulling CERT#  58362\n",
      "counter at  25  pulling CERT#  30005\n",
      "counter at  26  pulling CERT#  31027\n",
      "counter at  27  pulling CERT#  32185\n",
      "counter at  28  pulling CERT#  27150\n",
      "counter at  29  pulling CERT#  58429\n",
      "counter at  30  pulling CERT#  10888\n",
      "counter at  31  pulling CERT#  30600\n",
      "counter at  32  pulling CERT#  34821\n",
      "counter at  33  pulling CERT#  34658\n",
      "counter at  34  pulling CERT#  22853\n",
      "counter at  35  pulling CERT#  3735\n",
      "counter at  36  pulling CERT#  21521\n",
      "counter at  37  pulling CERT#  33493\n",
      "counter at  38  pulling CERT#  23876\n",
      "counter at  39  pulling CERT#  26619\n",
      "counter at  40  pulling CERT#  24067\n",
      "counter at  41  pulling CERT#  57724\n",
      "counter at  42  pulling CERT#  28886\n",
      "counter at  43  pulling CERT#  34878\n",
      "counter at  44  pulling CERT#  34242\n"
     ]
    }
   ],
   "source": [
    "# Pull 45 reports, drop all values but 13 selected metrics\n",
    "all_data_df = pd.DataFrame()\n",
    "fin_data_dic = {}\n",
    "\n",
    "for i in range(len(banks_CERT_2010Q2_list)):\n",
    "\n",
    "    ds_name = 'Call'    # Pull Call report data\n",
    "    end_date = '3/31/2010'  # Pull data in reporting pd ending 3/31/17\n",
    "    fiID_type = 'FDICCertNumber'  # Type of financial inst identifier (ID_RSSD, CERT )\n",
    "    fiID = banks_CERT_2010Q2_list[i]   # Indentifier for Wyomin Bank and Trust\n",
    "    print(\"counter at \", i, \" pulling CERT# \", fiID)\n",
    "    fmt = 'SDF'  # Pull report as PDF\n",
    "    # <facsimileFormat>PDF or XBRL or SDF</facsimileFormat>\n",
    "    #outfile = 'test8.PDF'  # Output file path\n",
    "    return_result = True  # If True, method returns the data\n",
    "    try:\n",
    "        f = client.retrieve_facsimile(ds_name=ds_name, reporting_pd_end=end_date,\n",
    "                                      fiID_type=fiID_type, fiID=fiID,\n",
    "                                      facsimile_fmt=fmt, outfile=False,\n",
    "                                      return_result=True)\n",
    "        report = StringIO(str(f, 'utf-8'))\n",
    "        report_df = pd.read_csv(report, sep=';')\n",
    "        report_df.columns = ['Call Date', 'Bank RSSD Identifier', 'ValueID', 'Value', 'Last Update',\n",
    "       'Short Definition', 'Call Schedule', 'Line Number']\n",
    "        values = list(report_df[report_df.ValueID.isin(columns)].Value)\n",
    "        fin_data_dic[fiID] = values\n",
    "        all_data_df = all_data_df.append(report_df, ignore_index=True)\n",
    "    except:\n",
    "        next "
   ]
  },
  {
   "cell_type": "code",
   "execution_count": 185,
   "metadata": {},
   "outputs": [],
   "source": [
    "failed_after_2010Q1 = pd.DataFrame.from_dict(fin_data_dic, orient='index')\n",
    "failed_after_2010Q1.columns = columns\n",
    "values = list(selected_financials.values())\n",
    "failed_after_2010Q1.columns = values"
   ]
  },
  {
   "cell_type": "code",
   "execution_count": 186,
   "metadata": {},
   "outputs": [],
   "source": [
    "#failed_after_2010Q1.to_csv('data/failed_after_2010Q1')"
   ]
  },
  {
   "cell_type": "code",
   "execution_count": 187,
   "metadata": {},
   "outputs": [
    {
     "data": {
      "text/plain": [
       "41"
      ]
     },
     "execution_count": 187,
     "metadata": {},
     "output_type": "execute_result"
    }
   ],
   "source": [
    "failed_banks_2010Q1 = failed_banks_df.loc[(failed_banks_df.Year_failed == 2010) & (failed_banks_df.Quarter_failed == 1)]\n",
    "banks_CERT_2010Q1_list = list(failed_banks_2010Q1.CERT)\n",
    "len(banks_CERT_2010Q1_list)"
   ]
  },
  {
   "cell_type": "code",
   "execution_count": 193,
   "metadata": {},
   "outputs": [
    {
     "name": "stdout",
     "output_type": "stream",
     "text": [
      "counter at  0  pulling CERT#  57060\n",
      "counter at  1  pulling CERT#  34678\n",
      "counter at  2  pulling CERT#  34684\n",
      "counter at  3  pulling CERT#  57399\n",
      "counter at  4  pulling CERT#  8221\n",
      "counter at  5  pulling CERT#  24957\n",
      "counter at  6  pulling CERT#  10054\n",
      "counter at  7  pulling CERT#  33989\n",
      "counter at  8  pulling CERT#  33535\n",
      "counter at  9  pulling CERT#  58104\n",
      "counter at  10  pulling CERT#  18806\n",
      "counter at  11  pulling CERT#  29561\n",
      "counter at  12  pulling CERT#  58182\n",
      "counter at  13  pulling CERT#  27096\n",
      "counter at  14  pulling CERT#  58071\n",
      "counter at  15  pulling CERT#  34430\n",
      "counter at  16  pulling CERT#  34976\n",
      "counter at  17  pulling CERT#  9268\n",
      "counter at  18  pulling CERT#  27126\n",
      "counter at  19  pulling CERT#  38129\n",
      "counter at  20  pulling CERT#  58352\n",
      "counter at  21  pulling CERT#  32423\n",
      "counter at  22  pulling CERT#  29952\n",
      "counter at  23  pulling CERT#  3287\n",
      "counter at  24  pulling CERT#  57586\n",
      "counter at  25  pulling CERT#  15448\n",
      "counter at  26  pulling CERT#  16730\n",
      "counter at  27  pulling CERT#  23011\n",
      "counter at  28  pulling CERT#  5702\n",
      "counter at  29  pulling CERT#  16133\n",
      "counter at  30  pulling CERT#  5672\n",
      "counter at  31  pulling CERT#  16480\n",
      "counter at  32  pulling CERT#  22469\n",
      "counter at  33  pulling CERT#  20501\n",
      "counter at  34  pulling CERT#  32498\n",
      "counter at  35  pulling CERT#  8265\n",
      "counter at  36  pulling CERT#  57147\n",
      "counter at  37  pulling CERT#  1252\n",
      "counter at  38  pulling CERT#  17522\n",
      "counter at  39  pulling CERT#  34705\n",
      "counter at  40  pulling CERT#  22977\n"
     ]
    }
   ],
   "source": [
    "# Pull 41 reports, drop all values but 13 selected metrics\n",
    "all_data_df = pd.DataFrame()\n",
    "fin_data_dic = {}\n",
    "\n",
    "for i in range(len(banks_CERT_2010Q1_list)):\n",
    "\n",
    "    ds_name = 'Call'    # Pull Call report data\n",
    "    end_date = '12/31/2009'  # Pull data in reporting pd ending 3/31/17\n",
    "    fiID_type = 'FDICCertNumber'  # Type of financial inst identifier (ID_RSSD, CERT )\n",
    "    fiID = banks_CERT_2010Q1_list[i]   # Indentifier for Wyomin Bank and Trust\n",
    "    print(\"counter at \", i, \" pulling CERT# \", fiID)\n",
    "    fmt = 'SDF'  # Pull report as PDF\n",
    "    # <facsimileFormat>PDF or XBRL or SDF</facsimileFormat>\n",
    "    #outfile = 'test8.PDF'  # Output file path\n",
    "    return_result = True  # If True, method returns the data\n",
    "    try:\n",
    "        f = client.retrieve_facsimile(ds_name=ds_name, reporting_pd_end=end_date,\n",
    "                                      fiID_type=fiID_type, fiID=fiID,\n",
    "                                      facsimile_fmt=fmt, outfile=False,\n",
    "                                      return_result=True)\n",
    "        report = StringIO(str(f, 'utf-8'))\n",
    "        report_df = pd.read_csv(report, sep=';')\n",
    "        report_df.columns = ['Call Date', 'Bank RSSD Identifier', 'ValueID', 'Value', 'Last Update',\n",
    "       'Short Definition', 'Call Schedule', 'Line Number']\n",
    "        values = list(report_df[report_df.ValueID.isin(columns)].Value)\n",
    "        fin_data_dic[fiID] = values\n",
    "        all_data_df = all_data_df.append(report_df, ignore_index=True)\n",
    "    except:\n",
    "        next "
   ]
  },
  {
   "cell_type": "code",
   "execution_count": 194,
   "metadata": {},
   "outputs": [
    {
     "data": {
      "text/plain": [
       "37"
      ]
     },
     "execution_count": 194,
     "metadata": {},
     "output_type": "execute_result"
    }
   ],
   "source": [
    "failed_after_2009Q4 = pd.DataFrame.from_dict(fin_data_dic, orient='index')\n",
    "failed_after_2009Q4.columns = columns\n",
    "values = list(selected_financials.values())\n",
    "failed_after_2009Q4.columns = values\n",
    "len(failed_after_2009Q4)"
   ]
  },
  {
   "cell_type": "code",
   "execution_count": 196,
   "metadata": {},
   "outputs": [
    {
     "data": {
      "text/html": [
       "<div>\n",
       "<style scoped>\n",
       "    .dataframe tbody tr th:only-of-type {\n",
       "        vertical-align: middle;\n",
       "    }\n",
       "\n",
       "    .dataframe tbody tr th {\n",
       "        vertical-align: top;\n",
       "    }\n",
       "\n",
       "    .dataframe thead th {\n",
       "        text-align: right;\n",
       "    }\n",
       "</style>\n",
       "<table border=\"1\" class=\"dataframe\">\n",
       "  <thead>\n",
       "    <tr style=\"text-align: right;\">\n",
       "      <th></th>\n",
       "      <th>Total equity capital</th>\n",
       "      <th>Total assets</th>\n",
       "      <th>Total loans</th>\n",
       "      <th>1-4 family residential loans</th>\n",
       "      <th>Other real estate loans</th>\n",
       "      <th>Commercial and industrial loans</th>\n",
       "      <th>Credit cards</th>\n",
       "      <th>Allowance for loan losses</th>\n",
       "      <th>Total noninterest expense</th>\n",
       "      <th>Net Income attributable</th>\n",
       "      <th>Total transaction deposits</th>\n",
       "      <th>Total nontransaction deposits</th>\n",
       "      <th>Available-for-sale Fair Value</th>\n",
       "    </tr>\n",
       "  </thead>\n",
       "  <tbody>\n",
       "    <tr>\n",
       "      <th>57147</th>\n",
       "      <td>4119</td>\n",
       "      <td>299225</td>\n",
       "      <td>27215</td>\n",
       "      <td>258339</td>\n",
       "      <td>14821</td>\n",
       "      <td>291066</td>\n",
       "      <td>31542</td>\n",
       "      <td>32857</td>\n",
       "      <td>116481</td>\n",
       "      <td>0</td>\n",
       "      <td>24</td>\n",
       "      <td>13993</td>\n",
       "      <td>-21299</td>\n",
       "    </tr>\n",
       "    <tr>\n",
       "      <th>1252</th>\n",
       "      <td>80061</td>\n",
       "      <td>709171</td>\n",
       "      <td>43452</td>\n",
       "      <td>653657</td>\n",
       "      <td>65252</td>\n",
       "      <td>565832</td>\n",
       "      <td>29722</td>\n",
       "      <td>68967</td>\n",
       "      <td>441553</td>\n",
       "      <td>1394</td>\n",
       "      <td>6130</td>\n",
       "      <td>17922</td>\n",
       "      <td>-96686</td>\n",
       "    </tr>\n",
       "    <tr>\n",
       "      <th>17522</th>\n",
       "      <td>0</td>\n",
       "      <td>22895</td>\n",
       "      <td>5947</td>\n",
       "      <td>17965</td>\n",
       "      <td>2525</td>\n",
       "      <td>20787</td>\n",
       "      <td>5498</td>\n",
       "      <td>6204</td>\n",
       "      <td>7452</td>\n",
       "      <td>0</td>\n",
       "      <td>-1219</td>\n",
       "      <td>1879</td>\n",
       "      <td>-3201</td>\n",
       "    </tr>\n",
       "    <tr>\n",
       "      <th>34705</th>\n",
       "      <td>1545</td>\n",
       "      <td>70758</td>\n",
       "      <td>3230</td>\n",
       "      <td>65093</td>\n",
       "      <td>1468</td>\n",
       "      <td>56062</td>\n",
       "      <td>18450</td>\n",
       "      <td>18313</td>\n",
       "      <td>8710</td>\n",
       "      <td>0</td>\n",
       "      <td>1802</td>\n",
       "      <td>2370</td>\n",
       "      <td>-3014</td>\n",
       "    </tr>\n",
       "    <tr>\n",
       "      <th>22977</th>\n",
       "      <td>60806</td>\n",
       "      <td>1188956</td>\n",
       "      <td>35179</td>\n",
       "      <td>1013884</td>\n",
       "      <td>44374</td>\n",
       "      <td>963999</td>\n",
       "      <td>168200</td>\n",
       "      <td>158440</td>\n",
       "      <td>626535</td>\n",
       "      <td>2103</td>\n",
       "      <td>11838</td>\n",
       "      <td>39476</td>\n",
       "      <td>-106143</td>\n",
       "    </tr>\n",
       "  </tbody>\n",
       "</table>\n",
       "</div>"
      ],
      "text/plain": [
       "      Total equity capital Total assets Total loans  \\\n",
       "57147                 4119       299225       27215   \n",
       "1252                 80061       709171       43452   \n",
       "17522                    0        22895        5947   \n",
       "34705                 1545        70758        3230   \n",
       "22977                60806      1188956       35179   \n",
       "\n",
       "      1-4 family residential loans Other real estate loans  \\\n",
       "57147                       258339                   14821   \n",
       "1252                        653657                   65252   \n",
       "17522                        17965                    2525   \n",
       "34705                        65093                    1468   \n",
       "22977                      1013884                   44374   \n",
       "\n",
       "      Commercial and industrial loans Credit cards Allowance for loan losses  \\\n",
       "57147                          291066        31542                     32857   \n",
       "1252                           565832        29722                     68967   \n",
       "17522                           20787         5498                      6204   \n",
       "34705                           56062        18450                     18313   \n",
       "22977                          963999       168200                    158440   \n",
       "\n",
       "      Total noninterest expense Net Income attributable  \\\n",
       "57147                    116481                       0   \n",
       "1252                     441553                    1394   \n",
       "17522                      7452                       0   \n",
       "34705                      8710                       0   \n",
       "22977                    626535                    2103   \n",
       "\n",
       "      Total transaction deposits Total nontransaction deposits  \\\n",
       "57147                         24                         13993   \n",
       "1252                        6130                         17922   \n",
       "17522                      -1219                          1879   \n",
       "34705                       1802                          2370   \n",
       "22977                      11838                         39476   \n",
       "\n",
       "      Available-for-sale Fair Value  \n",
       "57147                        -21299  \n",
       "1252                         -96686  \n",
       "17522                         -3201  \n",
       "34705                         -3014  \n",
       "22977                       -106143  "
      ]
     },
     "execution_count": 196,
     "metadata": {},
     "output_type": "execute_result"
    }
   ],
   "source": [
    "failed_after_2009Q4.tail()"
   ]
  },
  {
   "cell_type": "code",
   "execution_count": 195,
   "metadata": {},
   "outputs": [
    {
     "data": {
      "text/html": [
       "<div>\n",
       "<style scoped>\n",
       "    .dataframe tbody tr th:only-of-type {\n",
       "        vertical-align: middle;\n",
       "    }\n",
       "\n",
       "    .dataframe tbody tr th {\n",
       "        vertical-align: top;\n",
       "    }\n",
       "\n",
       "    .dataframe thead th {\n",
       "        text-align: right;\n",
       "    }\n",
       "</style>\n",
       "<table border=\"1\" class=\"dataframe\">\n",
       "  <thead>\n",
       "    <tr style=\"text-align: right;\">\n",
       "      <th></th>\n",
       "      <th>Total equity capital</th>\n",
       "      <th>Total assets</th>\n",
       "      <th>Total loans</th>\n",
       "      <th>1-4 family residential loans</th>\n",
       "      <th>Other real estate loans</th>\n",
       "      <th>Commercial and industrial loans</th>\n",
       "      <th>Credit cards</th>\n",
       "      <th>Allowance for loan losses</th>\n",
       "      <th>Total noninterest expense</th>\n",
       "      <th>Net Income attributable</th>\n",
       "      <th>Total transaction deposits</th>\n",
       "      <th>Total nontransaction deposits</th>\n",
       "      <th>Available-for-sale Fair Value</th>\n",
       "    </tr>\n",
       "  </thead>\n",
       "  <tbody>\n",
       "    <tr>\n",
       "      <th>57147</th>\n",
       "      <td>4119</td>\n",
       "      <td>299225</td>\n",
       "      <td>27215</td>\n",
       "      <td>258339</td>\n",
       "      <td>14821</td>\n",
       "      <td>291066</td>\n",
       "      <td>31542</td>\n",
       "      <td>32857</td>\n",
       "      <td>116481</td>\n",
       "      <td>0</td>\n",
       "      <td>24</td>\n",
       "      <td>13993</td>\n",
       "      <td>-21299</td>\n",
       "    </tr>\n",
       "    <tr>\n",
       "      <th>1252</th>\n",
       "      <td>80061</td>\n",
       "      <td>709171</td>\n",
       "      <td>43452</td>\n",
       "      <td>653657</td>\n",
       "      <td>65252</td>\n",
       "      <td>565832</td>\n",
       "      <td>29722</td>\n",
       "      <td>68967</td>\n",
       "      <td>441553</td>\n",
       "      <td>1394</td>\n",
       "      <td>6130</td>\n",
       "      <td>17922</td>\n",
       "      <td>-96686</td>\n",
       "    </tr>\n",
       "    <tr>\n",
       "      <th>17522</th>\n",
       "      <td>0</td>\n",
       "      <td>22895</td>\n",
       "      <td>5947</td>\n",
       "      <td>17965</td>\n",
       "      <td>2525</td>\n",
       "      <td>20787</td>\n",
       "      <td>5498</td>\n",
       "      <td>6204</td>\n",
       "      <td>7452</td>\n",
       "      <td>0</td>\n",
       "      <td>-1219</td>\n",
       "      <td>1879</td>\n",
       "      <td>-3201</td>\n",
       "    </tr>\n",
       "    <tr>\n",
       "      <th>34705</th>\n",
       "      <td>1545</td>\n",
       "      <td>70758</td>\n",
       "      <td>3230</td>\n",
       "      <td>65093</td>\n",
       "      <td>1468</td>\n",
       "      <td>56062</td>\n",
       "      <td>18450</td>\n",
       "      <td>18313</td>\n",
       "      <td>8710</td>\n",
       "      <td>0</td>\n",
       "      <td>1802</td>\n",
       "      <td>2370</td>\n",
       "      <td>-3014</td>\n",
       "    </tr>\n",
       "    <tr>\n",
       "      <th>22977</th>\n",
       "      <td>60806</td>\n",
       "      <td>1188956</td>\n",
       "      <td>35179</td>\n",
       "      <td>1013884</td>\n",
       "      <td>44374</td>\n",
       "      <td>963999</td>\n",
       "      <td>168200</td>\n",
       "      <td>158440</td>\n",
       "      <td>626535</td>\n",
       "      <td>2103</td>\n",
       "      <td>11838</td>\n",
       "      <td>39476</td>\n",
       "      <td>-106143</td>\n",
       "    </tr>\n",
       "  </tbody>\n",
       "</table>\n",
       "</div>"
      ],
      "text/plain": [
       "      Total equity capital Total assets Total loans  \\\n",
       "57147                 4119       299225       27215   \n",
       "1252                 80061       709171       43452   \n",
       "17522                    0        22895        5947   \n",
       "34705                 1545        70758        3230   \n",
       "22977                60806      1188956       35179   \n",
       "\n",
       "      1-4 family residential loans Other real estate loans  \\\n",
       "57147                       258339                   14821   \n",
       "1252                        653657                   65252   \n",
       "17522                        17965                    2525   \n",
       "34705                        65093                    1468   \n",
       "22977                      1013884                   44374   \n",
       "\n",
       "      Commercial and industrial loans Credit cards Allowance for loan losses  \\\n",
       "57147                          291066        31542                     32857   \n",
       "1252                           565832        29722                     68967   \n",
       "17522                           20787         5498                      6204   \n",
       "34705                           56062        18450                     18313   \n",
       "22977                          963999       168200                    158440   \n",
       "\n",
       "      Total noninterest expense Net Income attributable  \\\n",
       "57147                    116481                       0   \n",
       "1252                     441553                    1394   \n",
       "17522                      7452                       0   \n",
       "34705                      8710                       0   \n",
       "22977                    626535                    2103   \n",
       "\n",
       "      Total transaction deposits Total nontransaction deposits  \\\n",
       "57147                         24                         13993   \n",
       "1252                        6130                         17922   \n",
       "17522                      -1219                          1879   \n",
       "34705                       1802                          2370   \n",
       "22977                      11838                         39476   \n",
       "\n",
       "      Available-for-sale Fair Value  \n",
       "57147                        -21299  \n",
       "1252                         -96686  \n",
       "17522                         -3201  \n",
       "34705                         -3014  \n",
       "22977                       -106143  "
      ]
     },
     "execution_count": 195,
     "metadata": {},
     "output_type": "execute_result"
    }
   ],
   "source": [
    "failed_after_2010Q1.tail()"
   ]
  },
  {
   "cell_type": "code",
   "execution_count": 198,
   "metadata": {},
   "outputs": [],
   "source": [
    "failed_after_2009Q4.to_csv('data/failed_after_2009Q4')"
   ]
  },
  {
   "cell_type": "code",
   "execution_count": null,
   "metadata": {},
   "outputs": [],
   "source": [
    "# TODO"
   ]
  },
  {
   "cell_type": "code",
   "execution_count": 199,
   "metadata": {},
   "outputs": [],
   "source": [
    "# after 2009Q3"
   ]
  },
  {
   "cell_type": "code",
   "execution_count": 200,
   "metadata": {},
   "outputs": [],
   "source": [
    "# after 2009Q2"
   ]
  },
  {
   "cell_type": "code",
   "execution_count": 201,
   "metadata": {},
   "outputs": [],
   "source": [
    "# after 2009Q1"
   ]
  },
  {
   "cell_type": "code",
   "execution_count": 202,
   "metadata": {},
   "outputs": [],
   "source": [
    "# after 2008Q4"
   ]
  },
  {
   "cell_type": "code",
   "execution_count": 203,
   "metadata": {},
   "outputs": [],
   "source": [
    "# after 2008Q3"
   ]
  },
  {
   "cell_type": "code",
   "execution_count": 204,
   "metadata": {},
   "outputs": [],
   "source": [
    "# after 2008Q2"
   ]
  },
  {
   "cell_type": "code",
   "execution_count": null,
   "metadata": {},
   "outputs": [],
   "source": [
    "# after 2008Q1"
   ]
  }
 ],
 "metadata": {
  "kernelspec": {
   "display_name": "Python 3",
   "language": "python",
   "name": "python3"
  },
  "language_info": {
   "codemirror_mode": {
    "name": "ipython",
    "version": 3
   },
   "file_extension": ".py",
   "mimetype": "text/x-python",
   "name": "python",
   "nbconvert_exporter": "python",
   "pygments_lexer": "ipython3",
   "version": "3.7.3"
  }
 },
 "nbformat": 4,
 "nbformat_minor": 2
}

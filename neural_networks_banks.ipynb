{
 "cells": [
  {
   "cell_type": "code",
   "execution_count": null,
   "metadata": {},
   "outputs": [],
   "source": [
    "# Data Preprocessing - check if Standard Sxcaler will work well\n",
    "# Alternatively, divide by 200?\n",
    "# source: https://medium.com/analytics-vidhya/introduction-to-neural-networks-for-finance-6abd5675e497"
   ]
  },
  {
   "cell_type": "code",
   "execution_count": 1,
   "metadata": {},
   "outputs": [],
   "source": [
    "# break up the data into training sets\n",
    "def gen_train(self, seq_len):\n",
    "    \"\"\"\n",
    "    Generates training data\n",
    "    :param seq_len: length of window\n",
    "    :return: X_train and Y_train\n",
    "    \"\"\"\n",
    "    for i in range((len(self.stock_train)//seq_len)*seq_len - seq_len - 1):\n",
    "        x = np.array(self.stock_train.iloc[i: i + seq_len, 1])\n",
    "        y = np.array([self.stock_train.iloc[i + seq_len + 1, 1]], np.float64)\n",
    "        self.input_train.append(x)\n",
    "        self.output_train.append(y)\n",
    "    self.X_train = np.array(self.input_train)\n",
    "    self.Y_train = np.array(self.output_train)"
   ]
  },
  {
   "cell_type": "code",
   "execution_count": null,
   "metadata": {},
   "outputs": [],
   "source": [
    "# Multilayer Perceptron (MLP) \n",
    "# source: https://medium.com/engineer-quant/multilayer-perceptron-4453615c4337\n",
    "model = tf.keras.models.Sequential()\n",
    "model.add(tf.keras.layers.Dense(100, activation=tf.nn.relu))\n",
    "model.add(tf.keras.layers.Dense(100, activation=tf.nn.relu))\n",
    "model.add(tf.keras.layers.Dense(1, activation=tf.nn.relu))\n",
    "model.compile(optimizer=\"adam\", loss=\"mean_squared_error\")\n",
    "\n",
    "# Adam optimizer is gaining popularity in the machine learning community because it is \n",
    "#a more efficient algorithm to optimize compared to traditional stochastic gradient descent. \n",
    "#The advantages are best understood by looking at  the advantages of two other extensions of\n",
    "#stochastic gradient descent \n",
    "#(https://medium.com/analytics-vidhya/introduction-to-neural-networks-for-finance-6abd5675e497)\n",
    "\n",
    "\n",
    "\n",
    "\n",
    "\n",
    "\n",
    "\n",
    "\n",
    "\n",
    "# Long Short Term Model (LSTM)\n",
    "# source: https://www.altumintelligence.com/articles/a/Time-Series-Prediction-Using-LSTM-Deep-Neural-Networks"
   ]
  }
 ],
 "metadata": {
  "kernelspec": {
   "display_name": "Python 3",
   "language": "python",
   "name": "python3"
  },
  "language_info": {
   "codemirror_mode": {
    "name": "ipython",
    "version": 3
   },
   "file_extension": ".py",
   "mimetype": "text/x-python",
   "name": "python",
   "nbconvert_exporter": "python",
   "pygments_lexer": "ipython3",
   "version": "3.7.3"
  }
 },
 "nbformat": 4,
 "nbformat_minor": 2
}

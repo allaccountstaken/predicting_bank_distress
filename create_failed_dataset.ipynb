{
 "cells": [
  {
   "cell_type": "code",
   "execution_count": 26,
   "metadata": {},
   "outputs": [],
   "source": [
    "import pandas as pd\n",
    "import numpy as np\n",
    "import matplotlib.pyplot as plt\n",
    "%matplotlib inline\n",
    "from ffipy import FFIEC_Client\n",
    "from io import StringIO"
   ]
  },
  {
   "cell_type": "code",
   "execution_count": 27,
   "metadata": {},
   "outputs": [
    {
     "data": {
      "text/plain": [
       "30"
      ]
     },
     "execution_count": 27,
     "metadata": {},
     "output_type": "execute_result"
    }
   ],
   "source": [
    "failed_banks_df = pd.read_csv('data/failed_banks_dataset.csv')\n",
    "failed_banks_df['Date'] = pd.to_datetime(failed_banks_df['Closing Date'])\n",
    "failed_banks_df['Year_failed'] = failed_banks_df['Date'].dt.year\n",
    "failed_banks_df['Quarter_failed'] = failed_banks_df['Date'].dt.quarter\n",
    "failed_banks_2010Q4 = failed_banks_df.loc[(failed_banks_df.Year_failed == 2010) & (failed_banks_df.Quarter_failed == 4)]\n",
    "failed_banks_2010Q4.head()\n",
    "failed_banks_2010Q4['CERT'].count()"
   ]
  },
  {
   "cell_type": "code",
   "execution_count": 28,
   "metadata": {},
   "outputs": [],
   "source": [
    "# Prepare dictionary of selected financials that are needed for CAMELS\n",
    "selected_financials = {\n",
    "                       'RIAD3210' : 'Total equity capital', # Alt can be RCONG105\n",
    "                       'RCON2170' : 'Total assets', # Ok\n",
    "                       'RCON3360' : 'Total loans', #ok\n",
    "                       'RCON3465' : '1-4 family residential loans', \n",
    "                       'RCON3466' : 'Other real estate loans',\n",
    "                       'RCON3387' : 'Commercial and industrial loans',\n",
    "                       'RCONB561' : 'Credit cards',\n",
    "                       'RCON3123' : 'Allowance for loan losses', # OK\n",
    "                       'RIAD4093' : 'Total noninterest expense', #OK\n",
    "                       'RIAD4300' : 'Net Income before', # # new for healthy\n",
    "                       'RCON2215' : 'Total transaction deposits', # ok\n",
    "                       'RCON2385' : 'Total nontransaction deposits', # ok\n",
    "                       'RCON1773' : 'Available-for-sale Fair Value',\n",
    "                       'RIAD4150' : 'Number of full-time employees'# new for healthy\n",
    "                      } "
   ]
  },
  {
   "cell_type": "code",
   "execution_count": 29,
   "metadata": {},
   "outputs": [
    {
     "data": {
      "text/plain": [
       "{'RIAD3210': 'Total equity capital',\n",
       " 'RCON2170': 'Total assets',\n",
       " 'RCON3360': 'Total loans',\n",
       " 'RCON3465': '1-4 family residential loans',\n",
       " 'RCON3466': 'Other real estate loans',\n",
       " 'RCON3387': 'Commercial and industrial loans',\n",
       " 'RCONB561': 'Credit cards',\n",
       " 'RCON3123': 'Allowance for loan losses',\n",
       " 'RIAD4093': 'Total noninterest expense',\n",
       " 'RIAD4300': 'Net Income before',\n",
       " 'RCON2215': 'Total transaction deposits',\n",
       " 'RCON2385': 'Total nontransaction deposits',\n",
       " 'RCON1773': 'Available-for-sale Fair Value',\n",
       " 'RIAD4150': 'Number of full-time employees'}"
      ]
     },
     "execution_count": 29,
     "metadata": {},
     "output_type": "execute_result"
    }
   ],
   "source": [
    "selected_financials"
   ]
  },
  {
   "cell_type": "code",
   "execution_count": 30,
   "metadata": {},
   "outputs": [
    {
     "data": {
      "text/plain": [
       "14"
      ]
     },
     "execution_count": 30,
     "metadata": {},
     "output_type": "execute_result"
    }
   ],
   "source": [
    "len(selected_financials.keys())\n",
    "columns = list(selected_financials.keys())\n",
    "len(columns)"
   ]
  },
  {
   "cell_type": "code",
   "execution_count": 47,
   "metadata": {},
   "outputs": [],
   "source": [
    "banks_to_pull = list(failed_banks_2010Q4['CERT'])\n"
   ]
  },
  {
   "cell_type": "code",
   "execution_count": 32,
   "metadata": {},
   "outputs": [],
   "source": [
    "client = FFIEC_Client()"
   ]
  },
  {
   "cell_type": "code",
   "execution_count": 48,
   "metadata": {},
   "outputs": [
    {
     "name": "stdout",
     "output_type": "stream",
     "text": [
      "counter at  0  pulling CERT#  23306\n",
      "counter at  1  pulling CERT#  58052\n",
      "counter at  2  pulling CERT#  35065\n",
      "counter at  3  pulling CERT#  58495\n",
      "counter at  4  pulling CERT#  34578\n",
      "counter at  5  pulling CERT#  19040\n",
      "counter at  6  pulling CERT#  35561\n",
      "counter at  7  pulling CERT#  34673\n",
      "counter at  8  pulling CERT#  5287\n",
      "counter at  9  pulling CERT#  35078\n",
      "counter at  10  pulling CERT#  20340\n",
      "counter at  11  pulling CERT#  35463\n",
      "counter at  12  pulling CERT#  14580\n",
      "counter at  13  pulling CERT#  57831\n",
      "counter at  14  pulling CERT#  57885\n",
      "counter at  15  pulling CERT#  34411\n",
      "counter at  16  pulling CERT#  58087\n",
      "counter at  17  pulling CERT#  31263\n",
      "counter at  18  pulling CERT#  32582\n",
      "counter at  19  pulling CERT#  22173\n",
      "counter at  20  pulling CERT#  16089\n",
      "counter at  21  pulling CERT#  2119\n",
      "counter at  22  pulling CERT#  33904\n",
      "counter at  23  pulling CERT#  32251\n",
      "counter at  24  pulling CERT#  27573\n",
      "counter at  25  pulling CERT#  34016\n",
      "counter at  26  pulling CERT#  58205\n",
      "counter at  27  pulling CERT#  30898\n",
      "counter at  28  pulling CERT#  35250\n",
      "counter at  29  pulling CERT#  21777\n"
     ]
    }
   ],
   "source": [
    "# Pull 30 reports, drop all values but 13 selected metrics -- returns only 27\n",
    "report_data_dict = {}\n",
    "for i in range(len(banks_to_pull)):\n",
    "\n",
    "    ds_name = 'Call'    # Pull Call report data\n",
    "    end_date = '9/30/2010'  # Pull data in reporting pd ending 3/31/17\n",
    "    fiID_type = 'FDICCertNumber'  # Type of financial inst identifier (ID_RSSD, CERT )\n",
    "    fiID = banks_to_pull[i]   # Indentifier for Wyomin Bank and Trust\n",
    "    print(\"counter at \", i, \" pulling CERT# \", fiID)\n",
    "    fmt = 'SDF'  # Pull report as PDF\n",
    "    # <facsimileFormat>PDF or XBRL or SDF</facsimileFormat>\n",
    "    #outfile = 'test8.PDF'  # Output file path\n",
    "    return_result = True  # If True, method returns the data\n",
    "    try:\n",
    "        f = client.retrieve_facsimile(ds_name=ds_name, reporting_pd_end=end_date,\n",
    "                                      fiID_type=fiID_type, fiID=fiID,\n",
    "                                      facsimile_fmt=fmt, outfile=False,\n",
    "                                      return_result=True)\n",
    "        report = StringIO(str(f, 'utf-8'))\n",
    "        report_df = pd.read_csv(report, sep=';')\n",
    "        \n",
    "        key = banks_to_pull[i]\n",
    "        report_data_dict[key] = {}\n",
    "        for col in columns:\n",
    "            df = report_df.loc[report_df['MDRM #'] == col]\n",
    "            value = df.Value.values[0]\n",
    "            report_data_dict[key][col] = value\n",
    "        \n",
    "        \n",
    "        #report_df.columns = ['Call Date', 'Bank RSSD Identifier', 'ValueID', 'Value', 'Last Update',\n",
    "       #'Short Definition', 'Call Schedule', 'Line Number']\n",
    "        #values = list(report_df[report_df.ValueID.isin(columns)].Value)\n",
    "        #fin_data_dic[fiID] = values\n",
    "        #all_data_df = all_data_df.append(report_df, ignore_index=True)\n",
    "    except:\n",
    "        next "
   ]
  },
  {
   "cell_type": "code",
   "execution_count": 54,
   "metadata": {},
   "outputs": [],
   "source": [
    "failed_after_2010Q3 = pd.DataFrame.from_dict(report_data_dict, orient='index')\n",
    "failed_after_2010Q3.columns = selected_financials.values()"
   ]
  },
  {
   "cell_type": "code",
   "execution_count": 55,
   "metadata": {},
   "outputs": [],
   "source": [
    "#failed_after_2010Q3.to_csv('data/failed_after_2010Q3')\n"
   ]
  },
  {
   "cell_type": "code",
   "execution_count": 103,
   "metadata": {},
   "outputs": [],
   "source": [
    "failed_banks_2010Q3 = failed_banks_df.loc[(failed_banks_df.Year_failed == 2010) & (failed_banks_df.Quarter_failed == 3)]\n",
    "banks_CERT_2010Q3_list = list(failed_banks_2010Q3.CERT)\n",
    "banks_to_pull= list(banks_CERT_2010Q3_list)"
   ]
  },
  {
   "cell_type": "code",
   "execution_count": 104,
   "metadata": {},
   "outputs": [
    {
     "name": "stdout",
     "output_type": "stream",
     "text": [
      "counter at  0  pulling CERT#  35053\n",
      "counter at  1  pulling CERT#  58308\n",
      "counter at  2  pulling CERT#  28612\n",
      "counter at  3  pulling CERT#  27808\n",
      "counter at  4  pulling CERT#  182\n",
      "counter at  5  pulling CERT#  57448\n",
      "counter at  6  pulling CERT#  58197\n",
      "counter at  7  pulling CERT#  57107\n",
      "counter at  8  pulling CERT#  35061\n",
      "counter at  9  pulling CERT#  27259\n",
      "counter at  10  pulling CERT#  32165\n",
      "counter at  11  pulling CERT#  33219\n",
      "counter at  12  pulling CERT#  27090\n",
      "counter at  13  pulling CERT#  15640\n",
      "counter at  14  pulling CERT#  31623\n",
      "counter at  15  pulling CERT#  27344\n",
      "counter at  16  pulling CERT#  25266\n",
      "counter at  17  pulling CERT#  17599\n",
      "counter at  18  pulling CERT#  34231\n",
      "counter at  19  pulling CERT#  31964\n",
      "counter at  20  pulling CERT#  22643\n",
      "counter at  21  pulling CERT#  9619\n",
      "counter at  22  pulling CERT#  57669\n",
      "counter at  23  pulling CERT#  57658\n",
      "counter at  24  pulling CERT#  23181\n",
      "counter at  25  pulling CERT#  35434\n",
      "counter at  26  pulling CERT#  34486\n",
      "counter at  27  pulling CERT#  10506\n",
      "counter at  28  pulling CERT#  17837\n",
      "counter at  29  pulling CERT#  27559\n",
      "counter at  30  pulling CERT#  32536\n",
      "counter at  31  pulling CERT#  28136\n",
      "counter at  32  pulling CERT#  28864\n",
      "counter at  33  pulling CERT#  32280\n",
      "counter at  34  pulling CERT#  25172\n",
      "counter at  35  pulling CERT#  35383\n",
      "counter at  36  pulling CERT#  32571\n",
      "counter at  37  pulling CERT#  11636\n",
      "counter at  38  pulling CERT#  58072\n",
      "counter at  39  pulling CERT#  32456\n",
      "counter at  40  pulling CERT#  35462\n"
     ]
    }
   ],
   "source": [
    "# Pull 41 reports, drop all values but 13 selected metrics \n",
    "report_data_dict = {}\n",
    "for i in range(len(banks_to_pull)):\n",
    "\n",
    "    ds_name = 'Call'    # Pull Call report data\n",
    "    end_date = '6/30/2010'  # Pull data in reporting pd ending 3/31/17\n",
    "    fiID_type = 'FDICCertNumber'  # Type of financial inst identifier (ID_RSSD, CERT )\n",
    "    fiID = banks_to_pull[i]   # Indentifier for Wyomin Bank and Trust\n",
    "    print(\"counter at \", i, \" pulling CERT# \", fiID)\n",
    "    fmt = 'SDF'  # Pull report as PDF\n",
    "    # <facsimileFormat>PDF or XBRL or SDF</facsimileFormat>\n",
    "    #outfile = 'test8.PDF'  # Output file path\n",
    "    return_result = True  # If True, method returns the data\n",
    "    try:\n",
    "        f = client.retrieve_facsimile(ds_name=ds_name, reporting_pd_end=end_date,\n",
    "                                      fiID_type=fiID_type, fiID=fiID,\n",
    "                                      facsimile_fmt=fmt, outfile=False,\n",
    "                                      return_result=True)\n",
    "        report = StringIO(str(f, 'utf-8'))\n",
    "        report_df = pd.read_csv(report, sep=';')\n",
    "        \n",
    "        key = banks_to_pull[i]\n",
    "        report_data_dict[key] = {}\n",
    "        for col in columns:\n",
    "            df = report_df.loc[report_df['MDRM #'] == col]\n",
    "            value = df.Value.values[0]\n",
    "            report_data_dict[key][col] = value\n",
    "        \n",
    "        \n",
    "        #report_df.columns = ['Call Date', 'Bank RSSD Identifier', 'ValueID', 'Value', 'Last Update',\n",
    "       #'Short Definition', 'Call Schedule', 'Line Number']\n",
    "        #values = list(report_df[report_df.ValueID.isin(columns)].Value)\n",
    "        #fin_data_dic[fiID] = values\n",
    "        #all_data_df = all_data_df.append(report_df, ignore_index=True)\n",
    "    except:\n",
    "        next "
   ]
  },
  {
   "cell_type": "code",
   "execution_count": 105,
   "metadata": {},
   "outputs": [],
   "source": [
    "failed_after_2010Q2 = pd.DataFrame.from_dict(report_data_dict, orient='index')\n",
    "failed_after_2010Q2.columns = selected_financials.values()"
   ]
  },
  {
   "cell_type": "code",
   "execution_count": 106,
   "metadata": {},
   "outputs": [],
   "source": [
    "#failed_after_2010Q2.to_csv('data/failed_after_2010Q2')"
   ]
  },
  {
   "cell_type": "code",
   "execution_count": 107,
   "metadata": {},
   "outputs": [
    {
     "data": {
      "text/plain": [
       "34242"
      ]
     },
     "execution_count": 107,
     "metadata": {},
     "output_type": "execute_result"
    }
   ],
   "source": [
    "failed_banks_2010Q2 = failed_banks_df.loc[(failed_banks_df.Year_failed == 2010) & (failed_banks_df.Quarter_failed == 2)]\n",
    "banks_CERT_2010Q2_list = list(failed_banks_2010Q2.CERT)\n",
    "banks_to_pull = banks_CERT_2010Q2_list\n",
    "banks_to_pull[44]"
   ]
  },
  {
   "cell_type": "code",
   "execution_count": 108,
   "metadata": {},
   "outputs": [
    {
     "name": "stdout",
     "output_type": "stream",
     "text": [
      "counter at  0  pulling CERT#  35279\n",
      "counter at  1  pulling CERT#  34152\n",
      "counter at  2  pulling CERT#  26563\n",
      "counter at  3  pulling CERT#  57110\n",
      "counter at  4  pulling CERT#  32955\n",
      "counter at  5  pulling CERT#  29341\n",
      "counter at  6  pulling CERT#  31813\n",
      "counter at  7  pulling CERT#  15814\n",
      "counter at  8  pulling CERT#  34785\n",
      "counter at  9  pulling CERT#  57315\n",
      "counter at  10  pulling CERT#  57814\n",
      "counter at  11  pulling CERT#  35106\n",
      "counter at  12  pulling CERT#  57360\n",
      "counter at  13  pulling CERT#  57735\n",
      "counter at  14  pulling CERT#  18117\n",
      "counter at  15  pulling CERT#  34255\n",
      "counter at  16  pulling CERT#  35586\n",
      "counter at  17  pulling CERT#  35114\n",
      "counter at  18  pulling CERT#  35517\n",
      "counter at  19  pulling CERT#  57697\n",
      "counter at  20  pulling CERT#  16476\n",
      "counter at  21  pulling CERT#  14246\n",
      "counter at  22  pulling CERT#  22710\n",
      "counter at  23  pulling CERT#  17792\n",
      "counter at  24  pulling CERT#  58362\n",
      "counter at  25  pulling CERT#  30005\n",
      "counter at  26  pulling CERT#  31027\n",
      "counter at  27  pulling CERT#  32185\n",
      "counter at  28  pulling CERT#  27150\n",
      "counter at  29  pulling CERT#  58429\n",
      "counter at  30  pulling CERT#  10888\n",
      "counter at  31  pulling CERT#  30600\n",
      "counter at  32  pulling CERT#  34821\n",
      "counter at  33  pulling CERT#  34658\n",
      "counter at  34  pulling CERT#  22853\n",
      "counter at  35  pulling CERT#  3735\n",
      "counter at  36  pulling CERT#  21521\n",
      "counter at  37  pulling CERT#  33493\n",
      "counter at  38  pulling CERT#  23876\n",
      "counter at  39  pulling CERT#  26619\n",
      "counter at  40  pulling CERT#  24067\n",
      "counter at  41  pulling CERT#  57724\n",
      "counter at  42  pulling CERT#  28886\n",
      "counter at  43  pulling CERT#  34878\n",
      "counter at  44  pulling CERT#  34242\n"
     ]
    }
   ],
   "source": [
    "# Pull 45 reports, drop all values but 13 selected metrics \n",
    "report_data_dict = {}\n",
    "for i in range(len(banks_to_pull)):\n",
    "\n",
    "    ds_name = 'Call'    # Pull Call report data\n",
    "    end_date = '3/31/2010'  # Pull data in reporting pd ending 3/31/17\n",
    "    fiID_type = 'FDICCertNumber'  # Type of financial inst identifier (ID_RSSD, CERT )\n",
    "    fiID = banks_to_pull[i]   # Indentifier for Wyomin Bank and Trust\n",
    "    print(\"counter at \", i, \" pulling CERT# \", fiID)\n",
    "    fmt = 'SDF'  # Pull report as PDF\n",
    "    # <facsimileFormat>PDF or XBRL or SDF</facsimileFormat>\n",
    "    #outfile = 'test8.PDF'  # Output file path\n",
    "    return_result = True  # If True, method returns the data\n",
    "    try:\n",
    "        f = client.retrieve_facsimile(ds_name=ds_name, reporting_pd_end=end_date,\n",
    "                                      fiID_type=fiID_type, fiID=fiID,\n",
    "                                      facsimile_fmt=fmt, outfile=False,\n",
    "                                      return_result=True)\n",
    "        report = StringIO(str(f, 'utf-8'))\n",
    "        report_df = pd.read_csv(report, sep=';')\n",
    "        \n",
    "        key = banks_to_pull[i]\n",
    "        report_data_dict[key] = {}\n",
    "        for col in columns:\n",
    "            df = report_df.loc[report_df['MDRM #'] == col]\n",
    "            value = df.Value.values[0]\n",
    "            report_data_dict[key][col] = value\n",
    "        \n",
    "        \n",
    "        #report_df.columns = ['Call Date', 'Bank RSSD Identifier', 'ValueID', 'Value', 'Last Update',\n",
    "       #'Short Definition', 'Call Schedule', 'Line Number']\n",
    "        #values = list(report_df[report_df.ValueID.isin(columns)].Value)\n",
    "        #fin_data_dic[fiID] = values\n",
    "        #all_data_df = all_data_df.append(report_df, ignore_index=True)\n",
    "    except:\n",
    "        next "
   ]
  },
  {
   "cell_type": "code",
   "execution_count": 109,
   "metadata": {},
   "outputs": [],
   "source": [
    "failed_after_2010Q1 = pd.DataFrame.from_dict(report_data_dict, orient='index')\n",
    "failed_after_2010Q1.columns = selected_financials.values()"
   ]
  },
  {
   "cell_type": "code",
   "execution_count": 110,
   "metadata": {},
   "outputs": [
    {
     "data": {
      "text/html": [
       "<div>\n",
       "<style scoped>\n",
       "    .dataframe tbody tr th:only-of-type {\n",
       "        vertical-align: middle;\n",
       "    }\n",
       "\n",
       "    .dataframe tbody tr th {\n",
       "        vertical-align: top;\n",
       "    }\n",
       "\n",
       "    .dataframe thead th {\n",
       "        text-align: right;\n",
       "    }\n",
       "</style>\n",
       "<table border=\"1\" class=\"dataframe\">\n",
       "  <thead>\n",
       "    <tr style=\"text-align: right;\">\n",
       "      <th></th>\n",
       "      <th>Total equity capital</th>\n",
       "      <th>Total assets</th>\n",
       "      <th>Total loans</th>\n",
       "      <th>1-4 family residential loans</th>\n",
       "      <th>Other real estate loans</th>\n",
       "      <th>Commercial and industrial loans</th>\n",
       "      <th>Credit cards</th>\n",
       "      <th>Allowance for loan losses</th>\n",
       "      <th>Total noninterest expense</th>\n",
       "      <th>Net Income before</th>\n",
       "      <th>Total transaction deposits</th>\n",
       "      <th>Total nontransaction deposits</th>\n",
       "      <th>Available-for-sale Fair Value</th>\n",
       "      <th>Number of full-time employees</th>\n",
       "    </tr>\n",
       "  </thead>\n",
       "  <tbody>\n",
       "    <tr>\n",
       "      <th>57724</th>\n",
       "      <td>-317</td>\n",
       "      <td>104034</td>\n",
       "      <td>65031</td>\n",
       "      <td>7104</td>\n",
       "      <td>52235</td>\n",
       "      <td>5304</td>\n",
       "      <td>0</td>\n",
       "      <td>3813</td>\n",
       "      <td>936</td>\n",
       "      <td>-684</td>\n",
       "      <td>6153</td>\n",
       "      <td>93917</td>\n",
       "      <td>4024</td>\n",
       "      <td>20</td>\n",
       "    </tr>\n",
       "    <tr>\n",
       "      <th>57735</th>\n",
       "      <td>-446</td>\n",
       "      <td>61215</td>\n",
       "      <td>58810</td>\n",
       "      <td>15417</td>\n",
       "      <td>27911</td>\n",
       "      <td>10969</td>\n",
       "      <td>0</td>\n",
       "      <td>5182</td>\n",
       "      <td>684</td>\n",
       "      <td>-1205</td>\n",
       "      <td>4515</td>\n",
       "      <td>53773</td>\n",
       "      <td>1000</td>\n",
       "      <td>12</td>\n",
       "    </tr>\n",
       "    <tr>\n",
       "      <th>57814</th>\n",
       "      <td>-2177</td>\n",
       "      <td>240513</td>\n",
       "      <td>210642</td>\n",
       "      <td>11468</td>\n",
       "      <td>134021</td>\n",
       "      <td>24768</td>\n",
       "      <td>0</td>\n",
       "      <td>9253</td>\n",
       "      <td>2629</td>\n",
       "      <td>-9449</td>\n",
       "      <td>5650</td>\n",
       "      <td>218374</td>\n",
       "      <td>24770</td>\n",
       "      <td>23</td>\n",
       "    </tr>\n",
       "    <tr>\n",
       "      <th>58362</th>\n",
       "      <td>3469</td>\n",
       "      <td>195510</td>\n",
       "      <td>139262</td>\n",
       "      <td>31823</td>\n",
       "      <td>100400</td>\n",
       "      <td>5887</td>\n",
       "      <td>0</td>\n",
       "      <td>8025</td>\n",
       "      <td>1611</td>\n",
       "      <td>-765</td>\n",
       "      <td>13303</td>\n",
       "      <td>149513</td>\n",
       "      <td>11670</td>\n",
       "      <td>29</td>\n",
       "    </tr>\n",
       "    <tr>\n",
       "      <th>58429</th>\n",
       "      <td>-10986</td>\n",
       "      <td>441694</td>\n",
       "      <td>396899</td>\n",
       "      <td>46353</td>\n",
       "      <td>292970</td>\n",
       "      <td>51370</td>\n",
       "      <td>0</td>\n",
       "      <td>34827</td>\n",
       "      <td>3224</td>\n",
       "      <td>-2953</td>\n",
       "      <td>6038</td>\n",
       "      <td>442879</td>\n",
       "      <td>2367</td>\n",
       "      <td>23</td>\n",
       "    </tr>\n",
       "  </tbody>\n",
       "</table>\n",
       "</div>"
      ],
      "text/plain": [
       "      Total equity capital Total assets Total loans  \\\n",
       "57724                 -317       104034       65031   \n",
       "57735                 -446        61215       58810   \n",
       "57814                -2177       240513      210642   \n",
       "58362                 3469       195510      139262   \n",
       "58429               -10986       441694      396899   \n",
       "\n",
       "      1-4 family residential loans Other real estate loans  \\\n",
       "57724                         7104                   52235   \n",
       "57735                        15417                   27911   \n",
       "57814                        11468                  134021   \n",
       "58362                        31823                  100400   \n",
       "58429                        46353                  292970   \n",
       "\n",
       "      Commercial and industrial loans Credit cards Allowance for loan losses  \\\n",
       "57724                            5304            0                      3813   \n",
       "57735                           10969            0                      5182   \n",
       "57814                           24768            0                      9253   \n",
       "58362                            5887            0                      8025   \n",
       "58429                           51370            0                     34827   \n",
       "\n",
       "      Total noninterest expense Net Income before Total transaction deposits  \\\n",
       "57724                       936              -684                       6153   \n",
       "57735                       684             -1205                       4515   \n",
       "57814                      2629             -9449                       5650   \n",
       "58362                      1611              -765                      13303   \n",
       "58429                      3224             -2953                       6038   \n",
       "\n",
       "      Total nontransaction deposits Available-for-sale Fair Value  \\\n",
       "57724                         93917                          4024   \n",
       "57735                         53773                          1000   \n",
       "57814                        218374                         24770   \n",
       "58362                        149513                         11670   \n",
       "58429                        442879                          2367   \n",
       "\n",
       "      Number of full-time employees  \n",
       "57724                            20  \n",
       "57735                            12  \n",
       "57814                            23  \n",
       "58362                            29  \n",
       "58429                            23  "
      ]
     },
     "execution_count": 110,
     "metadata": {},
     "output_type": "execute_result"
    }
   ],
   "source": [
    "failed_after_2010Q1.tail()"
   ]
  },
  {
   "cell_type": "code",
   "execution_count": 111,
   "metadata": {},
   "outputs": [],
   "source": [
    "#failed_after_2010Q1.to_csv('data/failed_after_2010Q1')"
   ]
  },
  {
   "cell_type": "code",
   "execution_count": 112,
   "metadata": {},
   "outputs": [
    {
     "data": {
      "text/plain": [
       "22977"
      ]
     },
     "execution_count": 112,
     "metadata": {},
     "output_type": "execute_result"
    }
   ],
   "source": [
    "failed_banks_2010Q1 = failed_banks_df.loc[(failed_banks_df.Year_failed == 2010) & (failed_banks_df.Quarter_failed == 1)]\n",
    "banks_CERT_2010Q1_list = list(failed_banks_2010Q1.CERT)\n",
    "banks_to_pull = banks_CERT_2010Q1_list\n",
    "banks_to_pull[40]"
   ]
  },
  {
   "cell_type": "code",
   "execution_count": 113,
   "metadata": {},
   "outputs": [
    {
     "name": "stdout",
     "output_type": "stream",
     "text": [
      "counter at  0  pulling CERT#  57060\n",
      "counter at  1  pulling CERT#  34678\n",
      "counter at  2  pulling CERT#  34684\n",
      "counter at  3  pulling CERT#  57399\n",
      "counter at  4  pulling CERT#  8221\n",
      "counter at  5  pulling CERT#  24957\n",
      "counter at  6  pulling CERT#  10054\n",
      "counter at  7  pulling CERT#  33989\n",
      "counter at  8  pulling CERT#  33535\n",
      "counter at  9  pulling CERT#  58104\n",
      "counter at  10  pulling CERT#  18806\n",
      "counter at  11  pulling CERT#  29561\n",
      "counter at  12  pulling CERT#  58182\n",
      "counter at  13  pulling CERT#  27096\n",
      "counter at  14  pulling CERT#  58071\n",
      "counter at  15  pulling CERT#  34430\n",
      "counter at  16  pulling CERT#  34976\n",
      "counter at  17  pulling CERT#  9268\n",
      "counter at  18  pulling CERT#  27126\n",
      "counter at  19  pulling CERT#  38129\n",
      "counter at  20  pulling CERT#  58352\n",
      "counter at  21  pulling CERT#  32423\n",
      "counter at  22  pulling CERT#  29952\n",
      "counter at  23  pulling CERT#  3287\n",
      "counter at  24  pulling CERT#  57586\n",
      "counter at  25  pulling CERT#  15448\n",
      "counter at  26  pulling CERT#  16730\n",
      "counter at  27  pulling CERT#  23011\n",
      "counter at  28  pulling CERT#  5702\n",
      "counter at  29  pulling CERT#  16133\n",
      "counter at  30  pulling CERT#  5672\n",
      "counter at  31  pulling CERT#  16480\n",
      "counter at  32  pulling CERT#  22469\n",
      "counter at  33  pulling CERT#  20501\n",
      "counter at  34  pulling CERT#  32498\n",
      "counter at  35  pulling CERT#  8265\n",
      "counter at  36  pulling CERT#  57147\n",
      "counter at  37  pulling CERT#  1252\n",
      "counter at  38  pulling CERT#  17522\n",
      "counter at  39  pulling CERT#  34705\n",
      "counter at  40  pulling CERT#  22977\n"
     ]
    }
   ],
   "source": [
    "# Pull 41 reports, drop all values but 13 selected metrics < -- returns 37\n",
    "report_data_dict = {}\n",
    "for i in range(len(banks_to_pull)):\n",
    "\n",
    "    ds_name = 'Call'    # Pull Call report data\n",
    "    end_date = '12/31/2009'  # Pull data in reporting pd ending 3/31/17\n",
    "    fiID_type = 'FDICCertNumber'  # Type of financial inst identifier (ID_RSSD, CERT )\n",
    "    fiID = banks_to_pull[i]   # Indentifier for Wyomin Bank and Trust\n",
    "    print(\"counter at \", i, \" pulling CERT# \", fiID)\n",
    "    fmt = 'SDF'  # Pull report as PDF\n",
    "    # <facsimileFormat>PDF or XBRL or SDF</facsimileFormat>\n",
    "    #outfile = 'test8.PDF'  # Output file path\n",
    "    return_result = True  # If True, method returns the data\n",
    "    try:\n",
    "        f = client.retrieve_facsimile(ds_name=ds_name, reporting_pd_end=end_date,\n",
    "                                      fiID_type=fiID_type, fiID=fiID,\n",
    "                                      facsimile_fmt=fmt, outfile=False,\n",
    "                                      return_result=True)\n",
    "        report = StringIO(str(f, 'utf-8'))\n",
    "        report_df = pd.read_csv(report, sep=';')\n",
    "        \n",
    "        key = banks_to_pull[i]\n",
    "        report_data_dict[key] = {}\n",
    "        for col in columns:\n",
    "            df = report_df.loc[report_df['MDRM #'] == col]\n",
    "            value = df.Value.values[0]\n",
    "            report_data_dict[key][col] = value\n",
    "        \n",
    "        \n",
    "        #report_df.columns = ['Call Date', 'Bank RSSD Identifier', 'ValueID', 'Value', 'Last Update',\n",
    "       #'Short Definition', 'Call Schedule', 'Line Number']\n",
    "        #values = list(report_df[report_df.ValueID.isin(columns)].Value)\n",
    "        #fin_data_dic[fiID] = values\n",
    "        #all_data_df = all_data_df.append(report_df, ignore_index=True)\n",
    "    except:\n",
    "        next "
   ]
  },
  {
   "cell_type": "code",
   "execution_count": 114,
   "metadata": {},
   "outputs": [],
   "source": [
    "failed_after_2009Q4 = pd.DataFrame.from_dict(report_data_dict, orient='index')\n",
    "failed_after_2009Q4.columns = selected_financials.values()"
   ]
  },
  {
   "cell_type": "code",
   "execution_count": 115,
   "metadata": {},
   "outputs": [],
   "source": [
    "#failed_after_2009Q4.to_csv('data/failed_after_2009Q4')"
   ]
  },
  {
   "cell_type": "code",
   "execution_count": null,
   "metadata": {},
   "outputs": [],
   "source": [
    "# TODO"
   ]
  },
  {
   "cell_type": "code",
   "execution_count": 199,
   "metadata": {},
   "outputs": [],
   "source": [
    "# after 2009Q3"
   ]
  },
  {
   "cell_type": "code",
   "execution_count": 200,
   "metadata": {},
   "outputs": [],
   "source": [
    "# after 2009Q2"
   ]
  },
  {
   "cell_type": "code",
   "execution_count": 201,
   "metadata": {},
   "outputs": [],
   "source": [
    "# after 2009Q1"
   ]
  },
  {
   "cell_type": "code",
   "execution_count": 202,
   "metadata": {},
   "outputs": [],
   "source": [
    "# after 2008Q4"
   ]
  },
  {
   "cell_type": "code",
   "execution_count": 203,
   "metadata": {},
   "outputs": [],
   "source": [
    "# after 2008Q3"
   ]
  },
  {
   "cell_type": "code",
   "execution_count": 204,
   "metadata": {},
   "outputs": [],
   "source": [
    "# after 2008Q2"
   ]
  },
  {
   "cell_type": "code",
   "execution_count": null,
   "metadata": {},
   "outputs": [],
   "source": [
    "# after 2008Q1"
   ]
  }
 ],
 "metadata": {
  "kernelspec": {
   "display_name": "Python 3",
   "language": "python",
   "name": "python3"
  },
  "language_info": {
   "codemirror_mode": {
    "name": "ipython",
    "version": 3
   },
   "file_extension": ".py",
   "mimetype": "text/x-python",
   "name": "python",
   "nbconvert_exporter": "python",
   "pygments_lexer": "ipython3",
   "version": "3.7.3"
  }
 },
 "nbformat": 4,
 "nbformat_minor": 2
}

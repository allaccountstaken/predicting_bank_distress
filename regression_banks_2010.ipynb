{
 "cells": [
  {
   "cell_type": "code",
   "execution_count": 165,
   "metadata": {},
   "outputs": [],
   "source": [
    "import pandas as pd\n",
    "import numpy as np\n",
    "import matplotlib.pyplot as plt\n",
    "%matplotlib inline\n",
    "from ffipy import FFIEC_Client\n",
    "from io import StringIO\n"
   ]
  },
  {
   "cell_type": "code",
   "execution_count": 166,
   "metadata": {},
   "outputs": [
    {
     "data": {
      "text/plain": [
       "6999"
      ]
     },
     "execution_count": 166,
     "metadata": {},
     "output_type": "execute_result"
    }
   ],
   "source": [
    "client = FFIEC_Client()\n",
    "# get a list of RSSD codes for filers on 3/31/2019\n",
    "filers_RSSD_12312010 = client.retrieve_filers_since_date(ds_name='Call',\n",
    "                                   reporting_pd_end='12/31/2010',\n",
    "                                   last_update_date='12/31/2010')\n",
    "# check how many filers - 5908\n",
    "len(filers_RSSD_12312010)"
   ]
  },
  {
   "cell_type": "code",
   "execution_count": 184,
   "metadata": {},
   "outputs": [
    {
     "data": {
      "text/html": [
       "<div>\n",
       "<style scoped>\n",
       "    .dataframe tbody tr th:only-of-type {\n",
       "        vertical-align: middle;\n",
       "    }\n",
       "\n",
       "    .dataframe tbody tr th {\n",
       "        vertical-align: top;\n",
       "    }\n",
       "\n",
       "    .dataframe thead th {\n",
       "        text-align: right;\n",
       "    }\n",
       "</style>\n",
       "<table border=\"1\" class=\"dataframe\">\n",
       "  <thead>\n",
       "    <tr style=\"text-align: right;\">\n",
       "      <th></th>\n",
       "      <th>Bank Name</th>\n",
       "      <th>City</th>\n",
       "      <th>ST</th>\n",
       "      <th>CERT</th>\n",
       "      <th>Acquiring Institution</th>\n",
       "      <th>Closing Date</th>\n",
       "      <th>Updated Date</th>\n",
       "      <th>Date</th>\n",
       "      <th>Year_failed</th>\n",
       "      <th>Quarter_failed</th>\n",
       "    </tr>\n",
       "  </thead>\n",
       "  <tbody>\n",
       "    <tr>\n",
       "      <th>207</th>\n",
       "      <td>Community National Bank</td>\n",
       "      <td>Lino Lakes</td>\n",
       "      <td>MN</td>\n",
       "      <td>23306</td>\n",
       "      <td>Farmers &amp; Merchants Savings Bank</td>\n",
       "      <td>17-Dec-10</td>\n",
       "      <td>10-Nov-16</td>\n",
       "      <td>2010-12-17</td>\n",
       "      <td>2010</td>\n",
       "      <td>4</td>\n",
       "    </tr>\n",
       "    <tr>\n",
       "      <th>208</th>\n",
       "      <td>First Southern Bank</td>\n",
       "      <td>Batesville</td>\n",
       "      <td>AR</td>\n",
       "      <td>58052</td>\n",
       "      <td>Southern Bank</td>\n",
       "      <td>17-Dec-10</td>\n",
       "      <td>29-Jan-19</td>\n",
       "      <td>2010-12-17</td>\n",
       "      <td>2010</td>\n",
       "      <td>4</td>\n",
       "    </tr>\n",
       "    <tr>\n",
       "      <th>209</th>\n",
       "      <td>United Americas Bank, N.A.</td>\n",
       "      <td>Atlanta</td>\n",
       "      <td>GA</td>\n",
       "      <td>35065</td>\n",
       "      <td>State Bank and Trust Company</td>\n",
       "      <td>17-Dec-10</td>\n",
       "      <td>17-Oct-15</td>\n",
       "      <td>2010-12-17</td>\n",
       "      <td>2010</td>\n",
       "      <td>4</td>\n",
       "    </tr>\n",
       "    <tr>\n",
       "      <th>210</th>\n",
       "      <td>Appalachian Community Bank, FSB</td>\n",
       "      <td>McCaysville</td>\n",
       "      <td>GA</td>\n",
       "      <td>58495</td>\n",
       "      <td>Peoples Bank of East Tennessee</td>\n",
       "      <td>17-Dec-10</td>\n",
       "      <td>29-Jan-19</td>\n",
       "      <td>2010-12-17</td>\n",
       "      <td>2010</td>\n",
       "      <td>4</td>\n",
       "    </tr>\n",
       "    <tr>\n",
       "      <th>211</th>\n",
       "      <td>Chestatee State Bank</td>\n",
       "      <td>Dawsonville</td>\n",
       "      <td>GA</td>\n",
       "      <td>34578</td>\n",
       "      <td>Bank of the Ozarks</td>\n",
       "      <td>17-Dec-10</td>\n",
       "      <td>21-Sep-15</td>\n",
       "      <td>2010-12-17</td>\n",
       "      <td>2010</td>\n",
       "      <td>4</td>\n",
       "    </tr>\n",
       "  </tbody>\n",
       "</table>\n",
       "</div>"
      ],
      "text/plain": [
       "                           Bank Name         City  ST   CERT  \\\n",
       "207          Community National Bank   Lino Lakes  MN  23306   \n",
       "208              First Southern Bank   Batesville  AR  58052   \n",
       "209       United Americas Bank, N.A.      Atlanta  GA  35065   \n",
       "210  Appalachian Community Bank, FSB  McCaysville  GA  58495   \n",
       "211             Chestatee State Bank  Dawsonville  GA  34578   \n",
       "\n",
       "                Acquiring Institution Closing Date Updated Date       Date  \\\n",
       "207  Farmers & Merchants Savings Bank    17-Dec-10    10-Nov-16 2010-12-17   \n",
       "208                     Southern Bank    17-Dec-10    29-Jan-19 2010-12-17   \n",
       "209      State Bank and Trust Company    17-Dec-10    17-Oct-15 2010-12-17   \n",
       "210    Peoples Bank of East Tennessee    17-Dec-10    29-Jan-19 2010-12-17   \n",
       "211                Bank of the Ozarks    17-Dec-10    21-Sep-15 2010-12-17   \n",
       "\n",
       "     Year_failed  Quarter_failed  \n",
       "207         2010               4  \n",
       "208         2010               4  \n",
       "209         2010               4  \n",
       "210         2010               4  \n",
       "211         2010               4  "
      ]
     },
     "execution_count": 184,
     "metadata": {},
     "output_type": "execute_result"
    }
   ],
   "source": [
    "failed_banks_df = pd.read_csv('data/failed_banks_dataset.csv')\n",
    "failed_banks_df['Date'] = pd.to_datetime(failed_banks_df['Closing Date'])\n",
    "failed_banks_df['Year_failed'] = failed_banks_df['Date'].dt.year\n",
    "failed_banks_df['Quarter_failed'] = failed_banks_df['Date'].dt.quarter\n",
    "failed_banks_2010Q4 = failed_banks_df.loc[(failed_banks_df.Year_failed == 2010) & (failed_banks_df.Quarter_failed == 4)]\n",
    "failed_banks_2010Q4.head()\n",
    "#failed_banks_2010Q4['CERT'].count()"
   ]
  },
  {
   "cell_type": "code",
   "execution_count": 180,
   "metadata": {},
   "outputs": [],
   "source": [
    "# Testing Call report for 1 filer\n",
    "ds_name = 'Call'    # Pull Call report data\n",
    "end_date = '9/30/2010'  # Pull data in reporting pd ending 3/31/17\n",
    "fiID_type = 'FDICCertNumber'  # Type of financial inst identifier (ID_RSSD or FDICCertNumber)\n",
    "fiID = 23306    # Indentifier for Wyomin Bank and Trust\n",
    "fmt = 'SDF'  # Pull report as PDF\n",
    "# <facsimileFormat>PDF or XBRL or SDF</facsimileFormat>\n",
    "outfile = None  # Output file path\n",
    "return_result = True  # If True, method returns the data\n",
    "results_bytes2 = client.retrieve_facsimile(ds_name=ds_name, reporting_pd_end=end_date,\n",
    "                              fiID_type=fiID_type, fiID=fiID,\n",
    "                              facsimile_fmt=fmt, outfile=None,\n",
    "                              return_result=True)\n",
    "report = StringIO(str(results_bytes2, 'utf-8'))\n",
    "report_df = pd.read_csv(report, sep=';')\n",
    "\n"
   ]
  },
  {
   "cell_type": "code",
   "execution_count": 181,
   "metadata": {},
   "outputs": [],
   "source": [
    "report_df.columns = ['Call Date', 'Bank RSSD Identifier', 'ValueID', 'Value', 'Last Update',\n",
    "       'Short Definition', 'Call Schedule', 'Line Number']"
   ]
  },
  {
   "cell_type": "code",
   "execution_count": 205,
   "metadata": {},
   "outputs": [],
   "source": [
    "financial_metrics_dict = {'RIAD3210':'Total equity capital',\n",
    "                          'RCON2170':'Total assets',\n",
    "                          'RCON3360':'Total loans',\n",
    "                          'RCONC410':'New nonaccrual assets',\n",
    "                          'RCONC411': 'Sold nonaccrual assets',\n",
    "                          'RCON3123':'Allowance for loan losses',\n",
    "                          'RIAD4093':'Total noninterest expense',\n",
    "                          'RIAD4340':'Net Income attributable',\n",
    "                          'RCON2215':'Total transaction deposits',\n",
    "                          'RCON2385':'Total nontransaction deposits',\n",
    "                          'RCON3545':'Trading assets'}\n"
   ]
  },
  {
   "cell_type": "code",
   "execution_count": 206,
   "metadata": {},
   "outputs": [],
   "source": [
    "fin_columns = list(financial_metrics_dict.keys())\n",
    "failed_banks_2010Q4 = failed_banks_2010Q4.reindex(columns = np.append(failed_banks_2010Q4.columns.values, fin_columns))"
   ]
  },
  {
   "cell_type": "code",
   "execution_count": 207,
   "metadata": {},
   "outputs": [
    {
     "data": {
      "text/plain": [
       "['RIAD3210',\n",
       " 'RCON2170',\n",
       " 'RCON3360',\n",
       " 'RCONC410',\n",
       " 'RCONC411',\n",
       " 'RCON3123',\n",
       " 'RIAD4093',\n",
       " 'RIAD4340',\n",
       " 'RCON2215',\n",
       " 'RCON2385',\n",
       " 'RCON3545']"
      ]
     },
     "execution_count": 207,
     "metadata": {},
     "output_type": "execute_result"
    }
   ],
   "source": [
    "list(fin_columns)"
   ]
  },
  {
   "cell_type": "code",
   "execution_count": 214,
   "metadata": {},
   "outputs": [
    {
     "data": {
      "text/html": [
       "<div>\n",
       "<style scoped>\n",
       "    .dataframe tbody tr th:only-of-type {\n",
       "        vertical-align: middle;\n",
       "    }\n",
       "\n",
       "    .dataframe tbody tr th {\n",
       "        vertical-align: top;\n",
       "    }\n",
       "\n",
       "    .dataframe thead th {\n",
       "        text-align: right;\n",
       "    }\n",
       "</style>\n",
       "<table border=\"1\" class=\"dataframe\">\n",
       "  <thead>\n",
       "    <tr style=\"text-align: right;\">\n",
       "      <th></th>\n",
       "      <th>83</th>\n",
       "      <th>89</th>\n",
       "      <th>96</th>\n",
       "      <th>108</th>\n",
       "      <th>119</th>\n",
       "      <th>154</th>\n",
       "      <th>767</th>\n",
       "      <th>768</th>\n",
       "      <th>1362</th>\n",
       "      <th>1385</th>\n",
       "      <th>1405</th>\n",
       "    </tr>\n",
       "  </thead>\n",
       "  <tbody>\n",
       "    <tr>\n",
       "      <th>ValueID</th>\n",
       "      <td>RCON2170</td>\n",
       "      <td>RCON2215</td>\n",
       "      <td>RCON2385</td>\n",
       "      <td>RCON3123</td>\n",
       "      <td>RCON3360</td>\n",
       "      <td>RCON3545</td>\n",
       "      <td>RCONC410</td>\n",
       "      <td>RCONC411</td>\n",
       "      <td>RIAD3210</td>\n",
       "      <td>RIAD4093</td>\n",
       "      <td>RIAD4340</td>\n",
       "    </tr>\n",
       "    <tr>\n",
       "      <th>Value</th>\n",
       "      <td>31569</td>\n",
       "      <td>5633</td>\n",
       "      <td>23211</td>\n",
       "      <td>760</td>\n",
       "      <td>16517</td>\n",
       "      <td>0</td>\n",
       "      <td>0</td>\n",
       "      <td>0</td>\n",
       "      <td>2653</td>\n",
       "      <td>2186</td>\n",
       "      <td>-1859</td>\n",
       "    </tr>\n",
       "  </tbody>\n",
       "</table>\n",
       "</div>"
      ],
      "text/plain": [
       "             83        89        96        108       119       154       767   \\\n",
       "ValueID  RCON2170  RCON2215  RCON2385  RCON3123  RCON3360  RCON3545  RCONC410   \n",
       "Value       31569      5633     23211       760     16517         0         0   \n",
       "\n",
       "             768       1362      1385      1405  \n",
       "ValueID  RCONC411  RIAD3210  RIAD4093  RIAD4340  \n",
       "Value           0      2653      2186     -1859  "
      ]
     },
     "execution_count": 214,
     "metadata": {},
     "output_type": "execute_result"
    }
   ],
   "source": [
    "selected_metrics = report_df[report_df['ValueID'].isin(fin_columns)]\n",
    "selected_metrics.drop(columns = ['Call Date', 'Bank RSSD Identifier', 'Last Update',\n",
    "       'Short Definition', 'Call Schedule', 'Line Number'], axis =1, inplace=True)\n",
    "selected_metrics.T"
   ]
  },
  {
   "cell_type": "code",
   "execution_count": 209,
   "metadata": {},
   "outputs": [
    {
     "data": {
      "text/html": [
       "<div>\n",
       "<style scoped>\n",
       "    .dataframe tbody tr th:only-of-type {\n",
       "        vertical-align: middle;\n",
       "    }\n",
       "\n",
       "    .dataframe tbody tr th {\n",
       "        vertical-align: top;\n",
       "    }\n",
       "\n",
       "    .dataframe thead th {\n",
       "        text-align: right;\n",
       "    }\n",
       "</style>\n",
       "<table border=\"1\" class=\"dataframe\">\n",
       "  <thead>\n",
       "    <tr style=\"text-align: right;\">\n",
       "      <th></th>\n",
       "      <th>Call Date</th>\n",
       "      <th>Bank RSSD Identifier</th>\n",
       "      <th>ValueID</th>\n",
       "      <th>Value</th>\n",
       "      <th>Last Update</th>\n",
       "      <th>Short Definition</th>\n",
       "      <th>Call Schedule</th>\n",
       "      <th>Line Number</th>\n",
       "    </tr>\n",
       "  </thead>\n",
       "  <tbody>\n",
       "    <tr>\n",
       "      <th>89</th>\n",
       "      <td>20100930</td>\n",
       "      <td>367851</td>\n",
       "      <td>RCON2215</td>\n",
       "      <td>5633</td>\n",
       "      <td>20101019</td>\n",
       "      <td>Total</td>\n",
       "      <td>RCE</td>\n",
       "      <td>7</td>\n",
       "    </tr>\n",
       "  </tbody>\n",
       "</table>\n",
       "</div>"
      ],
      "text/plain": [
       "    Call Date  Bank RSSD Identifier   ValueID Value  Last Update  \\\n",
       "89   20100930                367851  RCON2215  5633     20101019   \n",
       "\n",
       "   Short Definition Call Schedule Line Number  \n",
       "89            Total           RCE           7  "
      ]
     },
     "execution_count": 209,
     "metadata": {},
     "output_type": "execute_result"
    }
   ],
   "source": [
    "report_df.loc[report_df.ValueID == 'RCON2215']"
   ]
  },
  {
   "cell_type": "code",
   "execution_count": 188,
   "metadata": {},
   "outputs": [
    {
     "name": "stdout",
     "output_type": "stream",
     "text": [
      "RCON2170 31569\n",
      "RCON2215 5633\n",
      "RCON2385 23211\n",
      "RCON3123 760\n",
      "RCON3360 16517\n",
      "RCON3545 0\n",
      "RCONC410 0\n",
      "RCONC411 0\n",
      "RCONG105 2653\n",
      "RIAD4093 2186\n",
      "RIAD4340 -1859\n"
     ]
    }
   ],
   "source": [
    "failed_banks_df = failed_banks_2010Q4."
   ]
  },
  {
   "cell_type": "code",
   "execution_count": 174,
   "metadata": {},
   "outputs": [
    {
     "data": {
      "text/plain": [
       "32"
      ]
     },
     "execution_count": 174,
     "metadata": {},
     "output_type": "execute_result"
    }
   ],
   "source": [
    "len(failed_banks_2010Q4.columns)"
   ]
  },
  {
   "cell_type": "code",
   "execution_count": 175,
   "metadata": {},
   "outputs": [
    {
     "data": {
      "text/plain": [
       "Bank Name                         Community National Bank\n",
       "City                                           Lino Lakes\n",
       "ST                                                     MN\n",
       "CERT                                                23306\n",
       "Acquiring Institution    Farmers & Merchants Savings Bank\n",
       "Closing Date                                    17-Dec-10\n",
       "Updated Date                                    10-Nov-16\n",
       "Date                                  2010-12-17 00:00:00\n",
       "Year_failed                                          2010\n",
       "Quarter_failed                                          4\n",
       "RCONG105                                              NaN\n",
       "RCON2170                                              NaN\n",
       "RCON3360                                              NaN\n",
       "RCONC410                                              NaN\n",
       "RCONC411                                              NaN\n",
       "RCON3123                                              NaN\n",
       "RIAD4093                                              NaN\n",
       "RIAD4340                                              NaN\n",
       "RCON2215                                              NaN\n",
       "RCON2385                                              NaN\n",
       "RCON3545                                              NaN\n",
       "RCONG105                                              NaN\n",
       "RCON2170                                              NaN\n",
       "RCON3360                                              NaN\n",
       "RCONC410                                              NaN\n",
       "RCONC411                                              NaN\n",
       "RCON3123                                              NaN\n",
       "RIAD4093                                              NaN\n",
       "RIAD4340                                              NaN\n",
       "RCON2215                                              NaN\n",
       "RCON2385                                              NaN\n",
       "RCON3545                                              NaN\n",
       "Name: 207, dtype: object"
      ]
     },
     "execution_count": 175,
     "metadata": {},
     "output_type": "execute_result"
    }
   ],
   "source": [
    "failed_banks_2010Q4.iloc[0,:]"
   ]
  },
  {
   "cell_type": "code",
   "execution_count": 125,
   "metadata": {},
   "outputs": [
    {
     "data": {
      "text/plain": [
       "2002    2002\n",
       "2003    2003\n",
       "2004    2004\n",
       "2005       1\n",
       "Name: 0, dtype: object"
      ]
     },
     "execution_count": 125,
     "metadata": {},
     "output_type": "execute_result"
    }
   ],
   "source": [
    "test_data = {'2002':['2002', '2003', '2004', None, '2002', '2007'], \n",
    "             '2003':['2003', '2003', '2004', None, \"bob\", '2005'],\n",
    "             '2004':['2004', None, '2004', '2004', '2007', '2002'],\n",
    "             '2005':['', '', '', '', '', ''] } \n",
    "test_df = pd.DataFrame(test_data) \n",
    "\n",
    "test_df.iloc[0, 3] = 1\n",
    "\n",
    "test_df.iloc[0,:]"
   ]
  },
  {
   "cell_type": "code",
   "execution_count": 187,
   "metadata": {},
   "outputs": [
    {
     "data": {
      "text/html": [
       "<div>\n",
       "<style scoped>\n",
       "    .dataframe tbody tr th:only-of-type {\n",
       "        vertical-align: middle;\n",
       "    }\n",
       "\n",
       "    .dataframe tbody tr th {\n",
       "        vertical-align: top;\n",
       "    }\n",
       "\n",
       "    .dataframe thead th {\n",
       "        text-align: right;\n",
       "    }\n",
       "</style>\n",
       "<table border=\"1\" class=\"dataframe\">\n",
       "  <thead>\n",
       "    <tr style=\"text-align: right;\">\n",
       "      <th></th>\n",
       "      <th>Call Date</th>\n",
       "      <th>Bank RSSD Identifier</th>\n",
       "      <th>ValueID</th>\n",
       "      <th>Value</th>\n",
       "      <th>Last Update</th>\n",
       "      <th>Short Definition</th>\n",
       "      <th>Call Schedule</th>\n",
       "      <th>Line Number</th>\n",
       "    </tr>\n",
       "  </thead>\n",
       "  <tbody>\n",
       "    <tr>\n",
       "      <th>0</th>\n",
       "      <td>20100930</td>\n",
       "      <td>367851</td>\n",
       "      <td>RCON0010</td>\n",
       "      <td>6646</td>\n",
       "      <td>20101019</td>\n",
       "      <td>Cash and balances dues from depository institu...</td>\n",
       "      <td>RCR</td>\n",
       "      <td>34</td>\n",
       "    </tr>\n",
       "    <tr>\n",
       "      <th>1</th>\n",
       "      <td>20100930</td>\n",
       "      <td>367851</td>\n",
       "      <td>RCON0020</td>\n",
       "      <td>NaN</td>\n",
       "      <td>20101019</td>\n",
       "      <td>Cash items in process of collection and unpost...</td>\n",
       "      <td>RCA</td>\n",
       "      <td>1a</td>\n",
       "    </tr>\n",
       "    <tr>\n",
       "      <th>2</th>\n",
       "      <td>20100930</td>\n",
       "      <td>367851</td>\n",
       "      <td>RCON0071</td>\n",
       "      <td>6074</td>\n",
       "      <td>20101019</td>\n",
       "      <td>Interest-bearing balances</td>\n",
       "      <td>RC</td>\n",
       "      <td>1b</td>\n",
       "    </tr>\n",
       "    <tr>\n",
       "      <th>3</th>\n",
       "      <td>20100930</td>\n",
       "      <td>367851</td>\n",
       "      <td>RCON0073</td>\n",
       "      <td>NaN</td>\n",
       "      <td>20101019</td>\n",
       "      <td>Foreign branches of other U.S. banks</td>\n",
       "      <td>RCA</td>\n",
       "      <td>3a</td>\n",
       "    </tr>\n",
       "    <tr>\n",
       "      <th>4</th>\n",
       "      <td>20100930</td>\n",
       "      <td>367851</td>\n",
       "      <td>RCON0074</td>\n",
       "      <td>NaN</td>\n",
       "      <td>20101019</td>\n",
       "      <td>Other banks in foreign countries and foreign c...</td>\n",
       "      <td>RCA</td>\n",
       "      <td>3b</td>\n",
       "    </tr>\n",
       "  </tbody>\n",
       "</table>\n",
       "</div>"
      ],
      "text/plain": [
       "   Call Date  Bank RSSD Identifier   ValueID Value  Last Update  \\\n",
       "0   20100930                367851  RCON0010  6646     20101019   \n",
       "1   20100930                367851  RCON0020   NaN     20101019   \n",
       "2   20100930                367851  RCON0071  6074     20101019   \n",
       "3   20100930                367851  RCON0073   NaN     20101019   \n",
       "4   20100930                367851  RCON0074   NaN     20101019   \n",
       "\n",
       "                                    Short Definition Call Schedule Line Number  \n",
       "0  Cash and balances dues from depository institu...           RCR          34  \n",
       "1  Cash items in process of collection and unpost...           RCA          1a  \n",
       "2                          Interest-bearing balances            RC          1b  \n",
       "3               Foreign branches of other U.S. banks           RCA          3a  \n",
       "4  Other banks in foreign countries and foreign c...           RCA          3b  "
      ]
     },
     "execution_count": 187,
     "metadata": {},
     "output_type": "execute_result"
    }
   ],
   "source": [
    "len(report_df.index)\n",
    "report_df.head()"
   ]
  },
  {
   "cell_type": "code",
   "execution_count": 25,
   "metadata": {},
   "outputs": [
    {
     "data": {
      "text/plain": [
       "pandas.core.series.Series"
      ]
     },
     "execution_count": 25,
     "metadata": {},
     "output_type": "execute_result"
    }
   ],
   "source": [
    "RIAD3210 = report_df.loc[report_df.ValueID == 'RIAD3210']['Value'] # Total equity is 2653 for ID=367851\n",
    "\n",
    "type(RIAD3210)"
   ]
  },
  {
   "cell_type": "code",
   "execution_count": 24,
   "metadata": {},
   "outputs": [
    {
     "data": {
      "text/html": [
       "<div>\n",
       "<style scoped>\n",
       "    .dataframe tbody tr th:only-of-type {\n",
       "        vertical-align: middle;\n",
       "    }\n",
       "\n",
       "    .dataframe tbody tr th {\n",
       "        vertical-align: top;\n",
       "    }\n",
       "\n",
       "    .dataframe thead th {\n",
       "        text-align: right;\n",
       "    }\n",
       "</style>\n",
       "<table border=\"1\" class=\"dataframe\">\n",
       "  <thead>\n",
       "    <tr style=\"text-align: right;\">\n",
       "      <th></th>\n",
       "      <th>Call Date</th>\n",
       "      <th>Bank RSSD Identifier</th>\n",
       "      <th>ValueID</th>\n",
       "      <th>Value</th>\n",
       "      <th>Last Update</th>\n",
       "      <th>Short Definition</th>\n",
       "      <th>Call Schedule</th>\n",
       "      <th>Line Number</th>\n",
       "    </tr>\n",
       "  </thead>\n",
       "  <tbody>\n",
       "    <tr>\n",
       "      <th>154</th>\n",
       "      <td>20100930</td>\n",
       "      <td>367851</td>\n",
       "      <td>RCON3545</td>\n",
       "      <td>0</td>\n",
       "      <td>20101019</td>\n",
       "      <td>Trading Assets</td>\n",
       "      <td>RCR</td>\n",
       "      <td>41</td>\n",
       "    </tr>\n",
       "  </tbody>\n",
       "</table>\n",
       "</div>"
      ],
      "text/plain": [
       "     Call Date  Bank RSSD Identifier   ValueID Value  Last Update  \\\n",
       "154   20100930                367851  RCON3545     0     20101019   \n",
       "\n",
       "    Short Definition Call Schedule Line Number  \n",
       "154   Trading Assets           RCR          41  "
      ]
     },
     "execution_count": 24,
     "metadata": {},
     "output_type": "execute_result"
    }
   ],
   "source": [
    "report_df.loc[report_df.ValueID == 'RCON3545']"
   ]
  },
  {
   "cell_type": "code",
   "execution_count": 176,
   "metadata": {},
   "outputs": [
    {
     "data": {
      "text/html": [
       "<div>\n",
       "<style scoped>\n",
       "    .dataframe tbody tr th:only-of-type {\n",
       "        vertical-align: middle;\n",
       "    }\n",
       "\n",
       "    .dataframe tbody tr th {\n",
       "        vertical-align: top;\n",
       "    }\n",
       "\n",
       "    .dataframe thead th {\n",
       "        text-align: right;\n",
       "    }\n",
       "</style>\n",
       "<table border=\"1\" class=\"dataframe\">\n",
       "  <thead>\n",
       "    <tr style=\"text-align: right;\">\n",
       "      <th></th>\n",
       "      <th>Call Date</th>\n",
       "      <th>Bank RSSD Identifier</th>\n",
       "      <th>ValueID</th>\n",
       "      <th>Value</th>\n",
       "      <th>Last Update</th>\n",
       "      <th>Short Definition</th>\n",
       "      <th>Call Schedule</th>\n",
       "      <th>Line Number</th>\n",
       "    </tr>\n",
       "  </thead>\n",
       "  <tbody>\n",
       "  </tbody>\n",
       "</table>\n",
       "</div>"
      ],
      "text/plain": [
       "Empty DataFrame\n",
       "Columns: [Call Date, Bank RSSD Identifier, ValueID, Value, Last Update, Short Definition, Call Schedule, Line Number]\n",
       "Index: []"
      ]
     },
     "execution_count": 176,
     "metadata": {},
     "output_type": "execute_result"
    }
   ],
   "source": [
    "report_df.loc[report_df.ValueID == 'RCONG105'] # Total equity is 2653 for ID=367851, SAME AS ABOVE!!!"
   ]
  },
  {
   "cell_type": "code",
   "execution_count": 177,
   "metadata": {},
   "outputs": [
    {
     "data": {
      "text/plain": [
       "0       6646\n",
       "1        NaN\n",
       "2       6074\n",
       "3        NaN\n",
       "4        NaN\n",
       "5        NaN\n",
       "6        572\n",
       "7        NaN\n",
       "8        NaN\n",
       "9        NaN\n",
       "10         0\n",
       "11         0\n",
       "12      2809\n",
       "13         0\n",
       "14         0\n",
       "15         0\n",
       "16         0\n",
       "17         0\n",
       "18       NaN\n",
       "19       NaN\n",
       "20       NaN\n",
       "21       NaN\n",
       "22       NaN\n",
       "23       NaN\n",
       "24         0\n",
       "25         0\n",
       "26         0\n",
       "27         0\n",
       "28         0\n",
       "29         0\n",
       "        ... \n",
       "1657     NaN\n",
       "1658     NaN\n",
       "1659     NaN\n",
       "1660     NaN\n",
       "1661     NaN\n",
       "1662     NaN\n",
       "1663     NaN\n",
       "1664     NaN\n",
       "1665     NaN\n",
       "1666     NaN\n",
       "1667     NaN\n",
       "1668     NaN\n",
       "1669     NaN\n",
       "1670     NaN\n",
       "1671     NaN\n",
       "1672     NaN\n",
       "1673     NaN\n",
       "1674     NaN\n",
       "1675     NaN\n",
       "1676     NaN\n",
       "1677     NaN\n",
       "1678     NaN\n",
       "1679     NaN\n",
       "1680     NaN\n",
       "1681     NaN\n",
       "1682     NaN\n",
       "1683     NaN\n",
       "1684     NaN\n",
       "1685     NaN\n",
       "1686     NaN\n",
       "Name: Value, Length: 1687, dtype: object"
      ]
     },
     "execution_count": 177,
     "metadata": {},
     "output_type": "execute_result"
    }
   ],
   "source": [
    "report_df.loc[report_df.ValueID == 'RCON2170']['Value'] # Total assets is  31569 for ID=367851"
   ]
  },
  {
   "cell_type": "code",
   "execution_count": 41,
   "metadata": {},
   "outputs": [],
   "source": [
    "EQTA = RIAD3210 / RCON2170 # 1) Total Equity / Total Assets (EQTA) = 0.08 for ID=367851"
   ]
  },
  {
   "cell_type": "code",
   "execution_count": 52,
   "metadata": {},
   "outputs": [],
   "source": [
    "#RCON3360 = report_df.loc[report_df.ValueID == 'RCON3360'] #Total loans of 16517  for ID=367851\n",
    "#EQTL = RCONG105 / RCON3360 # Total Equity / Total Loans (EQTL)"
   ]
  },
  {
   "cell_type": "code",
   "execution_count": 11,
   "metadata": {},
   "outputs": [],
   "source": [
    "#NPLTA = Non Performing Loans / Total Assets (NPLTA)\n",
    "#RCONC410  #Additions to nonaccrual assets during the previous six months\n",
    "#RCONC411 # Nonaccrual assets sold during the previous six months\n",
    "\n",
    "#LLRTA = Loan Loss Reserves / Total Assest\n",
    "# RCON3123     # Allowance for loan and lease losses\n",
    "\n",
    "#LLRGL = Loan Loss Reserves / Gross Loans (LLRGL)\n",
    "\n",
    "\n",
    "# (M)anagement quality\n",
    "#       7) Operating Expenses / Assets (OEXTA)\n",
    "# RIAD4093 # Total noninterest expense (sum of items 7.a through 7.d).\n",
    "\n",
    "\n",
    "\n",
    "\n",
    "#       - Operating Costs / Net Operating Income (OCNOI)\n",
    "#\n",
    "#\n",
    "# (E)arnings ability\n",
    "#       8) Net Income / Total Assest (ROA)\n",
    "# RIAD4340    # Net Income (Net income (loss) attributable to bank (item 12 minus item 13).)\n",
    "#       9) Net Income / Total Equity (ROE)\n",
    "# \n",
    "#\n",
    "#\n",
    "#(L)iquidity, i.e. ability to fulfill its short-term liability\n",
    "#       10) Total Loans / Total Customer Deposits (TLTD)\n",
    "#  RCON2215  # Total transaction accounts deposits \n",
    "#  RCON2385  # Total non-transaction accounts \n",
    "#\n",
    "#\n",
    "#       11) Total Customer Deposits / Total Assest (TDTA)\n",
    "#\n",
    "#\n",
    "#\n",
    "# (S)ensitivity to market risk \n",
    "#  RCON3545 # Trading Assets /Total assest\n",
    "#\n",
    "#\n",
    "#  Schedule RC-B: Securities \n",
    "#  RCON1754 # (Column A) Held-to-maturity Amortized Cost\n",
    "#  RCON1771 # (Column B) Held-to-maturity Fair Value\n",
    "#  RCON1772 # (Column C) Available-for-sale Amortized Cost\n",
    "#  RCON1773 # (Column D) Available-for-sale Fair Value\n"
   ]
  },
  {
   "cell_type": "code",
   "execution_count": 10,
   "metadata": {},
   "outputs": [
    {
     "data": {
      "text/html": [
       "<div>\n",
       "<style scoped>\n",
       "    .dataframe tbody tr th:only-of-type {\n",
       "        vertical-align: middle;\n",
       "    }\n",
       "\n",
       "    .dataframe tbody tr th {\n",
       "        vertical-align: top;\n",
       "    }\n",
       "\n",
       "    .dataframe thead th {\n",
       "        text-align: right;\n",
       "    }\n",
       "</style>\n",
       "<table border=\"1\" class=\"dataframe\">\n",
       "  <thead>\n",
       "    <tr style=\"text-align: right;\">\n",
       "      <th></th>\n",
       "      <th>Call Date</th>\n",
       "      <th>Bank RSSD Identifier</th>\n",
       "      <th>ValueID</th>\n",
       "      <th>Value</th>\n",
       "      <th>Last Update</th>\n",
       "      <th>Short Definition</th>\n",
       "      <th>Call Schedule</th>\n",
       "      <th>Line Number</th>\n",
       "    </tr>\n",
       "  </thead>\n",
       "  <tbody>\n",
       "    <tr>\n",
       "      <th>443</th>\n",
       "      <td>20100930</td>\n",
       "      <td>367851</td>\n",
       "      <td>RCONB549</td>\n",
       "      <td>5469</td>\n",
       "      <td>20101019</td>\n",
       "      <td>Individuals, partnerships, and corporations (i...</td>\n",
       "      <td>RCE</td>\n",
       "      <td>1</td>\n",
       "    </tr>\n",
       "  </tbody>\n",
       "</table>\n",
       "</div>"
      ],
      "text/plain": [
       "     Call Date  Bank RSSD Identifier   ValueID Value  Last Update  \\\n",
       "443   20100930                367851  RCONB549  5469     20101019   \n",
       "\n",
       "                                      Short Definition Call Schedule  \\\n",
       "443  Individuals, partnerships, and corporations (i...           RCE   \n",
       "\n",
       "    Line Number  \n",
       "443           1  "
      ]
     },
     "execution_count": 10,
     "metadata": {},
     "output_type": "execute_result"
    }
   ],
   "source": [
    "report_df.loc[report_df.ValueID == 'RCONB549'] # Trading Assets"
   ]
  },
  {
   "cell_type": "code",
   "execution_count": null,
   "metadata": {},
   "outputs": [],
   "source": []
  }
 ],
 "metadata": {
  "kernelspec": {
   "display_name": "Python 3",
   "language": "python",
   "name": "python3"
  },
  "language_info": {
   "codemirror_mode": {
    "name": "ipython",
    "version": 3
   },
   "file_extension": ".py",
   "mimetype": "text/x-python",
   "name": "python",
   "nbconvert_exporter": "python",
   "pygments_lexer": "ipython3",
   "version": "3.7.3"
  }
 },
 "nbformat": 4,
 "nbformat_minor": 2
}

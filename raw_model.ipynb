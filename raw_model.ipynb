{
 "cells": [
  {
   "cell_type": "code",
   "execution_count": 1,
   "metadata": {},
   "outputs": [],
   "source": [
    "import pandas as pd\n",
    "import numpy as np\n",
    "import matplotlib.pyplot as plt\n",
    "%matplotlib inline\n",
    "\n",
    "\n",
    "from sklearn.preprocessing import StandardScaler\n",
    "from sklearn.model_selection import train_test_split\n",
    "\n",
    "from sklearn.linear_model import LogisticRegression, SGDClassifier"
   ]
  },
  {
   "cell_type": "code",
   "execution_count": 2,
   "metadata": {},
   "outputs": [],
   "source": [
    "raw_data = pd.read_csv('data/all_banks_after2010Q3.csv', index_col = 0)"
   ]
  },
  {
   "cell_type": "code",
   "execution_count": 4,
   "metadata": {},
   "outputs": [
    {
     "data": {
      "text/plain": [
       "7233"
      ]
     },
     "execution_count": 4,
     "metadata": {},
     "output_type": "execute_result"
    }
   ],
   "source": [
    "len(raw_data.index)"
   ]
  },
  {
   "cell_type": "code",
   "execution_count": 5,
   "metadata": {},
   "outputs": [
    {
     "data": {
      "text/plain": [
       "7119"
      ]
     },
     "execution_count": 5,
     "metadata": {},
     "output_type": "execute_result"
    }
   ],
   "source": [
    "raw_set = raw_data.dropna()\n",
    "len(raw_set)"
   ]
  },
  {
   "cell_type": "code",
   "execution_count": 6,
   "metadata": {},
   "outputs": [
    {
     "data": {
      "text/plain": [
       "137"
      ]
     },
     "execution_count": 6,
     "metadata": {},
     "output_type": "execute_result"
    }
   ],
   "source": [
    "len(raw_set.loc[raw_set.Target == 1])"
   ]
  },
  {
   "cell_type": "code",
   "execution_count": 7,
   "metadata": {},
   "outputs": [
    {
     "data": {
      "text/html": [
       "<div>\n",
       "<style scoped>\n",
       "    .dataframe tbody tr th:only-of-type {\n",
       "        vertical-align: middle;\n",
       "    }\n",
       "\n",
       "    .dataframe tbody tr th {\n",
       "        vertical-align: top;\n",
       "    }\n",
       "\n",
       "    .dataframe thead th {\n",
       "        text-align: right;\n",
       "    }\n",
       "</style>\n",
       "<table border=\"1\" class=\"dataframe\">\n",
       "  <thead>\n",
       "    <tr style=\"text-align: right;\">\n",
       "      <th></th>\n",
       "      <th>Total equity capital</th>\n",
       "      <th>Total assets</th>\n",
       "      <th>Total loans</th>\n",
       "      <th>1-4 family residential loans</th>\n",
       "      <th>Other real estate loans</th>\n",
       "      <th>Commercial and industrial loans</th>\n",
       "      <th>Credit cards</th>\n",
       "      <th>Allowance for loan losses</th>\n",
       "      <th>Total noninterest expense</th>\n",
       "      <th>Net Income before</th>\n",
       "      <th>Total transaction deposits</th>\n",
       "      <th>Total nontransaction deposits</th>\n",
       "      <th>Available-for-sale Fair Value</th>\n",
       "      <th>Number of full-time employees</th>\n",
       "      <th>Target</th>\n",
       "    </tr>\n",
       "  </thead>\n",
       "  <tbody>\n",
       "    <tr>\n",
       "      <th>count</th>\n",
       "      <td>7.119000e+03</td>\n",
       "      <td>7.119000e+03</td>\n",
       "      <td>7.119000e+03</td>\n",
       "      <td>7.119000e+03</td>\n",
       "      <td>7.119000e+03</td>\n",
       "      <td>7.119000e+03</td>\n",
       "      <td>7.119000e+03</td>\n",
       "      <td>7.119000e+03</td>\n",
       "      <td>7.119000e+03</td>\n",
       "      <td>7119.000000</td>\n",
       "      <td>7.119000e+03</td>\n",
       "      <td>7.119000e+03</td>\n",
       "      <td>7.119000e+03</td>\n",
       "      <td>7119.000000</td>\n",
       "      <td>7119.000000</td>\n",
       "    </tr>\n",
       "    <tr>\n",
       "      <th>mean</th>\n",
       "      <td>4.979489e+04</td>\n",
       "      <td>4.532735e+05</td>\n",
       "      <td>2.965860e+05</td>\n",
       "      <td>8.478723e+04</td>\n",
       "      <td>1.200103e+05</td>\n",
       "      <td>3.932240e+04</td>\n",
       "      <td>2.230547e+04</td>\n",
       "      <td>8.092773e+03</td>\n",
       "      <td>9.851459e+03</td>\n",
       "      <td>1079.637168</td>\n",
       "      <td>4.794220e+04</td>\n",
       "      <td>2.904648e+05</td>\n",
       "      <td>7.499371e+04</td>\n",
       "      <td>89.705998</td>\n",
       "      <td>0.019244</td>\n",
       "    </tr>\n",
       "    <tr>\n",
       "      <th>std</th>\n",
       "      <td>3.499014e+05</td>\n",
       "      <td>2.425418e+06</td>\n",
       "      <td>1.843324e+06</td>\n",
       "      <td>6.452886e+05</td>\n",
       "      <td>4.053811e+05</td>\n",
       "      <td>2.346106e+05</td>\n",
       "      <td>1.367082e+06</td>\n",
       "      <td>1.831259e+05</td>\n",
       "      <td>5.722853e+04</td>\n",
       "      <td>20500.119790</td>\n",
       "      <td>1.121413e+05</td>\n",
       "      <td>1.272101e+06</td>\n",
       "      <td>4.163677e+05</td>\n",
       "      <td>337.698286</td>\n",
       "      <td>0.137392</td>\n",
       "    </tr>\n",
       "    <tr>\n",
       "      <th>min</th>\n",
       "      <td>-1.035900e+05</td>\n",
       "      <td>1.459000e+03</td>\n",
       "      <td>0.000000e+00</td>\n",
       "      <td>0.000000e+00</td>\n",
       "      <td>0.000000e+00</td>\n",
       "      <td>0.000000e+00</td>\n",
       "      <td>0.000000e+00</td>\n",
       "      <td>0.000000e+00</td>\n",
       "      <td>-3.419900e+04</td>\n",
       "      <td>-460501.000000</td>\n",
       "      <td>0.000000e+00</td>\n",
       "      <td>0.000000e+00</td>\n",
       "      <td>0.000000e+00</td>\n",
       "      <td>0.000000</td>\n",
       "      <td>0.000000</td>\n",
       "    </tr>\n",
       "    <tr>\n",
       "      <th>25%</th>\n",
       "      <td>7.504000e+03</td>\n",
       "      <td>7.205200e+04</td>\n",
       "      <td>4.201050e+04</td>\n",
       "      <td>8.066500e+03</td>\n",
       "      <td>1.286150e+04</td>\n",
       "      <td>3.761500e+03</td>\n",
       "      <td>0.000000e+00</td>\n",
       "      <td>6.120000e+02</td>\n",
       "      <td>1.640000e+03</td>\n",
       "      <td>63.500000</td>\n",
       "      <td>1.335250e+04</td>\n",
       "      <td>4.162950e+04</td>\n",
       "      <td>6.748000e+03</td>\n",
       "      <td>18.000000</td>\n",
       "      <td>0.000000</td>\n",
       "    </tr>\n",
       "    <tr>\n",
       "      <th>50%</th>\n",
       "      <td>1.478000e+04</td>\n",
       "      <td>1.479450e+05</td>\n",
       "      <td>9.423500e+04</td>\n",
       "      <td>2.253900e+04</td>\n",
       "      <td>3.867400e+04</td>\n",
       "      <td>1.008200e+04</td>\n",
       "      <td>0.000000e+00</td>\n",
       "      <td>1.529000e+03</td>\n",
       "      <td>3.304000e+03</td>\n",
       "      <td>555.000000</td>\n",
       "      <td>2.639300e+04</td>\n",
       "      <td>8.966900e+04</td>\n",
       "      <td>2.113000e+04</td>\n",
       "      <td>36.000000</td>\n",
       "      <td>0.000000</td>\n",
       "    </tr>\n",
       "    <tr>\n",
       "      <th>75%</th>\n",
       "      <td>3.166750e+04</td>\n",
       "      <td>3.205235e+05</td>\n",
       "      <td>2.109615e+05</td>\n",
       "      <td>5.525250e+04</td>\n",
       "      <td>9.841750e+04</td>\n",
       "      <td>2.650100e+04</td>\n",
       "      <td>0.000000e+00</td>\n",
       "      <td>3.928500e+03</td>\n",
       "      <td>7.015000e+03</td>\n",
       "      <td>1614.500000</td>\n",
       "      <td>4.977800e+04</td>\n",
       "      <td>2.145060e+05</td>\n",
       "      <td>5.350550e+04</td>\n",
       "      <td>76.000000</td>\n",
       "      <td>0.000000</td>\n",
       "    </tr>\n",
       "    <tr>\n",
       "      <th>max</th>\n",
       "      <td>2.328585e+07</td>\n",
       "      <td>1.436089e+08</td>\n",
       "      <td>1.237239e+08</td>\n",
       "      <td>3.353900e+07</td>\n",
       "      <td>2.200312e+07</td>\n",
       "      <td>1.256838e+07</td>\n",
       "      <td>1.138466e+08</td>\n",
       "      <td>1.529436e+07</td>\n",
       "      <td>4.055160e+06</td>\n",
       "      <td>602276.000000</td>\n",
       "      <td>2.897346e+06</td>\n",
       "      <td>5.418400e+07</td>\n",
       "      <td>2.359900e+07</td>\n",
       "      <td>21645.000000</td>\n",
       "      <td>1.000000</td>\n",
       "    </tr>\n",
       "  </tbody>\n",
       "</table>\n",
       "</div>"
      ],
      "text/plain": [
       "       Total equity capital  Total assets   Total loans  \\\n",
       "count          7.119000e+03  7.119000e+03  7.119000e+03   \n",
       "mean           4.979489e+04  4.532735e+05  2.965860e+05   \n",
       "std            3.499014e+05  2.425418e+06  1.843324e+06   \n",
       "min           -1.035900e+05  1.459000e+03  0.000000e+00   \n",
       "25%            7.504000e+03  7.205200e+04  4.201050e+04   \n",
       "50%            1.478000e+04  1.479450e+05  9.423500e+04   \n",
       "75%            3.166750e+04  3.205235e+05  2.109615e+05   \n",
       "max            2.328585e+07  1.436089e+08  1.237239e+08   \n",
       "\n",
       "       1-4 family residential loans  Other real estate loans  \\\n",
       "count                  7.119000e+03             7.119000e+03   \n",
       "mean                   8.478723e+04             1.200103e+05   \n",
       "std                    6.452886e+05             4.053811e+05   \n",
       "min                    0.000000e+00             0.000000e+00   \n",
       "25%                    8.066500e+03             1.286150e+04   \n",
       "50%                    2.253900e+04             3.867400e+04   \n",
       "75%                    5.525250e+04             9.841750e+04   \n",
       "max                    3.353900e+07             2.200312e+07   \n",
       "\n",
       "       Commercial and industrial loans  Credit cards  \\\n",
       "count                     7.119000e+03  7.119000e+03   \n",
       "mean                      3.932240e+04  2.230547e+04   \n",
       "std                       2.346106e+05  1.367082e+06   \n",
       "min                       0.000000e+00  0.000000e+00   \n",
       "25%                       3.761500e+03  0.000000e+00   \n",
       "50%                       1.008200e+04  0.000000e+00   \n",
       "75%                       2.650100e+04  0.000000e+00   \n",
       "max                       1.256838e+07  1.138466e+08   \n",
       "\n",
       "       Allowance for loan losses  Total noninterest expense  \\\n",
       "count               7.119000e+03               7.119000e+03   \n",
       "mean                8.092773e+03               9.851459e+03   \n",
       "std                 1.831259e+05               5.722853e+04   \n",
       "min                 0.000000e+00              -3.419900e+04   \n",
       "25%                 6.120000e+02               1.640000e+03   \n",
       "50%                 1.529000e+03               3.304000e+03   \n",
       "75%                 3.928500e+03               7.015000e+03   \n",
       "max                 1.529436e+07               4.055160e+06   \n",
       "\n",
       "       Net Income before  Total transaction deposits  \\\n",
       "count        7119.000000                7.119000e+03   \n",
       "mean         1079.637168                4.794220e+04   \n",
       "std         20500.119790                1.121413e+05   \n",
       "min       -460501.000000                0.000000e+00   \n",
       "25%            63.500000                1.335250e+04   \n",
       "50%           555.000000                2.639300e+04   \n",
       "75%          1614.500000                4.977800e+04   \n",
       "max        602276.000000                2.897346e+06   \n",
       "\n",
       "       Total nontransaction deposits  Available-for-sale Fair Value  \\\n",
       "count                   7.119000e+03                   7.119000e+03   \n",
       "mean                    2.904648e+05                   7.499371e+04   \n",
       "std                     1.272101e+06                   4.163677e+05   \n",
       "min                     0.000000e+00                   0.000000e+00   \n",
       "25%                     4.162950e+04                   6.748000e+03   \n",
       "50%                     8.966900e+04                   2.113000e+04   \n",
       "75%                     2.145060e+05                   5.350550e+04   \n",
       "max                     5.418400e+07                   2.359900e+07   \n",
       "\n",
       "       Number of full-time employees       Target  \n",
       "count                    7119.000000  7119.000000  \n",
       "mean                       89.705998     0.019244  \n",
       "std                       337.698286     0.137392  \n",
       "min                         0.000000     0.000000  \n",
       "25%                        18.000000     0.000000  \n",
       "50%                        36.000000     0.000000  \n",
       "75%                        76.000000     0.000000  \n",
       "max                     21645.000000     1.000000  "
      ]
     },
     "execution_count": 7,
     "metadata": {},
     "output_type": "execute_result"
    }
   ],
   "source": [
    "raw_set.describe()"
   ]
  },
  {
   "cell_type": "code",
   "execution_count": 8,
   "metadata": {},
   "outputs": [],
   "source": [
    "y = raw_set['Target']\n",
    "X = raw_set.drop(['Target', 'AsOfDate'], axis=1)"
   ]
  },
  {
   "cell_type": "code",
   "execution_count": 11,
   "metadata": {},
   "outputs": [],
   "source": [
    "X_train, X_test, y_train, y_test = train_test_split(X, y, test_size=0.2, random_state=1, stratify=y)"
   ]
  },
  {
   "cell_type": "code",
   "execution_count": 12,
   "metadata": {},
   "outputs": [],
   "source": [
    "scaler = StandardScaler()\n",
    "scaler.fit(X_train)\n",
    "X_train_std = scaler.transform(X_train)\n",
    "X_test_std = scaler.transform(X_test)"
   ]
  },
  {
   "cell_type": "code",
   "execution_count": 13,
   "metadata": {},
   "outputs": [
    {
     "name": "stderr",
     "output_type": "stream",
     "text": [
      "/anaconda3/lib/python3.7/site-packages/sklearn/linear_model/logistic.py:432: FutureWarning: Default solver will be changed to 'lbfgs' in 0.22. Specify a solver to silence this warning.\n",
      "  FutureWarning)\n"
     ]
    },
    {
     "data": {
      "text/plain": [
       "LogisticRegression(C=1.0, class_weight=None, dual=False, fit_intercept=True,\n",
       "                   intercept_scaling=1, l1_ratio=None, max_iter=100,\n",
       "                   multi_class='warn', n_jobs=None, penalty='l2',\n",
       "                   random_state=1, solver='warn', tol=0.0001, verbose=0,\n",
       "                   warm_start=False)"
      ]
     },
     "execution_count": 13,
     "metadata": {},
     "output_type": "execute_result"
    }
   ],
   "source": [
    "log_reg = LogisticRegression(random_state=1)\n",
    "log_reg.fit(X_train_std,y_train)"
   ]
  },
  {
   "cell_type": "code",
   "execution_count": 14,
   "metadata": {},
   "outputs": [
    {
     "data": {
      "text/plain": [
       "array([[-6.4405675 , -0.19897017,  0.5972981 ,  1.22916964,  0.27396814,\n",
       "         0.52819582,  0.09161907,  0.6740738 , -2.17380453, -1.2280554 ,\n",
       "        -1.76169523,  1.13966541, -0.68254433,  1.02082728]])"
      ]
     },
     "execution_count": 14,
     "metadata": {},
     "output_type": "execute_result"
    }
   ],
   "source": [
    "log_reg.coef_"
   ]
  },
  {
   "cell_type": "code",
   "execution_count": 15,
   "metadata": {},
   "outputs": [
    {
     "data": {
      "text/plain": [
       "0.9815627743634767"
      ]
     },
     "execution_count": 15,
     "metadata": {},
     "output_type": "execute_result"
    }
   ],
   "source": [
    "log_reg.score(X_train_std, y_train)"
   ]
  },
  {
   "cell_type": "code",
   "execution_count": 16,
   "metadata": {},
   "outputs": [
    {
     "data": {
      "text/plain": [
       "0.9789325842696629"
      ]
     },
     "execution_count": 16,
     "metadata": {},
     "output_type": "execute_result"
    }
   ],
   "source": [
    "log_reg.score(X_test_std, y_test)"
   ]
  },
  {
   "cell_type": "code",
   "execution_count": 17,
   "metadata": {},
   "outputs": [
    {
     "name": "stderr",
     "output_type": "stream",
     "text": [
      "/anaconda3/lib/python3.7/site-packages/sklearn/linear_model/logistic.py:947: ConvergenceWarning: lbfgs failed to converge. Increase the number of iterations.\n",
      "  \"of iterations.\", ConvergenceWarning)\n",
      "/anaconda3/lib/python3.7/site-packages/sklearn/linear_model/logistic.py:947: ConvergenceWarning: lbfgs failed to converge. Increase the number of iterations.\n",
      "  \"of iterations.\", ConvergenceWarning)\n",
      "/anaconda3/lib/python3.7/site-packages/sklearn/linear_model/logistic.py:947: ConvergenceWarning: lbfgs failed to converge. Increase the number of iterations.\n",
      "  \"of iterations.\", ConvergenceWarning)\n",
      "/anaconda3/lib/python3.7/site-packages/sklearn/linear_model/logistic.py:947: ConvergenceWarning: lbfgs failed to converge. Increase the number of iterations.\n",
      "  \"of iterations.\", ConvergenceWarning)\n",
      "/anaconda3/lib/python3.7/site-packages/sklearn/linear_model/logistic.py:947: ConvergenceWarning: lbfgs failed to converge. Increase the number of iterations.\n",
      "  \"of iterations.\", ConvergenceWarning)\n"
     ]
    },
    {
     "data": {
      "image/png": "[encoded data removed]",
      "text/plain": [
       "<Figure size 432x288 with 1 Axes>"
      ]
     },
     "metadata": {
      "needs_background": "light"
     },
     "output_type": "display_data"
    }
   ],
   "source": [
    "weights, params = [], []\n",
    "for c in np.arange(0.01, 10): \n",
    "    lr = LogisticRegression(C=2**c, random_state=0, solver='lbfgs')\n",
    "    lr.fit(X_train_std, y_train)\n",
    "    weights.append(lr.coef_[0])\n",
    "    params.append(10**c)\n",
    "\n",
    "weights = np.array(weights)\n",
    "\n",
    "# Decision region drawing\n",
    "import matplotlib.pyplot as plt\n",
    "\n",
    "plt.plot(params, weights[:, 0], color='blue', marker='x', label='first')\n",
    "plt.plot(params, weights[:, 1], color='green',  marker='o', label='second')\n",
    "plt.plot(params, weights[:, 2], color='r',  marker='>', label='third')\n",
    "plt.ylabel('weight coefficient')\n",
    "plt.xlabel('C')\n",
    "plt.legend(loc='right')\n",
    "plt.xscale('log')\n",
    "plt.show()"
   ]
  },
  {
   "cell_type": "code",
   "execution_count": 18,
   "metadata": {},
   "outputs": [
    {
     "data": {
      "text/plain": [
       "SGDClassifier(alpha=0.0001, average=False, class_weight=None,\n",
       "              early_stopping=False, epsilon=0.1, eta0=0.0, fit_intercept=True,\n",
       "              l1_ratio=0.15, learning_rate='optimal', loss='hinge',\n",
       "              max_iter=1000, n_iter_no_change=5, n_jobs=None, penalty='l2',\n",
       "              power_t=0.5, random_state=1, shuffle=True, tol=0.001,\n",
       "              validation_fraction=0.1, verbose=0, warm_start=False)"
      ]
     },
     "execution_count": 18,
     "metadata": {},
     "output_type": "execute_result"
    }
   ],
   "source": [
    "sgd_clf = SGDClassifier(random_state=1)\n",
    "sgd_clf.fit(X_train_std, y_train)"
   ]
  },
  {
   "cell_type": "code",
   "execution_count": 19,
   "metadata": {},
   "outputs": [
    {
     "data": {
      "text/plain": [
       "0.9826163301141352"
      ]
     },
     "execution_count": 19,
     "metadata": {},
     "output_type": "execute_result"
    }
   ],
   "source": [
    "sgd_clf.score(X_train_std, y_train)"
   ]
  },
  {
   "cell_type": "code",
   "execution_count": 20,
   "metadata": {},
   "outputs": [
    {
     "data": {
      "text/plain": [
       "0.9845505617977528"
      ]
     },
     "execution_count": 20,
     "metadata": {},
     "output_type": "execute_result"
    }
   ],
   "source": [
    "sgd_clf.score(X_test_std, y_test)"
   ]
  },
  {
   "cell_type": "code",
   "execution_count": 21,
   "metadata": {},
   "outputs": [
    {
     "data": {
      "text/plain": [
       "array([0.98051606, 0.98209584, 0.97891407])"
      ]
     },
     "execution_count": 21,
     "metadata": {},
     "output_type": "execute_result"
    }
   ],
   "source": [
    "from sklearn.model_selection import cross_val_score\n",
    "cross_val_score(sgd_clf, X_train_std, y_train, cv=3, scoring='accuracy')"
   ]
  },
  {
   "cell_type": "code",
   "execution_count": 22,
   "metadata": {},
   "outputs": [
    {
     "name": "stderr",
     "output_type": "stream",
     "text": [
      "/anaconda3/lib/python3.7/site-packages/sklearn/linear_model/logistic.py:432: FutureWarning: Default solver will be changed to 'lbfgs' in 0.22. Specify a solver to silence this warning.\n",
      "  FutureWarning)\n",
      "/anaconda3/lib/python3.7/site-packages/sklearn/linear_model/logistic.py:432: FutureWarning: Default solver will be changed to 'lbfgs' in 0.22. Specify a solver to silence this warning.\n",
      "  FutureWarning)\n",
      "/anaconda3/lib/python3.7/site-packages/sklearn/linear_model/logistic.py:432: FutureWarning: Default solver will be changed to 'lbfgs' in 0.22. Specify a solver to silence this warning.\n",
      "  FutureWarning)\n"
     ]
    },
    {
     "data": {
      "text/plain": [
       "array([0.98262243, 0.97946288, 0.98102267])"
      ]
     },
     "execution_count": 22,
     "metadata": {},
     "output_type": "execute_result"
    }
   ],
   "source": [
    "cross_val_score(log_reg, X_train_std, y_train, cv=3, scoring='accuracy')"
   ]
  },
  {
   "cell_type": "code",
   "execution_count": 23,
   "metadata": {},
   "outputs": [
    {
     "data": {
      "text/plain": [
       "array([[5565,   20],\n",
       "       [  91,   19]])"
      ]
     },
     "execution_count": 23,
     "metadata": {},
     "output_type": "execute_result"
    }
   ],
   "source": [
    "# Accuracy score is generally not a good performance measure for classifiers, especially when you are dealing with \n",
    "# skewed datasets (when some classes are much more frequent than others) -- check with confusing matrix below:\n",
    "from sklearn.model_selection import cross_val_predict\n",
    "from sklearn.metrics import confusion_matrix\n",
    "sgd_y_train_pred = cross_val_predict(sgd_clf, X_train_std, y_train, cv=3)\n",
    "confusion_matrix(y_train, sgd_y_train_pred)"
   ]
  },
  {
   "cell_type": "code",
   "execution_count": 24,
   "metadata": {},
   "outputs": [
    {
     "name": "stderr",
     "output_type": "stream",
     "text": [
      "/anaconda3/lib/python3.7/site-packages/sklearn/linear_model/logistic.py:432: FutureWarning: Default solver will be changed to 'lbfgs' in 0.22. Specify a solver to silence this warning.\n",
      "  FutureWarning)\n",
      "/anaconda3/lib/python3.7/site-packages/sklearn/linear_model/logistic.py:432: FutureWarning: Default solver will be changed to 'lbfgs' in 0.22. Specify a solver to silence this warning.\n",
      "  FutureWarning)\n",
      "/anaconda3/lib/python3.7/site-packages/sklearn/linear_model/logistic.py:432: FutureWarning: Default solver will be changed to 'lbfgs' in 0.22. Specify a solver to silence this warning.\n",
      "  FutureWarning)\n"
     ]
    },
    {
     "data": {
      "text/plain": [
       "array([[5578,    7],\n",
       "       [ 101,    9]])"
      ]
     },
     "execution_count": 24,
     "metadata": {},
     "output_type": "execute_result"
    }
   ],
   "source": [
    "# Same terrible results for logit regression:\n",
    "log_y_train_pred = cross_val_predict(log_reg, X_train_std, y_train, cv=3)\n",
    "confusion_matrix(y_train, log_y_train_pred)"
   ]
  },
  {
   "cell_type": "code",
   "execution_count": 25,
   "metadata": {},
   "outputs": [
    {
     "data": {
      "text/plain": [
       "0.48717948717948717"
      ]
     },
     "execution_count": 25,
     "metadata": {},
     "output_type": "execute_result"
    }
   ],
   "source": [
    "from sklearn.metrics import precision_score, recall_score, f1_score\n",
    "precision_score(y_train, sgd_y_train_pred) #SGD precision"
   ]
  },
  {
   "cell_type": "code",
   "execution_count": 26,
   "metadata": {},
   "outputs": [
    {
     "data": {
      "text/plain": [
       "0.5625"
      ]
     },
     "execution_count": 26,
     "metadata": {},
     "output_type": "execute_result"
    }
   ],
   "source": [
    "precision_score(y_train, log_y_train_pred) #Logit precision"
   ]
  },
  {
   "cell_type": "code",
   "execution_count": 27,
   "metadata": {},
   "outputs": [
    {
     "data": {
      "text/plain": [
       "0.17272727272727273"
      ]
     },
     "execution_count": 27,
     "metadata": {},
     "output_type": "execute_result"
    }
   ],
   "source": [
    "recall_score(y_train, sgd_y_train_pred) #SGD precision"
   ]
  },
  {
   "cell_type": "code",
   "execution_count": 28,
   "metadata": {},
   "outputs": [
    {
     "data": {
      "text/plain": [
       "0.08181818181818182"
      ]
     },
     "execution_count": 28,
     "metadata": {},
     "output_type": "execute_result"
    }
   ],
   "source": [
    "recall_score(y_train, log_y_train_pred) #Logit recall"
   ]
  },
  {
   "cell_type": "code",
   "execution_count": 29,
   "metadata": {},
   "outputs": [
    {
     "data": {
      "text/plain": [
       "0.14285714285714285"
      ]
     },
     "execution_count": 29,
     "metadata": {},
     "output_type": "execute_result"
    }
   ],
   "source": [
    "f1_score(y_train, log_y_train_pred)"
   ]
  },
  {
   "cell_type": "code",
   "execution_count": 30,
   "metadata": {},
   "outputs": [
    {
     "data": {
      "text/plain": [
       "0.2550335570469799"
      ]
     },
     "execution_count": 30,
     "metadata": {},
     "output_type": "execute_result"
    }
   ],
   "source": [
    "f1_score(y_train, sgd_y_train_pred)"
   ]
  },
  {
   "cell_type": "code",
   "execution_count": 31,
   "metadata": {},
   "outputs": [],
   "source": [
    "# Precision/Recall tradeoff \n",
    "from sklearn.metrics import precision_recall_curve\n",
    "\n",
    "sgd_y_scores = cross_val_predict(sgd_clf, X_train_std, y_train, cv=3, method='decision_function')\n",
    "sgd_precisions, sgd_recalls, sgd_thresholds = precision_recall_curve(y_train, sgd_y_scores)"
   ]
  },
  {
   "cell_type": "code",
   "execution_count": 32,
   "metadata": {},
   "outputs": [
    {
     "data": {
      "image/png": "[encoded data removed]",
      "text/plain": [
       "<Figure size 432x288 with 1 Axes>"
      ]
     },
     "metadata": {
      "needs_background": "light"
     },
     "output_type": "display_data"
    }
   ],
   "source": [
    " #Represent Precision and Recall graphically\n",
    "def plot_precision_recall(precisions, recalls, thresholds):\n",
    "    plt.plot(thresholds, precisions[: -1], 'b--', label='Precision')\n",
    "    plt.plot(thresholds, recalls[: -1], 'g-', label='Recall')\n",
    "    plt.xlabel('Threshold')\n",
    "    plt.legend(loc='center left')\n",
    "    plt.ylim([0,1])\n",
    "\n",
    "plot_precision_recall(sgd_precisions, sgd_recalls, sgd_thresholds)\n",
    "plt.show()"
   ]
  },
  {
   "cell_type": "code",
   "execution_count": 33,
   "metadata": {},
   "outputs": [],
   "source": [
    "from sklearn.metrics import roc_curve\n",
    "fpr, tpr, thresholds = roc_curve(y_train, sgd_y_scores)"
   ]
  },
  {
   "cell_type": "code",
   "execution_count": 34,
   "metadata": {},
   "outputs": [
    {
     "data": {
      "image/png": "[encoded data removed]",
      "text/plain": [
       "<Figure size 432x288 with 1 Axes>"
      ]
     },
     "metadata": {
      "needs_background": "light"
     },
     "output_type": "display_data"
    }
   ],
   "source": [
    "def plot_roc_curve(fpr, tpr, label=None):\n",
    "    plt.plot(fpr, tpr, linewidth=2, label=label)\n",
    "    plt.plot([0,1], [0,1], 'k--')\n",
    "    plt.axis([0,1,0,1])\n",
    "    plt.xlabel('False Positive Rate')\n",
    "    plt.ylabel('True Negatove Rate')\n",
    "plot_roc_curve(fpr, tpr)"
   ]
  },
  {
   "cell_type": "code",
   "execution_count": null,
   "metadata": {},
   "outputs": [],
   "source": []
  }
 ],
 "metadata": {
  "kernelspec": {
   "display_name": "Python 3",
   "language": "python",
   "name": "python3"
  },
  "language_info": {
   "codemirror_mode": {
    "name": "ipython",
    "version": 3
   },
   "file_extension": ".py",
   "mimetype": "text/x-python",
   "name": "python",
   "nbconvert_exporter": "python",
   "pygments_lexer": "ipython3",
   "version": "3.7.3"
  }
 },
 "nbformat": 4,
 "nbformat_minor": 2
}

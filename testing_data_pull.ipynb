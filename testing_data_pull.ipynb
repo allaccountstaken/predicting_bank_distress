{
 "cells": [
  {
   "cell_type": "code",
   "execution_count": 1,
   "metadata": {},
   "outputs": [],
   "source": [
    "import pandas as pd\n",
    "import numpy as np\n",
    "import matplotlib.pyplot as plt\n",
    "%matplotlib inline\n",
    "from ffipy import FFIEC_Client\n",
    "from io import StringIO"
   ]
  },
  {
   "cell_type": "code",
   "execution_count": 175,
   "metadata": {},
   "outputs": [
    {
     "data": {
      "text/plain": [
       "30"
      ]
     },
     "execution_count": 175,
     "metadata": {},
     "output_type": "execute_result"
    }
   ],
   "source": [
    "failed_banks_df = pd.read_csv('data/failed_banks_dataset.csv')\n",
    "failed_banks_df['Date'] = pd.to_datetime(failed_banks_df['Closing Date'])\n",
    "failed_banks_df['Year_failed'] = failed_banks_df['Date'].dt.year\n",
    "failed_banks_df['Quarter_failed'] = failed_banks_df['Date'].dt.quarter\n",
    "failed_banks_2010Q4 = failed_banks_df.loc[(failed_banks_df.Year_failed == 2010) & (failed_banks_df.Quarter_failed == 4)]\n",
    "failed_banks_2010Q4.head()\n",
    "failed_banks_2010Q4['CERT'].count()"
   ]
  },
  {
   "cell_type": "code",
   "execution_count": 72,
   "metadata": {},
   "outputs": [],
   "source": []
  },
  {
   "cell_type": "code",
   "execution_count": 114,
   "metadata": {},
   "outputs": [],
   "source": [
    "# Updated list of selected financials include loan types now\n",
    "selected_financials = {'RIAD3210' : 'Total equity capital', # Alt can be RCONG105\n",
    "                       'RCON2170' : 'Total assets', # Ok\n",
    "                       'RCON3360' : 'Total loans', #ok\n",
    "                       'RCON3465' : '1-4 family residential loans', \n",
    "                       'RCON3466' : 'Other real estate loans',\n",
    "                       'RCON3387' : 'Commercial and industrial loans',\n",
    "                       'RCONB561' : 'Credit cards',\n",
    "                       'RCON3123' : 'Allowance for loan losses', # OK\n",
    "                       'RIAD4093' : 'Total noninterest expense', #OK\n",
    "                       'RIAD4340' : 'Net Income attributable', # ok\n",
    "                       'RCON2215' : 'Total transaction deposits', # ok\n",
    "                       'RCON2385' : 'Total nontransaction deposits', # ok\n",
    "                       'RCON1773' : 'Available-for-sale Fair Value'\n",
    "                      } "
   ]
  },
  {
   "cell_type": "code",
   "execution_count": 174,
   "metadata": {},
   "outputs": [
    {
     "data": {
      "text/plain": [
       "13"
      ]
     },
     "execution_count": 174,
     "metadata": {},
     "output_type": "execute_result"
    }
   ],
   "source": [
    "len(selected_financials.keys())\n",
    "columns = list(selected_financials.keys())\n",
    "len(columns)"
   ]
  },
  {
   "cell_type": "code",
   "execution_count": null,
   "metadata": {},
   "outputs": [],
   "source": []
  },
  {
   "cell_type": "code",
   "execution_count": 127,
   "metadata": {},
   "outputs": [
    {
     "name": "stdout",
     "output_type": "stream",
     "text": [
      "counter at  0  pulling CERT#  23306\n",
      "counter at  1  pulling CERT#  58052\n",
      "counter at  2  pulling CERT#  35065\n",
      "counter at  3  pulling CERT#  58495\n",
      "counter at  4  pulling CERT#  34578\n",
      "counter at  5  pulling CERT#  19040\n",
      "counter at  6  pulling CERT#  35561\n",
      "counter at  7  pulling CERT#  34673\n",
      "counter at  8  pulling CERT#  5287\n",
      "counter at  9  pulling CERT#  35078\n",
      "counter at  10  pulling CERT#  20340\n",
      "counter at  11  pulling CERT#  35463\n",
      "counter at  12  pulling CERT#  14580\n",
      "counter at  13  pulling CERT#  57831\n",
      "counter at  14  pulling CERT#  57885\n",
      "counter at  15  pulling CERT#  34411\n",
      "counter at  16  pulling CERT#  58087\n",
      "counter at  17  pulling CERT#  31263\n",
      "counter at  18  pulling CERT#  32582\n",
      "counter at  19  pulling CERT#  22173\n",
      "counter at  20  pulling CERT#  16089\n",
      "counter at  21  pulling CERT#  2119\n",
      "counter at  22  pulling CERT#  33904\n",
      "counter at  23  pulling CERT#  32251\n",
      "counter at  24  pulling CERT#  27573\n",
      "counter at  25  pulling CERT#  34016\n",
      "counter at  26  pulling CERT#  58205\n",
      "counter at  27  pulling CERT#  30898\n",
      "counter at  28  pulling CERT#  35250\n",
      "counter at  29  pulling CERT#  21777\n"
     ]
    }
   ],
   "source": [
    "# Pull 30 reports, drop all values but 13 selected metrics -- returns only 27\n",
    "all_data_df = pd.DataFrame()\n",
    "fin_data_dic = {}\n",
    "for i in range(len(banks_CERT_2010Q4_list)):\n",
    "\n",
    "    ds_name = 'Call'    # Pull Call report data\n",
    "    end_date = '9/30/2010'  # Pull data in reporting pd ending 3/31/17\n",
    "    fiID_type = 'FDICCertNumber'  # Type of financial inst identifier (ID_RSSD, CERT )\n",
    "    fiID = banks_CERT_2010Q4_list[i]   # Indentifier for Wyomin Bank and Trust\n",
    "    print(\"counter at \", i, \" pulling CERT# \", fiID)\n",
    "    fmt = 'SDF'  # Pull report as PDF\n",
    "    # <facsimileFormat>PDF or XBRL or SDF</facsimileFormat>\n",
    "    #outfile = 'test8.PDF'  # Output file path\n",
    "    return_result = True  # If True, method returns the data\n",
    "    try:\n",
    "        f = client.retrieve_facsimile(ds_name=ds_name, reporting_pd_end=end_date,\n",
    "                                      fiID_type=fiID_type, fiID=fiID,\n",
    "                                      facsimile_fmt=fmt, outfile=False,\n",
    "                                      return_result=True)\n",
    "        report = StringIO(str(f, 'utf-8'))\n",
    "        report_df = pd.read_csv(report, sep=';')\n",
    "        report_df.columns = ['Call Date', 'Bank RSSD Identifier', 'ValueID', 'Value', 'Last Update',\n",
    "       'Short Definition', 'Call Schedule', 'Line Number']\n",
    "        values = list(report_df[report_df.ValueID.isin(columns)].Value)\n",
    "        fin_data_dic[fiID] = values\n",
    "        all_data_df = all_data_df.append(report_df, ignore_index=True)\n",
    "    except:\n",
    "        next "
   ]
  },
  {
   "cell_type": "code",
   "execution_count": 132,
   "metadata": {},
   "outputs": [
    {
     "data": {
      "text/plain": [
       "45691"
      ]
     },
     "execution_count": 132,
     "metadata": {},
     "output_type": "execute_result"
    }
   ],
   "source": [
    "len(all_data_df)"
   ]
  },
  {
   "cell_type": "code",
   "execution_count": 157,
   "metadata": {},
   "outputs": [],
   "source": [
    "failed_after_2010Q3 = pd.DataFrame.from_dict(fin_data_dic, orient='index')\n",
    "failed_after_2010Q3.columns = columns\n",
    "values = list(selected_financials.values())"
   ]
  },
  {
   "cell_type": "code",
   "execution_count": 158,
   "metadata": {},
   "outputs": [],
   "source": [
    "failed_after_2010Q3.columns = values"
   ]
  },
  {
   "cell_type": "code",
   "execution_count": 161,
   "metadata": {},
   "outputs": [],
   "source": [
    "#failed_after_2010Q3.to_csv('data/failed_after_2010Q3')\n"
   ]
  },
  {
   "cell_type": "code",
   "execution_count": 163,
   "metadata": {},
   "outputs": [
    {
     "data": {
      "text/plain": [
       "41"
      ]
     },
     "execution_count": 163,
     "metadata": {},
     "output_type": "execute_result"
    }
   ],
   "source": [
    "failed_banks_2010Q3 = failed_banks_df.loc[(failed_banks_df.Year_failed == 2010) & (failed_banks_df.Quarter_failed == 3)]\n",
    "banks_CERT_2010Q3_list = list(failed_banks_2010Q3.CERT)\n",
    "len(banks_CERT_2010Q3_list)"
   ]
  },
  {
   "cell_type": "code",
   "execution_count": 165,
   "metadata": {},
   "outputs": [
    {
     "name": "stdout",
     "output_type": "stream",
     "text": [
      "counter at  0  pulling CERT#  35053\n",
      "counter at  1  pulling CERT#  58308\n",
      "counter at  2  pulling CERT#  28612\n",
      "counter at  3  pulling CERT#  27808\n",
      "counter at  4  pulling CERT#  182\n",
      "counter at  5  pulling CERT#  57448\n",
      "counter at  6  pulling CERT#  58197\n",
      "counter at  7  pulling CERT#  57107\n",
      "counter at  8  pulling CERT#  35061\n",
      "counter at  9  pulling CERT#  27259\n",
      "counter at  10  pulling CERT#  32165\n",
      "counter at  11  pulling CERT#  33219\n",
      "counter at  12  pulling CERT#  27090\n",
      "counter at  13  pulling CERT#  15640\n",
      "counter at  14  pulling CERT#  31623\n",
      "counter at  15  pulling CERT#  27344\n",
      "counter at  16  pulling CERT#  25266\n",
      "counter at  17  pulling CERT#  17599\n",
      "counter at  18  pulling CERT#  34231\n",
      "counter at  19  pulling CERT#  31964\n",
      "counter at  20  pulling CERT#  22643\n",
      "counter at  21  pulling CERT#  9619\n",
      "counter at  22  pulling CERT#  57669\n",
      "counter at  23  pulling CERT#  57658\n",
      "counter at  24  pulling CERT#  23181\n",
      "counter at  25  pulling CERT#  35434\n",
      "counter at  26  pulling CERT#  34486\n",
      "counter at  27  pulling CERT#  10506\n",
      "counter at  28  pulling CERT#  17837\n",
      "counter at  29  pulling CERT#  27559\n",
      "counter at  30  pulling CERT#  32536\n",
      "counter at  31  pulling CERT#  28136\n",
      "counter at  32  pulling CERT#  28864\n",
      "counter at  33  pulling CERT#  32280\n",
      "counter at  34  pulling CERT#  25172\n",
      "counter at  35  pulling CERT#  35383\n",
      "counter at  36  pulling CERT#  32571\n",
      "counter at  37  pulling CERT#  11636\n",
      "counter at  38  pulling CERT#  58072\n",
      "counter at  39  pulling CERT#  32456\n",
      "counter at  40  pulling CERT#  35462\n"
     ]
    }
   ],
   "source": [
    "# Pull 41 reports, drop all values but 13 selected metrics\n",
    "all_data_df = pd.DataFrame()\n",
    "fin_data_dic = {}\n",
    "\n",
    "for i in range(len(banks_CERT_2010Q3_list)):\n",
    "\n",
    "    ds_name = 'Call'    # Pull Call report data\n",
    "    end_date = '6/30/2010'  # Pull data in reporting pd ending 3/31/17\n",
    "    fiID_type = 'FDICCertNumber'  # Type of financial inst identifier (ID_RSSD, CERT )\n",
    "    fiID = banks_CERT_2010Q3_list[i]   # Indentifier for Wyomin Bank and Trust\n",
    "    print(\"counter at \", i, \" pulling CERT# \", fiID)\n",
    "    fmt = 'SDF'  # Pull report as PDF\n",
    "    # <facsimileFormat>PDF or XBRL or SDF</facsimileFormat>\n",
    "    #outfile = 'test8.PDF'  # Output file path\n",
    "    return_result = True  # If True, method returns the data\n",
    "    try:\n",
    "        f = client.retrieve_facsimile(ds_name=ds_name, reporting_pd_end=end_date,\n",
    "                                      fiID_type=fiID_type, fiID=fiID,\n",
    "                                      facsimile_fmt=fmt, outfile=False,\n",
    "                                      return_result=True)\n",
    "        report = StringIO(str(f, 'utf-8'))\n",
    "        report_df = pd.read_csv(report, sep=';')\n",
    "        report_df.columns = ['Call Date', 'Bank RSSD Identifier', 'ValueID', 'Value', 'Last Update',\n",
    "       'Short Definition', 'Call Schedule', 'Line Number']\n",
    "        values = list(report_df[report_df.ValueID.isin(columns)].Value)\n",
    "        fin_data_dic[fiID] = values\n",
    "        all_data_df = all_data_df.append(report_df, ignore_index=True)\n",
    "    except:\n",
    "        next "
   ]
  },
  {
   "cell_type": "code",
   "execution_count": 166,
   "metadata": {},
   "outputs": [],
   "source": [
    "failed_after_2010Q2 = pd.DataFrame.from_dict(fin_data_dic, orient='index')\n",
    "failed_after_2010Q2.columns = columns\n",
    "values = list(selected_financials.values())\n",
    "failed_after_2010Q2.columns = values"
   ]
  },
  {
   "cell_type": "code",
   "execution_count": 180,
   "metadata": {},
   "outputs": [
    {
     "data": {
      "text/html": [
       "<div>\n",
       "<style scoped>\n",
       "    .dataframe tbody tr th:only-of-type {\n",
       "        vertical-align: middle;\n",
       "    }\n",
       "\n",
       "    .dataframe tbody tr th {\n",
       "        vertical-align: top;\n",
       "    }\n",
       "\n",
       "    .dataframe thead th {\n",
       "        text-align: right;\n",
       "    }\n",
       "</style>\n",
       "<table border=\"1\" class=\"dataframe\">\n",
       "  <thead>\n",
       "    <tr style=\"text-align: right;\">\n",
       "      <th></th>\n",
       "      <th>Total equity capital</th>\n",
       "      <th>Total assets</th>\n",
       "      <th>Total loans</th>\n",
       "      <th>1-4 family residential loans</th>\n",
       "      <th>Other real estate loans</th>\n",
       "      <th>Commercial and industrial loans</th>\n",
       "      <th>Credit cards</th>\n",
       "      <th>Allowance for loan losses</th>\n",
       "      <th>Total noninterest expense</th>\n",
       "      <th>Net Income attributable</th>\n",
       "      <th>Total transaction deposits</th>\n",
       "      <th>Total nontransaction deposits</th>\n",
       "      <th>Available-for-sale Fair Value</th>\n",
       "    </tr>\n",
       "  </thead>\n",
       "  <tbody>\n",
       "    <tr>\n",
       "      <th>25172</th>\n",
       "      <td>30356</td>\n",
       "      <td>399441</td>\n",
       "      <td>37982</td>\n",
       "      <td>337540</td>\n",
       "      <td>19236</td>\n",
       "      <td>290659</td>\n",
       "      <td>21574</td>\n",
       "      <td>36444</td>\n",
       "      <td>229409</td>\n",
       "      <td>0</td>\n",
       "      <td>-10096</td>\n",
       "      <td>6407</td>\n",
       "      <td>-27145</td>\n",
       "    </tr>\n",
       "    <tr>\n",
       "      <th>35383</th>\n",
       "      <td>41392</td>\n",
       "      <td>619374</td>\n",
       "      <td>72748</td>\n",
       "      <td>478143</td>\n",
       "      <td>20056</td>\n",
       "      <td>497131</td>\n",
       "      <td>23435</td>\n",
       "      <td>160177</td>\n",
       "      <td>308725</td>\n",
       "      <td>0</td>\n",
       "      <td>11246</td>\n",
       "      <td>9816</td>\n",
       "      <td>-8659</td>\n",
       "    </tr>\n",
       "    <tr>\n",
       "      <th>11636</th>\n",
       "      <td>125181</td>\n",
       "      <td>585445</td>\n",
       "      <td>42415</td>\n",
       "      <td>471623</td>\n",
       "      <td>18787</td>\n",
       "      <td>376308</td>\n",
       "      <td>49903</td>\n",
       "      <td>49340</td>\n",
       "      <td>257247</td>\n",
       "      <td>0</td>\n",
       "      <td>10370</td>\n",
       "      <td>15256</td>\n",
       "      <td>-6187</td>\n",
       "    </tr>\n",
       "    <tr>\n",
       "      <th>58072</th>\n",
       "      <td>18146</td>\n",
       "      <td>190678</td>\n",
       "      <td>7527</td>\n",
       "      <td>181117</td>\n",
       "      <td>4278</td>\n",
       "      <td>161590</td>\n",
       "      <td>14470</td>\n",
       "      <td>44028</td>\n",
       "      <td>101932</td>\n",
       "      <td>0</td>\n",
       "      <td>1132</td>\n",
       "      <td>6443</td>\n",
       "      <td>-4533</td>\n",
       "    </tr>\n",
       "    <tr>\n",
       "      <th>35462</th>\n",
       "      <td>14263</td>\n",
       "      <td>217743</td>\n",
       "      <td>9201</td>\n",
       "      <td>203411</td>\n",
       "      <td>8616</td>\n",
       "      <td>165825</td>\n",
       "      <td>57968</td>\n",
       "      <td>46476</td>\n",
       "      <td>58088</td>\n",
       "      <td>0</td>\n",
       "      <td>4335</td>\n",
       "      <td>4924</td>\n",
       "      <td>-3509</td>\n",
       "    </tr>\n",
       "  </tbody>\n",
       "</table>\n",
       "</div>"
      ],
      "text/plain": [
       "      Total equity capital Total assets Total loans  \\\n",
       "25172                30356       399441       37982   \n",
       "35383                41392       619374       72748   \n",
       "11636               125181       585445       42415   \n",
       "58072                18146       190678        7527   \n",
       "35462                14263       217743        9201   \n",
       "\n",
       "      1-4 family residential loans Other real estate loans  \\\n",
       "25172                       337540                   19236   \n",
       "35383                       478143                   20056   \n",
       "11636                       471623                   18787   \n",
       "58072                       181117                    4278   \n",
       "35462                       203411                    8616   \n",
       "\n",
       "      Commercial and industrial loans Credit cards Allowance for loan losses  \\\n",
       "25172                          290659        21574                     36444   \n",
       "35383                          497131        23435                    160177   \n",
       "11636                          376308        49903                     49340   \n",
       "58072                          161590        14470                     44028   \n",
       "35462                          165825        57968                     46476   \n",
       "\n",
       "      Total noninterest expense Net Income attributable  \\\n",
       "25172                    229409                       0   \n",
       "35383                    308725                       0   \n",
       "11636                    257247                       0   \n",
       "58072                    101932                       0   \n",
       "35462                     58088                       0   \n",
       "\n",
       "      Total transaction deposits Total nontransaction deposits  \\\n",
       "25172                     -10096                          6407   \n",
       "35383                      11246                          9816   \n",
       "11636                      10370                         15256   \n",
       "58072                       1132                          6443   \n",
       "35462                       4335                          4924   \n",
       "\n",
       "      Available-for-sale Fair Value  \n",
       "25172                        -27145  \n",
       "35383                         -8659  \n",
       "11636                         -6187  \n",
       "58072                         -4533  \n",
       "35462                         -3509  "
      ]
     },
     "execution_count": 180,
     "metadata": {},
     "output_type": "execute_result"
    }
   ],
   "source": [
    "#failed_after_2010Q2.tail()"
   ]
  },
  {
   "cell_type": "code",
   "execution_count": 169,
   "metadata": {},
   "outputs": [],
   "source": [
    "#failed_after_2010Q2.to_csv('data/failed_after_2010Q2')"
   ]
  },
  {
   "cell_type": "code",
   "execution_count": 176,
   "metadata": {},
   "outputs": [
    {
     "data": {
      "text/plain": [
       "45"
      ]
     },
     "execution_count": 176,
     "metadata": {},
     "output_type": "execute_result"
    }
   ],
   "source": [
    "failed_banks_2010Q2 = failed_banks_df.loc[(failed_banks_df.Year_failed == 2010) & (failed_banks_df.Quarter_failed == 2)]\n",
    "banks_CERT_2010Q2_list = list(failed_banks_2010Q2.CERT)\n",
    "len(banks_CERT_2010Q2_list)"
   ]
  },
  {
   "cell_type": "code",
   "execution_count": 183,
   "metadata": {},
   "outputs": [
    {
     "name": "stdout",
     "output_type": "stream",
     "text": [
      "counter at  0  pulling CERT#  35279\n",
      "counter at  1  pulling CERT#  34152\n",
      "counter at  2  pulling CERT#  26563\n",
      "counter at  3  pulling CERT#  57110\n",
      "counter at  4  pulling CERT#  32955\n",
      "counter at  5  pulling CERT#  29341\n",
      "counter at  6  pulling CERT#  31813\n",
      "counter at  7  pulling CERT#  15814\n",
      "counter at  8  pulling CERT#  34785\n",
      "counter at  9  pulling CERT#  57315\n",
      "counter at  10  pulling CERT#  57814\n",
      "counter at  11  pulling CERT#  35106\n",
      "counter at  12  pulling CERT#  57360\n",
      "counter at  13  pulling CERT#  57735\n",
      "counter at  14  pulling CERT#  18117\n",
      "counter at  15  pulling CERT#  34255\n",
      "counter at  16  pulling CERT#  35586\n",
      "counter at  17  pulling CERT#  35114\n",
      "counter at  18  pulling CERT#  35517\n",
      "counter at  19  pulling CERT#  57697\n",
      "counter at  20  pulling CERT#  16476\n",
      "counter at  21  pulling CERT#  14246\n",
      "counter at  22  pulling CERT#  22710\n",
      "counter at  23  pulling CERT#  17792\n",
      "counter at  24  pulling CERT#  58362\n",
      "counter at  25  pulling CERT#  30005\n",
      "counter at  26  pulling CERT#  31027\n",
      "counter at  27  pulling CERT#  32185\n",
      "counter at  28  pulling CERT#  27150\n",
      "counter at  29  pulling CERT#  58429\n",
      "counter at  30  pulling CERT#  10888\n",
      "counter at  31  pulling CERT#  30600\n",
      "counter at  32  pulling CERT#  34821\n",
      "counter at  33  pulling CERT#  34658\n",
      "counter at  34  pulling CERT#  22853\n",
      "counter at  35  pulling CERT#  3735\n",
      "counter at  36  pulling CERT#  21521\n",
      "counter at  37  pulling CERT#  33493\n",
      "counter at  38  pulling CERT#  23876\n",
      "counter at  39  pulling CERT#  26619\n",
      "counter at  40  pulling CERT#  24067\n",
      "counter at  41  pulling CERT#  57724\n",
      "counter at  42  pulling CERT#  28886\n",
      "counter at  43  pulling CERT#  34878\n",
      "counter at  44  pulling CERT#  34242\n"
     ]
    }
   ],
   "source": [
    "# Pull 45 reports, drop all values but 13 selected metrics\n",
    "all_data_df = pd.DataFrame()\n",
    "fin_data_dic = {}\n",
    "\n",
    "for i in range(len(banks_CERT_2010Q2_list)):\n",
    "\n",
    "    ds_name = 'Call'    # Pull Call report data\n",
    "    end_date = '3/31/2010'  # Pull data in reporting pd ending 3/31/17\n",
    "    fiID_type = 'FDICCertNumber'  # Type of financial inst identifier (ID_RSSD, CERT )\n",
    "    fiID = banks_CERT_2010Q2_list[i]   # Indentifier for Wyomin Bank and Trust\n",
    "    print(\"counter at \", i, \" pulling CERT# \", fiID)\n",
    "    fmt = 'SDF'  # Pull report as PDF\n",
    "    # <facsimileFormat>PDF or XBRL or SDF</facsimileFormat>\n",
    "    #outfile = 'test8.PDF'  # Output file path\n",
    "    return_result = True  # If True, method returns the data\n",
    "    try:\n",
    "        f = client.retrieve_facsimile(ds_name=ds_name, reporting_pd_end=end_date,\n",
    "                                      fiID_type=fiID_type, fiID=fiID,\n",
    "                                      facsimile_fmt=fmt, outfile=False,\n",
    "                                      return_result=True)\n",
    "        report = StringIO(str(f, 'utf-8'))\n",
    "        report_df = pd.read_csv(report, sep=';')\n",
    "        report_df.columns = ['Call Date', 'Bank RSSD Identifier', 'ValueID', 'Value', 'Last Update',\n",
    "       'Short Definition', 'Call Schedule', 'Line Number']\n",
    "        values = list(report_df[report_df.ValueID.isin(columns)].Value)\n",
    "        fin_data_dic[fiID] = values\n",
    "        all_data_df = all_data_df.append(report_df, ignore_index=True)\n",
    "    except:\n",
    "        next "
   ]
  },
  {
   "cell_type": "code",
   "execution_count": 184,
   "metadata": {},
   "outputs": [
    {
     "data": {
      "text/html": [
       "<div>\n",
       "<style scoped>\n",
       "    .dataframe tbody tr th:only-of-type {\n",
       "        vertical-align: middle;\n",
       "    }\n",
       "\n",
       "    .dataframe tbody tr th {\n",
       "        vertical-align: top;\n",
       "    }\n",
       "\n",
       "    .dataframe thead th {\n",
       "        text-align: right;\n",
       "    }\n",
       "</style>\n",
       "<table border=\"1\" class=\"dataframe\">\n",
       "  <thead>\n",
       "    <tr style=\"text-align: right;\">\n",
       "      <th></th>\n",
       "      <th>Call Date</th>\n",
       "      <th>Bank RSSD Identifier</th>\n",
       "      <th>ValueID</th>\n",
       "      <th>Value</th>\n",
       "      <th>Last Update</th>\n",
       "      <th>Short Definition</th>\n",
       "      <th>Call Schedule</th>\n",
       "      <th>Line Number</th>\n",
       "    </tr>\n",
       "  </thead>\n",
       "  <tbody>\n",
       "    <tr>\n",
       "      <th>0</th>\n",
       "      <td>20100331</td>\n",
       "      <td>2799803</td>\n",
       "      <td>RCON0010</td>\n",
       "      <td>3616</td>\n",
       "      <td>20100528</td>\n",
       "      <td>Cash and balances dues from depository institu...</td>\n",
       "      <td>RCR</td>\n",
       "      <td>34</td>\n",
       "    </tr>\n",
       "    <tr>\n",
       "      <th>1</th>\n",
       "      <td>20100331</td>\n",
       "      <td>2799803</td>\n",
       "      <td>RCON0020</td>\n",
       "      <td>NaN</td>\n",
       "      <td>20100528</td>\n",
       "      <td>Cash items in process of collection and unpost...</td>\n",
       "      <td>RCA</td>\n",
       "      <td>1a</td>\n",
       "    </tr>\n",
       "    <tr>\n",
       "      <th>2</th>\n",
       "      <td>20100331</td>\n",
       "      <td>2799803</td>\n",
       "      <td>RCON0071</td>\n",
       "      <td>2311</td>\n",
       "      <td>20100528</td>\n",
       "      <td>Interest-bearing balances</td>\n",
       "      <td>RC</td>\n",
       "      <td>1b</td>\n",
       "    </tr>\n",
       "    <tr>\n",
       "      <th>3</th>\n",
       "      <td>20100331</td>\n",
       "      <td>2799803</td>\n",
       "      <td>RCON0073</td>\n",
       "      <td>NaN</td>\n",
       "      <td>20100528</td>\n",
       "      <td>Foreign branches of other U.S. banks</td>\n",
       "      <td>RCA</td>\n",
       "      <td>3a</td>\n",
       "    </tr>\n",
       "    <tr>\n",
       "      <th>4</th>\n",
       "      <td>20100331</td>\n",
       "      <td>2799803</td>\n",
       "      <td>RCON0074</td>\n",
       "      <td>NaN</td>\n",
       "      <td>20100528</td>\n",
       "      <td>Other banks in foreign countries and foreign c...</td>\n",
       "      <td>RCA</td>\n",
       "      <td>3b</td>\n",
       "    </tr>\n",
       "  </tbody>\n",
       "</table>\n",
       "</div>"
      ],
      "text/plain": [
       "   Call Date  Bank RSSD Identifier   ValueID Value  Last Update  \\\n",
       "0   20100331               2799803  RCON0010  3616     20100528   \n",
       "1   20100331               2799803  RCON0020   NaN     20100528   \n",
       "2   20100331               2799803  RCON0071  2311     20100528   \n",
       "3   20100331               2799803  RCON0073   NaN     20100528   \n",
       "4   20100331               2799803  RCON0074   NaN     20100528   \n",
       "\n",
       "                                    Short Definition Call Schedule Line Number  \n",
       "0  Cash and balances dues from depository institu...           RCR          34  \n",
       "1  Cash items in process of collection and unpost...           RCA          1a  \n",
       "2                          Interest-bearing balances            RC          1b  \n",
       "3               Foreign branches of other U.S. banks           RCA          3a  \n",
       "4  Other banks in foreign countries and foreign c...           RCA          3b  "
      ]
     },
     "execution_count": 184,
     "metadata": {},
     "output_type": "execute_result"
    }
   ],
   "source": [
    "all_data_df.head()"
   ]
  },
  {
   "cell_type": "code",
   "execution_count": 185,
   "metadata": {},
   "outputs": [],
   "source": [
    "failed_after_2010Q1 = pd.DataFrame.from_dict(fin_data_dic, orient='index')\n",
    "failed_after_2010Q1.columns = columns\n",
    "values = list(selected_financials.values())\n",
    "failed_after_2010Q1.columns = values"
   ]
  },
  {
   "cell_type": "code",
   "execution_count": 186,
   "metadata": {},
   "outputs": [],
   "source": [
    "failed_after_2010Q1.to_csv('data/failed_after_2010Q1')"
   ]
  },
  {
   "cell_type": "code",
   "execution_count": null,
   "metadata": {},
   "outputs": [],
   "source": []
  }
 ],
 "metadata": {
  "kernelspec": {
   "display_name": "Python 3",
   "language": "python",
   "name": "python3"
  },
  "language_info": {
   "codemirror_mode": {
    "name": "ipython",
    "version": 3
   },
   "file_extension": ".py",
   "mimetype": "text/x-python",
   "name": "python",
   "nbconvert_exporter": "python",
   "pygments_lexer": "ipython3",
   "version": "3.7.3"
  }
 },
 "nbformat": 4,
 "nbformat_minor": 2
}

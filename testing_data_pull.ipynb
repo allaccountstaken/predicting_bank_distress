{
 "cells": [
  {
   "cell_type": "code",
   "execution_count": 1,
   "metadata": {},
   "outputs": [],
   "source": [
    "import pandas as pd\n",
    "import numpy as np\n",
    "import matplotlib.pyplot as plt\n",
    "%matplotlib inline\n",
    "from ffipy import FFIEC_Client\n",
    "from io import StringIO"
   ]
  },
  {
   "cell_type": "code",
   "execution_count": 71,
   "metadata": {},
   "outputs": [
    {
     "data": {
      "text/plain": [
       "30"
      ]
     },
     "execution_count": 71,
     "metadata": {},
     "output_type": "execute_result"
    }
   ],
   "source": [
    "failed_banks_df = pd.read_csv('data/failed_banks_dataset.csv')\n",
    "failed_banks_df['Date'] = pd.to_datetime(failed_banks_df['Closing Date'])\n",
    "failed_banks_df['Year_failed'] = failed_banks_df['Date'].dt.year\n",
    "failed_banks_df['Quarter_failed'] = failed_banks_df['Date'].dt.quarter\n"
   ]
  },
  {
   "cell_type": "code",
   "execution_count": 72,
   "metadata": {},
   "outputs": [],
   "source": []
  },
  {
   "cell_type": "code",
   "execution_count": 114,
   "metadata": {},
   "outputs": [],
   "source": [
    "# Updated list of selected financials include loan types now\n",
    "selected_financials = {'RIAD3210' : 'Total equity capital', # Alt can be RCONG105\n",
    "                       'RCON2170' : 'Total assets', # Ok\n",
    "                       'RCON3360' : 'Total loans', #ok\n",
    "                       'RCON3465' : '1-4 family residential loans', \n",
    "                       'RCON3466' : 'Other real estate loans',\n",
    "                       'RCON3387' : 'Commercial and industrial loans',\n",
    "                       'RCONB561' : 'Credit cards',\n",
    "                       'RCON3123' : 'Allowance for loan losses', # OK\n",
    "                       'RIAD4093' : 'Total noninterest expense', #OK\n",
    "                       'RIAD4340' : 'Net Income attributable', # ok\n",
    "                       'RCON2215' : 'Total transaction deposits', # ok\n",
    "                       'RCON2385' : 'Total nontransaction deposits', # ok\n",
    "                       'RCON1773' : 'Available-for-sale Fair Value'\n",
    "                      } "
   ]
  },
  {
   "cell_type": "code",
   "execution_count": 124,
   "metadata": {},
   "outputs": [
    {
     "data": {
      "text/plain": [
       "['RIAD3210',\n",
       " 'RCON2170',\n",
       " 'RCON3360',\n",
       " 'RCON3465',\n",
       " 'RCON3466',\n",
       " 'RCON3387',\n",
       " 'RCONB561',\n",
       " 'RCON3123',\n",
       " 'RIAD4093',\n",
       " 'RIAD4340',\n",
       " 'RCON2215',\n",
       " 'RCON2385',\n",
       " 'RCON1773']"
      ]
     },
     "execution_count": 124,
     "metadata": {},
     "output_type": "execute_result"
    }
   ],
   "source": [
    "len(selected_financials.keys())\n",
    "columns = list(selected_financials.keys())\n",
    "columns"
   ]
  },
  {
   "cell_type": "code",
   "execution_count": null,
   "metadata": {},
   "outputs": [],
   "source": []
  },
  {
   "cell_type": "code",
   "execution_count": 127,
   "metadata": {},
   "outputs": [
    {
     "name": "stdout",
     "output_type": "stream",
     "text": [
      "counter at  0  pulling CERT#  23306\n",
      "counter at  1  pulling CERT#  58052\n",
      "counter at  2  pulling CERT#  35065\n",
      "counter at  3  pulling CERT#  58495\n",
      "counter at  4  pulling CERT#  34578\n",
      "counter at  5  pulling CERT#  19040\n",
      "counter at  6  pulling CERT#  35561\n",
      "counter at  7  pulling CERT#  34673\n",
      "counter at  8  pulling CERT#  5287\n",
      "counter at  9  pulling CERT#  35078\n",
      "counter at  10  pulling CERT#  20340\n",
      "counter at  11  pulling CERT#  35463\n",
      "counter at  12  pulling CERT#  14580\n",
      "counter at  13  pulling CERT#  57831\n",
      "counter at  14  pulling CERT#  57885\n",
      "counter at  15  pulling CERT#  34411\n",
      "counter at  16  pulling CERT#  58087\n",
      "counter at  17  pulling CERT#  31263\n",
      "counter at  18  pulling CERT#  32582\n",
      "counter at  19  pulling CERT#  22173\n",
      "counter at  20  pulling CERT#  16089\n",
      "counter at  21  pulling CERT#  2119\n",
      "counter at  22  pulling CERT#  33904\n",
      "counter at  23  pulling CERT#  32251\n",
      "counter at  24  pulling CERT#  27573\n",
      "counter at  25  pulling CERT#  34016\n",
      "counter at  26  pulling CERT#  58205\n",
      "counter at  27  pulling CERT#  30898\n",
      "counter at  28  pulling CERT#  35250\n",
      "counter at  29  pulling CERT#  21777\n"
     ]
    }
   ],
   "source": [
    "# Pull 30 reports, drop all values but 11 selected metrics -- returns only 27\n",
    "all_data_df = pd.DataFrame()\n",
    "fin_data_dic = {}\n",
    "for i in range(len(banks_CERT_2010Q4_list)):\n",
    "\n",
    "    ds_name = 'Call'    # Pull Call report data\n",
    "    end_date = '9/30/2010'  # Pull data in reporting pd ending 3/31/17\n",
    "    fiID_type = 'FDICCertNumber'  # Type of financial inst identifier (ID_RSSD, CERT )\n",
    "    fiID = banks_CERT_2010Q4_list[i]   # Indentifier for Wyomin Bank and Trust\n",
    "    print(\"counter at \", i, \" pulling CERT# \", fiID)\n",
    "    fmt = 'SDF'  # Pull report as PDF\n",
    "    # <facsimileFormat>PDF or XBRL or SDF</facsimileFormat>\n",
    "    #outfile = 'test8.PDF'  # Output file path\n",
    "    return_result = True  # If True, method returns the data\n",
    "    try:\n",
    "        f = client.retrieve_facsimile(ds_name=ds_name, reporting_pd_end=end_date,\n",
    "                                      fiID_type=fiID_type, fiID=fiID,\n",
    "                                      facsimile_fmt=fmt, outfile=False,\n",
    "                                      return_result=True)\n",
    "        report = StringIO(str(f, 'utf-8'))\n",
    "        report_df = pd.read_csv(report, sep=';')\n",
    "        report_df.columns = ['Call Date', 'Bank RSSD Identifier', 'ValueID', 'Value', 'Last Update',\n",
    "       'Short Definition', 'Call Schedule', 'Line Number']\n",
    "        values = list(report_df[report_df.ValueID.isin(columns)].Value)\n",
    "        fin_data_dic[fiID] = values\n",
    "        all_data_df = all_data_df.append(report_df, ignore_index=True)\n",
    "    except:\n",
    "        next "
   ]
  },
  {
   "cell_type": "code",
   "execution_count": 132,
   "metadata": {},
   "outputs": [
    {
     "data": {
      "text/plain": [
       "45691"
      ]
     },
     "execution_count": 132,
     "metadata": {},
     "output_type": "execute_result"
    }
   ],
   "source": [
    "len(all_data_df)"
   ]
  },
  {
   "cell_type": "code",
   "execution_count": 157,
   "metadata": {},
   "outputs": [],
   "source": [
    "failed_after_2010Q3 = pd.DataFrame.from_dict(fin_data_dic, orient='index')\n",
    "failed_after_2010Q3.columns = columns\n",
    "values = list(selected_financials.values())"
   ]
  },
  {
   "cell_type": "code",
   "execution_count": 158,
   "metadata": {},
   "outputs": [],
   "source": [
    "failed_after_2010Q3.columns = values"
   ]
  },
  {
   "cell_type": "code",
   "execution_count": 161,
   "metadata": {},
   "outputs": [],
   "source": [
    "#failed_after_2010Q3.to_csv('data/failed_after_2010Q3')\n"
   ]
  },
  {
   "cell_type": "code",
   "execution_count": 163,
   "metadata": {},
   "outputs": [
    {
     "data": {
      "text/plain": [
       "41"
      ]
     },
     "execution_count": 163,
     "metadata": {},
     "output_type": "execute_result"
    }
   ],
   "source": [
    "failed_banks_2010Q3 = failed_banks_df.loc[(failed_banks_df.Year_failed == 2010) & (failed_banks_df.Quarter_failed == 3)]\n",
    "banks_CERT_2010Q3_list = list(failed_banks_2010Q3.CERT)\n",
    "len(banks_CERT_2010Q3_list)"
   ]
  },
  {
   "cell_type": "code",
   "execution_count": 165,
   "metadata": {},
   "outputs": [
    {
     "name": "stdout",
     "output_type": "stream",
     "text": [
      "counter at  0  pulling CERT#  35053\n",
      "counter at  1  pulling CERT#  58308\n",
      "counter at  2  pulling CERT#  28612\n",
      "counter at  3  pulling CERT#  27808\n",
      "counter at  4  pulling CERT#  182\n",
      "counter at  5  pulling CERT#  57448\n",
      "counter at  6  pulling CERT#  58197\n",
      "counter at  7  pulling CERT#  57107\n",
      "counter at  8  pulling CERT#  35061\n",
      "counter at  9  pulling CERT#  27259\n",
      "counter at  10  pulling CERT#  32165\n",
      "counter at  11  pulling CERT#  33219\n",
      "counter at  12  pulling CERT#  27090\n",
      "counter at  13  pulling CERT#  15640\n",
      "counter at  14  pulling CERT#  31623\n",
      "counter at  15  pulling CERT#  27344\n",
      "counter at  16  pulling CERT#  25266\n",
      "counter at  17  pulling CERT#  17599\n",
      "counter at  18  pulling CERT#  34231\n",
      "counter at  19  pulling CERT#  31964\n",
      "counter at  20  pulling CERT#  22643\n",
      "counter at  21  pulling CERT#  9619\n",
      "counter at  22  pulling CERT#  57669\n",
      "counter at  23  pulling CERT#  57658\n",
      "counter at  24  pulling CERT#  23181\n",
      "counter at  25  pulling CERT#  35434\n",
      "counter at  26  pulling CERT#  34486\n",
      "counter at  27  pulling CERT#  10506\n",
      "counter at  28  pulling CERT#  17837\n",
      "counter at  29  pulling CERT#  27559\n",
      "counter at  30  pulling CERT#  32536\n",
      "counter at  31  pulling CERT#  28136\n",
      "counter at  32  pulling CERT#  28864\n",
      "counter at  33  pulling CERT#  32280\n",
      "counter at  34  pulling CERT#  25172\n",
      "counter at  35  pulling CERT#  35383\n",
      "counter at  36  pulling CERT#  32571\n",
      "counter at  37  pulling CERT#  11636\n",
      "counter at  38  pulling CERT#  58072\n",
      "counter at  39  pulling CERT#  32456\n",
      "counter at  40  pulling CERT#  35462\n"
     ]
    }
   ],
   "source": [
    "# Pull 30 reports, drop all values but 11 selected metrics -- returns only 27\n",
    "all_data_df = pd.DataFrame()\n",
    "fin_data_dic = {}\n",
    "\n",
    "for i in range(len(banks_CERT_2010Q3_list)):\n",
    "\n",
    "    ds_name = 'Call'    # Pull Call report data\n",
    "    end_date = '6/30/2010'  # Pull data in reporting pd ending 3/31/17\n",
    "    fiID_type = 'FDICCertNumber'  # Type of financial inst identifier (ID_RSSD, CERT )\n",
    "    fiID = banks_CERT_2010Q3_list[i]   # Indentifier for Wyomin Bank and Trust\n",
    "    print(\"counter at \", i, \" pulling CERT# \", fiID)\n",
    "    fmt = 'SDF'  # Pull report as PDF\n",
    "    # <facsimileFormat>PDF or XBRL or SDF</facsimileFormat>\n",
    "    #outfile = 'test8.PDF'  # Output file path\n",
    "    return_result = True  # If True, method returns the data\n",
    "    try:\n",
    "        f = client.retrieve_facsimile(ds_name=ds_name, reporting_pd_end=end_date,\n",
    "                                      fiID_type=fiID_type, fiID=fiID,\n",
    "                                      facsimile_fmt=fmt, outfile=False,\n",
    "                                      return_result=True)\n",
    "        report = StringIO(str(f, 'utf-8'))\n",
    "        report_df = pd.read_csv(report, sep=';')\n",
    "        report_df.columns = ['Call Date', 'Bank RSSD Identifier', 'ValueID', 'Value', 'Last Update',\n",
    "       'Short Definition', 'Call Schedule', 'Line Number']\n",
    "        values = list(report_df[report_df.ValueID.isin(columns)].Value)\n",
    "        fin_data_dic[fiID] = values\n",
    "        all_data_df = all_data_df.append(report_df, ignore_index=True)\n",
    "    except:\n",
    "        next "
   ]
  },
  {
   "cell_type": "code",
   "execution_count": 166,
   "metadata": {},
   "outputs": [],
   "source": [
    "failed_after_2010Q2 = pd.DataFrame.from_dict(fin_data_dic, orient='index')\n",
    "failed_after_2010Q2.columns = columns\n",
    "values = list(selected_financials.values())\n",
    "failed_after_2010Q2.columns = values"
   ]
  },
  {
   "cell_type": "code",
   "execution_count": 169,
   "metadata": {},
   "outputs": [],
   "source": [
    "#failed_after_2010Q2.to_csv('data/failed_after_2010Q2')"
   ]
  },
  {
   "cell_type": "code",
   "execution_count": null,
   "metadata": {},
   "outputs": [],
   "source": [
    "failed_banks_2010Q3 = failed_banks_df.loc[(failed_banks_df.Year_failed == 2010) & (failed_banks_df.Quarter_failed == 3)]\n",
    "banks_CERT_2010Q3_list = list(failed_banks_2010Q3.CERT)\n",
    "len(banks_CERT_2010Q3_list)"
   ]
  }
 ],
 "metadata": {
  "kernelspec": {
   "display_name": "Python 3",
   "language": "python",
   "name": "python3"
  },
  "language_info": {
   "codemirror_mode": {
    "name": "ipython",
    "version": 3
   },
   "file_extension": ".py",
   "mimetype": "text/x-python",
   "name": "python",
   "nbconvert_exporter": "python",
   "pygments_lexer": "ipython3",
   "version": "3.7.3"
  }
 },
 "nbformat": 4,
 "nbformat_minor": 2
}

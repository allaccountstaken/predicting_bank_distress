{
 "cells": [
  {
   "cell_type": "code",
   "execution_count": 1,
   "metadata": {},
   "outputs": [],
   "source": [
    "import pandas as pd\n",
    "import numpy as np\n",
    "import matplotlib.pyplot as plt\n",
    "%matplotlib inline\n",
    "from ffipy import FFIEC_Client\n",
    "from io import StringIO\n",
    "import time"
   ]
  },
  {
   "cell_type": "code",
   "execution_count": 2,
   "metadata": {},
   "outputs": [
    {
     "data": {
      "text/plain": [
       "7094"
      ]
     },
     "execution_count": 2,
     "metadata": {},
     "output_type": "execute_result"
    }
   ],
   "source": [
    "client = FFIEC_Client()\n",
    "# get a list of RSSD codes for filers on 9/30/2010\n",
    "filers_RSSD_09302010 = client.retrieve_filers_since_date(ds_name='Call',\n",
    "                                   reporting_pd_end='9/30/2010',\n",
    "                                   last_update_date='9/30/2010')\n",
    "# check how many filers - 5908\n",
    "len(filers_RSSD_09302010)"
   ]
  },
  {
   "cell_type": "code",
   "execution_count": 3,
   "metadata": {},
   "outputs": [],
   "source": [
    "# Testing Call report for 1 filer\n",
    "ds_name = 'Call'    # Pull Call report data\n",
    "end_date = '9/30/2010'  # Pull data in reporting pd ending 3/31/17\n",
    "fiID_type = 'ID_RSSD'  # Type of financial inst identifier\n",
    "fiID = 688556    # Indentifier for Wyomin Bank and Trust\n",
    "fmt = 'SDF'  # Pull report as PDF\n",
    "# <facsimileFormat>PDF or XBRL or SDF</facsimileFormat>\n",
    "outfile = None  # Output file path\n",
    "return_result = True  # If True, method returns the data\n",
    "results_bytes = client.retrieve_facsimile(ds_name=ds_name, reporting_pd_end=end_date,\n",
    "                              fiID_type=fiID_type, fiID=fiID,\n",
    "                              facsimile_fmt=fmt, outfile=None,\n",
    "                              return_result=True)\n",
    "report = StringIO(str(results_bytes, 'utf-8'))\n",
    "report_df = pd.read_csv(report, sep=';')\n",
    "\n"
   ]
  },
  {
   "cell_type": "code",
   "execution_count": 5,
   "metadata": {},
   "outputs": [
    {
     "data": {
      "text/html": [
       "<div>\n",
       "<style scoped>\n",
       "    .dataframe tbody tr th:only-of-type {\n",
       "        vertical-align: middle;\n",
       "    }\n",
       "\n",
       "    .dataframe tbody tr th {\n",
       "        vertical-align: top;\n",
       "    }\n",
       "\n",
       "    .dataframe thead th {\n",
       "        text-align: right;\n",
       "    }\n",
       "</style>\n",
       "<table border=\"1\" class=\"dataframe\">\n",
       "  <thead>\n",
       "    <tr style=\"text-align: right;\">\n",
       "      <th></th>\n",
       "      <th>Call Date</th>\n",
       "      <th>Bank RSSD Identifier</th>\n",
       "      <th>MDRM #</th>\n",
       "      <th>Value</th>\n",
       "      <th>Last Update</th>\n",
       "      <th>Short Definition</th>\n",
       "      <th>Call Schedule</th>\n",
       "      <th>Line Number</th>\n",
       "    </tr>\n",
       "  </thead>\n",
       "  <tbody>\n",
       "    <tr>\n",
       "      <th>0</th>\n",
       "      <td>20100930</td>\n",
       "      <td>688556</td>\n",
       "      <td>RCON0010</td>\n",
       "      <td>14201</td>\n",
       "      <td>20101012</td>\n",
       "      <td>Cash and balances dues from depository institu...</td>\n",
       "      <td>RCR</td>\n",
       "      <td>34</td>\n",
       "    </tr>\n",
       "    <tr>\n",
       "      <th>1</th>\n",
       "      <td>20100930</td>\n",
       "      <td>688556</td>\n",
       "      <td>RCON0020</td>\n",
       "      <td>0</td>\n",
       "      <td>20101012</td>\n",
       "      <td>Cash items in process of collection and unpost...</td>\n",
       "      <td>RCA</td>\n",
       "      <td>1a</td>\n",
       "    </tr>\n",
       "    <tr>\n",
       "      <th>2</th>\n",
       "      <td>20100930</td>\n",
       "      <td>688556</td>\n",
       "      <td>RCON0071</td>\n",
       "      <td>12625</td>\n",
       "      <td>20101012</td>\n",
       "      <td>Interest-bearing balances</td>\n",
       "      <td>RC</td>\n",
       "      <td>1b</td>\n",
       "    </tr>\n",
       "    <tr>\n",
       "      <th>3</th>\n",
       "      <td>20100930</td>\n",
       "      <td>688556</td>\n",
       "      <td>RCON0073</td>\n",
       "      <td>0</td>\n",
       "      <td>20101012</td>\n",
       "      <td>Foreign branches of other U.S. banks</td>\n",
       "      <td>RCA</td>\n",
       "      <td>3a</td>\n",
       "    </tr>\n",
       "    <tr>\n",
       "      <th>4</th>\n",
       "      <td>20100930</td>\n",
       "      <td>688556</td>\n",
       "      <td>RCON0074</td>\n",
       "      <td>0</td>\n",
       "      <td>20101012</td>\n",
       "      <td>Other banks in foreign countries and foreign c...</td>\n",
       "      <td>RCA</td>\n",
       "      <td>3b</td>\n",
       "    </tr>\n",
       "    <tr>\n",
       "      <th>5</th>\n",
       "      <td>20100930</td>\n",
       "      <td>688556</td>\n",
       "      <td>RCON0080</td>\n",
       "      <td>1006</td>\n",
       "      <td>20101012</td>\n",
       "      <td>Currency and coin</td>\n",
       "      <td>RCA</td>\n",
       "      <td>1b</td>\n",
       "    </tr>\n",
       "    <tr>\n",
       "      <th>6</th>\n",
       "      <td>20100930</td>\n",
       "      <td>688556</td>\n",
       "      <td>RCON0081</td>\n",
       "      <td>1577</td>\n",
       "      <td>20101012</td>\n",
       "      <td>Noninterest-bearing balances and currency and ...</td>\n",
       "      <td>RC</td>\n",
       "      <td>1a</td>\n",
       "    </tr>\n",
       "    <tr>\n",
       "      <th>7</th>\n",
       "      <td>20100930</td>\n",
       "      <td>688556</td>\n",
       "      <td>RCON0083</td>\n",
       "      <td>0</td>\n",
       "      <td>20101012</td>\n",
       "      <td>U.S. branches and agencies of foreign banks</td>\n",
       "      <td>RCA</td>\n",
       "      <td>2a</td>\n",
       "    </tr>\n",
       "    <tr>\n",
       "      <th>8</th>\n",
       "      <td>20100930</td>\n",
       "      <td>688556</td>\n",
       "      <td>RCON0085</td>\n",
       "      <td>13097</td>\n",
       "      <td>20101012</td>\n",
       "      <td>Other commercial banks in the U.S. and other d...</td>\n",
       "      <td>RCA</td>\n",
       "      <td>2b</td>\n",
       "    </tr>\n",
       "    <tr>\n",
       "      <th>9</th>\n",
       "      <td>20100930</td>\n",
       "      <td>688556</td>\n",
       "      <td>RCON0090</td>\n",
       "      <td>98</td>\n",
       "      <td>20101012</td>\n",
       "      <td>Balances due from Federal Reserve Banks</td>\n",
       "      <td>RCA</td>\n",
       "      <td>4</td>\n",
       "    </tr>\n",
       "  </tbody>\n",
       "</table>\n",
       "</div>"
      ],
      "text/plain": [
       "   Call Date  Bank RSSD Identifier    MDRM #  Value  Last Update  \\\n",
       "0   20100930                688556  RCON0010  14201     20101012   \n",
       "1   20100930                688556  RCON0020      0     20101012   \n",
       "2   20100930                688556  RCON0071  12625     20101012   \n",
       "3   20100930                688556  RCON0073      0     20101012   \n",
       "4   20100930                688556  RCON0074      0     20101012   \n",
       "5   20100930                688556  RCON0080   1006     20101012   \n",
       "6   20100930                688556  RCON0081   1577     20101012   \n",
       "7   20100930                688556  RCON0083      0     20101012   \n",
       "8   20100930                688556  RCON0085  13097     20101012   \n",
       "9   20100930                688556  RCON0090     98     20101012   \n",
       "\n",
       "                                    Short Definition Call Schedule Line Number  \n",
       "0  Cash and balances dues from depository institu...           RCR          34  \n",
       "1  Cash items in process of collection and unpost...           RCA          1a  \n",
       "2                          Interest-bearing balances            RC          1b  \n",
       "3               Foreign branches of other U.S. banks           RCA          3a  \n",
       "4  Other banks in foreign countries and foreign c...           RCA          3b  \n",
       "5                                  Currency and coin           RCA          1b  \n",
       "6  Noninterest-bearing balances and currency and ...            RC          1a  \n",
       "7        U.S. branches and agencies of foreign banks           RCA          2a  \n",
       "8  Other commercial banks in the U.S. and other d...           RCA          2b  \n",
       "9            Balances due from Federal Reserve Banks           RCA           4  "
      ]
     },
     "execution_count": 5,
     "metadata": {},
     "output_type": "execute_result"
    }
   ],
   "source": [
    "report_df.head(10)"
   ]
  },
  {
   "cell_type": "code",
   "execution_count": 3,
   "metadata": {},
   "outputs": [],
   "source": [
    "# Prepare dictionary of selected financials that are needed for CAMELS\n",
    "selected_financials = {\n",
    "                       'RIAD3210' : 'Total equity capital', # Alt can be RCONG105\n",
    "                       'RCON2170' : 'Total assets', # Ok\n",
    "                       'RCON3360' : 'Total loans', #ok\n",
    "                       'RCON3465' : '1-4 family residential loans', \n",
    "                       'RCON3466' : 'Other real estate loans',\n",
    "                       'RCON3387' : 'Commercial and industrial loans',\n",
    "                       'RCONB561' : 'Credit cards',\n",
    "                       'RCON3123' : 'Allowance for loan losses', # OK\n",
    "                       'RIAD4093' : 'Total noninterest expense', #OK\n",
    "                       'RIAD4300' : 'Net Income before', # # new for healthy\n",
    "                       'RCON2215' : 'Total transaction deposits', # ok\n",
    "                       'RCON2385' : 'Total nontransaction deposits', # ok\n",
    "                       'RCON1773' : 'Available-for-sale Fair Value',\n",
    "                       'RIAD4150' : 'Number of full-time employees'# new for healthy\n",
    "                      } \n"
   ]
  },
  {
   "cell_type": "code",
   "execution_count": 12,
   "metadata": {},
   "outputs": [
    {
     "data": {
      "text/plain": [
       "14"
      ]
     },
     "execution_count": 12,
     "metadata": {},
     "output_type": "execute_result"
    }
   ],
   "source": [
    "# Expected 13 columns, store column names in the list columns\n",
    "len(selected_financials.keys())\n",
    "columns = list(selected_financials.keys())\n",
    "len(columns)"
   ]
  },
  {
   "cell_type": "code",
   "execution_count": 143,
   "metadata": {},
   "outputs": [
    {
     "data": {
      "text/plain": [
       "['RIAD3210',\n",
       " 'RCON2170',\n",
       " 'RCON3360',\n",
       " 'RCON3465',\n",
       " 'RCON3466',\n",
       " 'RCON3387',\n",
       " 'RCONB561',\n",
       " 'RCON3123',\n",
       " 'RIAD4093',\n",
       " 'RIAD4300',\n",
       " 'RCON2215',\n",
       " 'RCON2385',\n",
       " 'RCON1773',\n",
       " 'RIAD4150']"
      ]
     },
     "execution_count": 143,
     "metadata": {},
     "output_type": "execute_result"
    }
   ],
   "source": [
    "columns"
   ]
  },
  {
   "cell_type": "code",
   "execution_count": 153,
   "metadata": {},
   "outputs": [],
   "source": [
    "# Pull 7000+ reports for filers_RSSD_09302010, drop all values but 13 selected metrics\n",
    "all_data_df = pd.DataFrame()\n",
    "#fin_data_dic = {}\n",
    "report_data_dict = {}\n",
    "\n",
    "for i in range(len(filers_RSSD_09302010)):\n",
    "\n",
    "    ds_name = 'Call'    # Pull Call report data\n",
    "    end_date = '9/30/2010'  # Pull data in reporting pd ending 3/31/17\n",
    "    fiID_type = 'ID_RSSD'  # Type of financial inst identifier (ID_RSSD, CERT )\n",
    "    fiID = filers_RSSD_09302010[i]   # Indentifier for Wyomin Bank and Trust\n",
    "    #print(\"counter at \", i, \" pulling RSSD# \", fiID)\n",
    "    fmt = 'SDF'  # Pull report as PDF\n",
    "    # <facsimileFormat>PDF or XBRL or SDF</facsimileFormat>\n",
    "    #outfile = 'test8.PDF'  # Output file path\n",
    "    return_result = True  # If True, method returns the data\n",
    "    try:\n",
    "        f = client.retrieve_facsimile(ds_name=ds_name, reporting_pd_end=end_date,\n",
    "                                      fiID_type=fiID_type, fiID=fiID,\n",
    "                                      facsimile_fmt=fmt, outfile=False,\n",
    "                                      return_result=True)\n",
    "        report = StringIO(str(f, 'utf-8'))\n",
    "        report_df = pd.read_csv(report, sep=';')\n",
    "        key = filers_RSSD_09302010[i]\n",
    "        report_data_dict[key] = {}\n",
    "        for col in columns:\n",
    "            df = report_df.loc[report_df['MDRM #'] == col]\n",
    "            value = df.Value.values[0]\n",
    "            report_data_dict[key][col] = value\n",
    "        #report_df.columns = ['Call Date', 'Bank RSSD Identifier', 'ValueID', 'Value', 'Last Update',\n",
    "       #'Short Definition', 'Call Schedule', 'Line Number']\n",
    "       # values = list(report_df[report_df.ValueID.isin(columns)].Value)\n",
    "       # fin_data_dic[fiID] = values\n",
    "        #all_data_df = all_data_df.append(report_df, ignore_index=True)\n",
    "    except:\n",
    "        next "
   ]
  },
  {
   "cell_type": "code",
   "execution_count": 165,
   "metadata": {},
   "outputs": [],
   "source": [
    "# Inspect the data pulled\n",
    "\n",
    "healthy_after_2010Q3 = pd.DataFrame.from_dict(report_data_dict, orient='index')\n",
    "#len(healthy_after_2010Q3.index)\n",
    "#healthy_after_2010Q3.describe()\n",
    "#healthy_after_2010Q3.columns\n",
    "\n",
    "#store the data\n",
    "#healthy_after_2010Q3.to_csv('data/healthy_after_2010Q3')\n"
   ]
  },
  {
   "cell_type": "code",
   "execution_count": 173,
   "metadata": {},
   "outputs": [],
   "source": [
    "\n",
    "healthy_after_2010Q3.columns = selected_financials.values()\n",
    "\n",
    "#store the data\n",
    "#healthy_after_2010Q3.to_csv('data/healthy_after_2010Q3')\n",
    "\n"
   ]
  },
  {
   "cell_type": "code",
   "execution_count": null,
   "metadata": {},
   "outputs": [],
   "source": []
  },
  {
   "cell_type": "code",
   "execution_count": null,
   "metadata": {},
   "outputs": [],
   "source": []
  },
  {
   "cell_type": "code",
   "execution_count": null,
   "metadata": {},
   "outputs": [],
   "source": []
  },
  {
   "cell_type": "code",
   "execution_count": null,
   "metadata": {},
   "outputs": [],
   "source": []
  },
  {
   "cell_type": "code",
   "execution_count": null,
   "metadata": {},
   "outputs": [],
   "source": []
  },
  {
   "cell_type": "code",
   "execution_count": null,
   "metadata": {},
   "outputs": [],
   "source": []
  },
  {
   "cell_type": "code",
   "execution_count": null,
   "metadata": {},
   "outputs": [],
   "source": []
  },
  {
   "cell_type": "code",
   "execution_count": null,
   "metadata": {},
   "outputs": [],
   "source": []
  },
  {
   "cell_type": "code",
   "execution_count": null,
   "metadata": {},
   "outputs": [],
   "source": []
  },
  {
   "cell_type": "code",
   "execution_count": null,
   "metadata": {},
   "outputs": [],
   "source": []
  },
  {
   "cell_type": "code",
   "execution_count": null,
   "metadata": {},
   "outputs": [],
   "source": []
  },
  {
   "cell_type": "code",
   "execution_count": null,
   "metadata": {},
   "outputs": [],
   "source": [
    "# Pull 7000+ reports for filers_RSSD_09302010 for Q-1, 06302010, drop all values but 13 selected metrics -- returns only 27\n",
    "all_data_df = pd.DataFrame()\n",
    "#fin_data_dic = {}\n",
    "report_data_dict = {}\n",
    "\n",
    "for i in range(len(filers_RSSD_09302010)):\n",
    "\n",
    "    ds_name = 'Call'    # Pull Call report data\n",
    "    end_date = '6/30/2010'  # Pull data in reporting pd ending 3/31/17\n",
    "    fiID_type = 'ID_RSSD'  # Type of financial inst identifier (ID_RSSD, CERT )\n",
    "    fiID = filers_RSSD_09302010[i]   # Indentifier for Wyomin Bank and Trust\n",
    "    #print(\"counter at \", i, \" pulling RSSD# \", fiID)\n",
    "    fmt = 'SDF'  # Pull report as PDF\n",
    "    # <facsimileFormat>PDF or XBRL or SDF</facsimileFormat>\n",
    "    #outfile = 'test8.PDF'  # Output file path\n",
    "    return_result = True  # If True, method returns the data\n",
    "    try:\n",
    "        f = client.retrieve_facsimile(ds_name=ds_name, reporting_pd_end=end_date,\n",
    "                                      fiID_type=fiID_type, fiID=fiID,\n",
    "                                      facsimile_fmt=fmt, outfile=False,\n",
    "                                      return_result=True)\n",
    "        report = StringIO(str(f, 'utf-8'))\n",
    "        report_df = pd.read_csv(report, sep=';')\n",
    "        key = filers_RSSD_09302010[i]\n",
    "        report_data_dict[key] = {}\n",
    "        for col in columns:\n",
    "            df = report_df.loc[report_df['MDRM #'] == col]\n",
    "            value = df.Value.values[0]\n",
    "            report_data_dict[key][col] = value\n",
    "        #report_df.columns = ['Call Date', 'Bank RSSD Identifier', 'ValueID', 'Value', 'Last Update',\n",
    "       #'Short Definition', 'Call Schedule', 'Line Number']\n",
    "       # values = list(report_df[report_df.ValueID.isin(columns)].Value)\n",
    "       # fin_data_dic[fiID] = values\n",
    "        #all_data_df = all_data_df.append(report_df, ignore_index=True)\n",
    "    except:\n",
    "        next "
   ]
  },
  {
   "cell_type": "code",
   "execution_count": null,
   "metadata": {},
   "outputs": [],
   "source": [
    "# Inspect the data pulled\n",
    "\n",
    "healthy_after_2010Q2 = pd.DataFrame.from_dict(report_data_dict, orient='index')\n",
    "#len(healthy_after_2010Q2.index)\n",
    "#healthy_after_2010Q2.describe()\n",
    "#healthy_after_2010Q2.columns\n",
    "\n",
    "#store the data\n",
    "#healthy_after_2010Q2.to_csv('data/healthy_after_2010Q2')"
   ]
  },
  {
   "cell_type": "code",
   "execution_count": null,
   "metadata": {},
   "outputs": [],
   "source": [
    "\n",
    "healthy_after_2010Q2.columns = selected_financials.values()\n",
    "\n",
    "#store the data\n",
    "#healthy_after_2010Q2.to_csv('data/healthy_after_2010Q2')"
   ]
  }
 ],
 "metadata": {
  "kernelspec": {
   "display_name": "Python 3",
   "language": "python",
   "name": "python3"
  },
  "language_info": {
   "codemirror_mode": {
    "name": "ipython",
    "version": 3
   },
   "file_extension": ".py",
   "mimetype": "text/x-python",
   "name": "python",
   "nbconvert_exporter": "python",
   "pygments_lexer": "ipython3",
   "version": "3.7.3"
  }
 },
 "nbformat": 4,
 "nbformat_minor": 2
}

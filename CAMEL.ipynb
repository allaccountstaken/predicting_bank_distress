{
 "cells": [
  {
   "cell_type": "code",
   "execution_count": 1,
   "metadata": {},
   "outputs": [
    {
     "data": {
      "text/plain": [
       "'\\nAsset quality (A) is measured by return on assets (ROA), size of total assets, the debt-to-equity ratio, impaired assets and loan loss provisions. The cost-to-income ratio represents management quality (M), while return on equity (ROE) and the net interest margin measure earnings (E). Liquidity (L) is represented by the share of interest expenses to total liabilities, the deposits-to-funding ratio and the ratio of loans to deposits. Finally, the share of trading income proxies sensitivity to market risk (S).\\n'"
      ]
     },
     "execution_count": 1,
     "metadata": {},
     "output_type": "execute_result"
    }
   ],
   "source": [
    "\"\"\"\n",
    "Asset quality (A) is measured by return on assets (ROA), size of total assets, \n",
    "the debt-to-equity ratio, impaired assets and loan loss provisions. \n",
    "The cost-to-income ratio represents management quality (M), while return on equity (ROE) \n",
    "and the net interest margin measure earnings (E). \n",
    "Liquidity (L) is represented by the share of interest expenses to total liabilities, \n",
    "the deposits-to-funding ratio and the ratio of loans to deposits. Finally, \n",
    "the share of trading income proxies sensitivity to market risk (S).\n",
    "\"\"\""
   ]
  },
  {
   "cell_type": "code",
   "execution_count": 2,
   "metadata": {},
   "outputs": [
    {
     "data": {
      "text/plain": [
       "'\\nAmong the bank-specific variables, a high capital ratio and a high return on assets are associated \\nwith lower distress probabilities. High interest expenses and a high deposits- to-funding ratio, \\non the other hand, increase the probability of bank distress.\\n\\n'"
      ]
     },
     "execution_count": 2,
     "metadata": {},
     "output_type": "execute_result"
    }
   ],
   "source": [
    "\"\"\"\n",
    "Among the bank-specific variables, a high capital ratio and a high return on assets are associated \n",
    "with lower distress probabilities. High interest expenses and a high deposits- to-funding ratio, \n",
    "on the other hand, increase the probability of bank distress. \n",
    "\n",
    "Of the country-level banking-sector indicators, almost all are statistically significant. \n",
    "As expected, rapid growth in both financial liabilities and non-core liabilities is associated with higher\n",
    "probabilities of distress. The same applies to the ratio of debt securities to liabilities, \n",
    "a measure of securitisation, and the share of mortgages among loans, a proxy for property booms.\n",
    "Likewise, high banking system leverage and a high loans-to-deposits ratio increase bank vulnerability.\n",
    "\n",
    "Among the country-specific macro-financial indicators, all estimates have the expected signs. High inflation and low real GDP growth increase bank vulnerability. Likewise, positive stock and house price gaps that proxy for an overvaluation of assets increase distress probabilities. Regarding indicators of internal imbalances, the estimated coefficient for government debt is positive, whereas the estimated coefficient for private sector credit flow is negative and the coefficient for the private sector credit-to-GDP gap is positive. Higher levels of unemployment increase bank vulnerability. Finally, regarding external competitiveness, high\n",
    "net external borrowing by a country increases bank vulnerability, whereas a higher current account balance lowers bank vulnerability. An increase in the real effective exchange rate and a decrease in export market share positively affect bank vulnerability through a loss of competitiveness.\n",
    "\n",
    "\n",
    "\n",
    "\"\"\""
   ]
  },
  {
   "cell_type": "code",
   "execution_count": null,
   "metadata": {},
   "outputs": [],
   "source": []
  }
 ],
 "metadata": {
  "kernelspec": {
   "display_name": "Python 3",
   "language": "python",
   "name": "python3"
  },
  "language_info": {
   "codemirror_mode": {
    "name": "ipython",
    "version": 3
   },
   "file_extension": ".py",
   "mimetype": "text/x-python",
   "name": "python",
   "nbconvert_exporter": "python",
   "pygments_lexer": "ipython3",
   "version": "3.7.3"
  }
 },
 "nbformat": 4,
 "nbformat_minor": 2
}

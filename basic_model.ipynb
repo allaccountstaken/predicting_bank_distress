{
 "cells": [
  {
   "cell_type": "code",
   "execution_count": 18,
   "metadata": {},
   "outputs": [],
   "source": [
    "import pandas as pd\n",
    "import numpy as np\n",
    "import matplotlib.pyplot as plt\n",
    "%matplotlib inline\n",
    "\n",
    "\n",
    "from sklearn.preprocessing import StandardScaler\n",
    "from sklearn.model_selection import train_test_split\n",
    "\n",
    "from sklearn.linear_model import LogisticRegression, SGDClassifier"
   ]
  },
  {
   "cell_type": "code",
   "execution_count": 20,
   "metadata": {},
   "outputs": [],
   "source": [
    "camel_data = pd.read_csv('data/camel_data_after2010Q3.csv', index_col = 0)"
   ]
  },
  {
   "cell_type": "code",
   "execution_count": 23,
   "metadata": {},
   "outputs": [
    {
     "data": {
      "text/plain": [
       "7020"
      ]
     },
     "execution_count": 23,
     "metadata": {},
     "output_type": "execute_result"
    }
   ],
   "source": [
    "len(camel_data.index)"
   ]
  },
  {
   "cell_type": "code",
   "execution_count": 24,
   "metadata": {},
   "outputs": [],
   "source": [
    "camel_set = camel_data.dropna()"
   ]
  },
  {
   "cell_type": "code",
   "execution_count": 25,
   "metadata": {},
   "outputs": [
    {
     "data": {
      "text/plain": [
       "7014"
      ]
     },
     "execution_count": 25,
     "metadata": {},
     "output_type": "execute_result"
    }
   ],
   "source": [
    "len(camel_set)"
   ]
  },
  {
   "cell_type": "code",
   "execution_count": 27,
   "metadata": {},
   "outputs": [
    {
     "data": {
      "text/plain": [
       "137"
      ]
     },
     "execution_count": 27,
     "metadata": {},
     "output_type": "execute_result"
    }
   ],
   "source": [
    "len(camel_set.loc[camel_set.Target==1])"
   ]
  },
  {
   "cell_type": "code",
   "execution_count": 26,
   "metadata": {},
   "outputs": [
    {
     "data": {
      "text/html": [
       "<div>\n",
       "<style scoped>\n",
       "    .dataframe tbody tr th:only-of-type {\n",
       "        vertical-align: middle;\n",
       "    }\n",
       "\n",
       "    .dataframe tbody tr th {\n",
       "        vertical-align: top;\n",
       "    }\n",
       "\n",
       "    .dataframe thead th {\n",
       "        text-align: right;\n",
       "    }\n",
       "</style>\n",
       "<table border=\"1\" class=\"dataframe\">\n",
       "  <thead>\n",
       "    <tr style=\"text-align: right;\">\n",
       "      <th></th>\n",
       "      <th>Target</th>\n",
       "      <th>EQTA</th>\n",
       "      <th>EQTL</th>\n",
       "      <th>LLRTA</th>\n",
       "      <th>LLRGL</th>\n",
       "      <th>OEXTA</th>\n",
       "      <th>INCEMP</th>\n",
       "      <th>ROA</th>\n",
       "      <th>ROE</th>\n",
       "      <th>TDTL</th>\n",
       "      <th>TDTA</th>\n",
       "      <th>TATA</th>\n",
       "    </tr>\n",
       "  </thead>\n",
       "  <tbody>\n",
       "    <tr>\n",
       "      <th>count</th>\n",
       "      <td>7014.000000</td>\n",
       "      <td>7014.000000</td>\n",
       "      <td>7014.000000</td>\n",
       "      <td>7014.000000</td>\n",
       "      <td>7014.000000</td>\n",
       "      <td>7014.000000</td>\n",
       "      <td>7014.000000</td>\n",
       "      <td>7014.000000</td>\n",
       "      <td>7014.000000</td>\n",
       "      <td>7014.000000</td>\n",
       "      <td>7014.000000</td>\n",
       "      <td>7014.000000</td>\n",
       "    </tr>\n",
       "    <tr>\n",
       "      <th>mean</th>\n",
       "      <td>0.019532</td>\n",
       "      <td>0.107608</td>\n",
       "      <td>8.018273</td>\n",
       "      <td>0.012324</td>\n",
       "      <td>0.021935</td>\n",
       "      <td>0.024038</td>\n",
       "      <td>33.658510</td>\n",
       "      <td>0.002014</td>\n",
       "      <td>-0.234345</td>\n",
       "      <td>44.793773</td>\n",
       "      <td>0.836190</td>\n",
       "      <td>0.176563</td>\n",
       "    </tr>\n",
       "    <tr>\n",
       "      <th>std</th>\n",
       "      <td>0.138396</td>\n",
       "      <td>0.047022</td>\n",
       "      <td>573.838696</td>\n",
       "      <td>0.009367</td>\n",
       "      <td>0.160957</td>\n",
       "      <td>0.030910</td>\n",
       "      <td>1156.779875</td>\n",
       "      <td>0.015034</td>\n",
       "      <td>11.402860</td>\n",
       "      <td>3149.023923</td>\n",
       "      <td>0.077665</td>\n",
       "      <td>0.142330</td>\n",
       "    </tr>\n",
       "    <tr>\n",
       "      <th>min</th>\n",
       "      <td>0.000000</td>\n",
       "      <td>-0.160659</td>\n",
       "      <td>-0.195857</td>\n",
       "      <td>0.000000</td>\n",
       "      <td>0.000000</td>\n",
       "      <td>-0.012004</td>\n",
       "      <td>-3639.467742</td>\n",
       "      <td>-0.295750</td>\n",
       "      <td>-887.458333</td>\n",
       "      <td>0.000000</td>\n",
       "      <td>0.000000</td>\n",
       "      <td>0.000000</td>\n",
       "    </tr>\n",
       "    <tr>\n",
       "      <th>25%</th>\n",
       "      <td>0.000000</td>\n",
       "      <td>0.087488</td>\n",
       "      <td>0.125309</td>\n",
       "      <td>0.007217</td>\n",
       "      <td>0.012123</td>\n",
       "      <td>0.018271</td>\n",
       "      <td>3.084559</td>\n",
       "      <td>0.000903</td>\n",
       "      <td>0.009427</td>\n",
       "      <td>1.126866</td>\n",
       "      <td>0.805744</td>\n",
       "      <td>0.066565</td>\n",
       "    </tr>\n",
       "    <tr>\n",
       "      <th>50%</th>\n",
       "      <td>0.000000</td>\n",
       "      <td>0.101018</td>\n",
       "      <td>0.156656</td>\n",
       "      <td>0.010043</td>\n",
       "      <td>0.015918</td>\n",
       "      <td>0.022050</td>\n",
       "      <td>18.162698</td>\n",
       "      <td>0.004831</td>\n",
       "      <td>0.045176</td>\n",
       "      <td>1.274030</td>\n",
       "      <td>0.850241</td>\n",
       "      <td>0.148197</td>\n",
       "    </tr>\n",
       "    <tr>\n",
       "      <th>75%</th>\n",
       "      <td>0.000000</td>\n",
       "      <td>0.120994</td>\n",
       "      <td>0.211900</td>\n",
       "      <td>0.014292</td>\n",
       "      <td>0.022126</td>\n",
       "      <td>0.026404</td>\n",
       "      <td>34.348039</td>\n",
       "      <td>0.008415</td>\n",
       "      <td>0.078186</td>\n",
       "      <td>1.527378</td>\n",
       "      <td>0.883622</td>\n",
       "      <td>0.258628</td>\n",
       "    </tr>\n",
       "    <tr>\n",
       "      <th>max</th>\n",
       "      <td>1.000000</td>\n",
       "      <td>0.953921</td>\n",
       "      <td>47829.250000</td>\n",
       "      <td>0.161906</td>\n",
       "      <td>12.250000</td>\n",
       "      <td>2.164806</td>\n",
       "      <td>73600.000000</td>\n",
       "      <td>0.173673</td>\n",
       "      <td>21.963100</td>\n",
       "      <td>260238.500000</td>\n",
       "      <td>1.151905</td>\n",
       "      <td>0.868327</td>\n",
       "    </tr>\n",
       "  </tbody>\n",
       "</table>\n",
       "</div>"
      ],
      "text/plain": [
       "            Target         EQTA          EQTL        LLRTA        LLRGL  \\\n",
       "count  7014.000000  7014.000000   7014.000000  7014.000000  7014.000000   \n",
       "mean      0.019532     0.107608      8.018273     0.012324     0.021935   \n",
       "std       0.138396     0.047022    573.838696     0.009367     0.160957   \n",
       "min       0.000000    -0.160659     -0.195857     0.000000     0.000000   \n",
       "25%       0.000000     0.087488      0.125309     0.007217     0.012123   \n",
       "50%       0.000000     0.101018      0.156656     0.010043     0.015918   \n",
       "75%       0.000000     0.120994      0.211900     0.014292     0.022126   \n",
       "max       1.000000     0.953921  47829.250000     0.161906    12.250000   \n",
       "\n",
       "             OEXTA        INCEMP          ROA          ROE           TDTL  \\\n",
       "count  7014.000000   7014.000000  7014.000000  7014.000000    7014.000000   \n",
       "mean      0.024038     33.658510     0.002014    -0.234345      44.793773   \n",
       "std       0.030910   1156.779875     0.015034    11.402860    3149.023923   \n",
       "min      -0.012004  -3639.467742    -0.295750  -887.458333       0.000000   \n",
       "25%       0.018271      3.084559     0.000903     0.009427       1.126866   \n",
       "50%       0.022050     18.162698     0.004831     0.045176       1.274030   \n",
       "75%       0.026404     34.348039     0.008415     0.078186       1.527378   \n",
       "max       2.164806  73600.000000     0.173673    21.963100  260238.500000   \n",
       "\n",
       "              TDTA         TATA  \n",
       "count  7014.000000  7014.000000  \n",
       "mean      0.836190     0.176563  \n",
       "std       0.077665     0.142330  \n",
       "min       0.000000     0.000000  \n",
       "25%       0.805744     0.066565  \n",
       "50%       0.850241     0.148197  \n",
       "75%       0.883622     0.258628  \n",
       "max       1.151905     0.868327  "
      ]
     },
     "execution_count": 26,
     "metadata": {},
     "output_type": "execute_result"
    }
   ],
   "source": [
    "camel_set.describe()"
   ]
  },
  {
   "cell_type": "code",
   "execution_count": 28,
   "metadata": {},
   "outputs": [],
   "source": [
    "y = camel_set['Target']\n",
    "X = camel_set.drop(['Target', 'AsOfDate'], axis=1)"
   ]
  },
  {
   "cell_type": "code",
   "execution_count": 29,
   "metadata": {},
   "outputs": [
    {
     "data": {
      "text/html": [
       "<div>\n",
       "<style scoped>\n",
       "    .dataframe tbody tr th:only-of-type {\n",
       "        vertical-align: middle;\n",
       "    }\n",
       "\n",
       "    .dataframe tbody tr th {\n",
       "        vertical-align: top;\n",
       "    }\n",
       "\n",
       "    .dataframe thead th {\n",
       "        text-align: right;\n",
       "    }\n",
       "</style>\n",
       "<table border=\"1\" class=\"dataframe\">\n",
       "  <thead>\n",
       "    <tr style=\"text-align: right;\">\n",
       "      <th></th>\n",
       "      <th>EQTA</th>\n",
       "      <th>EQTL</th>\n",
       "      <th>LLRTA</th>\n",
       "      <th>LLRGL</th>\n",
       "      <th>OEXTA</th>\n",
       "      <th>INCEMP</th>\n",
       "      <th>ROA</th>\n",
       "      <th>ROE</th>\n",
       "      <th>TDTL</th>\n",
       "      <th>TDTA</th>\n",
       "      <th>TATA</th>\n",
       "    </tr>\n",
       "  </thead>\n",
       "  <tbody>\n",
       "    <tr>\n",
       "      <th>count</th>\n",
       "      <td>7014.000000</td>\n",
       "      <td>7014.000000</td>\n",
       "      <td>7014.000000</td>\n",
       "      <td>7014.000000</td>\n",
       "      <td>7014.000000</td>\n",
       "      <td>7014.000000</td>\n",
       "      <td>7014.000000</td>\n",
       "      <td>7014.000000</td>\n",
       "      <td>7014.000000</td>\n",
       "      <td>7014.000000</td>\n",
       "      <td>7014.000000</td>\n",
       "    </tr>\n",
       "    <tr>\n",
       "      <th>mean</th>\n",
       "      <td>0.107608</td>\n",
       "      <td>8.018273</td>\n",
       "      <td>0.012324</td>\n",
       "      <td>0.021935</td>\n",
       "      <td>0.024038</td>\n",
       "      <td>33.658510</td>\n",
       "      <td>0.002014</td>\n",
       "      <td>-0.234345</td>\n",
       "      <td>44.793773</td>\n",
       "      <td>0.836190</td>\n",
       "      <td>0.176563</td>\n",
       "    </tr>\n",
       "    <tr>\n",
       "      <th>std</th>\n",
       "      <td>0.047022</td>\n",
       "      <td>573.838696</td>\n",
       "      <td>0.009367</td>\n",
       "      <td>0.160957</td>\n",
       "      <td>0.030910</td>\n",
       "      <td>1156.779875</td>\n",
       "      <td>0.015034</td>\n",
       "      <td>11.402860</td>\n",
       "      <td>3149.023923</td>\n",
       "      <td>0.077665</td>\n",
       "      <td>0.142330</td>\n",
       "    </tr>\n",
       "    <tr>\n",
       "      <th>min</th>\n",
       "      <td>-0.160659</td>\n",
       "      <td>-0.195857</td>\n",
       "      <td>0.000000</td>\n",
       "      <td>0.000000</td>\n",
       "      <td>-0.012004</td>\n",
       "      <td>-3639.467742</td>\n",
       "      <td>-0.295750</td>\n",
       "      <td>-887.458333</td>\n",
       "      <td>0.000000</td>\n",
       "      <td>0.000000</td>\n",
       "      <td>0.000000</td>\n",
       "    </tr>\n",
       "    <tr>\n",
       "      <th>25%</th>\n",
       "      <td>0.087488</td>\n",
       "      <td>0.125309</td>\n",
       "      <td>0.007217</td>\n",
       "      <td>0.012123</td>\n",
       "      <td>0.018271</td>\n",
       "      <td>3.084559</td>\n",
       "      <td>0.000903</td>\n",
       "      <td>0.009427</td>\n",
       "      <td>1.126866</td>\n",
       "      <td>0.805744</td>\n",
       "      <td>0.066565</td>\n",
       "    </tr>\n",
       "    <tr>\n",
       "      <th>50%</th>\n",
       "      <td>0.101018</td>\n",
       "      <td>0.156656</td>\n",
       "      <td>0.010043</td>\n",
       "      <td>0.015918</td>\n",
       "      <td>0.022050</td>\n",
       "      <td>18.162698</td>\n",
       "      <td>0.004831</td>\n",
       "      <td>0.045176</td>\n",
       "      <td>1.274030</td>\n",
       "      <td>0.850241</td>\n",
       "      <td>0.148197</td>\n",
       "    </tr>\n",
       "    <tr>\n",
       "      <th>75%</th>\n",
       "      <td>0.120994</td>\n",
       "      <td>0.211900</td>\n",
       "      <td>0.014292</td>\n",
       "      <td>0.022126</td>\n",
       "      <td>0.026404</td>\n",
       "      <td>34.348039</td>\n",
       "      <td>0.008415</td>\n",
       "      <td>0.078186</td>\n",
       "      <td>1.527378</td>\n",
       "      <td>0.883622</td>\n",
       "      <td>0.258628</td>\n",
       "    </tr>\n",
       "    <tr>\n",
       "      <th>max</th>\n",
       "      <td>0.953921</td>\n",
       "      <td>47829.250000</td>\n",
       "      <td>0.161906</td>\n",
       "      <td>12.250000</td>\n",
       "      <td>2.164806</td>\n",
       "      <td>73600.000000</td>\n",
       "      <td>0.173673</td>\n",
       "      <td>21.963100</td>\n",
       "      <td>260238.500000</td>\n",
       "      <td>1.151905</td>\n",
       "      <td>0.868327</td>\n",
       "    </tr>\n",
       "  </tbody>\n",
       "</table>\n",
       "</div>"
      ],
      "text/plain": [
       "              EQTA          EQTL        LLRTA        LLRGL        OEXTA  \\\n",
       "count  7014.000000   7014.000000  7014.000000  7014.000000  7014.000000   \n",
       "mean      0.107608      8.018273     0.012324     0.021935     0.024038   \n",
       "std       0.047022    573.838696     0.009367     0.160957     0.030910   \n",
       "min      -0.160659     -0.195857     0.000000     0.000000    -0.012004   \n",
       "25%       0.087488      0.125309     0.007217     0.012123     0.018271   \n",
       "50%       0.101018      0.156656     0.010043     0.015918     0.022050   \n",
       "75%       0.120994      0.211900     0.014292     0.022126     0.026404   \n",
       "max       0.953921  47829.250000     0.161906    12.250000     2.164806   \n",
       "\n",
       "             INCEMP          ROA          ROE           TDTL         TDTA  \\\n",
       "count   7014.000000  7014.000000  7014.000000    7014.000000  7014.000000   \n",
       "mean      33.658510     0.002014    -0.234345      44.793773     0.836190   \n",
       "std     1156.779875     0.015034    11.402860    3149.023923     0.077665   \n",
       "min    -3639.467742    -0.295750  -887.458333       0.000000     0.000000   \n",
       "25%        3.084559     0.000903     0.009427       1.126866     0.805744   \n",
       "50%       18.162698     0.004831     0.045176       1.274030     0.850241   \n",
       "75%       34.348039     0.008415     0.078186       1.527378     0.883622   \n",
       "max    73600.000000     0.173673    21.963100  260238.500000     1.151905   \n",
       "\n",
       "              TATA  \n",
       "count  7014.000000  \n",
       "mean      0.176563  \n",
       "std       0.142330  \n",
       "min       0.000000  \n",
       "25%       0.066565  \n",
       "50%       0.148197  \n",
       "75%       0.258628  \n",
       "max       0.868327  "
      ]
     },
     "execution_count": 29,
     "metadata": {},
     "output_type": "execute_result"
    }
   ],
   "source": [
    "X.describe()"
   ]
  },
  {
   "cell_type": "code",
   "execution_count": 30,
   "metadata": {},
   "outputs": [],
   "source": [
    "X_train, X_test, y_train, y_test = train_test_split(X, y, test_size=0.2, random_state=1, stratify=y)"
   ]
  },
  {
   "cell_type": "code",
   "execution_count": 31,
   "metadata": {},
   "outputs": [],
   "source": [
    "scaler = StandardScaler()\n",
    "scaler.fit(X_train)\n",
    "X_train_std = scaler.transform(X_train)\n",
    "X_test_std = scaler.transform(X_test)"
   ]
  },
  {
   "cell_type": "code",
   "execution_count": 32,
   "metadata": {},
   "outputs": [
    {
     "name": "stderr",
     "output_type": "stream",
     "text": [
      "/anaconda3/lib/python3.7/site-packages/sklearn/linear_model/logistic.py:432: FutureWarning: Default solver will be changed to 'lbfgs' in 0.22. Specify a solver to silence this warning.\n",
      "  FutureWarning)\n"
     ]
    },
    {
     "data": {
      "text/plain": [
       "LogisticRegression(C=1.0, class_weight=None, dual=False, fit_intercept=True,\n",
       "                   intercept_scaling=1, l1_ratio=None, max_iter=100,\n",
       "                   multi_class='warn', n_jobs=None, penalty='l2',\n",
       "                   random_state=1, solver='warn', tol=0.0001, verbose=0,\n",
       "                   warm_start=False)"
      ]
     },
     "execution_count": 32,
     "metadata": {},
     "output_type": "execute_result"
    }
   ],
   "source": [
    "log_reg = LogisticRegression(random_state=1)\n",
    "log_reg.fit(X_train_std,y_train)"
   ]
  },
  {
   "cell_type": "code",
   "execution_count": 33,
   "metadata": {},
   "outputs": [
    {
     "data": {
      "text/plain": [
       "array([[-3.30631369e+00,  2.60394438e-02,  1.21834391e-01,\n",
       "         2.35215170e-02, -1.40380149e+00,  3.13836102e-02,\n",
       "        -1.13753938e-01, -1.21359512e-02, -1.84731123e-03,\n",
       "         3.71548636e-02, -3.81625762e-01]])"
      ]
     },
     "execution_count": 33,
     "metadata": {},
     "output_type": "execute_result"
    }
   ],
   "source": [
    "log_reg.coef_"
   ]
  },
  {
   "cell_type": "code",
   "execution_count": 34,
   "metadata": {},
   "outputs": [
    {
     "data": {
      "text/plain": [
       "0.987702726786669"
      ]
     },
     "execution_count": 34,
     "metadata": {},
     "output_type": "execute_result"
    }
   ],
   "source": [
    "log_reg.score(X_train_std, y_train)"
   ]
  },
  {
   "cell_type": "code",
   "execution_count": 35,
   "metadata": {},
   "outputs": [
    {
     "data": {
      "text/plain": [
       "0.9935851746258019"
      ]
     },
     "execution_count": 35,
     "metadata": {},
     "output_type": "execute_result"
    }
   ],
   "source": [
    "log_reg.score(X_test_std, y_test)"
   ]
  },
  {
   "cell_type": "code",
   "execution_count": null,
   "metadata": {},
   "outputs": [],
   "source": []
  },
  {
   "cell_type": "code",
   "execution_count": 36,
   "metadata": {},
   "outputs": [
    {
     "name": "stderr",
     "output_type": "stream",
     "text": [
      "/anaconda3/lib/python3.7/site-packages/sklearn/linear_model/logistic.py:947: ConvergenceWarning: lbfgs failed to converge. Increase the number of iterations.\n",
      "  \"of iterations.\", ConvergenceWarning)\n"
     ]
    },
    {
     "data": {
      "image/png": "[encoded data removed]",
      "text/plain": [
       "<Figure size 432x288 with 1 Axes>"
      ]
     },
     "metadata": {
      "needs_background": "light"
     },
     "output_type": "display_data"
    }
   ],
   "source": [
    "weights, params = [], []\n",
    "for c in np.arange(0.01, 10): \n",
    "    lr = LogisticRegression(C=2**c, random_state=0, solver='lbfgs')\n",
    "    lr.fit(X_train_std, y_train)\n",
    "    weights.append(lr.coef_[0])\n",
    "    params.append(10**c)\n",
    "\n",
    "weights = np.array(weights)\n",
    "\n",
    "# Decision region drawing\n",
    "import matplotlib.pyplot as plt\n",
    "\n",
    "plt.plot(params, weights[:, 0], color='blue', marker='x', label='first')\n",
    "plt.plot(params, weights[:, 1], color='green',  marker='o', label='second')\n",
    "plt.plot(params, weights[:, 2], color='r',  marker='>', label='third')\n",
    "plt.ylabel('weight coefficient')\n",
    "plt.xlabel('C')\n",
    "plt.legend(loc='right')\n",
    "plt.xscale('log')\n",
    "plt.show()"
   ]
  },
  {
   "cell_type": "code",
   "execution_count": null,
   "metadata": {},
   "outputs": [],
   "source": []
  },
  {
   "cell_type": "code",
   "execution_count": null,
   "metadata": {},
   "outputs": [],
   "source": []
  },
  {
   "cell_type": "code",
   "execution_count": null,
   "metadata": {},
   "outputs": [],
   "source": []
  },
  {
   "cell_type": "code",
   "execution_count": null,
   "metadata": {},
   "outputs": [],
   "source": []
  },
  {
   "cell_type": "code",
   "execution_count": 37,
   "metadata": {},
   "outputs": [
    {
     "data": {
      "text/plain": [
       "SGDClassifier(alpha=0.0001, average=False, class_weight=None,\n",
       "              early_stopping=False, epsilon=0.1, eta0=0.0, fit_intercept=True,\n",
       "              l1_ratio=0.15, learning_rate='optimal', loss='hinge',\n",
       "              max_iter=1000, n_iter_no_change=5, n_jobs=None, penalty='l2',\n",
       "              power_t=0.5, random_state=1, shuffle=True, tol=0.001,\n",
       "              validation_fraction=0.1, verbose=0, warm_start=False)"
      ]
     },
     "execution_count": 37,
     "metadata": {},
     "output_type": "execute_result"
    }
   ],
   "source": [
    "sgd_clf = SGDClassifier(random_state=1)\n",
    "sgd_clf.fit(X_train_std, y_train)"
   ]
  },
  {
   "cell_type": "code",
   "execution_count": 38,
   "metadata": {},
   "outputs": [
    {
     "data": {
      "text/plain": [
       "0.988950276243094"
      ]
     },
     "execution_count": 38,
     "metadata": {},
     "output_type": "execute_result"
    }
   ],
   "source": [
    "sgd_clf.score(X_train_std, y_train)"
   ]
  },
  {
   "cell_type": "code",
   "execution_count": 39,
   "metadata": {},
   "outputs": [
    {
     "data": {
      "text/plain": [
       "0.9900213827512473"
      ]
     },
     "execution_count": 39,
     "metadata": {},
     "output_type": "execute_result"
    }
   ],
   "source": [
    "sgd_clf.score(X_test_std, y_test)"
   ]
  },
  {
   "cell_type": "code",
   "execution_count": 40,
   "metadata": {},
   "outputs": [
    {
     "data": {
      "text/plain": [
       "array([0.98717263, 0.98717263, 0.99036918])"
      ]
     },
     "execution_count": 40,
     "metadata": {},
     "output_type": "execute_result"
    }
   ],
   "source": [
    "from sklearn.model_selection import cross_val_score\n",
    "cross_val_score(sgd_clf, X_train_std, y_train, cv=3, scoring='accuracy')"
   ]
  },
  {
   "cell_type": "code",
   "execution_count": 41,
   "metadata": {},
   "outputs": [
    {
     "name": "stderr",
     "output_type": "stream",
     "text": [
      "/anaconda3/lib/python3.7/site-packages/sklearn/linear_model/logistic.py:432: FutureWarning: Default solver will be changed to 'lbfgs' in 0.22. Specify a solver to silence this warning.\n",
      "  FutureWarning)\n",
      "/anaconda3/lib/python3.7/site-packages/sklearn/linear_model/logistic.py:432: FutureWarning: Default solver will be changed to 'lbfgs' in 0.22. Specify a solver to silence this warning.\n",
      "  FutureWarning)\n",
      "/anaconda3/lib/python3.7/site-packages/sklearn/linear_model/logistic.py:432: FutureWarning: Default solver will be changed to 'lbfgs' in 0.22. Specify a solver to silence this warning.\n",
      "  FutureWarning)\n"
     ]
    },
    {
     "data": {
      "text/plain": [
       "array([0.98663816, 0.98450027, 0.98983414])"
      ]
     },
     "execution_count": 41,
     "metadata": {},
     "output_type": "execute_result"
    }
   ],
   "source": [
    "cross_val_score(log_reg, X_train_std, y_train, cv=3, scoring='accuracy')"
   ]
  },
  {
   "cell_type": "code",
   "execution_count": null,
   "metadata": {},
   "outputs": [],
   "source": []
  },
  {
   "cell_type": "code",
   "execution_count": null,
   "metadata": {},
   "outputs": [],
   "source": []
  },
  {
   "cell_type": "code",
   "execution_count": 42,
   "metadata": {},
   "outputs": [
    {
     "data": {
      "text/plain": [
       "array([[5467,   34],\n",
       "       [  32,   78]])"
      ]
     },
     "execution_count": 42,
     "metadata": {},
     "output_type": "execute_result"
    }
   ],
   "source": [
    "# Accuracy score is generally not a good performance measure for classifiers, especially when you are dealing with \n",
    "# skewed datasets (when some classes are much more frequent than others) -- check with confusing matrix below:\n",
    "from sklearn.model_selection import cross_val_predict\n",
    "from sklearn.metrics import confusion_matrix\n",
    "sgd_y_train_pred = cross_val_predict(sgd_clf, X_train_std, y_train, cv=3)\n",
    "confusion_matrix(y_train, sgd_y_train_pred)"
   ]
  },
  {
   "cell_type": "code",
   "execution_count": 43,
   "metadata": {},
   "outputs": [
    {
     "name": "stderr",
     "output_type": "stream",
     "text": [
      "/anaconda3/lib/python3.7/site-packages/sklearn/linear_model/logistic.py:432: FutureWarning: Default solver will be changed to 'lbfgs' in 0.22. Specify a solver to silence this warning.\n",
      "  FutureWarning)\n",
      "/anaconda3/lib/python3.7/site-packages/sklearn/linear_model/logistic.py:432: FutureWarning: Default solver will be changed to 'lbfgs' in 0.22. Specify a solver to silence this warning.\n",
      "  FutureWarning)\n",
      "/anaconda3/lib/python3.7/site-packages/sklearn/linear_model/logistic.py:432: FutureWarning: Default solver will be changed to 'lbfgs' in 0.22. Specify a solver to silence this warning.\n",
      "  FutureWarning)\n"
     ]
    },
    {
     "data": {
      "text/plain": [
       "array([[5477,   24],\n",
       "       [  49,   61]])"
      ]
     },
     "execution_count": 43,
     "metadata": {},
     "output_type": "execute_result"
    }
   ],
   "source": [
    "# Same terrible results for logit regression:\n",
    "log_y_train_pred = cross_val_predict(log_reg, X_train_std, y_train, cv=3)\n",
    "confusion_matrix(y_train, log_y_train_pred)"
   ]
  },
  {
   "cell_type": "code",
   "execution_count": null,
   "metadata": {},
   "outputs": [],
   "source": []
  },
  {
   "cell_type": "code",
   "execution_count": 44,
   "metadata": {},
   "outputs": [
    {
     "data": {
      "text/plain": [
       "0.6964285714285714"
      ]
     },
     "execution_count": 44,
     "metadata": {},
     "output_type": "execute_result"
    }
   ],
   "source": [
    "from sklearn.metrics import precision_score, recall_score, f1_score\n",
    "precision_score(y_train, sgd_y_train_pred) #SGD precision"
   ]
  },
  {
   "cell_type": "code",
   "execution_count": 45,
   "metadata": {},
   "outputs": [
    {
     "data": {
      "text/plain": [
       "0.7176470588235294"
      ]
     },
     "execution_count": 45,
     "metadata": {},
     "output_type": "execute_result"
    }
   ],
   "source": [
    "precision_score(y_train, log_y_train_pred) #Logit precision"
   ]
  },
  {
   "cell_type": "code",
   "execution_count": 46,
   "metadata": {},
   "outputs": [
    {
     "data": {
      "text/plain": [
       "0.7090909090909091"
      ]
     },
     "execution_count": 46,
     "metadata": {},
     "output_type": "execute_result"
    }
   ],
   "source": [
    "recall_score(y_train, sgd_y_train_pred) #SGD precision"
   ]
  },
  {
   "cell_type": "code",
   "execution_count": 47,
   "metadata": {},
   "outputs": [
    {
     "data": {
      "text/plain": [
       "0.5545454545454546"
      ]
     },
     "execution_count": 47,
     "metadata": {},
     "output_type": "execute_result"
    }
   ],
   "source": [
    "recall_score(y_train, log_y_train_pred) #Logit recall"
   ]
  },
  {
   "cell_type": "code",
   "execution_count": 48,
   "metadata": {},
   "outputs": [
    {
     "data": {
      "text/plain": [
       "0.6256410256410256"
      ]
     },
     "execution_count": 48,
     "metadata": {},
     "output_type": "execute_result"
    }
   ],
   "source": [
    "f1_score(y_train, log_y_train_pred)"
   ]
  },
  {
   "cell_type": "code",
   "execution_count": null,
   "metadata": {},
   "outputs": [],
   "source": []
  },
  {
   "cell_type": "code",
   "execution_count": 49,
   "metadata": {},
   "outputs": [],
   "source": [
    "# Precision/Recall tradeoff \n",
    "from sklearn.metrics import precision_recall_curve\n",
    "\n",
    "sgd_y_scores = cross_val_predict(sgd_clf, X_train_std, y_train, cv=3, method='decision_function')\n",
    "sgd_precisions, sgd_recalls, sgd_thresholds = precision_recall_curve(y_train, sgd_y_scores)"
   ]
  },
  {
   "cell_type": "code",
   "execution_count": 50,
   "metadata": {},
   "outputs": [
    {
     "data": {
      "image/png": "[encoded data removed]",
      "text/plain": [
       "<Figure size 432x288 with 1 Axes>"
      ]
     },
     "metadata": {
      "needs_background": "light"
     },
     "output_type": "display_data"
    }
   ],
   "source": [
    " #Represent Precision and Recall graphically\n",
    "def plot_precision_recall(precisions, recalls, thresholds):\n",
    "    plt.plot(thresholds, precisions[: -1], 'b--', label='Precision')\n",
    "    plt.plot(thresholds, recalls[: -1], 'g-', label='Recall')\n",
    "    plt.xlabel('Threshold')\n",
    "    plt.legend(loc='center left')\n",
    "    plt.ylim([0,1])\n",
    "\n",
    "plot_precision_recall(sgd_precisions, sgd_recalls, sgd_thresholds)\n",
    "plt.show()"
   ]
  },
  {
   "cell_type": "code",
   "execution_count": null,
   "metadata": {},
   "outputs": [],
   "source": [
    "# Logit needs predict_proba output fist\n",
    "\n",
    "# log_y_scores = cross_val_predict(log_reg, X_train_std, y_train, cv=3, method='decison_function')\n",
    "# log_precisions, log_recalls, log_thresholds = precision_recall_curve(y_train, log_y_scores)\n",
    "# plot_precision_recall(log_precisions, log_recalls, log_thresholds)\n",
    "# plt.show()"
   ]
  },
  {
   "cell_type": "code",
   "execution_count": 51,
   "metadata": {},
   "outputs": [],
   "source": [
    "from sklearn.metrics import roc_curve\n",
    "fpr, tpr, thresholds = roc_curve(y_train, sgd_y_scores)"
   ]
  },
  {
   "cell_type": "code",
   "execution_count": 52,
   "metadata": {},
   "outputs": [],
   "source": [
    "def plot_roc_curve(fpr, tpr, label=None):\n",
    "    plt.plot(fpr, tpr, linewidth=2, label=label)\n",
    "    plt.plot([0,1], [0,1], 'k--')\n",
    "    plt.axis([0,1,0,1])\n",
    "    plt.xlabel('False Positive Rate')\n",
    "    plt.ylabel('True Negatove Rate')"
   ]
  },
  {
   "cell_type": "code",
   "execution_count": null,
   "metadata": {},
   "outputs": [],
   "source": []
  },
  {
   "cell_type": "code",
   "execution_count": null,
   "metadata": {},
   "outputs": [],
   "source": []
  },
  {
   "cell_type": "code",
   "execution_count": null,
   "metadata": {},
   "outputs": [],
   "source": []
  },
  {
   "cell_type": "code",
   "execution_count": null,
   "metadata": {},
   "outputs": [],
   "source": []
  },
  {
   "cell_type": "code",
   "execution_count": null,
   "metadata": {},
   "outputs": [],
   "source": []
  }
 ],
 "metadata": {
  "kernelspec": {
   "display_name": "Python 3",
   "language": "python",
   "name": "python3"
  },
  "language_info": {
   "codemirror_mode": {
    "name": "ipython",
    "version": 3
   },
   "file_extension": ".py",
   "mimetype": "text/x-python",
   "name": "python",
   "nbconvert_exporter": "python",
   "pygments_lexer": "ipython3",
   "version": "3.7.3"
  }
 },
 "nbformat": 4,
 "nbformat_minor": 2
}
